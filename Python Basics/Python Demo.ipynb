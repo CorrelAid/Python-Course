{
 "cells": [
  {
   "cell_type": "markdown",
   "id": "7e02f510-160f-47f2-9f88-081dd7d3cb08",
   "metadata": {},
   "source": [
    "#### Python Workshop - Termin 1: Python Basics\n",
    "Torben Abts & Jonas Hummel (CorrelAid), 10.Mai 2022"
   ]
  },
  {
   "cell_type": "markdown",
   "id": "ae0fb3c5",
   "metadata": {},
   "source": [
    "#### Teil 1: Intro\n",
    "\n",
    "siehe Slides"
   ]
  },
  {
   "cell_type": "markdown",
   "id": "918bd82d",
   "metadata": {},
   "source": [
    "#### Teil 2: Absolute Basics\n",
    "\n",
    "Hello, World! Wir wollen heute eine möglichst kurze und kompakte Einführung in Python geben. Dieses Notebook dient dabei zur praktischen Veranschaulichung der heutigen Inhalte, soll aber auch als Lernmaterial zum späteren Nachlesen herhalten.\n",
    "Üblicherweise beginnt man in jeder Programmiersprache mit dem Ausdruck **\"Hello, World!\"**. Mit diesem Ausdruck können meist ein paar grundlegende Eigenschaften der jeweiligen Programmiersprache gezeigt werden."
   ]
  },
  {
   "cell_type": "code",
   "execution_count": 1,
   "id": "098d9367-8add-4ec9-b851-91e0782d5923",
   "metadata": {},
   "outputs": [
    {
     "name": "stdout",
     "output_type": "stream",
     "text": [
      "Hello, World!\n"
     ]
    }
   ],
   "source": [
    "print(\"Hello, World!\")"
   ]
  },
  {
   "cell_type": "markdown",
   "id": "792c438e-3e74-4a65-a485-9a254c8758df",
   "metadata": {},
   "source": [
    "Der obige Ausdruck zeigt uns Folgendes:\n",
    "- Die oben benutzten **Klammern** sind eines der grundlegenden Features von Python, aber auch vielen anderen Programmiersprachen. Auf das, was innerhalb der Klammer steht, wird die außen beschriebene Funktion angewandt (in diesem Fall der print-Befehl).\n",
    "- Einer der wichtigsten Befehle in Python ist der **print()-Befehl**. Mit ihm kann man sich Ausdrücke in die Konsole ausgeben lassen.\n",
    "- **Schriftzeichen** werden im Allgemeinen in **Anführungszeichen** geschrieben (dabei ist unerheblich ob '' oder \"\" genutzt wird). Bei numerischen Ausdrücken ist dies übrigens nicht nötig."
   ]
  },
  {
   "cell_type": "markdown",
   "id": "6067883b-6f6f-4dad-9c1b-0f4ec44ec6b1",
   "metadata": {},
   "source": [
    "In **Jupyter Notebooks wird der print()-Befehl nicht zwangsläufig benötigt** - eine Ausgabe erfolgt auch, falls nur ein Wert ausgegeben wird und dieser in der letzten Zeile steht (wenn auch mitunter in leicht anderem Format)!"
   ]
  },
  {
   "cell_type": "code",
   "execution_count": 2,
   "id": "448edad8-e9b5-4d11-a32e-58f0f733bde8",
   "metadata": {},
   "outputs": [
    {
     "data": {
      "text/plain": [
       "'Hello, World!'"
      ]
     },
     "execution_count": 2,
     "metadata": {},
     "output_type": "execute_result"
    }
   ],
   "source": [
    "\"Hello, World!\""
   ]
  },
  {
   "cell_type": "markdown",
   "id": "0ffaea8f-b6af-46e2-a3eb-18bbce9dd803",
   "metadata": {},
   "source": [
    "Da wir nicht jedes Mal von neuem Code schreiben wollen, kann man **Code in Variablen speichern**. Man kann jegliche in Python verfübaren Datentypen in einer Variable speichern. Dazu nutzt man den sogenannten **Assignment Operator \"=\"**. Man schreibt den Namen der Variable auf die linke Seite des Gleichzeichens und den Code, der der Variable zugewiesen werden soll, auf die rechte Seite. Grundsätzlich sind Variablennamen klein zu schreiben. Leerzeichen werden durch Underscores _ ersetzt."
   ]
  },
  {
   "cell_type": "code",
   "execution_count": 3,
   "id": "28678ead-6d62-4b23-9fe5-8175ee0bceee",
   "metadata": {},
   "outputs": [],
   "source": [
    "tutor1 = \"Torben\"\n",
    "tutor2 = \"Jonas\"\n",
    "age_tutor1 = 22\n",
    "age_tutor2 = 23"
   ]
  },
  {
   "cell_type": "code",
   "execution_count": 7,
   "id": "b56d5f63-a3cc-4e0d-952d-f689c2147a2a",
   "metadata": {},
   "outputs": [
    {
     "name": "stdout",
     "output_type": "stream",
     "text": [
      "Torben 22\n",
      "Torben ist 22 alt.\n",
      "Jonas ist 23 alt.\n"
     ]
    }
   ],
   "source": [
    "print(tutor1, age_tutor1)\n",
    "print(tutor1, \"ist\", age_tutor1, \"alt.\")\n",
    "print(f\"{tutor2} ist {age_tutor2} alt.\")  # fortgeschrittenere Variante (f-strings)"
   ]
  },
  {
   "cell_type": "markdown",
   "id": "1500f143-78d0-4e1e-bc5d-db0e8fb28696",
   "metadata": {},
   "source": [
    "In Python lassen sich verschiedenste **mathematische und logische Operatoren** einsetzen. Diese Operatoren werden im Grunde genommmen wie auch sonst \"im richtigen Leben\" verwendet. Hier einige Beispiele:"
   ]
  },
  {
   "cell_type": "code",
   "execution_count": 8,
   "id": "eb50b077-fb63-4d88-a4fd-b30f1c912b94",
   "metadata": {},
   "outputs": [
    {
     "name": "stdout",
     "output_type": "stream",
     "text": [
      "sum_numbers: 30\n",
      "diff_numbers: 8\n"
     ]
    }
   ],
   "source": [
    "# Mathematische Operatoren\n",
    "\n",
    "# Addition\n",
    "sum_numbers = 7 + 8 + 15\n",
    "print(\"sum_numbers:\", sum_numbers)\n",
    "\n",
    "# Subtraktion\n",
    "number1, number2, = 25, 17\n",
    "diff_numbers = number1 - number2 # kann man auch mit Variablen machen, sofern diese numerische Ausdrücke beschreiben\n",
    "print(\"diff_numbers:\", diff_numbers)\n",
    "\n",
    "# ... und jegliche andere Rechenoperationen (siehe Slides)\n"
   ]
  },
  {
   "cell_type": "code",
   "execution_count": 9,
   "id": "2bdec1c3-5b1d-4120-8aec-18501c345182",
   "metadata": {},
   "outputs": [
    {
     "name": "stdout",
     "output_type": "stream",
     "text": [
      "False\n",
      "True\n",
      "True\n",
      "--------------------\n",
      "0\n",
      "1\n",
      "True\n"
     ]
    }
   ],
   "source": [
    "# Logische Operatoren --> ergeben stets Wahrheitsausdrücke (True oder False)\n",
    "\n",
    "print(True and False)\n",
    "print(True or False)\n",
    "print(not False and True)\n",
    "\n",
    "\n",
    "print(20 * \"-\") # Trennlinie\n",
    "\n",
    "# Auch diese Operatoren können wieder mit Variablen genutzt werden, denen die richtigen Ausdrücke zugewiesen sind\n",
    "# Beachte: eine 1 ist dasselbe wie True, eine 0 dasselbe wie False\n",
    "\n",
    "num0 = 0\n",
    "num1 = 1\n",
    "num2 = 2\n",
    "\n",
    "print(num0 and num1)\n",
    "print(num2 - num1 and num1)\n",
    "print(num0 or True)"
   ]
  },
  {
   "cell_type": "markdown",
   "id": "a8b9f5a0-e3c0-4b7e-a317-d870955b051b",
   "metadata": {},
   "source": [
    "Oben ist - wie gesagt - nur ein Ausschnitt aller möglichen Operatoren gezeigt. Eine Liste der verschiedenen mathematischen und logischen Operatoren findet ihr auch in den Slides. Des Weiteren gibt es z.B. noch die Bitwise Operatoren. Diese operieren auf der Bit-Ebene, arbeiten also mit den zu 1en und 0en konvertierten Zeichen. Auf diese näher einzugehen würde aber den Rahmen sprengen (für Interessierte: https://www.geeksforgeeks.org/python-bitwise-operators/)."
   ]
  },
  {
   "cell_type": "markdown",
   "id": "a6e924c0-f03e-4874-b739-48aae04fd8a2",
   "metadata": {},
   "source": [
    "Wie bereits mehrfach im obigen Code gezeigt, können auch **Kommentare** in eingefügt werden. Diese werden von der Maschine ignoriert, sollten aber unbedingt zur besseren Lesbarkeit des Codes eingefügt werden. Kommentare können nach dem # Symbol eingefügt werden."
   ]
  },
  {
   "cell_type": "code",
   "execution_count": 10,
   "id": "ac19fdeb-7246-4be6-a2ad-582928d1ec6d",
   "metadata": {},
   "outputs": [
    {
     "data": {
      "text/plain": [
       "'Kein Kommentar - wird ausgegeben'"
      ]
     },
     "execution_count": 10,
     "metadata": {},
     "output_type": "execute_result"
    }
   ],
   "source": [
    "\"Kein Kommentar - wird ausgegeben\""
   ]
  },
  {
   "cell_type": "code",
   "execution_count": 11,
   "id": "e314cc62-a59f-4e3a-8b5b-cc9220ff26b6",
   "metadata": {},
   "outputs": [],
   "source": [
    "# Kommentar - keine Ausgabe"
   ]
  },
  {
   "cell_type": "markdown",
   "id": "2054af9d-d2dd-46d3-9eb4-b734365a142e",
   "metadata": {},
   "source": [
    "#### Teil 3: Datentypen\n",
    "\n",
    "Die restlichen Zusammenhänge wollen wir an einem praktischen Beispiel deutlich machen. Dafür importieren wir den SWIID-Datensatz (Solt, 2021). Dieser enthält verschiedenste Kenndaten zur wirtschaftlichen Ungleichheit in mehreren Ländern über viele Jahre hinweg (wer sich näher dafür interessiert, sollte vielleicht am 05.07. hier vorbeischauen: https://www.exc.uni-konstanz.de/ungleichheit/news-und-events/events/in-equality-colloquium-sommer-2022/)"
   ]
  },
  {
   "cell_type": "code",
   "execution_count": 12,
   "id": "b6cf9f10-3294-4555-9209-a33e2f365949",
   "metadata": {},
   "outputs": [
    {
     "name": "stdout",
     "output_type": "stream",
     "text": [
      "Requirement already satisfied: pandas in c:\\users\\jonas\\appdata\\roaming\\python\\python38\\site-packages (1.3.4)\n",
      "Requirement already satisfied: python-dateutil>=2.7.3 in c:\\users\\jonas\\appdata\\roaming\\python\\python38\\site-packages (from pandas) (2.8.2)\n",
      "Requirement already satisfied: numpy>=1.17.3 in c:\\users\\jonas\\appdata\\roaming\\python\\python38\\site-packages (from pandas) (1.22.3)\n",
      "Requirement already satisfied: pytz>=2017.3 in c:\\users\\jonas\\appdata\\roaming\\python\\python38\\site-packages (from pandas) (2021.3)\n",
      "Requirement already satisfied: six>=1.5 in c:\\users\\jonas\\appdata\\roaming\\python\\python38\\site-packages (from python-dateutil>=2.7.3->pandas) (1.16.0)\n"
     ]
    },
    {
     "data": {
      "text/html": [
       "<div>\n",
       "<style scoped>\n",
       "    .dataframe tbody tr th:only-of-type {\n",
       "        vertical-align: middle;\n",
       "    }\n",
       "\n",
       "    .dataframe tbody tr th {\n",
       "        vertical-align: top;\n",
       "    }\n",
       "\n",
       "    .dataframe thead th {\n",
       "        text-align: right;\n",
       "    }\n",
       "</style>\n",
       "<table border=\"1\" class=\"dataframe\">\n",
       "  <thead>\n",
       "    <tr style=\"text-align: right;\">\n",
       "      <th></th>\n",
       "      <th>country</th>\n",
       "      <th>year</th>\n",
       "      <th>gini_disp</th>\n",
       "      <th>gini_disp_se</th>\n",
       "      <th>gini_mkt</th>\n",
       "      <th>gini_mkt_se</th>\n",
       "      <th>abs_red</th>\n",
       "      <th>abs_red_se</th>\n",
       "      <th>rel_red</th>\n",
       "      <th>rel_red_se</th>\n",
       "    </tr>\n",
       "  </thead>\n",
       "  <tbody>\n",
       "    <tr>\n",
       "      <th>0</th>\n",
       "      <td>Afghanistan</td>\n",
       "      <td>2007</td>\n",
       "      <td>30.4</td>\n",
       "      <td>2.5</td>\n",
       "      <td>33.3</td>\n",
       "      <td>2.8</td>\n",
       "      <td>NaN</td>\n",
       "      <td>NaN</td>\n",
       "      <td>NaN</td>\n",
       "      <td>NaN</td>\n",
       "    </tr>\n",
       "    <tr>\n",
       "      <th>1</th>\n",
       "      <td>Afghanistan</td>\n",
       "      <td>2008</td>\n",
       "      <td>30.5</td>\n",
       "      <td>2.5</td>\n",
       "      <td>33.4</td>\n",
       "      <td>2.9</td>\n",
       "      <td>NaN</td>\n",
       "      <td>NaN</td>\n",
       "      <td>NaN</td>\n",
       "      <td>NaN</td>\n",
       "    </tr>\n",
       "    <tr>\n",
       "      <th>2</th>\n",
       "      <td>Afghanistan</td>\n",
       "      <td>2009</td>\n",
       "      <td>30.5</td>\n",
       "      <td>2.5</td>\n",
       "      <td>33.6</td>\n",
       "      <td>3.0</td>\n",
       "      <td>NaN</td>\n",
       "      <td>NaN</td>\n",
       "      <td>NaN</td>\n",
       "      <td>NaN</td>\n",
       "    </tr>\n",
       "    <tr>\n",
       "      <th>3</th>\n",
       "      <td>Afghanistan</td>\n",
       "      <td>2010</td>\n",
       "      <td>30.5</td>\n",
       "      <td>2.7</td>\n",
       "      <td>33.7</td>\n",
       "      <td>3.0</td>\n",
       "      <td>NaN</td>\n",
       "      <td>NaN</td>\n",
       "      <td>NaN</td>\n",
       "      <td>NaN</td>\n",
       "    </tr>\n",
       "    <tr>\n",
       "      <th>4</th>\n",
       "      <td>Afghanistan</td>\n",
       "      <td>2011</td>\n",
       "      <td>30.6</td>\n",
       "      <td>2.7</td>\n",
       "      <td>33.7</td>\n",
       "      <td>3.0</td>\n",
       "      <td>NaN</td>\n",
       "      <td>NaN</td>\n",
       "      <td>NaN</td>\n",
       "      <td>NaN</td>\n",
       "    </tr>\n",
       "  </tbody>\n",
       "</table>\n",
       "</div>"
      ],
      "text/plain": [
       "       country  year  gini_disp  gini_disp_se  gini_mkt  gini_mkt_se  abs_red  \\\n",
       "0  Afghanistan  2007       30.4           2.5      33.3          2.8      NaN   \n",
       "1  Afghanistan  2008       30.5           2.5      33.4          2.9      NaN   \n",
       "2  Afghanistan  2009       30.5           2.5      33.6          3.0      NaN   \n",
       "3  Afghanistan  2010       30.5           2.7      33.7          3.0      NaN   \n",
       "4  Afghanistan  2011       30.6           2.7      33.7          3.0      NaN   \n",
       "\n",
       "   abs_red_se  rel_red  rel_red_se  \n",
       "0         NaN      NaN         NaN  \n",
       "1         NaN      NaN         NaN  \n",
       "2         NaN      NaN         NaN  \n",
       "3         NaN      NaN         NaN  \n",
       "4         NaN      NaN         NaN  "
      ]
     },
     "execution_count": 12,
     "metadata": {},
     "output_type": "execute_result"
    }
   ],
   "source": [
    "# Install a pip package in the current Jupyter kernel\n",
    "import sys\n",
    "!{sys.executable} -m pip install pandas\n",
    "\n",
    "import pandas as pd\n",
    "\n",
    "# import Swiid-Datensatz\n",
    "swiid = pd.read_csv(\"swiid7_1_summary.csv\")\n",
    "swiid = swiid.astype({\"year\": int}, errors='raise') \n",
    "swiid.head() # gibt die ersten 5 Zeilen des Datensatzes aus"
   ]
  },
  {
   "cell_type": "markdown",
   "id": "9759cf74-27e9-4c84-a369-28ff50c5fd5d",
   "metadata": {},
   "source": [
    "Zuerst wollen wir uns damit beschäftigen, welche Länder wir in unserem Datensatz haben. Dazu lassen wir uns ein Array (Sammelobjekt) aller Element in der Spalte country ausgeben und entfernen die Duplikate."
   ]
  },
  {
   "cell_type": "code",
   "execution_count": 13,
   "id": "06c17cd6-71fd-43c0-a6bb-d8950472f6bf",
   "metadata": {},
   "outputs": [
    {
     "data": {
      "text/plain": [
       "array(['Afghanistan', 'Albania', 'Algeria', 'Angola', 'Anguilla',\n",
       "       'Antigua and Barbuda', 'Argentina', 'Armenia', 'Australia',\n",
       "       'Austria', 'Azerbaijan', 'Bahamas', 'Bangladesh', 'Barbados',\n",
       "       'Belarus', 'Belgium', 'Belize', 'Benin', 'Bhutan', 'Bolivia',\n",
       "       'Bosnia and Herzegovina', 'Botswana', 'Brazil', 'Brunei',\n",
       "       'Bulgaria', 'Burkina Faso', 'Burundi', 'Cambodia', 'Cameroon',\n",
       "       'Canada', 'Cape Verde', 'Central African Republic', 'Chad',\n",
       "       'Chile', 'China', 'Colombia', 'Comoros', 'Congo-Brazzaville',\n",
       "       'Congo-Kinshasa', 'Costa Rica', \"Côte d'Ivoire\", 'Croatia',\n",
       "       'Cyprus', 'Czech Republic', 'Czechoslovakia', 'Denmark',\n",
       "       'Djibouti', 'Dominica', 'Dominican Republic', 'Ecuador', 'Egypt',\n",
       "       'El Salvador', 'Equatorial Guinea', 'Estonia', 'Ethiopia', 'Fiji',\n",
       "       'Finland', 'France', 'Gabon', 'Gambia', 'Georgia', 'Germany',\n",
       "       'Ghana', 'Greece', 'Grenada', 'Guatemala', 'Guinea',\n",
       "       'Guinea-Bissau', 'Guyana', 'Haiti', 'Honduras', 'Hong Kong',\n",
       "       'Hungary', 'Iceland', 'India', 'Indonesia', 'Iran', 'Iraq',\n",
       "       'Ireland', 'Israel', 'Italy', 'Jamaica', 'Japan', 'Jordan',\n",
       "       'Kazakhstan', 'Kenya', 'Kiribati', 'Korea', 'Kosovo', 'Kuwait',\n",
       "       'Kyrgyzstan', 'Laos', 'Latvia', 'Lebanon', 'Lesotho', 'Liberia',\n",
       "       'Libya', 'Lithuania', 'Luxembourg', 'Macedonia', 'Madagascar',\n",
       "       'Malawi', 'Malaysia', 'Maldives', 'Mali', 'Malta', 'Mauritania',\n",
       "       'Mauritius', 'Mexico', 'Micronesia', 'Moldova', 'Mongolia',\n",
       "       'Montenegro', 'Morocco', 'Mozambique', 'Myanmar', 'Namibia',\n",
       "       'Nauru', 'Nepal', 'Netherlands', 'New Zealand', 'Nicaragua',\n",
       "       'Niger', 'Nigeria', 'Norway', 'Pakistan', 'Palau',\n",
       "       'Palestinian Territories', 'Panama', 'Papua New Guinea',\n",
       "       'Paraguay', 'Peru', 'Philippines', 'Poland', 'Portugal',\n",
       "       'Puerto Rico', 'Qatar', 'Romania', 'Russia', 'Rwanda', 'Samoa',\n",
       "       'São Tomé and Príncipe', 'Senegal', 'Serbia', 'Seychelles',\n",
       "       'Sierra Leone', 'Singapore', 'Slovakia', 'Slovenia',\n",
       "       'Solomon Islands', 'Somalia', 'South Africa', 'South Sudan',\n",
       "       'Soviet Union', 'Spain', 'Sri Lanka', 'St. Kitts and Nevis',\n",
       "       'St. Lucia', 'St. Vincent and Grenadines', 'Sudan', 'Suriname',\n",
       "       'Swaziland', 'Sweden', 'Switzerland', 'Syria', 'Taiwan',\n",
       "       'Tajikistan', 'Tanzania', 'Thailand', 'Timor-Leste', 'Togo',\n",
       "       'Tonga', 'Trinidad and Tobago', 'Tunisia', 'Turkey',\n",
       "       'Turkmenistan', 'Turks and Caicos Islands', 'Tuvalu', 'Uganda',\n",
       "       'Ukraine', 'United Arab Emirates', 'United Kingdom',\n",
       "       'United States', 'Uruguay', 'Uzbekistan', 'Vanuatu', 'Venezuela',\n",
       "       'Vietnam', 'Yemen', 'Yugoslavia', 'Zambia', 'Zimbabwe'],\n",
       "      dtype=object)"
      ]
     },
     "execution_count": 13,
     "metadata": {},
     "output_type": "execute_result"
    }
   ],
   "source": [
    "countries = swiid.country.unique()\n",
    "countries"
   ]
  },
  {
   "cell_type": "markdown",
   "id": "97b707e1-8c1d-43a6-b42d-9b287b2178bb",
   "metadata": {},
   "source": [
    "Wie wir sehen können, ist die Sammlung ziemlich lang. Wir greifen nun den ersten Wert heraus, um mit diesem arbeiten zu können. Beachte dabei, dass man in **Python beginnnt bei 0 zu zählen**."
   ]
  },
  {
   "cell_type": "code",
   "execution_count": 14,
   "id": "1bc4e374-5ad7-4256-9809-f77e07f94209",
   "metadata": {},
   "outputs": [
    {
     "data": {
      "text/plain": [
       "'Afghanistan'"
      ]
     },
     "execution_count": 14,
     "metadata": {},
     "output_type": "execute_result"
    }
   ],
   "source": [
    "first_country = countries[0]\n",
    "first_country"
   ]
  },
  {
   "cell_type": "markdown",
   "id": "7a25cebc-3b39-47c9-b3d5-0a2b724565b9",
   "metadata": {},
   "source": [
    "Wie wir sehen können, wird uns der entsprechende Wert (wie auch in der Sammlung weiter oben) in **Anführungsstrichen** ausgegeben. Dies zeigt an, dass es sich um einen **String** handelt, was wir auch mit der **type()-Funktion** überprüfen können."
   ]
  },
  {
   "cell_type": "code",
   "execution_count": 15,
   "id": "9b8da598-599e-4ed9-b3d8-d4b8fc4890d0",
   "metadata": {},
   "outputs": [
    {
     "data": {
      "text/plain": [
       "str"
      ]
     },
     "execution_count": 15,
     "metadata": {},
     "output_type": "execute_result"
    }
   ],
   "source": [
    "type(first_country)"
   ]
  },
  {
   "cell_type": "markdown",
   "id": "a1e619d5-9eac-4af6-9b8d-7859b757fb33",
   "metadata": {},
   "source": [
    "Auch Zahlen können Strings sein, wenn sie in \"\" geschrieben werden. Hier muss man jedoch aufpassen, da diese dann ihre spezifischen Eigenschaften als numerische Werte verlieren (weshalb ein Fehler geworfen wird)."
   ]
  },
  {
   "cell_type": "code",
   "execution_count": 18,
   "id": "0ef9c8c0-6d6e-45ab-a381-2f84e621b2a6",
   "metadata": {},
   "outputs": [
    {
     "ename": "TypeError",
     "evalue": "unsupported operand type(s) for +: 'int' and 'str'",
     "output_type": "error",
     "traceback": [
      "\u001b[1;31m---------------------------------------------------------------------------\u001b[0m",
      "\u001b[1;31mTypeError\u001b[0m                                 Traceback (most recent call last)",
      "Input \u001b[1;32mIn [18]\u001b[0m, in \u001b[0;36m<cell line: 1>\u001b[1;34m()\u001b[0m\n\u001b[1;32m----> 1\u001b[0m \u001b[38;5;241;43m2\u001b[39;49m\u001b[43m \u001b[49m\u001b[38;5;241;43m+\u001b[39;49m\u001b[43m \u001b[49m\u001b[38;5;124;43m\"\u001b[39;49m\u001b[38;5;124;43m2\u001b[39;49m\u001b[38;5;124;43m\"\u001b[39;49m\n",
      "\u001b[1;31mTypeError\u001b[0m: unsupported operand type(s) for +: 'int' and 'str'"
     ]
    }
   ],
   "source": [
    "2 + \"2\""
   ]
  },
  {
   "cell_type": "markdown",
   "id": "48488fa8-69f3-44b6-a68b-e937fa3041ef",
   "metadata": {},
   "source": [
    "Mit Strings kann man verschiedenste Sachen machen. Hierzu kann man unter anderem die in Python vorgefertigten Methoden benutzen: https://www.w3schools.com/python/python_ref_string.asp. Alle Methoden geben dabei neue Werte aus und verändern nicht den ursprünglichen String!"
   ]
  },
  {
   "cell_type": "markdown",
   "id": "4d31aa80-696d-484b-98b6-f0870b66d4fe",
   "metadata": {},
   "source": [
    "Als nächstes wollen wir uns einem weiteren Datentyp zuwenden, dem **int**. Dazu schauen wir auf die zweite Spalte der Tabelle, die Jahreszahlen. Hier lassen wir uns wieder alle Jahreszahlen ausgeben, diesmal mit Duplikaten."
   ]
  },
  {
   "cell_type": "code",
   "execution_count": 19,
   "id": "5e719cfb-e193-4be7-8419-85f60712bc40",
   "metadata": {
    "jupyter": {
     "outputs_hidden": true
    },
    "tags": []
   },
   "outputs": [
    {
     "data": {
      "text/plain": [
       "[2007,\n",
       " 2008,\n",
       " 2009,\n",
       " 2010,\n",
       " 2011,\n",
       " 2012,\n",
       " 1996,\n",
       " 1997,\n",
       " 1998,\n",
       " 1999,\n",
       " 2000,\n",
       " 2001,\n",
       " 2002,\n",
       " 2003,\n",
       " 2004,\n",
       " 2005,\n",
       " 2006,\n",
       " 2007,\n",
       " 2008,\n",
       " 2009,\n",
       " 2010,\n",
       " 2011,\n",
       " 2012,\n",
       " 1988,\n",
       " 1989,\n",
       " 1990,\n",
       " 1991,\n",
       " 1992,\n",
       " 1993,\n",
       " 1994,\n",
       " 1995,\n",
       " 1996,\n",
       " 1997,\n",
       " 1998,\n",
       " 1999,\n",
       " 2000,\n",
       " 2001,\n",
       " 2002,\n",
       " 2003,\n",
       " 2004,\n",
       " 2005,\n",
       " 2006,\n",
       " 2007,\n",
       " 2008,\n",
       " 2009,\n",
       " 2010,\n",
       " 2011,\n",
       " 2000,\n",
       " 2001,\n",
       " 2002,\n",
       " 2003,\n",
       " 2004,\n",
       " 2005,\n",
       " 2006,\n",
       " 2007,\n",
       " 2008,\n",
       " 2009,\n",
       " 2002,\n",
       " 2003,\n",
       " 2004,\n",
       " 2005,\n",
       " 2006,\n",
       " 2007,\n",
       " 2008,\n",
       " 2009,\n",
       " 2007,\n",
       " 1961,\n",
       " 1962,\n",
       " 1963,\n",
       " 1964,\n",
       " 1965,\n",
       " 1966,\n",
       " 1967,\n",
       " 1968,\n",
       " 1969,\n",
       " 1970,\n",
       " 1971,\n",
       " 1972,\n",
       " 1973,\n",
       " 1974,\n",
       " 1975,\n",
       " 1976,\n",
       " 1977,\n",
       " 1978,\n",
       " 1979,\n",
       " 1980,\n",
       " 1981,\n",
       " 1982,\n",
       " 1983,\n",
       " 1984,\n",
       " 1985,\n",
       " 1986,\n",
       " 1987,\n",
       " 1988,\n",
       " 1989,\n",
       " 1990,\n",
       " 1991,\n",
       " 1992,\n",
       " 1993,\n",
       " 1994,\n",
       " 1995,\n",
       " 1996,\n",
       " 1997,\n",
       " 1998,\n",
       " 1999,\n",
       " 2000,\n",
       " 2001,\n",
       " 2002,\n",
       " 2003,\n",
       " 2004,\n",
       " 2005,\n",
       " 2006,\n",
       " 2007,\n",
       " 2008,\n",
       " 2009,\n",
       " 2010,\n",
       " 2011,\n",
       " 2012,\n",
       " 2013,\n",
       " 2014,\n",
       " 2015,\n",
       " 1988,\n",
       " 1989,\n",
       " 1990,\n",
       " 1991,\n",
       " 1992,\n",
       " 1993,\n",
       " 1994,\n",
       " 1995,\n",
       " 1996,\n",
       " 1997,\n",
       " 1998,\n",
       " 1999,\n",
       " 2000,\n",
       " 2001,\n",
       " 2002,\n",
       " 2003,\n",
       " 2004,\n",
       " 2005,\n",
       " 2006,\n",
       " 2007,\n",
       " 2008,\n",
       " 2009,\n",
       " 2010,\n",
       " 2011,\n",
       " 2012,\n",
       " 2013,\n",
       " 2014,\n",
       " 2015,\n",
       " 2016,\n",
       " 1967,\n",
       " 1968,\n",
       " 1969,\n",
       " 1970,\n",
       " 1971,\n",
       " 1972,\n",
       " 1973,\n",
       " 1974,\n",
       " 1975,\n",
       " 1976,\n",
       " 1977,\n",
       " 1978,\n",
       " 1979,\n",
       " 1980,\n",
       " 1981,\n",
       " 1982,\n",
       " 1983,\n",
       " 1984,\n",
       " 1985,\n",
       " 1986,\n",
       " 1987,\n",
       " 1988,\n",
       " 1989,\n",
       " 1990,\n",
       " 1991,\n",
       " 1992,\n",
       " 1993,\n",
       " 1994,\n",
       " 1995,\n",
       " 1996,\n",
       " 1997,\n",
       " 1998,\n",
       " 1999,\n",
       " 2000,\n",
       " 2001,\n",
       " 2002,\n",
       " 2003,\n",
       " 2004,\n",
       " 2005,\n",
       " 2006,\n",
       " 2007,\n",
       " 2008,\n",
       " 2009,\n",
       " 2010,\n",
       " 2011,\n",
       " 2012,\n",
       " 2013,\n",
       " 2014,\n",
       " 1983,\n",
       " 1984,\n",
       " 1985,\n",
       " 1986,\n",
       " 1987,\n",
       " 1988,\n",
       " 1989,\n",
       " 1990,\n",
       " 1991,\n",
       " 1992,\n",
       " 1993,\n",
       " 1994,\n",
       " 1995,\n",
       " 1996,\n",
       " 1997,\n",
       " 1998,\n",
       " 1999,\n",
       " 2000,\n",
       " 2001,\n",
       " 2002,\n",
       " 2003,\n",
       " 2004,\n",
       " 2005,\n",
       " 2006,\n",
       " 2007,\n",
       " 2008,\n",
       " 2009,\n",
       " 2010,\n",
       " 2011,\n",
       " 2012,\n",
       " 2013,\n",
       " 2014,\n",
       " 2015,\n",
       " 2016,\n",
       " 1988,\n",
       " 1989,\n",
       " 1990,\n",
       " 1991,\n",
       " 1992,\n",
       " 1993,\n",
       " 1994,\n",
       " 1995,\n",
       " 1996,\n",
       " 1997,\n",
       " 1998,\n",
       " 1999,\n",
       " 2000,\n",
       " 2001,\n",
       " 2002,\n",
       " 2003,\n",
       " 2004,\n",
       " 2005,\n",
       " 2006,\n",
       " 2007,\n",
       " 2008,\n",
       " 2001,\n",
       " 2002,\n",
       " 2003,\n",
       " 2004,\n",
       " 2005,\n",
       " 2006,\n",
       " 2007,\n",
       " 2008,\n",
       " 2009,\n",
       " 2010,\n",
       " 2011,\n",
       " 2012,\n",
       " 2013,\n",
       " 1964,\n",
       " 1965,\n",
       " 1966,\n",
       " 1967,\n",
       " 1968,\n",
       " 1969,\n",
       " 1970,\n",
       " 1971,\n",
       " 1972,\n",
       " 1973,\n",
       " 1974,\n",
       " 1975,\n",
       " 1976,\n",
       " 1977,\n",
       " 1978,\n",
       " 1979,\n",
       " 1980,\n",
       " 1981,\n",
       " 1982,\n",
       " 1983,\n",
       " 1984,\n",
       " 1985,\n",
       " 1986,\n",
       " 1987,\n",
       " 1988,\n",
       " 1989,\n",
       " 1990,\n",
       " 1991,\n",
       " 1992,\n",
       " 1993,\n",
       " 1994,\n",
       " 1995,\n",
       " 1996,\n",
       " 1997,\n",
       " 1998,\n",
       " 1999,\n",
       " 2000,\n",
       " 2001,\n",
       " 2002,\n",
       " 2003,\n",
       " 2004,\n",
       " 2005,\n",
       " 2006,\n",
       " 2007,\n",
       " 2008,\n",
       " 2009,\n",
       " 2010,\n",
       " 2011,\n",
       " 2012,\n",
       " 2013,\n",
       " 2014,\n",
       " 2015,\n",
       " 2016,\n",
       " 1979,\n",
       " 1980,\n",
       " 1981,\n",
       " 1982,\n",
       " 1983,\n",
       " 1984,\n",
       " 1985,\n",
       " 1986,\n",
       " 1987,\n",
       " 1988,\n",
       " 1989,\n",
       " 1990,\n",
       " 1991,\n",
       " 1992,\n",
       " 1993,\n",
       " 1994,\n",
       " 1995,\n",
       " 1996,\n",
       " 1997,\n",
       " 1998,\n",
       " 1999,\n",
       " 2000,\n",
       " 2001,\n",
       " 2002,\n",
       " 2003,\n",
       " 2004,\n",
       " 2005,\n",
       " 2006,\n",
       " 2007,\n",
       " 2008,\n",
       " 2009,\n",
       " 2010,\n",
       " 1988,\n",
       " 1989,\n",
       " 1990,\n",
       " 1991,\n",
       " 1992,\n",
       " 1993,\n",
       " 1994,\n",
       " 1995,\n",
       " 1996,\n",
       " 1997,\n",
       " 1998,\n",
       " 1999,\n",
       " 2000,\n",
       " 2001,\n",
       " 2002,\n",
       " 2003,\n",
       " 2004,\n",
       " 2005,\n",
       " 2006,\n",
       " 2007,\n",
       " 2008,\n",
       " 2009,\n",
       " 2010,\n",
       " 2011,\n",
       " 2012,\n",
       " 2013,\n",
       " 2014,\n",
       " 2015,\n",
       " 2016,\n",
       " 1979,\n",
       " 1980,\n",
       " 1981,\n",
       " 1982,\n",
       " 1983,\n",
       " 1984,\n",
       " 1985,\n",
       " 1986,\n",
       " 1987,\n",
       " 1988,\n",
       " 1989,\n",
       " 1990,\n",
       " 1991,\n",
       " 1992,\n",
       " 1993,\n",
       " 1994,\n",
       " 1995,\n",
       " 1996,\n",
       " 1997,\n",
       " 1998,\n",
       " 1999,\n",
       " 2000,\n",
       " 2001,\n",
       " 2002,\n",
       " 2003,\n",
       " 2004,\n",
       " 2005,\n",
       " 2006,\n",
       " 2007,\n",
       " 2008,\n",
       " 2009,\n",
       " 2010,\n",
       " 2011,\n",
       " 2012,\n",
       " 2013,\n",
       " 2014,\n",
       " 2015,\n",
       " 2016,\n",
       " 1993,\n",
       " 1994,\n",
       " 1995,\n",
       " 1996,\n",
       " 1997,\n",
       " 1998,\n",
       " 1999,\n",
       " 2000,\n",
       " 2001,\n",
       " 2002,\n",
       " 2003,\n",
       " 2004,\n",
       " 2005,\n",
       " 2006,\n",
       " 2007,\n",
       " 2008,\n",
       " 2009,\n",
       " 2002,\n",
       " 2003,\n",
       " 2004,\n",
       " 2005,\n",
       " 2006,\n",
       " 2007,\n",
       " 2008,\n",
       " 2009,\n",
       " 2010,\n",
       " 2011,\n",
       " 2012,\n",
       " 2013,\n",
       " 2014,\n",
       " 2015,\n",
       " 2003,\n",
       " 2004,\n",
       " 2005,\n",
       " 2006,\n",
       " 2007,\n",
       " 2008,\n",
       " 2009,\n",
       " 2010,\n",
       " 2011,\n",
       " 2012,\n",
       " 1990,\n",
       " 1991,\n",
       " 1992,\n",
       " 1993,\n",
       " 1994,\n",
       " 1995,\n",
       " 1996,\n",
       " 1997,\n",
       " 1998,\n",
       " 1999,\n",
       " 2000,\n",
       " 2001,\n",
       " 2002,\n",
       " 2003,\n",
       " 2004,\n",
       " 2005,\n",
       " 2006,\n",
       " 2007,\n",
       " 2008,\n",
       " 2009,\n",
       " 2010,\n",
       " 2011,\n",
       " 2012,\n",
       " 2013,\n",
       " 2014,\n",
       " 2015,\n",
       " 2016,\n",
       " 2001,\n",
       " 2002,\n",
       " 2003,\n",
       " 2004,\n",
       " 2005,\n",
       " 2006,\n",
       " 2007,\n",
       " 2008,\n",
       " 2009,\n",
       " 2010,\n",
       " 2011,\n",
       " 2012,\n",
       " 2013,\n",
       " 2014,\n",
       " 2015,\n",
       " 1985,\n",
       " 1986,\n",
       " 1987,\n",
       " 1988,\n",
       " 1989,\n",
       " 1990,\n",
       " 1991,\n",
       " 1992,\n",
       " 1993,\n",
       " 1994,\n",
       " 1995,\n",
       " 1996,\n",
       " 1997,\n",
       " 1998,\n",
       " 1999,\n",
       " 2000,\n",
       " 2001,\n",
       " 2002,\n",
       " 2003,\n",
       " 2004,\n",
       " 2005,\n",
       " 2006,\n",
       " 2007,\n",
       " 2008,\n",
       " 2009,\n",
       " 2010,\n",
       " 1960,\n",
       " 1961,\n",
       " 1962,\n",
       " 1963,\n",
       " 1964,\n",
       " 1965,\n",
       " 1966,\n",
       " 1967,\n",
       " 1968,\n",
       " 1969,\n",
       " 1970,\n",
       " 1971,\n",
       " 1972,\n",
       " 1973,\n",
       " 1974,\n",
       " 1975,\n",
       " 1976,\n",
       " 1977,\n",
       " 1978,\n",
       " 1979,\n",
       " 1980,\n",
       " 1981,\n",
       " 1982,\n",
       " 1983,\n",
       " 1984,\n",
       " 1985,\n",
       " 1986,\n",
       " 1987,\n",
       " 1988,\n",
       " 1989,\n",
       " 1990,\n",
       " 1991,\n",
       " 1992,\n",
       " 1993,\n",
       " 1994,\n",
       " 1995,\n",
       " 1996,\n",
       " 1997,\n",
       " 1998,\n",
       " 1999,\n",
       " 2000,\n",
       " 2001,\n",
       " 2002,\n",
       " 2003,\n",
       " 2004,\n",
       " 2005,\n",
       " 2006,\n",
       " 2007,\n",
       " 2008,\n",
       " 2009,\n",
       " 2010,\n",
       " 2011,\n",
       " 2012,\n",
       " 2013,\n",
       " 2014,\n",
       " 2015,\n",
       " 1981,\n",
       " 1989,\n",
       " 1990,\n",
       " 1991,\n",
       " 1992,\n",
       " 1993,\n",
       " 1994,\n",
       " 1995,\n",
       " 1996,\n",
       " 1997,\n",
       " 1998,\n",
       " 1999,\n",
       " 2000,\n",
       " 2001,\n",
       " 2002,\n",
       " 2003,\n",
       " 2004,\n",
       " 2005,\n",
       " 2006,\n",
       " 2007,\n",
       " 2008,\n",
       " 2009,\n",
       " 2010,\n",
       " 2011,\n",
       " 2012,\n",
       " 2013,\n",
       " 2014,\n",
       " 2015,\n",
       " 2016,\n",
       " 1994,\n",
       " 1995,\n",
       " 1996,\n",
       " 1997,\n",
       " 1998,\n",
       " 1999,\n",
       " 2000,\n",
       " 2001,\n",
       " 2002,\n",
       " 2003,\n",
       " 2004,\n",
       " 2005,\n",
       " 2006,\n",
       " 2007,\n",
       " 2008,\n",
       " 2009,\n",
       " 2010,\n",
       " 2011,\n",
       " 2012,\n",
       " 2013,\n",
       " 2014,\n",
       " 1992,\n",
       " 1993,\n",
       " 1994,\n",
       " 1995,\n",
       " 1996,\n",
       " 1997,\n",
       " 1998,\n",
       " 1999,\n",
       " 2000,\n",
       " 2001,\n",
       " 2002,\n",
       " 2003,\n",
       " 2004,\n",
       " 2005,\n",
       " 2006,\n",
       " 2007,\n",
       " 2008,\n",
       " 2009,\n",
       " 2010,\n",
       " 2011,\n",
       " 2012,\n",
       " 2013,\n",
       " 1997,\n",
       " 1998,\n",
       " 1999,\n",
       " 2000,\n",
       " 2001,\n",
       " 2002,\n",
       " 2003,\n",
       " 2004,\n",
       " 2005,\n",
       " 2006,\n",
       " 2007,\n",
       " 2008,\n",
       " 2009,\n",
       " 2010,\n",
       " 2011,\n",
       " 2012,\n",
       " 1996,\n",
       " 1997,\n",
       " 1998,\n",
       " 1999,\n",
       " 2000,\n",
       " 2001,\n",
       " 2002,\n",
       " 2003,\n",
       " 2004,\n",
       " 2005,\n",
       " 2006,\n",
       " 2007,\n",
       " 2008,\n",
       " 2009,\n",
       " 2010,\n",
       " 2011,\n",
       " 2012,\n",
       " 2013,\n",
       " 2014,\n",
       " 1971,\n",
       " 1972,\n",
       " 1973,\n",
       " 1974,\n",
       " 1975,\n",
       " 1976,\n",
       " 1977,\n",
       " 1978,\n",
       " 1979,\n",
       " 1980,\n",
       " 1981,\n",
       " 1982,\n",
       " 1983,\n",
       " 1984,\n",
       " 1985,\n",
       " 1986,\n",
       " 1987,\n",
       " 1988,\n",
       " 1989,\n",
       " 1990,\n",
       " 1991,\n",
       " 1992,\n",
       " 1993,\n",
       " 1994,\n",
       " 1995,\n",
       " 1996,\n",
       " 1997,\n",
       " 1998,\n",
       " 1999,\n",
       " 2000,\n",
       " 2001,\n",
       " 2002,\n",
       " 2003,\n",
       " 2004,\n",
       " 2005,\n",
       " 2006,\n",
       " 2007,\n",
       " 2008,\n",
       " 2009,\n",
       " 2010,\n",
       " 2011,\n",
       " 2012,\n",
       " 2013,\n",
       " 2014,\n",
       " 2015,\n",
       " 2016,\n",
       " 1999,\n",
       " 2000,\n",
       " 2001,\n",
       " 2002,\n",
       " 2003,\n",
       " 2004,\n",
       " 2005,\n",
       " 2006,\n",
       " 2007,\n",
       " 2008,\n",
       " 2009,\n",
       " 2010,\n",
       " 2011,\n",
       " 2012,\n",
       " 2013,\n",
       " 2014,\n",
       " 2015,\n",
       " 1992,\n",
       " 1993,\n",
       " 1994,\n",
       " 1995,\n",
       " 1996,\n",
       " 1997,\n",
       " 1998,\n",
       " 1999,\n",
       " 2000,\n",
       " 2001,\n",
       " 2002,\n",
       " 2003,\n",
       " 2004,\n",
       " 2005,\n",
       " 2006,\n",
       " 2007,\n",
       " 2008,\n",
       " 2003,\n",
       " 2004,\n",
       " 2005,\n",
       " 2006,\n",
       " 2007,\n",
       " 2008,\n",
       " 2009,\n",
       " 2010,\n",
       " 2011,\n",
       " 1968,\n",
       " 1969,\n",
       " 1970,\n",
       " 1971,\n",
       " 1972,\n",
       " 1973,\n",
       " 1974,\n",
       " 1975,\n",
       " 1976,\n",
       " 1977,\n",
       " 1978,\n",
       " 1979,\n",
       " 1980,\n",
       " 1981,\n",
       " 1982,\n",
       " 1983,\n",
       " 1984,\n",
       " 1985,\n",
       " 1986,\n",
       " 1987,\n",
       " 1988,\n",
       " 1989,\n",
       " 1990,\n",
       " 1991,\n",
       " 1992,\n",
       " 1993,\n",
       " 1994,\n",
       " 1995,\n",
       " 1996,\n",
       " 1997,\n",
       " 1998,\n",
       " 1999,\n",
       " 2000,\n",
       " 2001,\n",
       " 2002,\n",
       " 2003,\n",
       " 2004,\n",
       " 2005,\n",
       " 2006,\n",
       " 2007,\n",
       " 2008,\n",
       " 2009,\n",
       " 2010,\n",
       " 2011,\n",
       " 2012,\n",
       " 2013,\n",
       " 2014,\n",
       " 2015,\n",
       " 1978,\n",
       " 1979,\n",
       " 1980,\n",
       " 1981,\n",
       " 1982,\n",
       " 1983,\n",
       " 1984,\n",
       " 1985,\n",
       " 1986,\n",
       " 1987,\n",
       " 1988,\n",
       " 1989,\n",
       " 1990,\n",
       " 1991,\n",
       " 1992,\n",
       " 1993,\n",
       " 1994,\n",
       " 1995,\n",
       " 1996,\n",
       " 1997,\n",
       " 1998,\n",
       " 1999,\n",
       " 2000,\n",
       " 2001,\n",
       " 2002,\n",
       " 2003,\n",
       " 2004,\n",
       " 2005,\n",
       " 2006,\n",
       " 2007,\n",
       " 2008,\n",
       " 2009,\n",
       " 2010,\n",
       " 2011,\n",
       " 2012,\n",
       " 2013,\n",
       " 2014,\n",
       " 2015,\n",
       " 1970,\n",
       " 1971,\n",
       " 1972,\n",
       " 1973,\n",
       " 1974,\n",
       " 1975,\n",
       " 1976,\n",
       " 1977,\n",
       " 1978,\n",
       " 1979,\n",
       " 1980,\n",
       " 1981,\n",
       " 1982,\n",
       " 1983,\n",
       " 1984,\n",
       " 1985,\n",
       " 1986,\n",
       " 1987,\n",
       " 1988,\n",
       " 1989,\n",
       " 1990,\n",
       " 1991,\n",
       " 1992,\n",
       " 1993,\n",
       " 1994,\n",
       " 1995,\n",
       " 1996,\n",
       " 1997,\n",
       " 1998,\n",
       " 1999,\n",
       " 2000,\n",
       " 2001,\n",
       " 2002,\n",
       " 2003,\n",
       " 2004,\n",
       " 2005,\n",
       " 2006,\n",
       " 2007,\n",
       " 2008,\n",
       " 2009,\n",
       " 2010,\n",
       " 2011,\n",
       " 2012,\n",
       " 2013,\n",
       " 2014,\n",
       " 2015,\n",
       " 2016,\n",
       " 2017,\n",
       " 2004,\n",
       " 2005,\n",
       " 2006,\n",
       " 2007,\n",
       " 2008,\n",
       " 2009,\n",
       " 2010,\n",
       " 2011,\n",
       " 2012,\n",
       " 2013,\n",
       " 2005,\n",
       " 2006,\n",
       " 2007,\n",
       " 2008,\n",
       " 2009,\n",
       " 2010,\n",
       " 2011,\n",
       " 2004,\n",
       " 2005,\n",
       " 2006,\n",
       " 2007,\n",
       " 2008,\n",
       " 2009,\n",
       " 2010,\n",
       " 2011,\n",
       " 2012,\n",
       " 1961,\n",
       " 1962,\n",
       " 1963,\n",
       " 1964,\n",
       " 1965,\n",
       " 1966,\n",
       " 1967,\n",
       " 1968,\n",
       " 1969,\n",
       " 1970,\n",
       " 1971,\n",
       " 1972,\n",
       " 1973,\n",
       " 1974,\n",
       " 1975,\n",
       " 1976,\n",
       " 1977,\n",
       " 1978,\n",
       " 1979,\n",
       " 1980,\n",
       " 1981,\n",
       " 1982,\n",
       " 1983,\n",
       " 1984,\n",
       " 1985,\n",
       " 1986,\n",
       " 1987,\n",
       " 1988,\n",
       " 1989,\n",
       " 1990,\n",
       " 1991,\n",
       " 1992,\n",
       " 1993,\n",
       " 1994,\n",
       " 1995,\n",
       " 1996,\n",
       " 1997,\n",
       " 1998,\n",
       " 1999,\n",
       " 2000,\n",
       " 2001,\n",
       " 2002,\n",
       " 2003,\n",
       " 2004,\n",
       " 2005,\n",
       " 2006,\n",
       " 2007,\n",
       " 2008,\n",
       " 2009,\n",
       " 2010,\n",
       " 2011,\n",
       " 2012,\n",
       " 2013,\n",
       " 2014,\n",
       " 2015,\n",
       " 2016,\n",
       " 2017,\n",
       " 1985,\n",
       " 1986,\n",
       " 1987,\n",
       " 1988,\n",
       " ...]"
      ]
     },
     "execution_count": 19,
     "metadata": {},
     "output_type": "execute_result"
    }
   ],
   "source": [
    "years = swiid[\"year\"].tolist()\n",
    "years"
   ]
  },
  {
   "cell_type": "markdown",
   "id": "c16277b3-3ed7-4d16-adc4-099c12c50228",
   "metadata": {},
   "source": [
    "Wie man sieht, bekommt man eine sehr lange Liste der Jahreszahlen. Wieder wollen wir uns zur Veranschaulichung die eine Zahl greifen, diesmal die hundertste."
   ]
  },
  {
   "cell_type": "code",
   "execution_count": 20,
   "id": "711b478e-6c9d-4cd4-bbf0-8bcdb03ddc98",
   "metadata": {},
   "outputs": [
    {
     "data": {
      "text/plain": [
       "1994"
      ]
     },
     "execution_count": 20,
     "metadata": {},
     "output_type": "execute_result"
    }
   ],
   "source": [
    "years_100 = years[99]\n",
    "years_100"
   ]
  },
  {
   "cell_type": "markdown",
   "id": "f570db33-1e48-4a88-88eb-33d088d5c870",
   "metadata": {},
   "source": [
    "Wieder wollen wir nun den Typen bestimmen."
   ]
  },
  {
   "cell_type": "code",
   "execution_count": 23,
   "id": "f557bbc7-2589-4665-b06b-ab6e108efd1a",
   "metadata": {},
   "outputs": [
    {
     "data": {
      "text/plain": [
       "int"
      ]
     },
     "execution_count": 23,
     "metadata": {},
     "output_type": "execute_result"
    }
   ],
   "source": [
    "type(years_100)"
   ]
  },
  {
   "cell_type": "markdown",
   "id": "969e9b48-9b06-4218-be27-f84f5b5e2fe7",
   "metadata": {},
   "source": [
    "**Ints** sind grundsätzlich alle **ganzen Zahlen**. Diese können nun mit allen mathematischen und logischen Operatoren genutzt werden. Beispielsweise können wir gucken, ob die erste Zahl in der Tabelle größer ist als die letzte:"
   ]
  },
  {
   "cell_type": "code",
   "execution_count": 24,
   "id": "ebf943d2-f8c1-4b8b-b6a7-b117d273a50c",
   "metadata": {},
   "outputs": [
    {
     "data": {
      "text/plain": [
       "False"
      ]
     },
     "execution_count": 24,
     "metadata": {},
     "output_type": "execute_result"
    }
   ],
   "source": [
    "years[0] > years[-1] # von hinten gezählt"
   ]
  },
  {
   "cell_type": "markdown",
   "id": "734a1852",
   "metadata": {},
   "source": [
    "Ein weiterer Zahlentyp sind die **floats**. Dabei handelt es sich um **Kommazahlen**. Wieder nehmen wir zur Demonstration wieder eine Spalte aus unserem Datensatz, diesmal zum Gini Index (Verfügbares Einkommen)."
   ]
  },
  {
   "cell_type": "code",
   "execution_count": 26,
   "id": "d97cfd51",
   "metadata": {},
   "outputs": [
    {
     "data": {
      "text/plain": [
       "[30.4,\n",
       " 30.5,\n",
       " 30.5,\n",
       " 30.5,\n",
       " 30.6,\n",
       " 30.6,\n",
       " 38.0,\n",
       " 38.1,\n",
       " 38.2,\n",
       " 38.3,\n",
       " 38.4,\n",
       " 38.4,\n",
       " 38.5,\n",
       " 38.6,\n",
       " 38.6,\n",
       " 38.6,\n",
       " 38.6,\n",
       " 38.6,\n",
       " 38.5,\n",
       " 38.5,\n",
       " 38.5,\n",
       " 38.5,\n",
       " 38.4,\n",
       " 37.2,\n",
       " 37.0,\n",
       " 36.8,\n",
       " 36.6,\n",
       " 36.4,\n",
       " 36.2,\n",
       " 36.0,\n",
       " 35.8,\n",
       " 35.7,\n",
       " 35.5,\n",
       " 35.4,\n",
       " 35.3,\n",
       " 35.2,\n",
       " 35.0,\n",
       " 34.9,\n",
       " 34.7,\n",
       " 34.6,\n",
       " 34.5,\n",
       " 34.3,\n",
       " 34.1,\n",
       " 33.9,\n",
       " 33.7,\n",
       " 33.5,\n",
       " 33.3,\n",
       " 48.8,\n",
       " 48.7,\n",
       " 48.7,\n",
       " 48.7,\n",
       " 48.6,\n",
       " 48.6,\n",
       " 48.3,\n",
       " 47.9,\n",
       " 47.7,\n",
       " 47.6,\n",
       " 35.9,\n",
       " 36.1,\n",
       " 36.2,\n",
       " 36.2,\n",
       " 36.3,\n",
       " 36.4,\n",
       " 36.5,\n",
       " 36.6,\n",
       " 47.3,\n",
       " 36.0,\n",
       " 35.9,\n",
       " 35.8,\n",
       " 35.8,\n",
       " 35.7,\n",
       " 35.8,\n",
       " 35.8,\n",
       " 35.7,\n",
       " 35.8,\n",
       " 35.8,\n",
       " 35.7,\n",
       " 35.6,\n",
       " 35.6,\n",
       " 35.6,\n",
       " 36.0,\n",
       " 36.3,\n",
       " 36.7,\n",
       " 37.1,\n",
       " 37.5,\n",
       " 38.0,\n",
       " 38.5,\n",
       " 38.9,\n",
       " 39.3,\n",
       " 39.7,\n",
       " 40.1,\n",
       " 40.5,\n",
       " 40.9,\n",
       " 41.4,\n",
       " 41.8,\n",
       " 42.1,\n",
       " 42.3,\n",
       " 42.4,\n",
       " 42.7,\n",
       " 43.2,\n",
       " 43.7,\n",
       " 44.2,\n",
       " 44.7,\n",
       " 45.1,\n",
       " 45.5,\n",
       " 45.9,\n",
       " 46.1,\n",
       " 46.2,\n",
       " 45.9,\n",
       " 45.5,\n",
       " 44.9,\n",
       " 44.2,\n",
       " 43.4,\n",
       " 42.7,\n",
       " 42.1,\n",
       " 41.5,\n",
       " 40.8,\n",
       " 40.2,\n",
       " 39.8,\n",
       " 39.5,\n",
       " 39.4,\n",
       " 34.2,\n",
       " 34.3,\n",
       " 34.7,\n",
       " 35.3,\n",
       " 36.0,\n",
       " 36.6,\n",
       " 37.2,\n",
       " 37.8,\n",
       " 38.4,\n",
       " 38.7,\n",
       " 39.0,\n",
       " 39.2,\n",
       " 39.0,\n",
       " 38.7,\n",
       " 38.3,\n",
       " 38.1,\n",
       " 37.9,\n",
       " 37.4,\n",
       " 36.9,\n",
       " 36.5,\n",
       " 36.1,\n",
       " 35.8,\n",
       " 35.6,\n",
       " 35.5,\n",
       " 35.7,\n",
       " 35.9,\n",
       " 36.1,\n",
       " 36.3,\n",
       " 36.4,\n",
       " 28.5,\n",
       " 28.4,\n",
       " 28.4,\n",
       " 28.3,\n",
       " 28.1,\n",
       " 28.0,\n",
       " 27.9,\n",
       " 27.8,\n",
       " 27.3,\n",
       " 27.4,\n",
       " 27.6,\n",
       " 27.7,\n",
       " 27.9,\n",
       " 28.0,\n",
       " 28.2,\n",
       " 28.6,\n",
       " 29.1,\n",
       " 29.5,\n",
       " 29.4,\n",
       " 29.7,\n",
       " 29.9,\n",
       " 30.1,\n",
       " 30.3,\n",
       " 30.2,\n",
       " 30.4,\n",
       " 30.6,\n",
       " 30.9,\n",
       " 31.1,\n",
       " 31.3,\n",
       " 31.2,\n",
       " 31.2,\n",
       " 31.6,\n",
       " 31.9,\n",
       " 32.2,\n",
       " 32.1,\n",
       " 31.9,\n",
       " 31.8,\n",
       " 31.9,\n",
       " 32.1,\n",
       " 32.4,\n",
       " 32.7,\n",
       " 33.1,\n",
       " 33.1,\n",
       " 33.0,\n",
       " 33.0,\n",
       " 32.8,\n",
       " 33.2,\n",
       " 33.5,\n",
       " 23.7,\n",
       " 23.5,\n",
       " 23.3,\n",
       " 23.2,\n",
       " 23.0,\n",
       " 23.6,\n",
       " 24.2,\n",
       " 24.9,\n",
       " 25.5,\n",
       " 26.2,\n",
       " 26.8,\n",
       " 27.6,\n",
       " 28.2,\n",
       " 27.6,\n",
       " 27.2,\n",
       " 27.0,\n",
       " 26.6,\n",
       " 26.5,\n",
       " 26.7,\n",
       " 26.9,\n",
       " 26.9,\n",
       " 26.9,\n",
       " 26.9,\n",
       " 27.4,\n",
       " 28.0,\n",
       " 28.0,\n",
       " 28.3,\n",
       " 28.1,\n",
       " 28.0,\n",
       " 27.8,\n",
       " 27.8,\n",
       " 27.7,\n",
       " 27.8,\n",
       " 27.9,\n",
       " 29.9,\n",
       " 29.9,\n",
       " 30.0,\n",
       " 30.0,\n",
       " 30.0,\n",
       " 30.0,\n",
       " 30.1,\n",
       " 30.0,\n",
       " 29.7,\n",
       " 29.4,\n",
       " 29.1,\n",
       " 28.7,\n",
       " 28.4,\n",
       " 28.1,\n",
       " 27.1,\n",
       " 26.4,\n",
       " 26.0,\n",
       " 25.8,\n",
       " 26.0,\n",
       " 26.1,\n",
       " 26.2,\n",
       " 45.3,\n",
       " 45.1,\n",
       " 44.9,\n",
       " 44.7,\n",
       " 44.7,\n",
       " 44.7,\n",
       " 44.7,\n",
       " 44.7,\n",
       " 44.6,\n",
       " 44.6,\n",
       " 44.6,\n",
       " 44.6,\n",
       " 44.6,\n",
       " 30.0,\n",
       " 30.0,\n",
       " 29.9,\n",
       " 29.8,\n",
       " 29.8,\n",
       " 29.8,\n",
       " 30.0,\n",
       " 30.2,\n",
       " 30.4,\n",
       " 30.5,\n",
       " 30.7,\n",
       " 31.0,\n",
       " 31.3,\n",
       " 31.6,\n",
       " 31.4,\n",
       " 31.2,\n",
       " 31.1,\n",
       " 31.0,\n",
       " 30.9,\n",
       " 30.6,\n",
       " 30.6,\n",
       " 30.5,\n",
       " 30.6,\n",
       " 30.7,\n",
       " 30.9,\n",
       " 31.0,\n",
       " 31.2,\n",
       " 31.3,\n",
       " 31.6,\n",
       " 31.9,\n",
       " 32.2,\n",
       " 32.5,\n",
       " 32.8,\n",
       " 33.0,\n",
       " 33.2,\n",
       " 33.4,\n",
       " 33.6,\n",
       " 33.7,\n",
       " 33.9,\n",
       " 34.0,\n",
       " 34.1,\n",
       " 34.3,\n",
       " 34.3,\n",
       " 34.3,\n",
       " 34.3,\n",
       " 34.2,\n",
       " 34.2,\n",
       " 34.2,\n",
       " 34.1,\n",
       " 34.1,\n",
       " 34.0,\n",
       " 34.0,\n",
       " 33.9,\n",
       " 46.0,\n",
       " 46.1,\n",
       " 46.1,\n",
       " 46.1,\n",
       " 46.2,\n",
       " 46.2,\n",
       " 46.2,\n",
       " 46.3,\n",
       " 46.3,\n",
       " 46.4,\n",
       " 46.4,\n",
       " 46.4,\n",
       " 46.4,\n",
       " 46.4,\n",
       " 46.4,\n",
       " 46.5,\n",
       " 46.5,\n",
       " 46.6,\n",
       " 46.6,\n",
       " 46.6,\n",
       " 46.7,\n",
       " 46.8,\n",
       " 46.8,\n",
       " 46.9,\n",
       " 47.0,\n",
       " 47.0,\n",
       " 47.1,\n",
       " 47.1,\n",
       " 47.2,\n",
       " 47.3,\n",
       " 47.3,\n",
       " 47.4,\n",
       " 24.7,\n",
       " 24.5,\n",
       " 24.4,\n",
       " 24.3,\n",
       " 24.3,\n",
       " 24.3,\n",
       " 24.2,\n",
       " 24.2,\n",
       " 24.1,\n",
       " 24.1,\n",
       " 24.1,\n",
       " 24.1,\n",
       " 24.1,\n",
       " 24.0,\n",
       " 23.9,\n",
       " 23.8,\n",
       " 23.7,\n",
       " 23.7,\n",
       " 23.8,\n",
       " 23.8,\n",
       " 23.8,\n",
       " 23.8,\n",
       " 23.8,\n",
       " 23.8,\n",
       " 23.8,\n",
       " 23.8,\n",
       " 23.7,\n",
       " 23.6,\n",
       " 23.6,\n",
       " 22.5,\n",
       " 22.8,\n",
       " 23.0,\n",
       " 23.2,\n",
       " 23.5,\n",
       " 23.3,\n",
       " 23.1,\n",
       " 23.1,\n",
       " 23.3,\n",
       " 23.4,\n",
       " 23.4,\n",
       " 23.4,\n",
       " 23.4,\n",
       " 23.4,\n",
       " 24.2,\n",
       " 25.0,\n",
       " 25.4,\n",
       " 25.3,\n",
       " 25.4,\n",
       " 26.0,\n",
       " 26.5,\n",
       " 26.8,\n",
       " 26.8,\n",
       " 26.7,\n",
       " 26.6,\n",
       " 26.6,\n",
       " 26.4,\n",
       " 26.2,\n",
       " 26.0,\n",
       " 25.9,\n",
       " 25.8,\n",
       " 25.8,\n",
       " 25.7,\n",
       " 25.7,\n",
       " 25.7,\n",
       " 25.7,\n",
       " 25.7,\n",
       " 25.7,\n",
       " 51.3,\n",
       " 51.2,\n",
       " 51.1,\n",
       " 50.9,\n",
       " 50.6,\n",
       " 50.2,\n",
       " 49.9,\n",
       " 49.7,\n",
       " 49.5,\n",
       " 49.3,\n",
       " 49.2,\n",
       " 49.1,\n",
       " 49.1,\n",
       " 49.0,\n",
       " 48.9,\n",
       " 48.9,\n",
       " 48.8,\n",
       " 42.4,\n",
       " 42.4,\n",
       " 43.0,\n",
       " 43.5,\n",
       " 44.0,\n",
       " 44.3,\n",
       " 44.5,\n",
       " 44.6,\n",
       " 44.6,\n",
       " 44.6,\n",
       " 44.8,\n",
       " 45.0,\n",
       " 45.2,\n",
       " 45.3,\n",
       " 41.6,\n",
       " 41.4,\n",
       " 41.3,\n",
       " 41.0,\n",
       " 40.8,\n",
       " 40.7,\n",
       " 40.6,\n",
       " 40.6,\n",
       " 40.5,\n",
       " 40.4,\n",
       " 47.9,\n",
       " 48.2,\n",
       " 48.5,\n",
       " 49.1,\n",
       " 49.7,\n",
       " 50.3,\n",
       " 50.9,\n",
       " 51.5,\n",
       " 52.1,\n",
       " 52.7,\n",
       " 53.2,\n",
       " 53.1,\n",
       " 52.9,\n",
       " 52.3,\n",
       " 51.7,\n",
       " 51.2,\n",
       " 50.4,\n",
       " 49.3,\n",
       " 48.0,\n",
       " 46.9,\n",
       " 46.0,\n",
       " 45.1,\n",
       " 44.6,\n",
       " 44.4,\n",
       " 44.2,\n",
       " 43.9,\n",
       " 43.8,\n",
       " 39.2,\n",
       " 39.4,\n",
       " 39.6,\n",
       " 39.8,\n",
       " 40.0,\n",
       " 40.0,\n",
       " 40.1,\n",
       " 40.0,\n",
       " 40.0,\n",
       " 39.9,\n",
       " 39.9,\n",
       " 39.8,\n",
       " 39.8,\n",
       " 39.8,\n",
       " 39.7,\n",
       " 58.0,\n",
       " 58.1,\n",
       " 58.2,\n",
       " 58.3,\n",
       " 58.3,\n",
       " 58.5,\n",
       " 58.5,\n",
       " 58.7,\n",
       " 58.8,\n",
       " 58.7,\n",
       " 58.9,\n",
       " 59.0,\n",
       " 59.2,\n",
       " 59.3,\n",
       " 59.5,\n",
       " 59.6,\n",
       " 59.7,\n",
       " 59.9,\n",
       " 59.7,\n",
       " 59.6,\n",
       " 59.6,\n",
       " 59.7,\n",
       " 59.8,\n",
       " 59.9,\n",
       " 60.1,\n",
       " 60.2,\n",
       " 50.2,\n",
       " 50.3,\n",
       " 50.4,\n",
       " 50.5,\n",
       " 50.5,\n",
       " 50.7,\n",
       " 50.8,\n",
       " 50.9,\n",
       " 51.0,\n",
       " 51.1,\n",
       " 51.2,\n",
       " 51.1,\n",
       " 51.1,\n",
       " 51.2,\n",
       " 51.2,\n",
       " 51.5,\n",
       " 51.8,\n",
       " 51.9,\n",
       " 51.9,\n",
       " 51.8,\n",
       " 51.6,\n",
       " 51.5,\n",
       " 51.5,\n",
       " 51.6,\n",
       " 51.5,\n",
       " 51.4,\n",
       " 51.9,\n",
       " 52.7,\n",
       " 53.3,\n",
       " 53.7,\n",
       " 53.2,\n",
       " 52.8,\n",
       " 52.3,\n",
       " 52.4,\n",
       " 52.5,\n",
       " 52.5,\n",
       " 52.6,\n",
       " 52.6,\n",
       " 52.4,\n",
       " 52.2,\n",
       " 52.0,\n",
       " 51.7,\n",
       " 51.2,\n",
       " 50.5,\n",
       " 49.6,\n",
       " 49.2,\n",
       " 48.8,\n",
       " 47.9,\n",
       " 47.2,\n",
       " 46.6,\n",
       " 46.2,\n",
       " 45.9,\n",
       " 45.5,\n",
       " 44.9,\n",
       " 44.8,\n",
       " 44.7,\n",
       " 52.3,\n",
       " 29.7,\n",
       " 29.8,\n",
       " 30.1,\n",
       " 30.5,\n",
       " 30.9,\n",
       " 31.3,\n",
       " 31.6,\n",
       " 31.9,\n",
       " 31.9,\n",
       " 31.9,\n",
       " 31.8,\n",
       " 31.9,\n",
       " 32.1,\n",
       " 32.3,\n",
       " 32.4,\n",
       " 32.5,\n",
       " 32.6,\n",
       " 32.6,\n",
       " 32.7,\n",
       " 32.8,\n",
       " 32.9,\n",
       " 33.1,\n",
       " 33.3,\n",
       " 33.6,\n",
       " 33.8,\n",
       " 34.1,\n",
       " 34.3,\n",
       " 34.4,\n",
       " 46.1,\n",
       " 46.0,\n",
       " 46.0,\n",
       " 46.0,\n",
       " 46.0,\n",
       " 45.6,\n",
       " 45.2,\n",
       " 44.8,\n",
       " 44.4,\n",
       " 44.0,\n",
       " 43.5,\n",
       " 43.0,\n",
       " 42.5,\n",
       " 42.0,\n",
       " 41.5,\n",
       " 41.0,\n",
       " 40.6,\n",
       " 40.2,\n",
       " 39.8,\n",
       " 39.5,\n",
       " 39.1,\n",
       " 38.0,\n",
       " 38.2,\n",
       " 38.4,\n",
       " 38.6,\n",
       " 38.7,\n",
       " 38.9,\n",
       " 39.0,\n",
       " 38.8,\n",
       " 38.6,\n",
       " 38.4,\n",
       " 38.2,\n",
       " 38.0,\n",
       " 37.8,\n",
       " 37.5,\n",
       " 37.3,\n",
       " 37.3,\n",
       " 37.4,\n",
       " 37.4,\n",
       " 37.4,\n",
       " 37.5,\n",
       " 37.6,\n",
       " 37.6,\n",
       " 36.9,\n",
       " 36.8,\n",
       " 36.6,\n",
       " 36.5,\n",
       " 36.4,\n",
       " 36.3,\n",
       " 36.2,\n",
       " 36.1,\n",
       " 36.0,\n",
       " 35.8,\n",
       " 35.8,\n",
       " 35.6,\n",
       " 35.5,\n",
       " 35.2,\n",
       " 35.0,\n",
       " 34.8,\n",
       " 42.6,\n",
       " 42.6,\n",
       " 42.7,\n",
       " 42.7,\n",
       " 42.7,\n",
       " 42.7,\n",
       " 42.8,\n",
       " 42.8,\n",
       " 42.9,\n",
       " 42.9,\n",
       " 43.0,\n",
       " 43.0,\n",
       " 43.1,\n",
       " 43.1,\n",
       " 43.2,\n",
       " 43.3,\n",
       " 43.4,\n",
       " 43.5,\n",
       " 43.6,\n",
       " 32.3,\n",
       " 31.1,\n",
       " 30.3,\n",
       " 29.7,\n",
       " 29.3,\n",
       " 28.4,\n",
       " 27.5,\n",
       " 27.6,\n",
       " 27.3,\n",
       " 27.5,\n",
       " 28.4,\n",
       " 28.1,\n",
       " 28.6,\n",
       " 28.5,\n",
       " 28.3,\n",
       " 28.3,\n",
       " 28.3,\n",
       " 27.9,\n",
       " 27.8,\n",
       " 28.4,\n",
       " 28.5,\n",
       " 29.2,\n",
       " 29.1,\n",
       " 28.7,\n",
       " 29.4,\n",
       " 30.0,\n",
       " 29.6,\n",
       " 30.7,\n",
       " 30.9,\n",
       " 31.2,\n",
       " 31.2,\n",
       " 31.2,\n",
       " 31.1,\n",
       " 31.5,\n",
       " 31.1,\n",
       " 31.0,\n",
       " 31.3,\n",
       " 31.1,\n",
       " 31.2,\n",
       " 31.3,\n",
       " 31.0,\n",
       " 31.1,\n",
       " 31.6,\n",
       " 30.9,\n",
       " 30.9,\n",
       " 30.6,\n",
       " 49.8,\n",
       " 49.9,\n",
       " 50.0,\n",
       " 49.9,\n",
       " 49.7,\n",
       " 49.4,\n",
       " 49.2,\n",
       " 48.9,\n",
       " 48.7,\n",
       " 48.6,\n",
       " 48.5,\n",
       " 48.5,\n",
       " 48.4,\n",
       " 48.4,\n",
       " 48.3,\n",
       " 48.3,\n",
       " 48.2,\n",
       " 52.4,\n",
       " 52.3,\n",
       " 52.2,\n",
       " 52.0,\n",
       " 51.9,\n",
       " 51.8,\n",
       " 51.6,\n",
       " 51.5,\n",
       " 51.3,\n",
       " 51.1,\n",
       " 51.0,\n",
       " 50.8,\n",
       " 50.9,\n",
       " 51.0,\n",
       " 51.3,\n",
       " 51.6,\n",
       " 51.9,\n",
       " 40.7,\n",
       " 40.8,\n",
       " 40.9,\n",
       " 41.0,\n",
       " 41.2,\n",
       " 41.3,\n",
       " 41.5,\n",
       " 41.6,\n",
       " 41.8,\n",
       " 44.6,\n",
       " 44.8,\n",
       " 45.0,\n",
       " 45.2,\n",
       " 45.3,\n",
       " 45.6,\n",
       " 45.8,\n",
       " 46.0,\n",
       " 46.2,\n",
       " 46.4,\n",
       " 46.6,\n",
       " 46.8,\n",
       " 47.1,\n",
       " 47.3,\n",
       " 47.6,\n",
       " 47.8,\n",
       " 48.1,\n",
       " 48.3,\n",
       " 48.6,\n",
       " 48.8,\n",
       " 48.6,\n",
       " 48.4,\n",
       " 48.1,\n",
       " 47.7,\n",
       " 47.5,\n",
       " 47.9,\n",
       " 48.2,\n",
       " 48.2,\n",
       " 48.2,\n",
       " 48.4,\n",
       " 48.5,\n",
       " 48.6,\n",
       " 48.6,\n",
       " 48.3,\n",
       " 48.1,\n",
       " 47.8,\n",
       " 47.2,\n",
       " 46.6,\n",
       " 46.1,\n",
       " 46.0,\n",
       " 45.8,\n",
       " 45.7,\n",
       " 45.4,\n",
       " 45.0,\n",
       " 44.8,\n",
       " 44.5,\n",
       " 44.7,\n",
       " 44.9,\n",
       " 29.6,\n",
       " 29.5,\n",
       " 29.5,\n",
       " 29.4,\n",
       " 29.2,\n",
       " 29.2,\n",
       " 29.3,\n",
       " 29.6,\n",
       " 30.2,\n",
       " 30.8,\n",
       " 31.6,\n",
       " 32.3,\n",
       " 33.0,\n",
       " 33.6,\n",
       " 34.4,\n",
       " 35.2,\n",
       " 35.8,\n",
       " 36.4,\n",
       " 36.6,\n",
       " 37.1,\n",
       " 37.7,\n",
       " 38.4,\n",
       " 39.3,\n",
       " 40.2,\n",
       " 41.2,\n",
       " 41.5,\n",
       " 41.7,\n",
       " 41.9,\n",
       " 42.1,\n",
       " 42.3,\n",
       " 42.4,\n",
       " 42.2,\n",
       " 42.0,\n",
       " 41.8,\n",
       " 41.0,\n",
       " 40.2,\n",
       " 40.2,\n",
       " 40.2,\n",
       " 50.4,\n",
       " 50.4,\n",
       " 50.4,\n",
       " 50.5,\n",
       " 50.6,\n",
       " 50.7,\n",
       " 50.8,\n",
       " 50.9,\n",
       " 51.0,\n",
       " 51.0,\n",
       " 51.0,\n",
       " 50.9,\n",
       " 51.0,\n",
       " 51.0,\n",
       " 51.0,\n",
       " 51.0,\n",
       " 51.0,\n",
       " 51.0,\n",
       " 51.0,\n",
       " 51.0,\n",
       " 51.0,\n",
       " 51.1,\n",
       " 51.1,\n",
       " 51.5,\n",
       " 51.9,\n",
       " 52.2,\n",
       " 52.5,\n",
       " 52.7,\n",
       " 52.8,\n",
       " 52.9,\n",
       " 53.0,\n",
       " 52.9,\n",
       " 52.9,\n",
       " 51.4,\n",
       " 51.6,\n",
       " 51.3,\n",
       " 51.7,\n",
       " 51.9,\n",
       " 51.2,\n",
       " 50.7,\n",
       " 49.7,\n",
       " 49.5,\n",
       " 49.0,\n",
       " 49.0,\n",
       " 48.4,\n",
       " 47.0,\n",
       " 47.0,\n",
       " 46.9,\n",
       " 55.1,\n",
       " 55.0,\n",
       " 54.8,\n",
       " 54.6,\n",
       " 54.4,\n",
       " 54.1,\n",
       " 53.9,\n",
       " 53.7,\n",
       " 53.4,\n",
       " 53.2,\n",
       " 46.4,\n",
       " 46.5,\n",
       " 46.6,\n",
       " 46.8,\n",
       " 47.0,\n",
       " 47.1,\n",
       " 47.2,\n",
       " 42.2,\n",
       " 42.3,\n",
       " 42.2,\n",
       " 42.2,\n",
       " 42.2,\n",
       " 42.2,\n",
       " 42.3,\n",
       " 42.3,\n",
       " 42.3,\n",
       " 42.8,\n",
       " 42.7,\n",
       " 42.7,\n",
       " 42.6,\n",
       " 42.6,\n",
       " 42.5,\n",
       " 42.5,\n",
       " 42.4,\n",
       " 42.4,\n",
       " 42.3,\n",
       " 42.3,\n",
       " 42.2,\n",
       " 42.2,\n",
       " 42.1,\n",
       " 42.0,\n",
       " 42.0,\n",
       " 41.9,\n",
       " 41.8,\n",
       " 41.8,\n",
       " 41.7,\n",
       " 41.7,\n",
       " 41.4,\n",
       " 41.2,\n",
       " 40.9,\n",
       " 40.7,\n",
       " 40.5,\n",
       " 40.5,\n",
       " 40.6,\n",
       " 40.8,\n",
       " 41.0,\n",
       " 41.2,\n",
       " 41.4,\n",
       " 41.6,\n",
       " 41.8,\n",
       " 41.9,\n",
       " 42.2,\n",
       " 42.4,\n",
       " 42.8,\n",
       " 43.3,\n",
       " 43.9,\n",
       " 44.5,\n",
       " 44.7,\n",
       " 44.7,\n",
       " 44.7,\n",
       " 44.7,\n",
       " 44.8,\n",
       " 45.0,\n",
       " 45.1,\n",
       " 45.4,\n",
       " 45.5,\n",
       " 45.6,\n",
       " 45.7,\n",
       " 45.8,\n",
       " 45.8,\n",
       " 45.8,\n",
       " 46.0,\n",
       " 46.1,\n",
       " 40.7,\n",
       " 40.5,\n",
       " 40.4,\n",
       " 40.3,\n",
       " ...]"
      ]
     },
     "execution_count": 26,
     "metadata": {},
     "output_type": "execute_result"
    }
   ],
   "source": [
    "gini = swiid[\"gini_disp\"].tolist()\n",
    "gini"
   ]
  },
  {
   "cell_type": "markdown",
   "id": "1af9c0f2",
   "metadata": {},
   "source": [
    "Diesmal nehmen wir wieder den ersten Datenpunkt aus der Sammlung heraus."
   ]
  },
  {
   "cell_type": "code",
   "execution_count": 27,
   "id": "833864ac",
   "metadata": {},
   "outputs": [
    {
     "data": {
      "text/plain": [
       "30.4"
      ]
     },
     "execution_count": 27,
     "metadata": {},
     "output_type": "execute_result"
    }
   ],
   "source": [
    "first_gini = gini[0]\n",
    "first_gini"
   ]
  },
  {
   "cell_type": "markdown",
   "id": "231ed1f1",
   "metadata": {},
   "source": [
    "Mit floats kann man grundsätzlich dieselben Dinge anstellen wie mit ints. **Allerdings gilt es, folgendes zu beachten:**"
   ]
  },
  {
   "cell_type": "code",
   "execution_count": 28,
   "id": "c43a92cc",
   "metadata": {},
   "outputs": [
    {
     "data": {
      "text/plain": [
       "30.299999999999997"
      ]
     },
     "execution_count": 28,
     "metadata": {},
     "output_type": "execute_result"
    }
   ],
   "source": [
    "first_gini_minus_a_tenth = first_gini - 0.1\n",
    "first_gini_minus_a_tenth"
   ]
  },
  {
   "cell_type": "markdown",
   "id": "c7289e65",
   "metadata": {},
   "source": [
    "Dass Rechnungen mit floats mitunter nicht genau werden, liegt daran, dass nicht jede Kommazahl exakt in Binärschreibweise (\"2er-System\") dargestellt werden kann. Man sollte daher vor allem wenn man mit sehr kleinen Zahlen arbeitet oder es auf exakte Genauigkeit ankommt floats besser vermeiden oder runden. "
   ]
  },
  {
   "cell_type": "code",
   "execution_count": 30,
   "id": "972bfd53",
   "metadata": {},
   "outputs": [
    {
     "name": "stdout",
     "output_type": "stream",
     "text": [
      "30.3\n",
      "30\n"
     ]
    }
   ],
   "source": [
    "print(   round(first_gini_minus_a_tenth, 2)   )\n",
    "\n",
    "first_gini = int(30.9) # konvertiert zu int immmer Richtung -unendlich\n",
    "print(first_gini) "
   ]
  },
  {
   "cell_type": "markdown",
   "id": "78d7dd77",
   "metadata": {},
   "source": [
    "Den letzten Datentyp, den wir uns ansehen wollen, haben wir weiter oben bei den logischen Operatoren schon kennengelernt. Bei **Booleans** handelt es sich um Wahrheitsausdrücke. Dabei können ausdrücke entweder **True (1)** oder **False (0)** sein"
   ]
  },
  {
   "cell_type": "code",
   "execution_count": 31,
   "id": "86e41efc",
   "metadata": {},
   "outputs": [
    {
     "name": "stdout",
     "output_type": "stream",
     "text": [
      "False\n",
      "True\n"
     ]
    }
   ],
   "source": [
    "print(first_gini == 30.4)\n",
    "print(first_gini == 30)"
   ]
  },
  {
   "cell_type": "markdown",
   "id": "2d06cd83",
   "metadata": {},
   "source": [
    "#### Teil 4: Datencontainer\n",
    "\n",
    "Im vorherigen Teil haben wir es schon immer wieder angerissen - natürlich werden die meisten Daten nicht als einzelne Datenpunkte oder Variablen, sondern als **Sammlungen von Datenpunkten** gespeichert. An dieser Stelle sei bemerkt, dass die Unterscheidung von Datentypen und Datencontainern, die hier gemacht wird, konzeptionell nicht ganz korrekt ist - zum Verständnis ist sie aber allemal hilfreich.\n",
    "Alles, was mehr als einen Datenpunkt enthält, soll in diesem Kurs als Datencontainer bezeichnet werden. Wir werden uns im Folgenden mit den Standard-Datencontainern in Python beschäftigen."
   ]
  },
  {
   "cell_type": "markdown",
   "id": "a0a91e42",
   "metadata": {},
   "source": [
    "Zuerst sind da Listen, die in Python ziemlich beliebt und somit auch ziemlich wichtig sind. Da wir weiter oben schon Listen benutzt haben, wollen wir die Demonstration der Besonderheiten von Listen an einer dieser durchführen. Zur Erinnerung lassen wir uns erneut die Liste gini ausgeben, die die verschiedenen gini-Koeffizienten gespeichert hat."
   ]
  },
  {
   "cell_type": "code",
   "execution_count": 34,
   "id": "93ae5dfd",
   "metadata": {},
   "outputs": [
    {
     "data": {
      "text/plain": [
       "['Torben', 'Mats', 2]"
      ]
     },
     "execution_count": 34,
     "metadata": {},
     "output_type": "execute_result"
    }
   ],
   "source": [
    "namen = [\"Torben\", \"Mats\", 2]\n",
    "namen\n"
   ]
  },
  {
   "cell_type": "markdown",
   "id": "2cbe4376",
   "metadata": {},
   "source": [
    "Vergleicht man den Output hier mit dem Output derselben Variable weiter oben, fällt auf, dass dieser exakt identisch ist. Dies zeigt eine der wichtigsten Eigenschaften von Listen auf: sie sind **geordnet/indiziert** (= jede Position hat eine Rangnummer). Außerdem sind sie **veränderlich**, **erlauben Duplikate** und **können verschiedene Datentypen** enthalten.\n",
    "Wir wollen uns zuerst zwei der wichtigsten Listen-Operationen anschauen: Das **Zuschneiden** von Listen sowie das **Hinzufügen eines Elements**. "
   ]
  },
  {
   "cell_type": "code",
   "execution_count": 35,
   "id": "b63b4dd1",
   "metadata": {},
   "outputs": [
    {
     "name": "stdout",
     "output_type": "stream",
     "text": [
      "[48.7, 48.7, 48.6, 48.6, 48.3, 47.9, 47.7, 47.6, 35.9]\n",
      "[48.7, 48.6, 48.3, 47.7, 35.9]\n",
      "[48.7, 48.6, 48.3, 47.7, 35.9, 'Ungleichheit']\n"
     ]
    }
   ],
   "source": [
    "# Hier sollen die Datenpunkte 50 - 58 herausgegeben werden (0-based!). \n",
    "# Dazu nutzt man den Slice-Operator [vordere Grenze: hintere Grenze:Schritte]. \n",
    "# Die hintere Grenze wird NICHT mit aufgenommen!\n",
    "\n",
    "gini_50_58 = gini[49:58]\n",
    "print(gini_50_58)\n",
    "\n",
    "# Mit dem Hinzufügen einer dritten Zahl lässt sich nur jeder zweite/dritte etc. Datenpunkt auswählen (Größe der Schritte)\n",
    "gini_50_58 = gini[49:58:2]\n",
    "print(gini_50_58)\n",
    "\n",
    "# Hinzufügen eines weiteren Datenpunktes mit .append()\n",
    "gini_50_58.append(\"Ungleichheit\") # andere Datentyp\n",
    "print(gini_50_58)"
   ]
  },
  {
   "cell_type": "markdown",
   "id": "8c23d8d4",
   "metadata": {},
   "source": [
    "Auch dies hier war wieder nur ein kleiner Ausschnitt dessen, was man mit Listen machen kann. Weitere Listen-Methoden und ihre Funktionsweise findet ihr hier: https://www.w3schools.com/python/python_lists_methods.asp "
   ]
  },
  {
   "cell_type": "markdown",
   "id": "0ca477aa",
   "metadata": {},
   "source": [
    "Ein weiterer Datentyp sind die **Tuples**. Diese sehen auf den ersten Blick aus wie Listen, nur mit normalen statt mit eckigen Klammern. Wir nehmen wieder die gini-Liste und konvertieren sie zu einem Tuple, um die Unterschiede zu zeigen."
   ]
  },
  {
   "cell_type": "code",
   "execution_count": 37,
   "id": "50c7822c",
   "metadata": {},
   "outputs": [
    {
     "data": {
      "text/plain": [
       "(48.7, 48.7, 48.6, 48.6, 48.3, 47.9, 47.7, 47.6, 35.9)"
      ]
     },
     "execution_count": 37,
     "metadata": {},
     "output_type": "execute_result"
    }
   ],
   "source": [
    "tup_gini = tuple(gini)\n",
    "tup_gini"
   ]
  },
  {
   "cell_type": "markdown",
   "id": "deff1249",
   "metadata": {},
   "source": [
    "Wie gesagt, auf den ersten Blick hat sich nicht wahnsinnig viel verändert - daher probieren wir nun, dieselben Operationen wie zuvor (Slicing und Appending) anzuwenden."
   ]
  },
  {
   "cell_type": "code",
   "execution_count": 39,
   "id": "7c69cb8d",
   "metadata": {},
   "outputs": [
    {
     "name": "stdout",
     "output_type": "stream",
     "text": [
      "(48.7, 48.7, 48.6, 48.6)\n"
     ]
    }
   ],
   "source": [
    "tup_gini_50_58 = tup_gini[0:4]\n",
    "print(tup_gini_50_58)"
   ]
  },
  {
   "cell_type": "code",
   "execution_count": 40,
   "id": "72d70d2a",
   "metadata": {},
   "outputs": [
    {
     "ename": "AttributeError",
     "evalue": "'tuple' object has no attribute 'append'",
     "output_type": "error",
     "traceback": [
      "\u001b[1;31m---------------------------------------------------------------------------\u001b[0m",
      "\u001b[1;31mAttributeError\u001b[0m                            Traceback (most recent call last)",
      "Input \u001b[1;32mIn [40]\u001b[0m, in \u001b[0;36m<cell line: 1>\u001b[1;34m()\u001b[0m\n\u001b[1;32m----> 1\u001b[0m \u001b[43mtup_gini\u001b[49m\u001b[38;5;241;43m.\u001b[39;49m\u001b[43mappend\u001b[49m(\u001b[38;5;124m\"\u001b[39m\u001b[38;5;124mUngleichheit\u001b[39m\u001b[38;5;124m\"\u001b[39m)\n\u001b[0;32m      2\u001b[0m \u001b[38;5;28mprint\u001b[39m(tup_gini)\n",
      "\u001b[1;31mAttributeError\u001b[0m: 'tuple' object has no attribute 'append'"
     ]
    }
   ],
   "source": [
    "tup_gini.append(\"Ungleichheit\")\n",
    "print(tup_gini)"
   ]
  },
  {
   "cell_type": "markdown",
   "id": "b32afff8",
   "metadata": {},
   "source": [
    "Zwar sind auch Tuples **geordnet/indiziert**, können also \"geschnitten\" werden, aber im Gegensatz zu Listen sind sie **unveränderlich** - daher können auch keine neuen Elemente mehr hinzugefügt werden. Folglich kann man mit Tuples deutlich weniger machen. Die einzigen beiden built-in methods (von Python vorgefertigten Methoden) sind index() und count() (für mehr Infos, siehe hier: https://www.w3schools.com/python/python_tuples_methods.asp). Dafür verbrauchen tuples aber weniger Speicherplatz, was gerade für Big Data-Anwendungen von Vorteil sein kann. Auch die Unveränderlichkeit kann durchaus gewünscht sein. Auch Tuples **akzeptieren Duplikate und verschiedene Datentypen**."
   ]
  },
  {
   "cell_type": "markdown",
   "id": "b4cc262a",
   "metadata": {},
   "source": [
    "Der dritte Typus ist das **Set**. Dieses wird deutlich seltener verwendet, daher wollen wir es nur kurz einführen. Der wesentliche Unterschied zu Tuples und Lists ist, dass ein Set **ungeordnet** ist und somit auch **nicht indiziert** werden kann. Es erlaubt **keine Duplikate**, aber **verschiedene Datentypen**. Das Eliminieren von Duplikaten wollen wir hier kurz anhand der Ländernamen demonstrieren:"
   ]
  },
  {
   "cell_type": "code",
   "execution_count": 41,
   "id": "018aa9fa",
   "metadata": {},
   "outputs": [
    {
     "name": "stdout",
     "output_type": "stream",
     "text": [
      "['Afghanistan', 'Afghanistan', 'Afghanistan', 'Afghanistan', 'Afghanistan', 'Afghanistan', 'Albania', 'Albania', 'Albania', 'Albania', 'Albania', 'Albania', 'Albania', 'Albania', 'Albania', 'Albania', 'Albania', 'Albania', 'Albania', 'Albania', 'Albania', 'Albania', 'Albania', 'Algeria', 'Algeria', 'Algeria', 'Algeria', 'Algeria', 'Algeria', 'Algeria', 'Algeria', 'Algeria', 'Algeria', 'Algeria', 'Algeria', 'Algeria', 'Algeria', 'Algeria', 'Algeria', 'Algeria', 'Algeria', 'Algeria', 'Algeria', 'Algeria', 'Algeria', 'Algeria', 'Algeria', 'Angola', 'Angola', 'Angola', 'Angola', 'Angola', 'Angola', 'Angola', 'Angola', 'Angola', 'Angola', 'Anguilla', 'Anguilla', 'Anguilla', 'Anguilla', 'Anguilla', 'Anguilla', 'Anguilla', 'Anguilla', 'Antigua and Barbuda', 'Argentina', 'Argentina', 'Argentina', 'Argentina', 'Argentina', 'Argentina', 'Argentina', 'Argentina', 'Argentina', 'Argentina', 'Argentina', 'Argentina', 'Argentina', 'Argentina', 'Argentina', 'Argentina', 'Argentina', 'Argentina', 'Argentina', 'Argentina', 'Argentina', 'Argentina', 'Argentina', 'Argentina', 'Argentina', 'Argentina', 'Argentina', 'Argentina', 'Argentina', 'Argentina', 'Argentina', 'Argentina', 'Argentina', 'Argentina', 'Argentina', 'Argentina', 'Argentina', 'Argentina', 'Argentina', 'Argentina', 'Argentina', 'Argentina', 'Argentina', 'Argentina', 'Argentina', 'Argentina', 'Argentina', 'Argentina', 'Argentina', 'Argentina', 'Argentina', 'Argentina', 'Argentina', 'Argentina', 'Argentina', 'Armenia', 'Armenia', 'Armenia', 'Armenia', 'Armenia', 'Armenia', 'Armenia', 'Armenia', 'Armenia', 'Armenia', 'Armenia', 'Armenia', 'Armenia', 'Armenia', 'Armenia', 'Armenia', 'Armenia', 'Armenia', 'Armenia', 'Armenia', 'Armenia', 'Armenia', 'Armenia', 'Armenia', 'Armenia', 'Armenia', 'Armenia', 'Armenia', 'Armenia', 'Australia', 'Australia', 'Australia', 'Australia', 'Australia', 'Australia', 'Australia', 'Australia', 'Australia', 'Australia', 'Australia', 'Australia', 'Australia', 'Australia', 'Australia', 'Australia', 'Australia', 'Australia', 'Australia', 'Australia', 'Australia', 'Australia', 'Australia', 'Australia', 'Australia', 'Australia', 'Australia', 'Australia', 'Australia', 'Australia', 'Australia', 'Australia', 'Australia', 'Australia', 'Australia', 'Australia', 'Australia', 'Australia', 'Australia', 'Australia', 'Australia', 'Australia', 'Australia', 'Australia', 'Australia', 'Australia', 'Australia', 'Australia', 'Austria', 'Austria', 'Austria', 'Austria', 'Austria', 'Austria', 'Austria', 'Austria', 'Austria', 'Austria', 'Austria', 'Austria', 'Austria', 'Austria', 'Austria', 'Austria', 'Austria', 'Austria', 'Austria', 'Austria', 'Austria', 'Austria', 'Austria', 'Austria', 'Austria', 'Austria', 'Austria', 'Austria', 'Austria', 'Austria', 'Austria', 'Austria', 'Austria', 'Austria', 'Azerbaijan', 'Azerbaijan', 'Azerbaijan', 'Azerbaijan', 'Azerbaijan', 'Azerbaijan', 'Azerbaijan', 'Azerbaijan', 'Azerbaijan', 'Azerbaijan', 'Azerbaijan', 'Azerbaijan', 'Azerbaijan', 'Azerbaijan', 'Azerbaijan', 'Azerbaijan', 'Azerbaijan', 'Azerbaijan', 'Azerbaijan', 'Azerbaijan', 'Azerbaijan', 'Bahamas', 'Bahamas', 'Bahamas', 'Bahamas', 'Bahamas', 'Bahamas', 'Bahamas', 'Bahamas', 'Bahamas', 'Bahamas', 'Bahamas', 'Bahamas', 'Bahamas', 'Bangladesh', 'Bangladesh', 'Bangladesh', 'Bangladesh', 'Bangladesh', 'Bangladesh', 'Bangladesh', 'Bangladesh', 'Bangladesh', 'Bangladesh', 'Bangladesh', 'Bangladesh', 'Bangladesh', 'Bangladesh', 'Bangladesh', 'Bangladesh', 'Bangladesh', 'Bangladesh', 'Bangladesh', 'Bangladesh', 'Bangladesh', 'Bangladesh', 'Bangladesh', 'Bangladesh', 'Bangladesh', 'Bangladesh', 'Bangladesh', 'Bangladesh', 'Bangladesh', 'Bangladesh', 'Bangladesh', 'Bangladesh', 'Bangladesh', 'Bangladesh', 'Bangladesh', 'Bangladesh', 'Bangladesh', 'Bangladesh', 'Bangladesh', 'Bangladesh', 'Bangladesh', 'Bangladesh', 'Bangladesh', 'Bangladesh', 'Bangladesh', 'Bangladesh', 'Bangladesh', 'Bangladesh', 'Bangladesh', 'Bangladesh', 'Bangladesh', 'Bangladesh', 'Bangladesh', 'Barbados', 'Barbados', 'Barbados', 'Barbados', 'Barbados', 'Barbados', 'Barbados', 'Barbados', 'Barbados', 'Barbados', 'Barbados', 'Barbados', 'Barbados', 'Barbados', 'Barbados', 'Barbados', 'Barbados', 'Barbados', 'Barbados', 'Barbados', 'Barbados', 'Barbados', 'Barbados', 'Barbados', 'Barbados', 'Barbados', 'Barbados', 'Barbados', 'Barbados', 'Barbados', 'Barbados', 'Barbados', 'Belarus', 'Belarus', 'Belarus', 'Belarus', 'Belarus', 'Belarus', 'Belarus', 'Belarus', 'Belarus', 'Belarus', 'Belarus', 'Belarus', 'Belarus', 'Belarus', 'Belarus', 'Belarus', 'Belarus', 'Belarus', 'Belarus', 'Belarus', 'Belarus', 'Belarus', 'Belarus', 'Belarus', 'Belarus', 'Belarus', 'Belarus', 'Belarus', 'Belarus', 'Belgium', 'Belgium', 'Belgium', 'Belgium', 'Belgium', 'Belgium', 'Belgium', 'Belgium', 'Belgium', 'Belgium', 'Belgium', 'Belgium', 'Belgium', 'Belgium', 'Belgium', 'Belgium', 'Belgium', 'Belgium', 'Belgium', 'Belgium', 'Belgium', 'Belgium', 'Belgium', 'Belgium', 'Belgium', 'Belgium', 'Belgium', 'Belgium', 'Belgium', 'Belgium', 'Belgium', 'Belgium', 'Belgium', 'Belgium', 'Belgium', 'Belgium', 'Belgium', 'Belgium', 'Belize', 'Belize', 'Belize', 'Belize', 'Belize', 'Belize', 'Belize', 'Belize', 'Belize', 'Belize', 'Belize', 'Belize', 'Belize', 'Belize', 'Belize', 'Belize', 'Belize', 'Benin', 'Benin', 'Benin', 'Benin', 'Benin', 'Benin', 'Benin', 'Benin', 'Benin', 'Benin', 'Benin', 'Benin', 'Benin', 'Benin', 'Bhutan', 'Bhutan', 'Bhutan', 'Bhutan', 'Bhutan', 'Bhutan', 'Bhutan', 'Bhutan', 'Bhutan', 'Bhutan', 'Bolivia', 'Bolivia', 'Bolivia', 'Bolivia', 'Bolivia', 'Bolivia', 'Bolivia', 'Bolivia', 'Bolivia', 'Bolivia', 'Bolivia', 'Bolivia', 'Bolivia', 'Bolivia', 'Bolivia', 'Bolivia', 'Bolivia', 'Bolivia', 'Bolivia', 'Bolivia', 'Bolivia', 'Bolivia', 'Bolivia', 'Bolivia', 'Bolivia', 'Bolivia', 'Bolivia', 'Bosnia and Herzegovina', 'Bosnia and Herzegovina', 'Bosnia and Herzegovina', 'Bosnia and Herzegovina', 'Bosnia and Herzegovina', 'Bosnia and Herzegovina', 'Bosnia and Herzegovina', 'Bosnia and Herzegovina', 'Bosnia and Herzegovina', 'Bosnia and Herzegovina', 'Bosnia and Herzegovina', 'Bosnia and Herzegovina', 'Bosnia and Herzegovina', 'Bosnia and Herzegovina', 'Bosnia and Herzegovina', 'Botswana', 'Botswana', 'Botswana', 'Botswana', 'Botswana', 'Botswana', 'Botswana', 'Botswana', 'Botswana', 'Botswana', 'Botswana', 'Botswana', 'Botswana', 'Botswana', 'Botswana', 'Botswana', 'Botswana', 'Botswana', 'Botswana', 'Botswana', 'Botswana', 'Botswana', 'Botswana', 'Botswana', 'Botswana', 'Botswana', 'Brazil', 'Brazil', 'Brazil', 'Brazil', 'Brazil', 'Brazil', 'Brazil', 'Brazil', 'Brazil', 'Brazil', 'Brazil', 'Brazil', 'Brazil', 'Brazil', 'Brazil', 'Brazil', 'Brazil', 'Brazil', 'Brazil', 'Brazil', 'Brazil', 'Brazil', 'Brazil', 'Brazil', 'Brazil', 'Brazil', 'Brazil', 'Brazil', 'Brazil', 'Brazil', 'Brazil', 'Brazil', 'Brazil', 'Brazil', 'Brazil', 'Brazil', 'Brazil', 'Brazil', 'Brazil', 'Brazil', 'Brazil', 'Brazil', 'Brazil', 'Brazil', 'Brazil', 'Brazil', 'Brazil', 'Brazil', 'Brazil', 'Brazil', 'Brazil', 'Brazil', 'Brazil', 'Brazil', 'Brazil', 'Brazil', 'Brunei', 'Bulgaria', 'Bulgaria', 'Bulgaria', 'Bulgaria', 'Bulgaria', 'Bulgaria', 'Bulgaria', 'Bulgaria', 'Bulgaria', 'Bulgaria', 'Bulgaria', 'Bulgaria', 'Bulgaria', 'Bulgaria', 'Bulgaria', 'Bulgaria', 'Bulgaria', 'Bulgaria', 'Bulgaria', 'Bulgaria', 'Bulgaria', 'Bulgaria', 'Bulgaria', 'Bulgaria', 'Bulgaria', 'Bulgaria', 'Bulgaria', 'Bulgaria', 'Burkina Faso', 'Burkina Faso', 'Burkina Faso', 'Burkina Faso', 'Burkina Faso', 'Burkina Faso', 'Burkina Faso', 'Burkina Faso', 'Burkina Faso', 'Burkina Faso', 'Burkina Faso', 'Burkina Faso', 'Burkina Faso', 'Burkina Faso', 'Burkina Faso', 'Burkina Faso', 'Burkina Faso', 'Burkina Faso', 'Burkina Faso', 'Burkina Faso', 'Burkina Faso', 'Burundi', 'Burundi', 'Burundi', 'Burundi', 'Burundi', 'Burundi', 'Burundi', 'Burundi', 'Burundi', 'Burundi', 'Burundi', 'Burundi', 'Burundi', 'Burundi', 'Burundi', 'Burundi', 'Burundi', 'Burundi', 'Burundi', 'Burundi', 'Burundi', 'Burundi', 'Cambodia', 'Cambodia', 'Cambodia', 'Cambodia', 'Cambodia', 'Cambodia', 'Cambodia', 'Cambodia', 'Cambodia', 'Cambodia', 'Cambodia', 'Cambodia', 'Cambodia', 'Cambodia', 'Cambodia', 'Cambodia', 'Cameroon', 'Cameroon', 'Cameroon', 'Cameroon', 'Cameroon', 'Cameroon', 'Cameroon', 'Cameroon', 'Cameroon', 'Cameroon', 'Cameroon', 'Cameroon', 'Cameroon', 'Cameroon', 'Cameroon', 'Cameroon', 'Cameroon', 'Cameroon', 'Cameroon', 'Canada', 'Canada', 'Canada', 'Canada', 'Canada', 'Canada', 'Canada', 'Canada', 'Canada', 'Canada', 'Canada', 'Canada', 'Canada', 'Canada', 'Canada', 'Canada', 'Canada', 'Canada', 'Canada', 'Canada', 'Canada', 'Canada', 'Canada', 'Canada', 'Canada', 'Canada', 'Canada', 'Canada', 'Canada', 'Canada', 'Canada', 'Canada', 'Canada', 'Canada', 'Canada', 'Canada', 'Canada', 'Canada', 'Canada', 'Canada', 'Canada', 'Canada', 'Canada', 'Canada', 'Canada', 'Canada', 'Cape Verde', 'Cape Verde', 'Cape Verde', 'Cape Verde', 'Cape Verde', 'Cape Verde', 'Cape Verde', 'Cape Verde', 'Cape Verde', 'Cape Verde', 'Cape Verde', 'Cape Verde', 'Cape Verde', 'Cape Verde', 'Cape Verde', 'Cape Verde', 'Cape Verde', 'Central African Republic', 'Central African Republic', 'Central African Republic', 'Central African Republic', 'Central African Republic', 'Central African Republic', 'Central African Republic', 'Central African Republic', 'Central African Republic', 'Central African Republic', 'Central African Republic', 'Central African Republic', 'Central African Republic', 'Central African Republic', 'Central African Republic', 'Central African Republic', 'Central African Republic', 'Chad', 'Chad', 'Chad', 'Chad', 'Chad', 'Chad', 'Chad', 'Chad', 'Chad', 'Chile', 'Chile', 'Chile', 'Chile', 'Chile', 'Chile', 'Chile', 'Chile', 'Chile', 'Chile', 'Chile', 'Chile', 'Chile', 'Chile', 'Chile', 'Chile', 'Chile', 'Chile', 'Chile', 'Chile', 'Chile', 'Chile', 'Chile', 'Chile', 'Chile', 'Chile', 'Chile', 'Chile', 'Chile', 'Chile', 'Chile', 'Chile', 'Chile', 'Chile', 'Chile', 'Chile', 'Chile', 'Chile', 'Chile', 'Chile', 'Chile', 'Chile', 'Chile', 'Chile', 'Chile', 'Chile', 'Chile', 'Chile', 'China', 'China', 'China', 'China', 'China', 'China', 'China', 'China', 'China', 'China', 'China', 'China', 'China', 'China', 'China', 'China', 'China', 'China', 'China', 'China', 'China', 'China', 'China', 'China', 'China', 'China', 'China', 'China', 'China', 'China', 'China', 'China', 'China', 'China', 'China', 'China', 'China', 'China', 'Colombia', 'Colombia', 'Colombia', 'Colombia', 'Colombia', 'Colombia', 'Colombia', 'Colombia', 'Colombia', 'Colombia', 'Colombia', 'Colombia', 'Colombia', 'Colombia', 'Colombia', 'Colombia', 'Colombia', 'Colombia', 'Colombia', 'Colombia', 'Colombia', 'Colombia', 'Colombia', 'Colombia', 'Colombia', 'Colombia', 'Colombia', 'Colombia', 'Colombia', 'Colombia', 'Colombia', 'Colombia', 'Colombia', 'Colombia', 'Colombia', 'Colombia', 'Colombia', 'Colombia', 'Colombia', 'Colombia', 'Colombia', 'Colombia', 'Colombia', 'Colombia', 'Colombia', 'Colombia', 'Colombia', 'Colombia', 'Comoros', 'Comoros', 'Comoros', 'Comoros', 'Comoros', 'Comoros', 'Comoros', 'Comoros', 'Comoros', 'Comoros', 'Congo-Brazzaville', 'Congo-Brazzaville', 'Congo-Brazzaville', 'Congo-Brazzaville', 'Congo-Brazzaville', 'Congo-Brazzaville', 'Congo-Brazzaville', 'Congo-Kinshasa', 'Congo-Kinshasa', 'Congo-Kinshasa', 'Congo-Kinshasa', 'Congo-Kinshasa', 'Congo-Kinshasa', 'Congo-Kinshasa', 'Congo-Kinshasa', 'Congo-Kinshasa', 'Costa Rica', 'Costa Rica', 'Costa Rica', 'Costa Rica', 'Costa Rica', 'Costa Rica', 'Costa Rica', 'Costa Rica', 'Costa Rica', 'Costa Rica', 'Costa Rica', 'Costa Rica', 'Costa Rica', 'Costa Rica', 'Costa Rica', 'Costa Rica', 'Costa Rica', 'Costa Rica', 'Costa Rica', 'Costa Rica', 'Costa Rica', 'Costa Rica', 'Costa Rica', 'Costa Rica', 'Costa Rica', 'Costa Rica', 'Costa Rica', 'Costa Rica', 'Costa Rica', 'Costa Rica', 'Costa Rica', 'Costa Rica', 'Costa Rica', 'Costa Rica', 'Costa Rica', 'Costa Rica', 'Costa Rica', 'Costa Rica', 'Costa Rica', 'Costa Rica', 'Costa Rica', 'Costa Rica', 'Costa Rica', 'Costa Rica', 'Costa Rica', 'Costa Rica', 'Costa Rica', 'Costa Rica', 'Costa Rica', 'Costa Rica', 'Costa Rica', 'Costa Rica', 'Costa Rica', 'Costa Rica', 'Costa Rica', 'Costa Rica', 'Costa Rica', \"Côte d'Ivoire\", \"Côte d'Ivoire\", \"Côte d'Ivoire\", \"Côte d'Ivoire\", \"Côte d'Ivoire\", \"Côte d'Ivoire\", \"Côte d'Ivoire\", \"Côte d'Ivoire\", \"Côte d'Ivoire\", \"Côte d'Ivoire\", \"Côte d'Ivoire\", \"Côte d'Ivoire\", \"Côte d'Ivoire\", \"Côte d'Ivoire\", \"Côte d'Ivoire\", \"Côte d'Ivoire\", \"Côte d'Ivoire\", \"Côte d'Ivoire\", \"Côte d'Ivoire\", \"Côte d'Ivoire\", \"Côte d'Ivoire\", \"Côte d'Ivoire\", \"Côte d'Ivoire\", \"Côte d'Ivoire\", \"Côte d'Ivoire\", \"Côte d'Ivoire\", \"Côte d'Ivoire\", \"Côte d'Ivoire\", \"Côte d'Ivoire\", \"Côte d'Ivoire\", \"Côte d'Ivoire\", 'Croatia', 'Croatia', 'Croatia', 'Croatia', 'Croatia', 'Croatia', 'Croatia', 'Croatia', 'Croatia', 'Croatia', 'Croatia', 'Croatia', 'Croatia', 'Croatia', 'Croatia', 'Croatia', 'Croatia', 'Croatia', 'Croatia', 'Croatia', 'Croatia', 'Croatia', 'Croatia', 'Croatia', 'Croatia', 'Croatia', 'Croatia', 'Croatia', 'Cyprus', 'Cyprus', 'Cyprus', 'Cyprus', 'Cyprus', 'Cyprus', 'Cyprus', 'Cyprus', 'Cyprus', 'Cyprus', 'Cyprus', 'Cyprus', 'Cyprus', 'Cyprus', 'Cyprus', 'Cyprus', 'Cyprus', 'Cyprus', 'Cyprus', 'Cyprus', 'Cyprus', 'Cyprus', 'Cyprus', 'Cyprus', 'Cyprus', 'Cyprus', 'Cyprus', 'Cyprus', 'Cyprus', 'Cyprus', 'Cyprus', 'Czech Republic', 'Czech Republic', 'Czech Republic', 'Czech Republic', 'Czech Republic', 'Czech Republic', 'Czech Republic', 'Czech Republic', 'Czech Republic', 'Czech Republic', 'Czech Republic', 'Czech Republic', 'Czech Republic', 'Czech Republic', 'Czech Republic', 'Czech Republic', 'Czech Republic', 'Czech Republic', 'Czech Republic', 'Czech Republic', 'Czech Republic', 'Czech Republic', 'Czech Republic', 'Czech Republic', 'Czech Republic', 'Czech Republic', 'Czech Republic', 'Czech Republic', 'Czech Republic', 'Czechoslovakia', 'Czechoslovakia', 'Czechoslovakia', 'Czechoslovakia', 'Czechoslovakia', 'Czechoslovakia', 'Czechoslovakia', 'Czechoslovakia', 'Czechoslovakia', 'Czechoslovakia', 'Czechoslovakia', 'Czechoslovakia', 'Czechoslovakia', 'Czechoslovakia', 'Czechoslovakia', 'Czechoslovakia', 'Czechoslovakia', 'Czechoslovakia', 'Czechoslovakia', 'Czechoslovakia', 'Czechoslovakia', 'Czechoslovakia', 'Czechoslovakia', 'Czechoslovakia', 'Czechoslovakia', 'Denmark', 'Denmark', 'Denmark', 'Denmark', 'Denmark', 'Denmark', 'Denmark', 'Denmark', 'Denmark', 'Denmark', 'Denmark', 'Denmark', 'Denmark', 'Denmark', 'Denmark', 'Denmark', 'Denmark', 'Denmark', 'Denmark', 'Denmark', 'Denmark', 'Denmark', 'Denmark', 'Denmark', 'Denmark', 'Denmark', 'Denmark', 'Denmark', 'Denmark', 'Denmark', 'Denmark', 'Denmark', 'Denmark', 'Denmark', 'Denmark', 'Denmark', 'Denmark', 'Denmark', 'Denmark', 'Denmark', 'Denmark', 'Djibouti', 'Djibouti', 'Djibouti', 'Djibouti', 'Djibouti', 'Djibouti', 'Djibouti', 'Djibouti', 'Djibouti', 'Djibouti', 'Djibouti', 'Djibouti', 'Djibouti', 'Djibouti', 'Djibouti', 'Djibouti', 'Djibouti', 'Djibouti', 'Dominica', 'Dominica', 'Dominica', 'Dominica', 'Dominica', 'Dominica', 'Dominica', 'Dominica', 'Dominica', 'Dominican Republic', 'Dominican Republic', 'Dominican Republic', 'Dominican Republic', 'Dominican Republic', 'Dominican Republic', 'Dominican Republic', 'Dominican Republic', 'Dominican Republic', 'Dominican Republic', 'Dominican Republic', 'Dominican Republic', 'Dominican Republic', 'Dominican Republic', 'Dominican Republic', 'Dominican Republic', 'Dominican Republic', 'Dominican Republic', 'Dominican Republic', 'Dominican Republic', 'Dominican Republic', 'Dominican Republic', 'Dominican Republic', 'Dominican Republic', 'Dominican Republic', 'Dominican Republic', 'Dominican Republic', 'Dominican Republic', 'Dominican Republic', 'Dominican Republic', 'Dominican Republic', 'Ecuador', 'Ecuador', 'Ecuador', 'Ecuador', 'Ecuador', 'Ecuador', 'Ecuador', 'Ecuador', 'Ecuador', 'Ecuador', 'Ecuador', 'Ecuador', 'Ecuador', 'Ecuador', 'Ecuador', 'Ecuador', 'Ecuador', 'Ecuador', 'Ecuador', 'Ecuador', 'Ecuador', 'Ecuador', 'Ecuador', 'Ecuador', 'Ecuador', 'Ecuador', 'Ecuador', 'Ecuador', 'Ecuador', 'Ecuador', 'Egypt', 'Egypt', 'Egypt', 'Egypt', 'Egypt', 'Egypt', 'Egypt', 'Egypt', 'Egypt', 'Egypt', 'Egypt', 'Egypt', 'Egypt', 'Egypt', 'Egypt', 'Egypt', 'Egypt', 'Egypt', 'Egypt', 'Egypt', 'Egypt', 'Egypt', 'Egypt', 'Egypt', 'Egypt', 'Egypt', 'Egypt', 'Egypt', 'Egypt', 'Egypt', 'Egypt', 'Egypt', 'Egypt', 'Egypt', 'Egypt', 'Egypt', 'Egypt', 'Egypt', 'Egypt', 'Egypt', 'Egypt', 'El Salvador', 'El Salvador', 'El Salvador', 'El Salvador', 'El Salvador', 'El Salvador', 'El Salvador', 'El Salvador', 'El Salvador', 'El Salvador', 'El Salvador', 'El Salvador', 'El Salvador', 'El Salvador', 'El Salvador', 'El Salvador', 'El Salvador', 'El Salvador', 'El Salvador', 'El Salvador', 'El Salvador', 'El Salvador', 'El Salvador', 'El Salvador', 'El Salvador', 'El Salvador', 'Equatorial Guinea', 'Estonia', 'Estonia', 'Estonia', 'Estonia', 'Estonia', 'Estonia', 'Estonia', 'Estonia', 'Estonia', 'Estonia', 'Estonia', 'Estonia', 'Estonia', 'Estonia', 'Estonia', 'Estonia', 'Estonia', 'Estonia', 'Estonia', 'Estonia', 'Estonia', 'Estonia', 'Estonia', 'Estonia', 'Estonia', 'Estonia', 'Estonia', 'Estonia', 'Estonia', 'Ethiopia', 'Ethiopia', 'Ethiopia', 'Ethiopia', 'Ethiopia', 'Ethiopia', 'Ethiopia', 'Ethiopia', 'Ethiopia', 'Ethiopia', 'Ethiopia', 'Ethiopia', 'Ethiopia', 'Ethiopia', 'Ethiopia', 'Ethiopia', 'Ethiopia', 'Ethiopia', 'Ethiopia', 'Ethiopia', 'Ethiopia', 'Fiji', 'Fiji', 'Fiji', 'Fiji', 'Fiji', 'Fiji', 'Fiji', 'Fiji', 'Fiji', 'Fiji', 'Fiji', 'Fiji', 'Fiji', 'Fiji', 'Fiji', 'Fiji', 'Fiji', 'Fiji', 'Fiji', 'Fiji', 'Fiji', 'Fiji', 'Fiji', 'Fiji', 'Fiji', 'Fiji', 'Fiji', 'Fiji', 'Fiji', 'Fiji', 'Fiji', 'Fiji', 'Fiji', 'Fiji', 'Fiji', 'Fiji', 'Fiji', 'Finland', 'Finland', 'Finland', 'Finland', 'Finland', 'Finland', 'Finland', 'Finland', 'Finland', 'Finland', 'Finland', 'Finland', 'Finland', 'Finland', 'Finland', 'Finland', 'Finland', 'Finland', 'Finland', 'Finland', 'Finland', 'Finland', 'Finland', 'Finland', 'Finland', 'Finland', 'Finland', 'Finland', 'Finland', 'Finland', 'Finland', 'Finland', 'Finland', 'Finland', 'Finland', 'Finland', 'Finland', 'Finland', 'Finland', 'Finland', 'Finland', 'Finland', 'Finland', 'Finland', 'Finland', 'Finland', 'Finland', 'Finland', 'Finland', 'Finland', 'Finland', 'France', 'France', 'France', 'France', 'France', 'France', 'France', 'France', 'France', 'France', 'France', 'France', 'France', 'France', 'France', 'France', 'France', 'France', 'France', 'France', 'France', 'France', 'France', 'France', 'France', 'France', 'France', 'France', 'France', 'France', 'France', 'France', 'France', 'France', 'France', 'France', 'France', 'France', 'France', 'France', 'France', 'France', 'France', 'France', 'France', 'France', 'Gabon', 'Gambia', 'Gambia', 'Gambia', 'Gambia', 'Gambia', 'Gambia', 'Gambia', 'Gambia', 'Gambia', 'Gambia', 'Gambia', 'Gambia', 'Gambia', 'Gambia', 'Gambia', 'Gambia', 'Gambia', 'Gambia', 'Gambia', 'Gambia', 'Gambia', 'Gambia', 'Gambia', 'Gambia', 'Georgia', 'Georgia', 'Georgia', 'Georgia', 'Georgia', 'Georgia', 'Georgia', 'Georgia', 'Georgia', 'Georgia', 'Georgia', 'Georgia', 'Georgia', 'Georgia', 'Georgia', 'Georgia', 'Georgia', 'Georgia', 'Georgia', 'Georgia', 'Georgia', 'Georgia', 'Georgia', 'Georgia', 'Georgia', 'Georgia', 'Georgia', 'Georgia', 'Georgia', 'Germany', 'Germany', 'Germany', 'Germany', 'Germany', 'Germany', 'Germany', 'Germany', 'Germany', 'Germany', 'Germany', 'Germany', 'Germany', 'Germany', 'Germany', 'Germany', 'Germany', 'Germany', 'Germany', 'Germany', 'Germany', 'Germany', 'Germany', 'Germany', 'Germany', 'Germany', 'Germany', 'Germany', 'Germany', 'Germany', 'Germany', 'Germany', 'Germany', 'Germany', 'Germany', 'Germany', 'Germany', 'Germany', 'Germany', 'Germany', 'Germany', 'Germany', 'Germany', 'Germany', 'Germany', 'Germany', 'Germany', 'Germany', 'Germany', 'Germany', 'Germany', 'Germany', 'Germany', 'Germany', 'Germany', 'Germany', 'Ghana', 'Ghana', 'Ghana', 'Ghana', 'Ghana', 'Ghana', 'Ghana', 'Ghana', 'Ghana', 'Ghana', 'Ghana', 'Ghana', 'Ghana', 'Ghana', 'Ghana', 'Ghana', 'Ghana', 'Ghana', 'Ghana', 'Ghana', 'Ghana', 'Ghana', 'Ghana', 'Ghana', 'Ghana', 'Ghana', 'Ghana', 'Greece', 'Greece', 'Greece', 'Greece', 'Greece', 'Greece', 'Greece', 'Greece', 'Greece', 'Greece', 'Greece', 'Greece', 'Greece', 'Greece', 'Greece', 'Greece', 'Greece', 'Greece', 'Greece', 'Greece', 'Greece', 'Greece', 'Greece', 'Greece', 'Greece', 'Greece', 'Greece', 'Greece', 'Greece', 'Greece', 'Greece', 'Greece', 'Greece', 'Greece', 'Greece', 'Greece', 'Greece', 'Greece', 'Greece', 'Greece', 'Greece', 'Greece', 'Greece', 'Grenada', 'Grenada', 'Grenada', 'Grenada', 'Grenada', 'Grenada', 'Grenada', 'Grenada', 'Grenada', 'Grenada', 'Guatemala', 'Guatemala', 'Guatemala', 'Guatemala', 'Guatemala', 'Guatemala', 'Guatemala', 'Guatemala', 'Guatemala', 'Guatemala', 'Guatemala', 'Guatemala', 'Guatemala', 'Guatemala', 'Guatemala', 'Guatemala', 'Guatemala', 'Guatemala', 'Guatemala', 'Guatemala', 'Guatemala', 'Guatemala', 'Guatemala', 'Guatemala', 'Guatemala', 'Guatemala', 'Guatemala', 'Guatemala', 'Guatemala', 'Guatemala', 'Guatemala', 'Guatemala', 'Guatemala', 'Guatemala', 'Guinea', 'Guinea', 'Guinea', 'Guinea', 'Guinea', 'Guinea', 'Guinea', 'Guinea', 'Guinea', 'Guinea', 'Guinea', 'Guinea', 'Guinea', 'Guinea', 'Guinea', 'Guinea', 'Guinea', 'Guinea', 'Guinea', 'Guinea', 'Guinea', 'Guinea', 'Guinea-Bissau', 'Guinea-Bissau', 'Guinea-Bissau', 'Guinea-Bissau', 'Guinea-Bissau', 'Guinea-Bissau', 'Guinea-Bissau', 'Guinea-Bissau', 'Guinea-Bissau', 'Guinea-Bissau', 'Guinea-Bissau', 'Guinea-Bissau', 'Guinea-Bissau', 'Guinea-Bissau', 'Guinea-Bissau', 'Guinea-Bissau', 'Guinea-Bissau', 'Guinea-Bissau', 'Guyana', 'Guyana', 'Guyana', 'Guyana', 'Guyana', 'Guyana', 'Guyana', 'Guyana', 'Guyana', 'Guyana', 'Guyana', 'Guyana', 'Guyana', 'Guyana', 'Guyana', 'Guyana', 'Haiti', 'Haiti', 'Haiti', 'Haiti', 'Haiti', 'Haiti', 'Haiti', 'Haiti', 'Haiti', 'Haiti', 'Haiti', 'Haiti', 'Honduras', 'Honduras', 'Honduras', 'Honduras', 'Honduras', 'Honduras', 'Honduras', 'Honduras', 'Honduras', 'Honduras', 'Honduras', 'Honduras', 'Honduras', 'Honduras', 'Honduras', 'Honduras', 'Honduras', 'Honduras', 'Honduras', 'Honduras', 'Honduras', 'Honduras', 'Honduras', 'Honduras', 'Honduras', 'Honduras', 'Honduras', 'Honduras', 'Honduras', 'Hong Kong', 'Hong Kong', 'Hong Kong', 'Hong Kong', 'Hong Kong', 'Hong Kong', 'Hong Kong', 'Hong Kong', 'Hong Kong', 'Hong Kong', 'Hong Kong', 'Hong Kong', 'Hong Kong', 'Hong Kong', 'Hong Kong', 'Hong Kong', 'Hong Kong', 'Hong Kong', 'Hong Kong', 'Hong Kong', 'Hong Kong', 'Hong Kong', 'Hong Kong', 'Hong Kong', 'Hong Kong', 'Hong Kong', 'Hong Kong', 'Hong Kong', 'Hong Kong', 'Hong Kong', 'Hong Kong', 'Hong Kong', 'Hong Kong', 'Hong Kong', 'Hong Kong', 'Hong Kong', 'Hong Kong', 'Hong Kong', 'Hong Kong', 'Hong Kong', 'Hong Kong', 'Hong Kong', 'Hong Kong', 'Hong Kong', 'Hong Kong', 'Hong Kong', 'Hong Kong', 'Hong Kong', 'Hong Kong', 'Hong Kong', 'Hong Kong', 'Hong Kong', 'Hong Kong', 'Hungary', 'Hungary', 'Hungary', 'Hungary', 'Hungary', 'Hungary', 'Hungary', 'Hungary', 'Hungary', 'Hungary', 'Hungary', 'Hungary', 'Hungary', 'Hungary', 'Hungary', 'Hungary', 'Hungary', 'Hungary', 'Hungary', 'Hungary', 'Hungary', 'Hungary', 'Hungary', 'Hungary', 'Hungary', 'Hungary', 'Hungary', 'Hungary', 'Hungary', 'Hungary', 'Hungary', 'Hungary', 'Hungary', 'Hungary', 'Hungary', 'Hungary', 'Hungary', 'Hungary', 'Hungary', 'Hungary', 'Hungary', 'Hungary', 'Hungary', 'Hungary', 'Hungary', 'Hungary', 'Hungary', 'Hungary', 'Hungary', 'Hungary', 'Hungary', 'Hungary', 'Hungary', 'Hungary', 'Hungary', 'Iceland', 'Iceland', 'Iceland', 'Iceland', 'Iceland', 'Iceland', 'Iceland', 'Iceland', 'Iceland', 'Iceland', 'Iceland', 'Iceland', 'Iceland', 'Iceland', 'Iceland', 'Iceland', 'Iceland', 'Iceland', 'Iceland', 'Iceland', 'Iceland', 'Iceland', 'Iceland', 'Iceland', 'India', 'India', 'India', 'India', 'India', 'India', 'India', 'India', 'India', 'India', 'India', 'India', 'India', 'India', 'India', 'India', 'India', 'India', 'India', 'India', 'India', 'India', 'India', 'India', 'India', 'India', 'India', 'India', 'India', 'India', 'India', 'India', 'India', 'India', 'India', 'India', 'India', 'Indonesia', 'Indonesia', 'Indonesia', 'Indonesia', 'Indonesia', 'Indonesia', 'Indonesia', 'Indonesia', 'Indonesia', 'Indonesia', 'Indonesia', 'Indonesia', 'Indonesia', 'Indonesia', 'Indonesia', 'Indonesia', 'Indonesia', 'Indonesia', 'Indonesia', 'Indonesia', 'Indonesia', 'Indonesia', 'Indonesia', 'Indonesia', 'Indonesia', 'Indonesia', 'Indonesia', 'Indonesia', 'Indonesia', 'Indonesia', 'Indonesia', 'Indonesia', 'Indonesia', 'Indonesia', 'Indonesia', 'Indonesia', 'Indonesia', 'Indonesia', 'Indonesia', 'Indonesia', 'Indonesia', 'Indonesia', 'Indonesia', 'Indonesia', 'Indonesia', 'Indonesia', 'Indonesia', 'Indonesia', 'Indonesia', 'Indonesia', 'Indonesia', 'Indonesia', 'Indonesia', 'Iran', 'Iran', 'Iran', 'Iran', 'Iran', 'Iran', 'Iran', 'Iran', 'Iran', 'Iran', 'Iran', 'Iran', 'Iran', 'Iran', 'Iran', 'Iran', 'Iran', 'Iran', 'Iran', 'Iran', 'Iran', 'Iran', 'Iran', 'Iran', 'Iran', 'Iran', 'Iran', 'Iran', 'Iran', 'Iran', 'Iran', 'Iran', 'Iran', 'Iran', 'Iran', 'Iran', 'Iran', 'Iran', 'Iran', 'Iran', 'Iran', 'Iran', 'Iran', 'Iran', 'Iran', 'Iran', 'Iraq', 'Iraq', 'Iraq', 'Iraq', 'Iraq', 'Iraq', 'Iraq', 'Ireland', 'Ireland', 'Ireland', 'Ireland', 'Ireland', 'Ireland', 'Ireland', 'Ireland', 'Ireland', 'Ireland', 'Ireland', 'Ireland', 'Ireland', 'Ireland', 'Ireland', 'Ireland', 'Ireland', 'Ireland', 'Ireland', 'Ireland', 'Ireland', 'Ireland', 'Ireland', 'Ireland', 'Ireland', 'Ireland', 'Ireland', 'Ireland', 'Ireland', 'Ireland', 'Ireland', 'Ireland', 'Ireland', 'Ireland', 'Ireland', 'Ireland', 'Ireland', 'Ireland', 'Ireland', 'Ireland', 'Ireland', 'Ireland', 'Ireland', 'Ireland', 'Israel', 'Israel', 'Israel', 'Israel', 'Israel', 'Israel', 'Israel', 'Israel', 'Israel', 'Israel', 'Israel', 'Israel', 'Israel', 'Israel', 'Israel', 'Israel', 'Israel', 'Israel', 'Israel', 'Israel', 'Israel', 'Israel', 'Israel', 'Israel', 'Israel', 'Israel', 'Israel', 'Israel', 'Israel', 'Israel', 'Israel', 'Israel', 'Israel', 'Israel', 'Israel', 'Israel', 'Israel', 'Israel', 'Italy', 'Italy', 'Italy', 'Italy', 'Italy', 'Italy', 'Italy', 'Italy', 'Italy', 'Italy', 'Italy', 'Italy', 'Italy', 'Italy', 'Italy', 'Italy', 'Italy', 'Italy', 'Italy', 'Italy', 'Italy', 'Italy', 'Italy', 'Italy', 'Italy', 'Italy', 'Italy', 'Italy', 'Italy', 'Italy', 'Italy', 'Italy', 'Italy', 'Italy', 'Italy', 'Italy', 'Italy', 'Italy', 'Italy', 'Italy', 'Italy', 'Italy', 'Italy', 'Italy', 'Italy', 'Italy', 'Italy', 'Italy', 'Italy', 'Jamaica', 'Jamaica', 'Jamaica', 'Jamaica', 'Jamaica', 'Jamaica', 'Jamaica', 'Jamaica', 'Jamaica', 'Jamaica', 'Jamaica', 'Jamaica', 'Jamaica', 'Jamaica', 'Jamaica', 'Jamaica', 'Jamaica', 'Japan', 'Japan', 'Japan', 'Japan', 'Japan', 'Japan', 'Japan', 'Japan', 'Japan', 'Japan', 'Japan', 'Japan', 'Japan', 'Japan', 'Japan', 'Japan', 'Japan', 'Japan', 'Japan', 'Japan', 'Japan', 'Japan', 'Japan', 'Japan', 'Japan', 'Japan', 'Japan', 'Japan', 'Japan', 'Japan', 'Japan', 'Japan', 'Japan', 'Japan', 'Japan', 'Japan', 'Japan', 'Japan', 'Japan', 'Japan', 'Japan', 'Japan', 'Japan', 'Japan', 'Japan', 'Japan', 'Japan', 'Japan', 'Japan', 'Japan', 'Japan', 'Japan', 'Japan', 'Japan', 'Jordan', 'Jordan', 'Jordan', 'Jordan', 'Jordan', 'Jordan', 'Jordan', 'Jordan', 'Jordan', 'Jordan', 'Jordan', 'Jordan', 'Jordan', 'Jordan', 'Jordan', 'Jordan', 'Jordan', 'Jordan', 'Jordan', 'Jordan', 'Jordan', 'Jordan', 'Jordan', 'Jordan', 'Jordan', 'Jordan', 'Jordan', 'Jordan', 'Jordan', 'Kazakhstan', 'Kazakhstan', 'Kazakhstan', 'Kazakhstan', 'Kazakhstan', 'Kazakhstan', 'Kazakhstan', 'Kazakhstan', 'Kazakhstan', 'Kazakhstan', 'Kazakhstan', 'Kazakhstan', 'Kazakhstan', 'Kazakhstan', 'Kazakhstan', 'Kazakhstan', 'Kazakhstan', 'Kazakhstan', 'Kazakhstan', 'Kazakhstan', 'Kazakhstan', 'Kazakhstan', 'Kazakhstan', 'Kazakhstan', 'Kazakhstan', 'Kazakhstan', 'Kazakhstan', 'Kazakhstan', 'Kazakhstan', 'Kenya', 'Kenya', 'Kenya', 'Kenya', 'Kenya', 'Kenya', 'Kenya', 'Kenya', 'Kenya', 'Kenya', 'Kenya', 'Kenya', 'Kenya', 'Kenya', 'Kenya', 'Kenya', 'Kenya', 'Kenya', 'Kenya', 'Kenya', 'Kenya', 'Kenya', 'Kenya', 'Kenya', 'Kenya', 'Kenya', 'Kenya', 'Kenya', 'Kenya', 'Kenya', 'Kenya', 'Kenya', 'Kiribati', 'Korea', 'Korea', 'Korea', 'Korea', 'Korea', 'Korea', 'Korea', 'Korea', 'Korea', 'Korea', 'Korea', 'Korea', 'Korea', 'Korea', 'Korea', 'Korea', 'Korea', 'Korea', 'Korea', 'Korea', 'Korea', 'Korea', 'Korea', 'Korea', 'Korea', 'Korea', 'Korea', 'Korea', 'Korea', 'Korea', 'Korea', 'Korea', 'Korea', 'Korea', 'Korea', 'Korea', 'Korea', 'Korea', 'Korea', 'Korea', 'Korea', 'Korea', 'Korea', 'Korea', 'Korea', 'Korea', 'Korea', 'Korea', 'Korea', 'Korea', 'Korea', 'Korea', 'Kosovo', 'Kosovo', 'Kosovo', 'Kosovo', 'Kosovo', 'Kosovo', 'Kosovo', 'Kosovo', 'Kosovo', 'Kosovo', 'Kosovo', 'Kosovo', 'Kosovo', 'Kuwait', 'Kyrgyzstan', 'Kyrgyzstan', 'Kyrgyzstan', 'Kyrgyzstan', 'Kyrgyzstan', 'Kyrgyzstan', 'Kyrgyzstan', 'Kyrgyzstan', 'Kyrgyzstan', 'Kyrgyzstan', 'Kyrgyzstan', 'Kyrgyzstan', 'Kyrgyzstan', 'Kyrgyzstan', 'Kyrgyzstan', 'Kyrgyzstan', 'Kyrgyzstan', 'Kyrgyzstan', 'Kyrgyzstan', 'Kyrgyzstan', 'Kyrgyzstan', 'Kyrgyzstan', 'Kyrgyzstan', 'Kyrgyzstan', 'Kyrgyzstan', 'Kyrgyzstan', 'Kyrgyzstan', 'Kyrgyzstan', 'Kyrgyzstan', 'Laos', 'Laos', 'Laos', 'Laos', 'Laos', 'Laos', 'Laos', 'Laos', 'Laos', 'Laos', 'Laos', 'Laos', 'Laos', 'Laos', 'Laos', 'Laos', 'Laos', 'Laos', 'Laos', 'Laos', 'Laos', 'Laos', 'Latvia', 'Latvia', 'Latvia', 'Latvia', 'Latvia', 'Latvia', 'Latvia', 'Latvia', 'Latvia', 'Latvia', 'Latvia', 'Latvia', 'Latvia', 'Latvia', 'Latvia', 'Latvia', 'Latvia', 'Latvia', 'Latvia', 'Latvia', 'Latvia', 'Latvia', 'Latvia', 'Latvia', 'Latvia', 'Latvia', 'Latvia', 'Latvia', 'Latvia', 'Lebanon', 'Lebanon', 'Lebanon', 'Lebanon', 'Lebanon', 'Lebanon', 'Lebanon', 'Lebanon', 'Lebanon', 'Lebanon', 'Lebanon', 'Lebanon', 'Lebanon', 'Lebanon', 'Lebanon', 'Lebanon', 'Lebanon', 'Lebanon', 'Lesotho', 'Lesotho', 'Lesotho', 'Lesotho', 'Lesotho', 'Lesotho', 'Lesotho', 'Lesotho', 'Lesotho', 'Lesotho', 'Lesotho', 'Lesotho', 'Lesotho', 'Lesotho', 'Lesotho', 'Lesotho', 'Lesotho', 'Lesotho', 'Lesotho', 'Lesotho', 'Lesotho', 'Lesotho', 'Lesotho', 'Lesotho', 'Lesotho', 'Liberia', 'Liberia', 'Liberia', 'Liberia', 'Liberia', 'Liberia', 'Liberia', 'Liberia', 'Liberia', 'Liberia', 'Libya', 'Lithuania', 'Lithuania', 'Lithuania', 'Lithuania', 'Lithuania', 'Lithuania', 'Lithuania', 'Lithuania', 'Lithuania', 'Lithuania', 'Lithuania', 'Lithuania', 'Lithuania', 'Lithuania', 'Lithuania', 'Lithuania', 'Lithuania', 'Lithuania', 'Lithuania', 'Lithuania', 'Lithuania', 'Lithuania', 'Lithuania', 'Lithuania', 'Lithuania', 'Lithuania', 'Lithuania', 'Lithuania', 'Luxembourg', 'Luxembourg', 'Luxembourg', 'Luxembourg', 'Luxembourg', 'Luxembourg', 'Luxembourg', 'Luxembourg', 'Luxembourg', 'Luxembourg', 'Luxembourg', 'Luxembourg', 'Luxembourg', 'Luxembourg', 'Luxembourg', 'Luxembourg', 'Luxembourg', 'Luxembourg', 'Luxembourg', 'Luxembourg', 'Luxembourg', 'Luxembourg', 'Luxembourg', 'Luxembourg', 'Luxembourg', 'Luxembourg', 'Luxembourg', 'Luxembourg', 'Luxembourg', 'Luxembourg', 'Luxembourg', 'Macedonia', 'Macedonia', 'Macedonia', 'Macedonia', 'Macedonia', 'Macedonia', 'Macedonia', 'Macedonia', 'Macedonia', 'Macedonia', 'Macedonia', 'Macedonia', 'Macedonia', 'Macedonia', 'Macedonia', 'Macedonia', 'Macedonia', 'Macedonia', 'Macedonia', 'Macedonia', 'Macedonia', 'Macedonia', 'Madagascar', 'Madagascar', 'Madagascar', 'Madagascar', 'Madagascar', 'Madagascar', 'Madagascar', 'Madagascar', 'Madagascar', 'Madagascar', 'Madagascar', 'Madagascar', 'Madagascar', 'Madagascar', 'Madagascar', 'Madagascar', 'Madagascar', 'Madagascar', 'Madagascar', 'Madagascar', 'Madagascar', 'Madagascar', 'Madagascar', 'Madagascar', 'Madagascar', 'Madagascar', 'Madagascar', 'Madagascar', 'Madagascar', 'Madagascar', 'Madagascar', 'Madagascar', 'Madagascar', 'Madagascar', 'Madagascar', 'Madagascar', 'Madagascar', 'Madagascar', 'Madagascar', 'Madagascar', 'Madagascar', 'Madagascar', 'Madagascar', 'Madagascar', 'Madagascar', 'Madagascar', 'Madagascar', 'Madagascar', 'Madagascar', 'Madagascar', 'Madagascar', 'Malawi', 'Malawi', 'Malawi', 'Malawi', 'Malawi', 'Malawi', 'Malawi', 'Malawi', 'Malawi', 'Malawi', 'Malawi', 'Malawi', 'Malawi', 'Malawi', 'Malawi', 'Malawi', 'Malawi', 'Malawi', 'Malawi', 'Malawi', 'Malawi', 'Malawi', 'Malawi', 'Malawi', 'Malawi', 'Malawi', 'Malawi', 'Malawi', 'Malawi', 'Malawi', 'Malawi', 'Malawi', 'Malawi', 'Malawi', 'Malawi', 'Malawi', 'Malawi', 'Malawi', 'Malawi', 'Malawi', 'Malawi', 'Malawi', 'Malawi', 'Malawi', 'Malawi', 'Malaysia', 'Malaysia', 'Malaysia', 'Malaysia', 'Malaysia', 'Malaysia', 'Malaysia', 'Malaysia', 'Malaysia', 'Malaysia', 'Malaysia', 'Malaysia', 'Malaysia', 'Malaysia', 'Malaysia', 'Malaysia', 'Malaysia', 'Malaysia', 'Malaysia', 'Malaysia', 'Malaysia', 'Malaysia', 'Malaysia', 'Malaysia', 'Malaysia', 'Malaysia', 'Malaysia', 'Malaysia', 'Malaysia', 'Malaysia', 'Malaysia', 'Malaysia', 'Malaysia', 'Malaysia', 'Malaysia', 'Malaysia', 'Malaysia', 'Malaysia', 'Malaysia', 'Malaysia', 'Malaysia', 'Malaysia', 'Malaysia', 'Malaysia', 'Malaysia', 'Malaysia', 'Malaysia', 'Maldives', 'Maldives', 'Maldives', 'Maldives', 'Maldives', 'Maldives', 'Maldives', 'Maldives', 'Maldives', 'Mali', 'Mali', 'Mali', 'Mali', 'Mali', 'Mali', 'Mali', 'Mali', 'Mali', 'Mali', 'Mali', 'Mali', 'Mali', 'Mali', 'Mali', 'Mali', 'Malta', 'Malta', 'Malta', 'Malta', 'Malta', 'Malta', 'Malta', 'Malta', 'Malta', 'Malta', 'Malta', 'Malta', 'Malta', 'Malta', 'Malta', 'Malta', 'Malta', 'Malta', 'Mauritania', 'Mauritania', 'Mauritania', 'Mauritania', 'Mauritania', 'Mauritania', 'Mauritania', 'Mauritania', 'Mauritania', 'Mauritania', 'Mauritania', 'Mauritania', 'Mauritania', 'Mauritania', 'Mauritania', 'Mauritania', 'Mauritania', 'Mauritania', 'Mauritania', 'Mauritania', 'Mauritania', 'Mauritania', 'Mauritania', 'Mauritania', 'Mauritania', 'Mauritania', 'Mauritania', 'Mauritania', 'Mauritius', 'Mauritius', 'Mauritius', 'Mauritius', 'Mauritius', 'Mauritius', 'Mauritius', 'Mauritius', 'Mauritius', 'Mauritius', 'Mauritius', 'Mauritius', 'Mauritius', 'Mauritius', 'Mauritius', 'Mauritius', 'Mauritius', 'Mauritius', 'Mauritius', 'Mauritius', 'Mauritius', 'Mauritius', 'Mauritius', 'Mauritius', 'Mauritius', 'Mauritius', 'Mexico', 'Mexico', 'Mexico', 'Mexico', 'Mexico', 'Mexico', 'Mexico', 'Mexico', 'Mexico', 'Mexico', 'Mexico', 'Mexico', 'Mexico', 'Mexico', 'Mexico', 'Mexico', 'Mexico', 'Mexico', 'Mexico', 'Mexico', 'Mexico', 'Mexico', 'Mexico', 'Mexico', 'Mexico', 'Mexico', 'Mexico', 'Mexico', 'Mexico', 'Mexico', 'Mexico', 'Mexico', 'Mexico', 'Mexico', 'Mexico', 'Mexico', 'Mexico', 'Mexico', 'Mexico', 'Mexico', 'Mexico', 'Mexico', 'Mexico', 'Mexico', 'Mexico', 'Mexico', 'Mexico', 'Mexico', 'Mexico', 'Mexico', 'Mexico', 'Mexico', 'Mexico', 'Mexico', 'Micronesia', 'Micronesia', 'Micronesia', 'Micronesia', 'Micronesia', 'Micronesia', 'Micronesia', 'Micronesia', 'Micronesia', 'Micronesia', 'Micronesia', 'Micronesia', 'Micronesia', 'Micronesia', 'Micronesia', 'Micronesia', 'Moldova', 'Moldova', 'Moldova', 'Moldova', 'Moldova', 'Moldova', 'Moldova', 'Moldova', 'Moldova', 'Moldova', 'Moldova', 'Moldova', 'Moldova', 'Moldova', 'Moldova', 'Moldova', 'Moldova', 'Moldova', 'Moldova', 'Moldova', 'Moldova', 'Moldova', 'Moldova', 'Moldova', 'Moldova', 'Moldova', 'Moldova', 'Moldova', 'Moldova', 'Mongolia', 'Mongolia', 'Mongolia', 'Mongolia', 'Mongolia', 'Mongolia', 'Mongolia', 'Mongolia', 'Mongolia', 'Mongolia', 'Mongolia', 'Mongolia', 'Mongolia', 'Mongolia', 'Mongolia', 'Mongolia', 'Mongolia', 'Mongolia', 'Mongolia', 'Mongolia', 'Mongolia', 'Mongolia', 'Montenegro', 'Montenegro', 'Montenegro', 'Montenegro', 'Montenegro', 'Montenegro', 'Montenegro', 'Montenegro', 'Montenegro', 'Montenegro', 'Morocco', 'Morocco', 'Morocco', 'Morocco', 'Morocco', 'Morocco', 'Morocco', 'Morocco', 'Morocco', 'Morocco', 'Morocco', 'Morocco', 'Morocco', 'Morocco', 'Morocco', 'Morocco', 'Morocco', 'Morocco', 'Morocco', 'Morocco', 'Morocco', 'Morocco', 'Morocco', 'Morocco', 'Morocco', 'Morocco', 'Morocco', 'Morocco', 'Morocco', 'Morocco', 'Morocco', 'Mozambique', 'Mozambique', 'Mozambique', 'Mozambique', 'Mozambique', 'Mozambique', 'Mozambique', 'Mozambique', 'Mozambique', 'Mozambique', 'Mozambique', 'Mozambique', 'Mozambique', 'Mozambique', 'Mozambique', 'Mozambique', 'Mozambique', 'Mozambique', 'Mozambique', 'Myanmar', 'Myanmar', 'Myanmar', 'Myanmar', 'Myanmar', 'Myanmar', 'Namibia', 'Namibia', 'Namibia', 'Namibia', 'Namibia', 'Namibia', 'Namibia', 'Namibia', 'Namibia', 'Namibia', 'Namibia', 'Namibia', 'Namibia', 'Namibia', 'Namibia', 'Namibia', 'Namibia', 'Namibia', 'Namibia', 'Namibia', 'Namibia', 'Namibia', 'Namibia', 'Namibia', 'Nauru', 'Nepal', 'Nepal', 'Nepal', 'Nepal', 'Nepal', 'Nepal', 'Nepal', 'Nepal', 'Nepal', 'Nepal', 'Nepal', 'Nepal', 'Nepal', 'Nepal', 'Nepal', 'Nepal', 'Nepal', 'Nepal', 'Nepal', 'Nepal', 'Nepal', 'Nepal', 'Nepal', 'Nepal', 'Nepal', 'Nepal', 'Nepal', 'Nepal', 'Nepal', 'Nepal', 'Nepal', 'Nepal', 'Nepal', 'Nepal', 'Netherlands', 'Netherlands', 'Netherlands', 'Netherlands', 'Netherlands', 'Netherlands', 'Netherlands', 'Netherlands', 'Netherlands', 'Netherlands', 'Netherlands', 'Netherlands', 'Netherlands', 'Netherlands', 'Netherlands', 'Netherlands', 'Netherlands', 'Netherlands', 'Netherlands', 'Netherlands', 'Netherlands', 'Netherlands', 'Netherlands', 'Netherlands', 'Netherlands', 'Netherlands', 'Netherlands', 'Netherlands', 'Netherlands', 'Netherlands', 'Netherlands', 'Netherlands', 'Netherlands', 'Netherlands', 'Netherlands', 'Netherlands', 'Netherlands', 'Netherlands', 'Netherlands', 'Netherlands', 'New Zealand', 'New Zealand', 'New Zealand', 'New Zealand', 'New Zealand', 'New Zealand', 'New Zealand', 'New Zealand', 'New Zealand', 'New Zealand', 'New Zealand', 'New Zealand', 'New Zealand', 'New Zealand', 'New Zealand', 'New Zealand', 'New Zealand', 'New Zealand', 'New Zealand', 'New Zealand', 'New Zealand', 'New Zealand', 'New Zealand', 'New Zealand', 'New Zealand', 'New Zealand', 'New Zealand', 'New Zealand', 'New Zealand', 'New Zealand', 'New Zealand', 'New Zealand', 'New Zealand', 'New Zealand', 'New Zealand', 'Nicaragua', 'Nicaragua', 'Nicaragua', 'Nicaragua', 'Nicaragua', 'Nicaragua', 'Nicaragua', 'Nicaragua', 'Nicaragua', 'Nicaragua', 'Nicaragua', 'Nicaragua', 'Nicaragua', 'Nicaragua', 'Nicaragua', 'Nicaragua', 'Nicaragua', 'Nicaragua', 'Nicaragua', 'Nicaragua', 'Nicaragua', 'Nicaragua', 'Niger', 'Niger', 'Niger', 'Niger', 'Niger', 'Niger', 'Niger', 'Niger', 'Niger', 'Niger', 'Niger', 'Niger', 'Niger', 'Niger', 'Niger', 'Niger', 'Niger', 'Niger', 'Niger', 'Niger', 'Niger', 'Niger', 'Niger', 'Nigeria', 'Nigeria', 'Nigeria', 'Nigeria', 'Nigeria', 'Nigeria', 'Nigeria', 'Nigeria', 'Nigeria', 'Nigeria', 'Nigeria', 'Nigeria', 'Nigeria', 'Nigeria', 'Nigeria', 'Nigeria', 'Nigeria', 'Nigeria', 'Nigeria', 'Nigeria', 'Nigeria', 'Nigeria', 'Nigeria', 'Nigeria', 'Nigeria', 'Nigeria', 'Norway', 'Norway', 'Norway', 'Norway', 'Norway', 'Norway', 'Norway', 'Norway', 'Norway', 'Norway', 'Norway', 'Norway', 'Norway', 'Norway', 'Norway', 'Norway', 'Norway', 'Norway', 'Norway', 'Norway', 'Norway', 'Norway', 'Norway', 'Norway', 'Norway', 'Norway', 'Norway', 'Norway', 'Norway', 'Norway', 'Norway', 'Norway', 'Norway', 'Norway', 'Norway', 'Norway', 'Norway', 'Norway', 'Norway', 'Norway', 'Norway', 'Norway', 'Norway', 'Norway', 'Norway', 'Norway', 'Norway', 'Pakistan', 'Pakistan', 'Pakistan', 'Pakistan', 'Pakistan', 'Pakistan', 'Pakistan', 'Pakistan', 'Pakistan', 'Pakistan', 'Pakistan', 'Pakistan', 'Pakistan', 'Pakistan', 'Pakistan', 'Pakistan', 'Pakistan', 'Pakistan', 'Pakistan', 'Pakistan', 'Pakistan', 'Pakistan', 'Pakistan', 'Pakistan', 'Pakistan', 'Pakistan', 'Pakistan', 'Pakistan', 'Pakistan', 'Pakistan', 'Pakistan', 'Pakistan', 'Pakistan', 'Pakistan', 'Pakistan', 'Pakistan', 'Pakistan', 'Pakistan', 'Pakistan', 'Pakistan', 'Pakistan', 'Pakistan', 'Pakistan', 'Pakistan', 'Pakistan', 'Pakistan', 'Pakistan', 'Pakistan', 'Pakistan', 'Pakistan', 'Palau', 'Palestinian Territories', 'Palestinian Territories', 'Palestinian Territories', 'Palestinian Territories', 'Palestinian Territories', 'Palestinian Territories', 'Palestinian Territories', 'Palestinian Territories', 'Palestinian Territories', 'Palestinian Territories', 'Palestinian Territories', 'Palestinian Territories', 'Palestinian Territories', 'Palestinian Territories', 'Palestinian Territories', 'Palestinian Territories', 'Panama', 'Panama', 'Panama', 'Panama', 'Panama', 'Panama', 'Panama', 'Panama', 'Panama', 'Panama', 'Panama', 'Panama', 'Panama', 'Panama', 'Panama', 'Panama', 'Panama', 'Panama', 'Panama', 'Panama', 'Panama', 'Panama', 'Panama', 'Panama', 'Panama', 'Panama', 'Panama', 'Panama', 'Panama', 'Panama', 'Panama', 'Panama', 'Panama', 'Panama', 'Panama', 'Panama', 'Panama', 'Panama', 'Panama', 'Panama', 'Panama', 'Panama', 'Panama', 'Panama', 'Panama', 'Panama', 'Panama', 'Papua New Guinea', 'Papua New Guinea', 'Papua New Guinea', 'Papua New Guinea', 'Papua New Guinea', 'Papua New Guinea', 'Papua New Guinea', 'Papua New Guinea', 'Papua New Guinea', 'Papua New Guinea', 'Papua New Guinea', 'Papua New Guinea', 'Papua New Guinea', 'Papua New Guinea', 'Paraguay', 'Paraguay', 'Paraguay', 'Paraguay', 'Paraguay', 'Paraguay', 'Paraguay', 'Paraguay', 'Paraguay', 'Paraguay', 'Paraguay', 'Paraguay', 'Paraguay', 'Paraguay', 'Paraguay', 'Paraguay', 'Paraguay', 'Paraguay', 'Paraguay', 'Paraguay', 'Paraguay', 'Paraguay', 'Paraguay', 'Paraguay', 'Paraguay', 'Paraguay', 'Paraguay', 'Peru', 'Peru', 'Peru', 'Peru', 'Peru', 'Peru', 'Peru', 'Peru', 'Peru', 'Peru', 'Peru', 'Peru', 'Peru', 'Peru', 'Peru', 'Peru', 'Peru', 'Peru', 'Peru', 'Peru', 'Peru', 'Peru', 'Peru', 'Peru', 'Peru', 'Peru', 'Peru', 'Peru', 'Peru', 'Peru', 'Peru', 'Peru', 'Peru', 'Peru', 'Peru', 'Peru', 'Peru', 'Peru', 'Peru', 'Peru', 'Peru', 'Peru', 'Peru', 'Peru', 'Peru', 'Philippines', 'Philippines', 'Philippines', 'Philippines', 'Philippines', 'Philippines', 'Philippines', 'Philippines', 'Philippines', 'Philippines', 'Philippines', 'Philippines', 'Philippines', 'Philippines', 'Philippines', 'Philippines', 'Philippines', 'Philippines', 'Philippines', 'Philippines', 'Philippines', 'Philippines', 'Philippines', 'Philippines', 'Philippines', 'Philippines', 'Philippines', 'Philippines', 'Philippines', 'Philippines', 'Philippines', 'Philippines', 'Philippines', 'Philippines', 'Philippines', 'Philippines', 'Philippines', 'Philippines', 'Philippines', 'Philippines', 'Philippines', 'Philippines', 'Philippines', 'Philippines', 'Philippines', 'Philippines', 'Philippines', 'Philippines', 'Philippines', 'Philippines', 'Philippines', 'Philippines', 'Philippines', 'Philippines', 'Philippines', 'Poland', 'Poland', 'Poland', 'Poland', 'Poland', 'Poland', 'Poland', 'Poland', 'Poland', 'Poland', 'Poland', 'Poland', 'Poland', 'Poland', 'Poland', 'Poland', 'Poland', 'Poland', 'Poland', 'Poland', 'Poland', 'Poland', 'Poland', 'Poland', 'Poland', 'Poland', 'Poland', 'Poland', 'Poland', 'Poland', 'Poland', 'Poland', 'Poland', 'Poland', 'Portugal', 'Portugal', 'Portugal', 'Portugal', 'Portugal', 'Portugal', 'Portugal', 'Portugal', 'Portugal', 'Portugal', 'Portugal', 'Portugal', 'Portugal', 'Portugal', 'Portugal', 'Portugal', 'Portugal', 'Portugal', 'Portugal', 'Portugal', 'Portugal', 'Portugal', 'Portugal', 'Portugal', 'Portugal', 'Portugal', 'Portugal', 'Portugal', 'Portugal', 'Portugal', 'Portugal', 'Portugal', 'Portugal', 'Portugal', 'Portugal', 'Portugal', 'Portugal', 'Portugal', 'Portugal', 'Portugal', 'Portugal', 'Portugal', 'Portugal', 'Portugal', 'Portugal', 'Portugal', 'Portugal', 'Portugal', 'Portugal', 'Puerto Rico', 'Puerto Rico', 'Puerto Rico', 'Puerto Rico', 'Puerto Rico', 'Puerto Rico', 'Puerto Rico', 'Puerto Rico', 'Puerto Rico', 'Puerto Rico', 'Puerto Rico', 'Puerto Rico', 'Puerto Rico', 'Puerto Rico', 'Puerto Rico', 'Puerto Rico', 'Puerto Rico', 'Puerto Rico', 'Puerto Rico', 'Puerto Rico', 'Puerto Rico', 'Puerto Rico', 'Puerto Rico', 'Puerto Rico', 'Puerto Rico', 'Puerto Rico', 'Puerto Rico', 'Puerto Rico', 'Puerto Rico', 'Puerto Rico', 'Puerto Rico', 'Puerto Rico', 'Puerto Rico', 'Puerto Rico', 'Puerto Rico', 'Puerto Rico', 'Puerto Rico', 'Puerto Rico', 'Puerto Rico', 'Puerto Rico', 'Puerto Rico', 'Puerto Rico', 'Puerto Rico', 'Puerto Rico', 'Puerto Rico', 'Puerto Rico', 'Puerto Rico', 'Puerto Rico', 'Puerto Rico', 'Puerto Rico', 'Puerto Rico', 'Puerto Rico', 'Puerto Rico', 'Puerto Rico', 'Qatar', 'Qatar', 'Qatar', 'Qatar', 'Qatar', 'Qatar', 'Qatar', 'Qatar', 'Qatar', 'Qatar', 'Qatar', 'Qatar', 'Qatar', 'Qatar', 'Qatar', 'Qatar', 'Qatar', 'Qatar', 'Qatar', 'Qatar', 'Qatar', 'Qatar', 'Qatar', 'Qatar', 'Qatar', 'Qatar', 'Romania', 'Romania', 'Romania', 'Romania', 'Romania', 'Romania', 'Romania', 'Romania', 'Romania', 'Romania', 'Romania', 'Romania', 'Romania', 'Romania', 'Romania', 'Romania', 'Romania', 'Romania', 'Romania', 'Romania', 'Romania', 'Romania', 'Romania', 'Romania', 'Romania', 'Romania', 'Romania', 'Romania', 'Russia', 'Russia', 'Russia', 'Russia', 'Russia', 'Russia', 'Russia', 'Russia', 'Russia', 'Russia', 'Russia', 'Russia', 'Russia', 'Russia', 'Russia', 'Russia', 'Russia', 'Russia', 'Russia', 'Russia', 'Russia', 'Russia', 'Russia', 'Russia', 'Russia', 'Russia', 'Russia', 'Russia', 'Russia', 'Rwanda', 'Rwanda', 'Rwanda', 'Rwanda', 'Rwanda', 'Rwanda', 'Rwanda', 'Rwanda', 'Rwanda', 'Rwanda', 'Rwanda', 'Rwanda', 'Rwanda', 'Rwanda', 'Rwanda', 'Rwanda', 'Rwanda', 'Rwanda', 'Rwanda', 'Rwanda', 'Rwanda', 'Rwanda', 'Rwanda', 'Rwanda', 'Rwanda', 'Rwanda', 'Rwanda', 'Rwanda', 'Rwanda', 'Rwanda', 'Rwanda', 'Samoa', 'Samoa', 'Samoa', 'Samoa', 'Samoa', 'Samoa', 'Samoa', 'São Tomé and Príncipe', 'São Tomé and Príncipe', 'São Tomé and Príncipe', 'São Tomé and Príncipe', 'São Tomé and Príncipe', 'São Tomé and Príncipe', 'São Tomé and Príncipe', 'São Tomé and Príncipe', 'São Tomé and Príncipe', 'São Tomé and Príncipe', 'São Tomé and Príncipe', 'Senegal', 'Senegal', 'Senegal', 'Senegal', 'Senegal', 'Senegal', 'Senegal', 'Senegal', 'Senegal', 'Senegal', 'Senegal', 'Senegal', 'Senegal', 'Senegal', 'Senegal', 'Senegal', 'Senegal', 'Senegal', 'Senegal', 'Senegal', 'Senegal', 'Serbia', 'Serbia', 'Serbia', 'Serbia', 'Serbia', 'Serbia', 'Serbia', 'Serbia', 'Serbia', 'Serbia', 'Serbia', 'Serbia', 'Serbia', 'Serbia', 'Serbia', 'Serbia', 'Serbia', 'Serbia', 'Serbia', 'Seychelles', 'Seychelles', 'Seychelles', 'Seychelles', 'Seychelles', 'Seychelles', 'Seychelles', 'Seychelles', 'Sierra Leone', 'Sierra Leone', 'Sierra Leone', 'Sierra Leone', 'Sierra Leone', 'Sierra Leone', 'Sierra Leone', 'Sierra Leone', 'Sierra Leone', 'Sierra Leone', 'Sierra Leone', 'Sierra Leone', 'Sierra Leone', 'Sierra Leone', 'Sierra Leone', 'Sierra Leone', 'Sierra Leone', 'Sierra Leone', 'Sierra Leone', 'Sierra Leone', 'Sierra Leone', 'Sierra Leone', 'Sierra Leone', 'Sierra Leone', 'Sierra Leone', 'Sierra Leone', 'Sierra Leone', 'Sierra Leone', 'Sierra Leone', 'Sierra Leone', 'Sierra Leone', 'Sierra Leone', 'Sierra Leone', 'Sierra Leone', 'Sierra Leone', 'Sierra Leone', 'Sierra Leone', 'Sierra Leone', 'Sierra Leone', 'Sierra Leone', 'Sierra Leone', 'Sierra Leone', 'Sierra Leone', 'Singapore', 'Singapore', 'Singapore', 'Singapore', 'Singapore', 'Singapore', 'Singapore', 'Singapore', 'Singapore', 'Singapore', 'Singapore', 'Singapore', 'Singapore', 'Singapore', 'Singapore', 'Singapore', 'Singapore', 'Singapore', 'Singapore', 'Singapore', 'Singapore', 'Singapore', 'Singapore', 'Singapore', 'Singapore', 'Singapore', 'Singapore', 'Singapore', 'Singapore', 'Singapore', 'Singapore', 'Singapore', 'Singapore', 'Singapore', 'Singapore', 'Singapore', 'Singapore', 'Singapore', 'Singapore', 'Singapore', 'Singapore', 'Singapore', 'Singapore', 'Singapore', 'Singapore', 'Slovakia', 'Slovakia', 'Slovakia', 'Slovakia', 'Slovakia', 'Slovakia', 'Slovakia', 'Slovakia', 'Slovakia', 'Slovakia', 'Slovakia', 'Slovakia', 'Slovakia', 'Slovakia', 'Slovakia', 'Slovakia', 'Slovakia', 'Slovakia', 'Slovakia', 'Slovakia', 'Slovakia', 'Slovakia', 'Slovakia', 'Slovakia', 'Slovakia', 'Slovakia', 'Slovakia', 'Slovakia', 'Slovenia', 'Slovenia', 'Slovenia', 'Slovenia', 'Slovenia', 'Slovenia', 'Slovenia', 'Slovenia', 'Slovenia', 'Slovenia', 'Slovenia', 'Slovenia', 'Slovenia', 'Slovenia', 'Slovenia', 'Slovenia', 'Slovenia', 'Slovenia', 'Slovenia', 'Slovenia', 'Slovenia', 'Slovenia', 'Slovenia', 'Slovenia', 'Slovenia', 'Slovenia', 'Slovenia', 'Slovenia', 'Slovenia', 'Slovenia', 'Solomon Islands', 'Solomon Islands', 'Solomon Islands', 'Solomon Islands', 'Solomon Islands', 'Solomon Islands', 'Solomon Islands', 'Solomon Islands', 'Solomon Islands', 'Somalia', 'South Africa', 'South Africa', 'South Africa', 'South Africa', 'South Africa', 'South Africa', 'South Africa', 'South Africa', 'South Africa', 'South Africa', 'South Africa', 'South Africa', 'South Africa', 'South Africa', 'South Africa', 'South Africa', 'South Africa', 'South Africa', 'South Africa', 'South Africa', 'South Africa', 'South Africa', 'South Africa', 'South Africa', 'South Africa', 'South Africa', 'South Africa', 'South Africa', 'South Africa', 'South Africa', 'South Africa', 'South Africa', 'South Africa', 'South Africa', 'South Africa', 'South Africa', 'South Africa', 'South Africa', 'South Africa', 'South Africa', 'South Africa', 'South Sudan', 'Soviet Union', 'Soviet Union', 'Soviet Union', 'Soviet Union', 'Soviet Union', 'Soviet Union', 'Soviet Union', 'Soviet Union', 'Soviet Union', 'Soviet Union', 'Soviet Union', 'Spain', 'Spain', 'Spain', 'Spain', 'Spain', 'Spain', 'Spain', 'Spain', 'Spain', 'Spain', 'Spain', 'Spain', 'Spain', 'Spain', 'Spain', 'Spain', 'Spain', 'Spain', 'Spain', 'Spain', 'Spain', 'Spain', 'Spain', 'Spain', 'Spain', 'Spain', 'Spain', 'Spain', 'Spain', 'Spain', 'Spain', 'Spain', 'Spain', 'Spain', 'Spain', 'Spain', 'Spain', 'Spain', 'Spain', 'Spain', 'Spain', 'Spain', 'Spain', 'Sri Lanka', 'Sri Lanka', 'Sri Lanka', 'Sri Lanka', 'Sri Lanka', 'Sri Lanka', 'Sri Lanka', 'Sri Lanka', 'Sri Lanka', 'Sri Lanka', 'Sri Lanka', 'Sri Lanka', 'Sri Lanka', 'Sri Lanka', 'Sri Lanka', 'Sri Lanka', 'Sri Lanka', 'Sri Lanka', 'Sri Lanka', 'Sri Lanka', 'Sri Lanka', 'Sri Lanka', 'Sri Lanka', 'Sri Lanka', 'Sri Lanka', 'Sri Lanka', 'Sri Lanka', 'Sri Lanka', 'Sri Lanka', 'Sri Lanka', 'Sri Lanka', 'Sri Lanka', 'Sri Lanka', 'Sri Lanka', 'Sri Lanka', 'Sri Lanka', 'Sri Lanka', 'Sri Lanka', 'Sri Lanka', 'Sri Lanka', 'Sri Lanka', 'Sri Lanka', 'Sri Lanka', 'Sri Lanka', 'Sri Lanka', 'Sri Lanka', 'Sri Lanka', 'St. Kitts and Nevis', 'St. Kitts and Nevis', 'St. Kitts and Nevis', 'St. Kitts and Nevis', 'St. Kitts and Nevis', 'St. Kitts and Nevis', 'St. Kitts and Nevis', 'St. Kitts and Nevis', 'St. Kitts and Nevis', 'St. Kitts and Nevis', 'St. Lucia', 'St. Lucia', 'St. Lucia', 'St. Lucia', 'St. Lucia', 'St. Lucia', 'St. Lucia', 'St. Lucia', 'St. Lucia', 'St. Lucia', 'St. Lucia', 'St. Lucia', 'St. Lucia', 'St. Vincent and Grenadines', 'St. Vincent and Grenadines', 'St. Vincent and Grenadines', 'St. Vincent and Grenadines', 'St. Vincent and Grenadines', 'St. Vincent and Grenadines', 'St. Vincent and Grenadines', 'St. Vincent and Grenadines', 'St. Vincent and Grenadines', 'St. Vincent and Grenadines', 'St. Vincent and Grenadines', 'St. Vincent and Grenadines', 'St. Vincent and Grenadines', 'St. Vincent and Grenadines', 'Sudan', 'Sudan', 'Sudan', 'Sudan', 'Sudan', 'Sudan', 'Sudan', 'Sudan', 'Sudan', 'Sudan', 'Sudan', 'Sudan', 'Sudan', 'Sudan', 'Sudan', 'Sudan', 'Sudan', 'Sudan', 'Sudan', 'Sudan', 'Sudan', 'Sudan', 'Sudan', 'Sudan', 'Sudan', 'Sudan', 'Sudan', 'Sudan', 'Sudan', 'Sudan', 'Sudan', 'Sudan', 'Sudan', 'Sudan', 'Sudan', 'Sudan', 'Sudan', 'Sudan', 'Sudan', 'Sudan', 'Sudan', 'Sudan', 'Suriname', 'Suriname', 'Suriname', 'Suriname', 'Suriname', 'Suriname', 'Suriname', 'Swaziland', 'Swaziland', 'Swaziland', 'Swaziland', 'Swaziland', 'Swaziland', 'Swaziland', 'Swaziland', 'Swaziland', 'Swaziland', 'Swaziland', 'Swaziland', 'Swaziland', 'Swaziland', 'Swaziland', 'Swaziland', 'Swaziland', 'Swaziland', 'Swaziland', 'Swaziland', 'Swaziland', 'Swaziland', 'Swaziland', 'Swaziland', 'Swaziland', 'Sweden', 'Sweden', 'Sweden', 'Sweden', 'Sweden', 'Sweden', 'Sweden', 'Sweden', 'Sweden', 'Sweden', 'Sweden', 'Sweden', 'Sweden', 'Sweden', 'Sweden', 'Sweden', 'Sweden', 'Sweden', 'Sweden', 'Sweden', 'Sweden', 'Sweden', 'Sweden', 'Sweden', 'Sweden', 'Sweden', 'Sweden', 'Sweden', 'Sweden', 'Sweden', 'Sweden', 'Sweden', 'Sweden', 'Sweden', 'Sweden', 'Sweden', 'Sweden', 'Sweden', 'Sweden', 'Sweden', 'Sweden', 'Sweden', 'Sweden', 'Sweden', 'Sweden', 'Sweden', 'Sweden', 'Sweden', 'Sweden', 'Sweden', 'Sweden', 'Sweden', 'Sweden', 'Sweden', 'Sweden', 'Sweden', 'Sweden', 'Switzerland', 'Switzerland', 'Switzerland', 'Switzerland', 'Switzerland', 'Switzerland', 'Switzerland', 'Switzerland', 'Switzerland', 'Switzerland', 'Switzerland', 'Switzerland', 'Switzerland', 'Switzerland', 'Switzerland', 'Switzerland', 'Switzerland', 'Switzerland', 'Switzerland', 'Switzerland', 'Switzerland', 'Switzerland', 'Switzerland', 'Switzerland', 'Switzerland', 'Switzerland', 'Switzerland', 'Switzerland', 'Switzerland', 'Switzerland', 'Switzerland', 'Switzerland', 'Switzerland', 'Switzerland', 'Switzerland', 'Switzerland', 'Syria', 'Syria', 'Syria', 'Syria', 'Syria', 'Syria', 'Syria', 'Syria', 'Syria', 'Syria', 'Syria', 'Taiwan', 'Taiwan', 'Taiwan', 'Taiwan', 'Taiwan', 'Taiwan', 'Taiwan', 'Taiwan', 'Taiwan', 'Taiwan', 'Taiwan', 'Taiwan', 'Taiwan', 'Taiwan', 'Taiwan', 'Taiwan', 'Taiwan', 'Taiwan', 'Taiwan', 'Taiwan', 'Taiwan', 'Taiwan', 'Taiwan', 'Taiwan', 'Taiwan', 'Taiwan', 'Taiwan', 'Taiwan', 'Taiwan', 'Taiwan', 'Taiwan', 'Taiwan', 'Taiwan', 'Taiwan', 'Taiwan', 'Taiwan', 'Taiwan', 'Taiwan', 'Taiwan', 'Taiwan', 'Taiwan', 'Taiwan', 'Taiwan', 'Taiwan', 'Taiwan', 'Taiwan', 'Taiwan', 'Taiwan', 'Taiwan', 'Taiwan', 'Taiwan', 'Taiwan', 'Taiwan', 'Tajikistan', 'Tajikistan', 'Tajikistan', 'Tajikistan', 'Tajikistan', 'Tajikistan', 'Tajikistan', 'Tajikistan', 'Tajikistan', 'Tajikistan', 'Tajikistan', 'Tajikistan', 'Tajikistan', 'Tajikistan', 'Tajikistan', 'Tajikistan', 'Tajikistan', 'Tajikistan', 'Tajikistan', 'Tajikistan', 'Tajikistan', 'Tajikistan', 'Tajikistan', 'Tajikistan', 'Tajikistan', 'Tajikistan', 'Tajikistan', 'Tajikistan', 'Tanzania', 'Tanzania', 'Tanzania', 'Tanzania', 'Tanzania', 'Tanzania', 'Tanzania', 'Tanzania', 'Tanzania', 'Tanzania', 'Tanzania', 'Tanzania', 'Tanzania', 'Tanzania', 'Tanzania', 'Tanzania', 'Tanzania', 'Tanzania', 'Tanzania', 'Tanzania', 'Tanzania', 'Tanzania', 'Tanzania', 'Tanzania', 'Tanzania', 'Tanzania', 'Tanzania', 'Tanzania', 'Tanzania', 'Tanzania', 'Tanzania', 'Tanzania', 'Tanzania', 'Tanzania', 'Tanzania', 'Tanzania', 'Tanzania', 'Tanzania', 'Tanzania', 'Tanzania', 'Tanzania', 'Tanzania', 'Tanzania', 'Tanzania', 'Tanzania', 'Tanzania', 'Tanzania', 'Thailand', 'Thailand', 'Thailand', 'Thailand', 'Thailand', 'Thailand', 'Thailand', 'Thailand', 'Thailand', 'Thailand', 'Thailand', 'Thailand', 'Thailand', 'Thailand', 'Thailand', 'Thailand', 'Thailand', 'Thailand', 'Thailand', 'Thailand', 'Thailand', 'Thailand', 'Thailand', 'Thailand', 'Thailand', 'Thailand', 'Thailand', 'Thailand', 'Thailand', 'Thailand', 'Thailand', 'Thailand', 'Thailand', 'Thailand', 'Thailand', 'Thailand', 'Thailand', 'Thailand', 'Thailand', 'Thailand', 'Thailand', 'Thailand', 'Thailand', 'Thailand', 'Thailand', 'Thailand', 'Thailand', 'Thailand', 'Thailand', 'Thailand', 'Thailand', 'Thailand', 'Timor-Leste', 'Timor-Leste', 'Timor-Leste', 'Timor-Leste', 'Timor-Leste', 'Timor-Leste', 'Timor-Leste', 'Timor-Leste', 'Timor-Leste', 'Timor-Leste', 'Timor-Leste', 'Timor-Leste', 'Timor-Leste', 'Timor-Leste', 'Togo', 'Togo', 'Togo', 'Togo', 'Togo', 'Togo', 'Togo', 'Togo', 'Togo', 'Togo', 'Togo', 'Tonga', 'Tonga', 'Tonga', 'Tonga', 'Tonga', 'Tonga', 'Tonga', 'Tonga', 'Tonga', 'Tonga', 'Tonga', 'Tonga', 'Tonga', 'Tonga', 'Tonga', 'Tonga', 'Tonga', 'Tonga', 'Tonga', 'Tonga', 'Tonga', 'Tonga', 'Tonga', 'Tonga', 'Tonga', 'Tonga', 'Trinidad and Tobago', 'Trinidad and Tobago', 'Trinidad and Tobago', 'Trinidad and Tobago', 'Trinidad and Tobago', 'Trinidad and Tobago', 'Trinidad and Tobago', 'Trinidad and Tobago', 'Trinidad and Tobago', 'Trinidad and Tobago', 'Trinidad and Tobago', 'Trinidad and Tobago', 'Trinidad and Tobago', 'Trinidad and Tobago', 'Trinidad and Tobago', 'Trinidad and Tobago', 'Trinidad and Tobago', 'Trinidad and Tobago', 'Trinidad and Tobago', 'Trinidad and Tobago', 'Trinidad and Tobago', 'Trinidad and Tobago', 'Trinidad and Tobago', 'Trinidad and Tobago', 'Trinidad and Tobago', 'Trinidad and Tobago', 'Trinidad and Tobago', 'Trinidad and Tobago', 'Trinidad and Tobago', 'Trinidad and Tobago', 'Trinidad and Tobago', 'Trinidad and Tobago', 'Trinidad and Tobago', 'Trinidad and Tobago', 'Tunisia', 'Tunisia', 'Tunisia', 'Tunisia', 'Tunisia', 'Tunisia', 'Tunisia', 'Tunisia', 'Tunisia', 'Tunisia', 'Tunisia', 'Tunisia', 'Tunisia', 'Tunisia', 'Tunisia', 'Tunisia', 'Tunisia', 'Tunisia', 'Tunisia', 'Tunisia', 'Tunisia', 'Tunisia', 'Tunisia', 'Tunisia', 'Tunisia', 'Tunisia', 'Tunisia', 'Tunisia', 'Turkey', 'Turkey', 'Turkey', 'Turkey', 'Turkey', 'Turkey', 'Turkey', 'Turkey', 'Turkey', 'Turkey', 'Turkey', 'Turkey', 'Turkey', 'Turkey', 'Turkey', 'Turkey', 'Turkey', 'Turkey', 'Turkey', 'Turkey', 'Turkey', 'Turkey', 'Turkey', 'Turkey', 'Turkey', 'Turkey', 'Turkey', 'Turkey', 'Turkey', 'Turkey', 'Turkmenistan', 'Turkmenistan', 'Turkmenistan', 'Turkmenistan', 'Turkmenistan', 'Turkmenistan', 'Turkmenistan', 'Turkmenistan', 'Turkmenistan', 'Turkmenistan', 'Turkmenistan', 'Turkmenistan', 'Turkmenistan', 'Turkmenistan', 'Turkmenistan', 'Turkmenistan', 'Turkmenistan', 'Turkmenistan', 'Turks and Caicos Islands', 'Tuvalu', 'Tuvalu', 'Tuvalu', 'Tuvalu', 'Tuvalu', 'Tuvalu', 'Tuvalu', 'Tuvalu', 'Tuvalu', 'Tuvalu', 'Tuvalu', 'Tuvalu', 'Tuvalu', 'Tuvalu', 'Tuvalu', 'Tuvalu', 'Tuvalu', 'Uganda', 'Uganda', 'Uganda', 'Uganda', 'Uganda', 'Uganda', 'Uganda', 'Uganda', 'Uganda', 'Uganda', 'Uganda', 'Uganda', 'Uganda', 'Uganda', 'Uganda', 'Uganda', 'Uganda', 'Uganda', 'Uganda', 'Uganda', 'Uganda', 'Uganda', 'Uganda', 'Uganda', 'Uganda', 'Ukraine', 'Ukraine', 'Ukraine', 'Ukraine', 'Ukraine', 'Ukraine', 'Ukraine', 'Ukraine', 'Ukraine', 'Ukraine', 'Ukraine', 'Ukraine', 'Ukraine', 'Ukraine', 'Ukraine', 'Ukraine', 'Ukraine', 'Ukraine', 'Ukraine', 'Ukraine', 'Ukraine', 'Ukraine', 'Ukraine', 'Ukraine', 'Ukraine', 'Ukraine', 'Ukraine', 'Ukraine', 'Ukraine', 'Ukraine', 'Ukraine', 'Ukraine', 'Ukraine', 'Ukraine', 'Ukraine', 'Ukraine', 'Ukraine', 'United Arab Emirates', 'United Kingdom', 'United Kingdom', 'United Kingdom', 'United Kingdom', 'United Kingdom', 'United Kingdom', 'United Kingdom', 'United Kingdom', 'United Kingdom', 'United Kingdom', 'United Kingdom', 'United Kingdom', 'United Kingdom', 'United Kingdom', 'United Kingdom', 'United Kingdom', 'United Kingdom', 'United Kingdom', 'United Kingdom', 'United Kingdom', 'United Kingdom', 'United Kingdom', 'United Kingdom', 'United Kingdom', 'United Kingdom', 'United Kingdom', 'United Kingdom', 'United Kingdom', 'United Kingdom', 'United Kingdom', 'United Kingdom', 'United Kingdom', 'United Kingdom', 'United Kingdom', 'United Kingdom', 'United Kingdom', 'United Kingdom', 'United Kingdom', 'United Kingdom', 'United Kingdom', 'United Kingdom', 'United Kingdom', 'United Kingdom', 'United Kingdom', 'United Kingdom', 'United Kingdom', 'United Kingdom', 'United Kingdom', 'United Kingdom', 'United Kingdom', 'United Kingdom', 'United Kingdom', 'United Kingdom', 'United Kingdom', 'United Kingdom', 'United Kingdom', 'United Kingdom', 'United States', 'United States', 'United States', 'United States', 'United States', 'United States', 'United States', 'United States', 'United States', 'United States', 'United States', 'United States', 'United States', 'United States', 'United States', 'United States', 'United States', 'United States', 'United States', 'United States', 'United States', 'United States', 'United States', 'United States', 'United States', 'United States', 'United States', 'United States', 'United States', 'United States', 'United States', 'United States', 'United States', 'United States', 'United States', 'United States', 'United States', 'United States', 'United States', 'United States', 'United States', 'United States', 'United States', 'United States', 'United States', 'United States', 'United States', 'United States', 'United States', 'United States', 'United States', 'United States', 'United States', 'United States', 'United States', 'United States', 'Uruguay', 'Uruguay', 'Uruguay', 'Uruguay', 'Uruguay', 'Uruguay', 'Uruguay', 'Uruguay', 'Uruguay', 'Uruguay', 'Uruguay', 'Uruguay', 'Uruguay', 'Uruguay', 'Uruguay', 'Uruguay', 'Uruguay', 'Uruguay', 'Uruguay', 'Uruguay', 'Uruguay', 'Uruguay', 'Uruguay', 'Uruguay', 'Uruguay', 'Uruguay', 'Uruguay', 'Uruguay', 'Uruguay', 'Uruguay', 'Uruguay', 'Uruguay', 'Uruguay', 'Uruguay', 'Uruguay', 'Uruguay', 'Uruguay', 'Uzbekistan', 'Uzbekistan', 'Uzbekistan', 'Uzbekistan', 'Uzbekistan', 'Uzbekistan', 'Uzbekistan', 'Uzbekistan', 'Uzbekistan', 'Uzbekistan', 'Uzbekistan', 'Uzbekistan', 'Uzbekistan', 'Uzbekistan', 'Uzbekistan', 'Uzbekistan', 'Vanuatu', 'Vanuatu', 'Vanuatu', 'Vanuatu', 'Vanuatu', 'Venezuela', 'Venezuela', 'Venezuela', 'Venezuela', 'Venezuela', 'Venezuela', 'Venezuela', 'Venezuela', 'Venezuela', 'Venezuela', 'Venezuela', 'Venezuela', 'Venezuela', 'Venezuela', 'Venezuela', 'Venezuela', 'Venezuela', 'Venezuela', 'Venezuela', 'Venezuela', 'Venezuela', 'Venezuela', 'Venezuela', 'Venezuela', 'Venezuela', 'Venezuela', 'Venezuela', 'Venezuela', 'Venezuela', 'Venezuela', 'Venezuela', 'Venezuela', 'Venezuela', 'Venezuela', 'Venezuela', 'Venezuela', 'Venezuela', 'Venezuela', 'Venezuela', 'Venezuela', 'Venezuela', 'Venezuela', 'Venezuela', 'Venezuela', 'Venezuela', 'Venezuela', 'Venezuela', 'Venezuela', 'Venezuela', 'Venezuela', 'Venezuela', 'Venezuela', 'Venezuela', 'Venezuela', 'Vietnam', 'Vietnam', 'Vietnam', 'Vietnam', 'Vietnam', 'Vietnam', 'Vietnam', 'Vietnam', 'Vietnam', 'Vietnam', 'Vietnam', 'Vietnam', 'Vietnam', 'Vietnam', 'Vietnam', 'Vietnam', 'Vietnam', 'Vietnam', 'Vietnam', 'Vietnam', 'Vietnam', 'Vietnam', 'Vietnam', 'Vietnam', 'Vietnam', 'Yemen', 'Yemen', 'Yemen', 'Yemen', 'Yemen', 'Yemen', 'Yemen', 'Yemen', 'Yemen', 'Yemen', 'Yemen', 'Yemen', 'Yemen', 'Yemen', 'Yemen', 'Yemen', 'Yemen', 'Yemen', 'Yemen', 'Yemen', 'Yemen', 'Yemen', 'Yemen', 'Yugoslavia', 'Yugoslavia', 'Yugoslavia', 'Yugoslavia', 'Yugoslavia', 'Yugoslavia', 'Yugoslavia', 'Yugoslavia', 'Yugoslavia', 'Yugoslavia', 'Yugoslavia', 'Yugoslavia', 'Yugoslavia', 'Yugoslavia', 'Yugoslavia', 'Yugoslavia', 'Yugoslavia', 'Yugoslavia', 'Zambia', 'Zambia', 'Zambia', 'Zambia', 'Zambia', 'Zambia', 'Zambia', 'Zambia', 'Zambia', 'Zambia', 'Zambia', 'Zambia', 'Zambia', 'Zambia', 'Zambia', 'Zambia', 'Zambia', 'Zambia', 'Zambia', 'Zambia', 'Zambia', 'Zambia', 'Zambia', 'Zambia', 'Zambia', 'Zambia', 'Zambia', 'Zambia', 'Zambia', 'Zambia', 'Zambia', 'Zambia', 'Zambia', 'Zambia', 'Zambia', 'Zambia', 'Zambia', 'Zambia', 'Zambia', 'Zambia', 'Zimbabwe', 'Zimbabwe', 'Zimbabwe', 'Zimbabwe', 'Zimbabwe', 'Zimbabwe', 'Zimbabwe', 'Zimbabwe', 'Zimbabwe', 'Zimbabwe', 'Zimbabwe', 'Zimbabwe', 'Zimbabwe', 'Zimbabwe', 'Zimbabwe', 'Zimbabwe', 'Zimbabwe']\n",
      "{'Nauru', 'Lesotho', 'Guinea-Bissau', 'Tonga', 'Malaysia', 'Netherlands', 'Comoros', 'Sri Lanka', 'Argentina', 'Georgia', 'Myanmar', 'Pakistan', 'Armenia', 'Nepal', 'Mozambique', 'Nicaragua', 'Costa Rica', 'Botswana', 'Soviet Union', 'Slovenia', 'Sudan', 'Mongolia', 'Jordan', 'Congo-Kinshasa', 'Japan', 'Algeria', 'Burkina Faso', 'China', 'Hungary', 'Philippines', 'Montenegro', 'Guinea', 'Mauritania', 'New Zealand', 'St. Lucia', 'Malawi', 'Madagascar', 'Hong Kong', 'Afghanistan', 'Sierra Leone', 'Russia', 'Libya', 'Thailand', 'Timor-Leste', 'Mali', 'Chad', 'Estonia', 'Dominican Republic', 'Namibia', 'Burundi', 'Gambia', 'Ukraine', \"Côte d'Ivoire\", 'Solomon Islands', 'Samoa', 'Barbados', 'Slovakia', 'Cape Verde', 'Macedonia', 'Norway', 'Iceland', 'Romania', 'Niger', 'Portugal', 'Uzbekistan', 'Lithuania', 'Papua New Guinea', 'Benin', 'France', 'Kiribati', 'Czechoslovakia', 'Taiwan', 'Tunisia', 'Turkey', 'Cyprus', 'Zambia', 'Morocco', 'Belgium', 'Bulgaria', 'Jamaica', 'Peru', 'Liberia', 'Italy', 'Kyrgyzstan', 'Guyana', 'Palau', 'Azerbaijan', 'Egypt', 'Turks and Caicos Islands', 'Bahamas', 'Bolivia', 'Kazakhstan', 'Denmark', 'Seychelles', 'Togo', 'Turkmenistan', 'Greece', 'Singapore', 'Switzerland', 'Colombia', 'Cameroon', 'Ecuador', 'Ethiopia', 'Trinidad and Tobago', 'Swaziland', 'Albania', 'Bhutan', 'Croatia', 'Equatorial Guinea', 'Panama', 'Antigua and Barbuda', 'Belize', 'Fiji', 'Yugoslavia', 'Guatemala', 'Ghana', 'El Salvador', 'Tajikistan', 'Paraguay', 'Serbia', 'United States', 'Gabon', 'Finland', 'Grenada', 'Iran', 'Poland', 'Brazil', 'Dominica', 'Qatar', 'São Tomé and Príncipe', 'Cambodia', 'St. Kitts and Nevis', 'Kosovo', 'Yemen', 'South Sudan', 'Nigeria', 'Moldova', 'Syria', 'Spain', 'Belarus', 'Czech Republic', 'Angola', 'Luxembourg', 'Palestinian Territories', 'Israel', 'Laos', 'United Arab Emirates', 'Senegal', 'Germany', 'Sweden', 'Vietnam', 'Austria', 'Mexico', 'Tanzania', 'South Africa', 'Canada', 'Indonesia', 'Mauritius', 'Zimbabwe', 'Bangladesh', 'Central African Republic', 'Maldives', 'Tuvalu', 'Australia', 'Vanuatu', 'India', 'Brunei', 'Kuwait', 'Iraq', 'Ireland', 'Honduras', 'Bosnia and Herzegovina', 'Puerto Rico', 'Korea', 'Congo-Brazzaville', 'Rwanda', 'Anguilla', 'Lebanon', 'Uganda', 'Suriname', 'Venezuela', 'St. Vincent and Grenadines', 'Chile', 'United Kingdom', 'Djibouti', 'Latvia', 'Malta', 'Somalia', 'Micronesia', 'Haiti', 'Uruguay', 'Kenya'}\n"
     ]
    }
   ],
   "source": [
    "list_countries = swiid.country.tolist() # neue Liste der Ländernamen aus dem Datensatz oben\n",
    "print(list_countries)\n",
    "\n",
    "# Löschen der Duplikate mit set()\n",
    "set_countries = set(list_countries)\n",
    "print(set_countries)\n"
   ]
  },
  {
   "cell_type": "code",
   "execution_count": 42,
   "id": "90d2a4d4",
   "metadata": {},
   "outputs": [
    {
     "name": "stdout",
     "output_type": "stream",
     "text": [
      "Anzahl der Einträge in Liste: 5226, Anzahl der Einträge in Set: 192\n"
     ]
    }
   ],
   "source": [
    "print(f\"Anzahl der Einträge in Liste: {len(list_countries)}, Anzahl der Einträge in Set: {len(set_countries)}\")"
   ]
  },
  {
   "cell_type": "markdown",
   "id": "ccc9cc4f",
   "metadata": {},
   "source": [
    "Weitere Methoden für Sets sind hier zu finden: https://www.w3schools.com/python/python_sets_methods.asp "
   ]
  },
  {
   "cell_type": "markdown",
   "id": "5aaeae91",
   "metadata": {},
   "source": [
    "Der letzte Datencontainer, den wir einführen wollen, ist das **Dictionary**. Hierbei handelt es sich um einen speziellen Datencontainer, da dieses nicht einzelne Datenpunkte, sondern **key:value Paare** enthält. Wir wollen dies wieder am Beispiel des obigen Datensatzes zeigen. Dazu erstellen wir aus den Listen list_countries, years und gini ein Dictionary, das die 3 Informationen für die jeweilige Spalte in der Tabelle speichert"
   ]
  },
  {
   "cell_type": "code",
   "execution_count": 44,
   "id": "f2f7bf1b",
   "metadata": {},
   "outputs": [
    {
     "name": "stdout",
     "output_type": "stream",
     "text": [
      "{'Afghanistan': 48.7}\n",
      "{'Afghanistan': [2007, 48.7]}\n"
     ]
    }
   ],
   "source": [
    "# nur ein Infopunkt (gini)\n",
    "country_info = {list_countries[0] : gini[0]} # kann auch mit dict() initiiert werden\n",
    "print(country_info)\n",
    "\n",
    "# zwei Infopunkte (years und gini)\n",
    "country_info = {list_countries[0] : [years[0], gini[0] ]}\n",
    "print(country_info)"
   ]
  },
  {
   "cell_type": "markdown",
   "id": "2aec3ed9",
   "metadata": {},
   "source": [
    "Wie das zweite Beispiel zeigt, kann der value auch aus mehreren Einzelelementen in einer Liste bestehen. Das ist beim key nicht möglich! Auch muss der **key in einem Dictionary einzigartig sein**. Wird ein key mit demselben Namen hinzugefügt, wird der ältere Eintrag überschrieben."
   ]
  },
  {
   "cell_type": "code",
   "execution_count": 46,
   "id": "9e645acc",
   "metadata": {},
   "outputs": [
    {
     "name": "stdout",
     "output_type": "stream",
     "text": [
      "{'Afghanistan': [2008, 48.7]}\n"
     ]
    }
   ],
   "source": [
    "# Einfügen eines neuen Eintrags\n",
    "\n",
    "# country_info[list_countries[100]] = [years[100], gini[100]]\n",
    "# print(country_info)\n",
    "\n",
    "# Überschreiben des ersten Eintrages\n",
    "\n",
    "country_info[list_countries[1]] = [years[1], gini[1]] # der  key hat wieder den Namen Afghanistan\n",
    "print(country_info)b"
   ]
  },
  {
   "cell_type": "markdown",
   "id": "0febe0ad",
   "metadata": {},
   "source": [
    "Um dieses Problem bei größeren Datenmengen zu umgehen, könnte man z.B. den Namen des Landes und das Jahr zu einem Key zusammenlegen. Im Gegensatz zu Tuples und Listen können Dictionaries nicht geschnitten, jedoch indiziert werden - hier ist der Index allerdings der key und nicht die Zahl der Position. Dictionaries können alle Datentypen beinhalten. Weitere Methoden für Dictionaries finden sich hier: https://www.w3schools.com/python/python_dictionaries_methods.asp ."
   ]
  },
  {
   "cell_type": "markdown",
   "id": "dc85833c",
   "metadata": {},
   "source": [
    "#### Teil 5: Loops und Conditional Statements"
   ]
  },
  {
   "cell_type": "markdown",
   "id": "e28a6590",
   "metadata": {},
   "source": [
    "In diesem Abschnitt wird es um Conditional Statements und Loops gehen. Beide sind für sich genommen sehr wichtige Konzepte in Python. Aber gerade in Kombination können sie oftmals ihre wahre Stärke auspielen. Fangen wir mit den Conditional Statements an. "
   ]
  },
  {
   "cell_type": "markdown",
   "id": "9f8cd738",
   "metadata": {},
   "source": [
    "#### Conditional Statements"
   ]
  },
  {
   "cell_type": "code",
   "execution_count": 50,
   "id": "90ed637e",
   "metadata": {},
   "outputs": [
    {
     "name": "stdout",
     "output_type": "stream",
     "text": [
      "Conditional 1 is True\n"
     ]
    }
   ],
   "source": [
    "cond_1 = False\n",
    "if cond_1 == True: \n",
    "    print(\"Conditional 1 is True\")"
   ]
  },
  {
   "cell_type": "markdown",
   "id": "31e50b3a",
   "metadata": {},
   "source": [
    "Als erstes setze ich eine Variable mit einem bestimmten Wahrheitswert fest. Anschließend sage ich Python folgendes:    \n",
    "\n",
    "WENN (if) Variable X (in diesem Fall cond_1) gleich (==) True ist, DANN gib mir folgenden Output (\"Conditional 1 is True\")"
   ]
  },
  {
   "cell_type": "markdown",
   "id": "27f61d31",
   "metadata": {},
   "source": [
    "Wir legen also eine bestimmte Bedingung fest, und nur wenn diese erfüllt ist, wird der eingerückte Teil nach dem Doppelpunkt ausgeführt. Die Bedingung steht nach dem sehr intuitiven \"if\".    \n",
    "Wichtig zu bemerken ist hier das doppelte Gleichzeichen!    \n",
    "Während wir mit einem einfachen Gleichzeichen einer Variable einen Wert zuweisen, überprüfen wir mit einem doppelten Gleichzeichen, ob zwei Werte gleich sind. Das doppelte Gleichzeichen ist ein **Vergleichsoperator**."
   ]
  },
  {
   "cell_type": "code",
   "execution_count": 51,
   "id": "fdb79b2d",
   "metadata": {},
   "outputs": [
    {
     "name": "stdout",
     "output_type": "stream",
     "text": [
      "True\n",
      "True\n"
     ]
    }
   ],
   "source": [
    "print(1 == 1)     # Print the boolean value of the comparsion: 1 is equal to 1\n",
    "\n",
    "cond_2 = False\n",
    "print(cond_1 == cond_2) # Print the boolean value of the comparsion: value of cond_1 is equal to value of cond_2"
   ]
  },
  {
   "cell_type": "markdown",
   "id": "a52839e7",
   "metadata": {},
   "source": [
    "Es gibt aber auch noch andere Vergleichsoperatoren, wie \"<\", \">\", \">=\" oder =<. Jeder dieser Operatoren kann zudem auch mit einem Ausrufezeichen verneint werden. Einige Beispiele: "
   ]
  },
  {
   "cell_type": "code",
   "execution_count": 52,
   "id": "3777dbb1",
   "metadata": {},
   "outputs": [
    {
     "name": "stdout",
     "output_type": "stream",
     "text": [
      "True\n",
      "True\n",
      "True\n",
      "False\n"
     ]
    }
   ],
   "source": [
    "print(1 <= 1)   # Print the boolean value of the comparsion: 1 is less or equal to 1\n",
    "print(1 <= 2)   # Print the boolean value of the comparsion: 1 is less of equal to 2\n",
    "print(1 != 2)   # Print the boolean value of the comparsion: 1 is NOT equal to 2\n",
    "print(35 >= 56) # Print the boolean value of the comparsion: 35 is greater or equal to 56"
   ]
  },
  {
   "cell_type": "markdown",
   "id": "7a20d1c6",
   "metadata": {},
   "source": [
    "Wir wissen nun also wie wir eine Bedingung aufstellen können.    \n",
    "Als nächstes schauen wir uns die Verbindung zu den \"If-Statements\" an.     \n",
    "Wie oben bereits beim Beispiel gesehen, können wir Python sagen das er bestimmten Code ausführen soll, aber nur wenn eine bestimmte Bedingung erfüllt ist. Das Konzept geht aber noch weiter. Wieder zuerst ein Beispiel:"
   ]
  },
  {
   "cell_type": "code",
   "execution_count": 53,
   "id": "3b992141",
   "metadata": {},
   "outputs": [
    {
     "name": "stdout",
     "output_type": "stream",
     "text": [
      "Conditional 3 is false\n"
     ]
    }
   ],
   "source": [
    "cond_3 = False\n",
    "\n",
    "if cond_3 == True: \n",
    "    print(\"Conditional 3 is True\")\n",
    "else: \n",
    "    print(\"Conditional 3 is false\")"
   ]
  },
  {
   "cell_type": "markdown",
   "id": "bb9df887",
   "metadata": {},
   "source": [
    "Wir können also nicht nur eine \"Wenn-Bedingung\" setzen, sondern auch eine \"Sonst-Bedingung\". Diese wird immer dann ausgeführt, wenn die If-Bedingung nicht erfüllt ist. Wir können aber auch sogenannte \"Elif\" Bedingungen einfügen. Das ist eine Kombination aus \"else\" und \"if\". Dahinter müssen dann aber auch ausführen was für eine Bedingung gelten muss. Sonst weiß Python nicht in welches Statement er rein muss. "
   ]
  },
  {
   "cell_type": "code",
   "execution_count": 54,
   "id": "b848e807",
   "metadata": {},
   "outputs": [
    {
     "name": "stdout",
     "output_type": "stream",
     "text": [
      "Example 1 is 5\n"
     ]
    }
   ],
   "source": [
    "example_1 = 5 \n",
    "\n",
    "if example_1 == 1: \n",
    "    print(\"Example 1 is 1\")   \n",
    "elif example_1 == 2:\n",
    "    print(\"Example 1 is 2\")  \n",
    "elif example_1 == 3:\n",
    "    print(\"Example 1 is 3\")  \n",
    "elif example_1 == 4:\n",
    "    print(\"Example 1 is 4\")    \n",
    "elif example_1 == 5:\n",
    "    print(\"Example 1 is 5\")   \n",
    "else: \n",
    "    print(\"Example is not in range of 1-5\")"
   ]
  },
  {
   "cell_type": "markdown",
   "id": "f5353dcc",
   "metadata": {},
   "source": [
    "So viel zu der Theorie von Vergleichsoperatoren und Conditional Statements.  "
   ]
  },
  {
   "cell_type": "markdown",
   "id": "c5d8d769",
   "metadata": {},
   "source": [
    "#### Loops"
   ]
  },
  {
   "cell_type": "markdown",
   "id": "b090737a",
   "metadata": {},
   "source": [
    "Nun zu den Loops oder auch Schleifen. Diese sind in der Lage, bestimmten Code zu loopen, also beliebig oft zu wiederholen. Es gibt zwei zentrale Formen von Schleifen, einmal die While-Schleifen und einmal die For-Schleifen. Diese kann man nachher noch mit Befehlen wie \"break\" oder \"continue\" abwandeln.    \n",
    "Für den Anfang werden uns aber die zwei normalen Formen völlig ausreichen.  "
   ]
  },
  {
   "cell_type": "markdown",
   "id": "849fe2e2",
   "metadata": {},
   "source": [
    "##### For-Schleife"
   ]
  },
  {
   "cell_type": "code",
   "execution_count": 55,
   "id": "1bf30519",
   "metadata": {},
   "outputs": [
    {
     "name": "stdout",
     "output_type": "stream",
     "text": [
      "0\n",
      "1\n",
      "2\n",
      "3\n",
      "4\n"
     ]
    }
   ],
   "source": [
    "for x in range(5): \n",
    "    print(x)"
   ]
  },
  {
   "cell_type": "markdown",
   "id": "23a2f0b8",
   "metadata": {},
   "source": [
    "Erklärung: Wir haben einmal den Schleifenkopf (for x in range(5): ) und einmal den Körper der Schleife ( print(x) ). Der Schleifenkopf besteht aus dem Befehl \"for\", der signalisiert das wir eine For-Schleife haben. Dazu kommt das x, das unsere Laufvariable ist. Diese startet bei dem Wert 0 und geht in diesem Fall bis 4. \"range\" zeigt an, wie weit wir mit der Schleife gehen. \n",
    "\n",
    "Im Schleifenkörper steht nun der Code, der wiederholt werden soll. \n",
    "\n",
    "Man kann eine For-Schleife allerdings nicht nur in einer bestimmten Range durchlaufen lassen, sondern auch beispielsweise über einen Array. Dazu später mehr."
   ]
  },
  {
   "cell_type": "markdown",
   "id": "be520215",
   "metadata": {},
   "source": [
    "##### While-Schleife"
   ]
  },
  {
   "cell_type": "code",
   "execution_count": 56,
   "id": "872dc1b3",
   "metadata": {},
   "outputs": [
    {
     "name": "stdout",
     "output_type": "stream",
     "text": [
      "0\n",
      "1\n",
      "2\n",
      "3\n",
      "4\n"
     ]
    }
   ],
   "source": [
    "count = 0\n",
    "while count < 5:\n",
    "    print(count)\n",
    "    count = count + 1"
   ]
  },
  {
   "cell_type": "markdown",
   "id": "3382494c",
   "metadata": {},
   "source": [
    "Erklärung: Auch hier haben wir wieder einen Schleifenkopf mit dem Befehl \"while\" der angibt welche Schleife wir benutzen, gefolgt von einem Conditional Statement. Solange dieses Statement True ist, wird die While-Schleife wiederholt. Im Schleifenkörper ist erneut der Code der wiederholt werden soll. "
   ]
  },
  {
   "cell_type": "markdown",
   "id": "827c4aef",
   "metadata": {},
   "source": [
    "Interessant wird es nun, wenn man anfängt die Condotional Statements mit den Schleifen zu wiederholen."
   ]
  },
  {
   "cell_type": "markdown",
   "id": "a39ec218",
   "metadata": {},
   "source": [
    "Als erstes werden wir dafür wieder unseren Datensatz öffnen. Diesmal allerdings als \"List of Lists\". Das bedeutet, wir haben einen zweidimensionalen Array. Jede Zeile ist ein Array. Der gesamte Datensatz, ist also ein Array, der Arrays enthält."
   ]
  },
  {
   "cell_type": "code",
   "execution_count": 57,
   "id": "c2656770",
   "metadata": {},
   "outputs": [],
   "source": [
    "from csv import reader\n",
    "opened_file = open(\"swiid7_1_summary.csv\")\n",
    "read_file = reader(opened_file)\n",
    "swiid_2 = list(read_file)"
   ]
  },
  {
   "cell_type": "code",
   "execution_count": 58,
   "id": "a4d316f1",
   "metadata": {},
   "outputs": [
    {
     "name": "stdout",
     "output_type": "stream",
     "text": [
      "['country', 'year', 'gini_disp', 'gini_disp_se', 'gini_mkt', 'gini_mkt_se', 'abs_red', 'abs_red_se', 'rel_red', 'rel_red_se']\n",
      "['Afghanistan', '2007', '30.4', '2.5', '33.3', '2.8', '', '', '', '']\n",
      "['Afghanistan', '2008', '30.5', '2.5', '33.4', '2.9', '', '', '', '']\n",
      "['Afghanistan', '2009', '30.5', '2.5', '33.6', '3', '', '', '', '']\n",
      "['Afghanistan', '2010', '30.5', '2.7', '33.7', '3', '', '', '', '']\n"
     ]
    }
   ],
   "source": [
    "for i in swiid_2[:5]:\n",
    "    print(i)"
   ]
  },
  {
   "cell_type": "markdown",
   "id": "a429a3b8",
   "metadata": {},
   "source": [
    "Hier sehen wir, wie die ersten 5 Einträge des Datensatzes aussehen. Die For-Schleife haben wir in den eckigen Klammern so angepasst, dass sie vom Anfang (dargestellt durch den Doppelpunkt) bis zum 4. Eintrag durchläuft und nicht durch den gesamten Datensatz.     \n",
    "Wir sehen das abgesehen von der ersten Zeile, wo die Titel drin sind, jeder Eintrag dieselbe Struktur hat. Das machen wir uns im folgenden zu Nutze. An erster Stelle steht immer der Name des Landes, also filtern wir einfach einmal danach."
   ]
  },
  {
   "cell_type": "code",
   "execution_count": 59,
   "id": "a1ec5f57",
   "metadata": {},
   "outputs": [
    {
     "name": "stdout",
     "output_type": "stream",
     "text": [
      "['Afghanistan', '2007', '30.4', '2.5', '33.3', '2.8', '', '', '', '']\n",
      "['Afghanistan', '2008', '30.5', '2.5', '33.4', '2.9', '', '', '', '']\n",
      "['Afghanistan', '2009', '30.5', '2.5', '33.6', '3', '', '', '', '']\n",
      "['Afghanistan', '2010', '30.5', '2.7', '33.7', '3', '', '', '', '']\n",
      "['Afghanistan', '2011', '30.6', '2.7', '33.7', '3', '', '', '', '']\n",
      "['Afghanistan', '2012', '30.6', '2.6', '33.8', '3.1', '', '', '', '']\n"
     ]
    }
   ],
   "source": [
    "for i in swiid_2:      # Loop through the whole dataset\n",
    "    country_2 = i[0]   # For every line, we safe the first entry, which is the country, into the variable country_2\n",
    "    if country_2 == \"Afghanistan\":     # If the country we safed, is equal to Afghanistan, we go in the conditional statement\n",
    "        print(i)      # Print the whole line"
   ]
  },
  {
   "cell_type": "markdown",
   "id": "22f5e6b2",
   "metadata": {},
   "source": [
    "Dasselbe funktioniert natürlich auch wenn wir nach den Jahren filtern. Nur müssen wir dann den zweiten Eintrag benutzen."
   ]
  },
  {
   "cell_type": "code",
   "execution_count": 60,
   "id": "04fb212e",
   "metadata": {},
   "outputs": [
    {
     "name": "stdout",
     "output_type": "stream",
     "text": [
      "['Colombia', '2017', '46.9', '1.2', '49', '1.5', '2.1', '1.9', '4.3', '2.4']\n",
      "['Costa Rica', '2017', '46.1', '1.4', '45.7', '2.8', '-0.4', '3.1', '-0.9', '4.2']\n",
      "['Indonesia', '2017', '39.3', '1.9', '44.3', '2.3', '', '', '', '']\n",
      "['Singapore', '2017', '38.6', '1.5', '43.6', '2.2', '5', '2.7', '11.5', '3.5']\n",
      "['United Kingdom', '2017', '32.5', '0.7', '50.8', '1', '18.3', '1.2', '36', '1.6']\n",
      "['Uruguay', '2017', '35.9', '0.8', '46.4', '1.1', '10.5', '1.4', '22.6', '1.8']\n"
     ]
    }
   ],
   "source": [
    "for i in swiid_2:      # Loop through the whole dataset\n",
    "    year_2 = i[1]   # For every line, we safe the second entry, which is the year, into the variable year_2\n",
    "    if year_2 == \"2017\":     # If the year we safed, is equal to 2017, we go in the conditional statement\n",
    "        print(i)      # Print the whole line"
   ]
  },
  {
   "cell_type": "markdown",
   "id": "b967098a",
   "metadata": {},
   "source": [
    "#### Teil 6: Funktionen\n"
   ]
  },
  {
   "cell_type": "markdown",
   "id": "df2ea8f2",
   "metadata": {},
   "source": [
    "Funktionen sind ein sehr nützliches Hilfsmittel in Python. Es gibt eine Reihe von integrierten Funktionen in Python, zum Beispiel round()"
   ]
  },
  {
   "cell_type": "code",
   "execution_count": null,
   "id": "50cc5d06",
   "metadata": {},
   "outputs": [],
   "source": [
    "round(7.4354334233)"
   ]
  },
  {
   "cell_type": "markdown",
   "id": "d2a145f7",
   "metadata": {},
   "source": [
    "Wir können aber auch eigene Funktionen schreiben. Im folgenden zum Beispiel eine einfache Funktion, die zwei Werte als input nimmt und uns die Summe dessen zurückgibt:"
   ]
  },
  {
   "cell_type": "code",
   "execution_count": null,
   "id": "0ab2110b",
   "metadata": {},
   "outputs": [],
   "source": [
    "def addition(input_1, input_2):\n",
    "    summe = input_1 + input_2\n",
    "    return summe"
   ]
  },
  {
   "cell_type": "code",
   "execution_count": null,
   "id": "fd74d977",
   "metadata": {},
   "outputs": [],
   "source": [
    "print(addition(5, 6))"
   ]
  },
  {
   "cell_type": "markdown",
   "id": "2474f22c",
   "metadata": {},
   "source": [
    "Wir definieren unsere Funktion mit \"def\" und geben ihr danach einen Namen. Dahinter folgt in Klammern der Input den wir geben. Dieser kann aus einer oder auch mehreren Variablen und/oder Werten bestehen. In der Funktion können wir dann etwas machen. Wir können auch etwas zurückgeben (im Code oben zu sehen \"return\"), müssen wir aber nicht."
   ]
  },
  {
   "cell_type": "markdown",
   "id": "a3b5855c",
   "metadata": {},
   "source": [
    "Ein weiteres Beispiel wäre eine Quadrierungsfunktion:"
   ]
  },
  {
   "cell_type": "code",
   "execution_count": null,
   "id": "1ac61de6",
   "metadata": {},
   "outputs": [],
   "source": [
    "def quad(input_1):\n",
    "    return (input_1 * input_1)\n",
    "\n",
    "print(quad(5))"
   ]
  },
  {
   "cell_type": "markdown",
   "id": "d77659f9",
   "metadata": {},
   "source": [
    "Eine wichtige Anmerkung:\n",
    "Wenn wir einer Funktion mehr als eine Variable mitgeben, müssen wir aufpassen in welcher Reihenfolge wir den Input geben:"
   ]
  },
  {
   "cell_type": "code",
   "execution_count": null,
   "id": "d1925638",
   "metadata": {},
   "outputs": [],
   "source": [
    "def division(input_1, input_2):\n",
    "    return(input_1 / input_2)\n",
    "\n",
    "print(division(5,10))\n",
    "print(division(10,5))"
   ]
  },
  {
   "cell_type": "markdown",
   "id": "61a6d631",
   "metadata": {},
   "source": [
    "#### Kombinieren von Conditional Statements, Loops und Funktionen"
   ]
  },
  {
   "cell_type": "markdown",
   "id": "179d367a",
   "metadata": {},
   "source": [
    "Im folgenden schreiben wir eine Funktion, mit der wir unseren Datensatz nach etwas bestimmten Filtern können und die uns die entsprechenden Zeilen in eine neue Liste packt."
   ]
  },
  {
   "cell_type": "code",
   "execution_count": null,
   "id": "d1e78833",
   "metadata": {},
   "outputs": [],
   "source": [
    "filtered_list_1 = []\n",
    "\n",
    "def filter_list(dataset, filter_variable, filter_variable_index, output_list):\n",
    "    for i in dataset:    \n",
    "        country_3 = i[filter_variable_index]\n",
    "        if country_3 == filter_variable:     \n",
    "            output_list.append(i)"
   ]
  },
  {
   "cell_type": "markdown",
   "id": "530c6a5e",
   "metadata": {},
   "source": [
    "Beispiel 1:"
   ]
  },
  {
   "cell_type": "code",
   "execution_count": null,
   "id": "88ea6ef7",
   "metadata": {},
   "outputs": [],
   "source": [
    "print(filtered_list_1)\n",
    "filter_list(swiid_2, \"Afghanistan\", 0, filtered_list_1)\n",
    "print(filtered_list_1)"
   ]
  },
  {
   "cell_type": "markdown",
   "id": "bafbe680",
   "metadata": {},
   "source": [
    "Beispiel 2:"
   ]
  },
  {
   "cell_type": "code",
   "execution_count": null,
   "id": "6bbdc0e7",
   "metadata": {},
   "outputs": [],
   "source": [
    "filtered_list_2 = []\n",
    "filter_list(swiid_2, \"2017\", 1, filtered_list_2)\n",
    "print(filtered_list_2)"
   ]
  },
  {
   "cell_type": "markdown",
   "id": "036caeda",
   "metadata": {},
   "source": [
    "Angenommen wir bleiben bei den Beispiel 1. Wir haben nun in unserer Liste alle Einträge von Afghanistan aus den unterschiedlichen Jahren mit den entsprechenden Gini-Indexen. Wir wollen nun den Mittelwert davon berechnen. \n",
    "Wenn wir das mehr als einmal machen wollen, bietet sich hierfür wieder eine Funktion an:"
   ]
  },
  {
   "cell_type": "code",
   "execution_count": null,
   "id": "273d2254",
   "metadata": {},
   "outputs": [],
   "source": [
    "def mean_calc(filtered_list):\n",
    "    gini_count = 0\n",
    "    for i in filtered_list: \n",
    "        gini = float(i[2])\n",
    "        gini_count += gini\n",
    "        \n",
    "    gini_final = gini_count / len(filtered_list)\n",
    "    return gini_final"
   ]
  },
  {
   "cell_type": "code",
   "execution_count": null,
   "id": "0c5ee4a0",
   "metadata": {},
   "outputs": [],
   "source": [
    "afghanistan_mean = mean_calc(filtered_list_1)\n",
    "print(afghanistan_mean)"
   ]
  },
  {
   "cell_type": "markdown",
   "id": "2f0b09d5",
   "metadata": {},
   "source": [
    "Der Vorteil ist jetzt, das wir ohne großen weiteren Aufwand, uns für verschiedene Länder den durchschnittlichen Gini-Index berechnen können. Wir müssen lediglich das Land ändern und eine neue Liste erstellen. "
   ]
  },
  {
   "cell_type": "code",
   "execution_count": null,
   "id": "c4727ae1",
   "metadata": {},
   "outputs": [],
   "source": [
    "filtered_list_3 = []\n",
    "filter_list(swiid_2, \"Germany\", 0, filtered_list_3)\n",
    "germany_mean = mean_calc(filtered_list_3)\n",
    "print(germany_mean)"
   ]
  },
  {
   "cell_type": "markdown",
   "id": "3ed9d735",
   "metadata": {},
   "source": [
    "Wenn wir es uns allerdings noch einfacher machen wollen, schreiben wir uns eine Art \"Meta-Funktion\", der wir einfach nur den Ländernamen geben nachdem wir filtern wollen: "
   ]
  },
  {
   "cell_type": "code",
   "execution_count": null,
   "id": "4084e731",
   "metadata": {},
   "outputs": [],
   "source": [
    "def meta(country_name):\n",
    "    \n",
    "    temp_list = []\n",
    "    filter_list(swiid_2, country_name, 0, temp_list)\n",
    "    return mean_calc(temp_list)"
   ]
  },
  {
   "cell_type": "code",
   "execution_count": null,
   "id": "7b2b7170",
   "metadata": {},
   "outputs": [],
   "source": [
    "UK_mean = meta(\"United Kingdom\")\n",
    "print(UK_mean)"
   ]
  },
  {
   "cell_type": "code",
   "execution_count": null,
   "id": "6f68f446",
   "metadata": {},
   "outputs": [],
   "source": [
    "CR_mean = meta(\"Costa Rica\")\n",
    "print(CR_mean)"
   ]
  }
 ],
 "metadata": {
  "interpreter": {
   "hash": "de799f4e2b5198ee6e59a9575888d04bc44af4a6525ecb00ad9e6f6d9cd3d745"
  },
  "kernelspec": {
   "display_name": "Python 3 (ipykernel)",
   "language": "python",
   "name": "python3"
  },
  "language_info": {
   "codemirror_mode": {
    "name": "ipython",
    "version": 3
   },
   "file_extension": ".py",
   "mimetype": "text/x-python",
   "name": "python",
   "nbconvert_exporter": "python",
   "pygments_lexer": "ipython3",
   "version": "3.8.8"
  }
 },
 "nbformat": 4,
 "nbformat_minor": 5
}
