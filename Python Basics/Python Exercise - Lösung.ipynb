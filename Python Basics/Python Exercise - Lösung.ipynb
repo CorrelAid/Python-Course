{
 "cells": [
  {
   "cell_type": "markdown",
   "id": "61c807e6",
   "metadata": {},
   "source": [
    "## Lösung\n",
    "\n",
    "In diesem Notebook sind die Lösungen bereitgestellt für die Aufgaben. \n"
   ]
  },
  {
   "cell_type": "code",
   "execution_count": 1,
   "id": "d60eaa35",
   "metadata": {},
   "outputs": [
    {
     "name": "stdout",
     "output_type": "stream",
     "text": [
      "Requirement already satisfied: pandas in c:\\users\\jonas\\appdata\\roaming\\python\\python38\\site-packages (1.3.4)\n",
      "Requirement already satisfied: pytz>=2017.3 in c:\\users\\jonas\\appdata\\roaming\\python\\python38\\site-packages (from pandas) (2021.3)\n",
      "Requirement already satisfied: python-dateutil>=2.7.3 in c:\\users\\jonas\\appdata\\roaming\\python\\python38\\site-packages (from pandas) (2.8.2)\n",
      "Requirement already satisfied: numpy>=1.17.3 in c:\\users\\jonas\\appdata\\roaming\\python\\python38\\site-packages (from pandas) (1.22.3)\n",
      "Requirement already satisfied: six>=1.5 in c:\\users\\jonas\\appdata\\roaming\\python\\python38\\site-packages (from python-dateutil>=2.7.3->pandas) (1.16.0)\n"
     ]
    }
   ],
   "source": [
    "# Install a pip package in the current Jupyter kernel\n",
    "import sys\n",
    "!{sys.executable} -m pip install pandas\n",
    "\n",
    "import pandas as pd\n",
    "\n",
    "# import Swiid-Datensatz\n",
    "swiid = pd.read_csv(\"swiid7_1_summary.csv\")\n",
    "swiid = swiid.astype({\"year\": int}, errors='raise') "
   ]
  },
  {
   "cell_type": "markdown",
   "id": "e826adae",
   "metadata": {},
   "source": [
    "### Teil 1"
   ]
  },
  {
   "cell_type": "markdown",
   "id": "8d509c67",
   "metadata": {},
   "source": [
    "#### Aufgabe 1:\n"
   ]
  },
  {
   "cell_type": "code",
   "execution_count": 2,
   "id": "bfcff66a",
   "metadata": {},
   "outputs": [
    {
     "name": "stdout",
     "output_type": "stream",
     "text": [
      " Ich heiße Torben und bin 22 Jahre alt \n"
     ]
    }
   ],
   "source": [
    "name = \"Torben\"\n",
    "age = \"22\"\n",
    "\n",
    "print(f\" Ich heiße \" + name + \" und bin \" + age + \" Jahre alt \")"
   ]
  },
  {
   "cell_type": "markdown",
   "id": "98cb1c98",
   "metadata": {},
   "source": [
    "#### Aufgabe 2:"
   ]
  },
  {
   "cell_type": "code",
   "execution_count": 3,
   "id": "ce716ac4",
   "metadata": {},
   "outputs": [
    {
     "name": "stdout",
     "output_type": "stream",
     "text": [
      "49\n"
     ]
    }
   ],
   "source": [
    "num_1 = 14\n",
    "num_exc = 35\n",
    "sum = num_exc + num_1\n",
    "print(sum)"
   ]
  },
  {
   "cell_type": "markdown",
   "id": "9ec52355",
   "metadata": {},
   "source": [
    "#### Aufgabe 3: \n"
   ]
  },
  {
   "cell_type": "code",
   "execution_count": 4,
   "id": "5b686d71",
   "metadata": {},
   "outputs": [
    {
     "name": "stdout",
     "output_type": "stream",
     "text": [
      "25.41176470588235\n"
     ]
    }
   ],
   "source": [
    "num_3 = 36    # Declare variable with value 36\n",
    "num_4 = 12    # Declare variable with value 12\n",
    "num_5 = num_3 * num_4   # Divide the the two numbers\n",
    "\n",
    "num_5 = num_5 / 17    # Divide the number by 17\n",
    "\n",
    "print(num_5)     # Print the result variable "
   ]
  },
  {
   "cell_type": "markdown",
   "id": "bd3160d8",
   "metadata": {},
   "source": [
    "## Teil 2"
   ]
  },
  {
   "cell_type": "markdown",
   "id": "067208d7",
   "metadata": {},
   "source": [
    "#### Aufgabe 1:\n"
   ]
  },
  {
   "cell_type": "code",
   "execution_count": 5,
   "id": "e6375158",
   "metadata": {},
   "outputs": [
    {
     "name": "stdout",
     "output_type": "stream",
     "text": [
      "<class 'int'>\n",
      "<class 'float'>\n"
     ]
    }
   ],
   "source": [
    "print(type(num_3))\n",
    "print(type(num_5))"
   ]
  },
  {
   "cell_type": "markdown",
   "id": "60359305",
   "metadata": {},
   "source": [
    "#### Aufgabe 2:"
   ]
  },
  {
   "cell_type": "code",
   "execution_count": 6,
   "id": "ef8ffd8f",
   "metadata": {},
   "outputs": [
    {
     "name": "stdout",
     "output_type": "stream",
     "text": [
      "1960\n",
      "2017\n"
     ]
    }
   ],
   "source": [
    "years = swiid.year.unique()\n",
    "#print(years)\n",
    "years_min = years.min()\n",
    "years_max = years.max()\n",
    "\n",
    "print(years_min)\n",
    "print(years_max)"
   ]
  },
  {
   "cell_type": "markdown",
   "id": "0f9f38ec",
   "metadata": {},
   "source": [
    "#### Aufgabe 3:\n"
   ]
  },
  {
   "cell_type": "code",
   "execution_count": 7,
   "id": "60372c5a",
   "metadata": {},
   "outputs": [
    {
     "name": "stdout",
     "output_type": "stream",
     "text": [
      "17.523\n",
      "14\n"
     ]
    }
   ],
   "source": [
    "num_6 = 17.523136583956732\n",
    "num_7 = 14.87947853\n",
    "\n",
    "num_6_round = round(num_6, 3)\n",
    "num_7_round = int(num_7)\n",
    "\n",
    "print(num_6_round)\n",
    "print(num_7_round)"
   ]
  },
  {
   "cell_type": "markdown",
   "id": "b3ca3484",
   "metadata": {},
   "source": [
    "## Teil 3\n"
   ]
  },
  {
   "cell_type": "markdown",
   "id": "fe17223c",
   "metadata": {},
   "source": [
    "#### Aufgabe 1:\n"
   ]
  },
  {
   "cell_type": "code",
   "execution_count": 8,
   "id": "89a4554f",
   "metadata": {},
   "outputs": [
    {
     "name": "stdout",
     "output_type": "stream",
     "text": [
      "[2.5, 2.5, 2.5, 2.7, 2.7, 2.6, 2.5, 2.5, 2.5, 2.4, 2.4, 2.3, 2.3, 2.2, 2.2, 2.2, 2.3, 2.3, 2.4, 2.5]\n",
      "[2.5, 2.5, 2.5, 2.7, 2.7, 2.6, 2.5, 2.5, 2.5, 2.4, 2.4, 2.3, 2.3, 2.2, 2.2, 2.2, 2.3, 2.3, 2.4, 2.5, 'Torben']\n",
      "[2.5, 2.5, 2.5, 2.7, 2.7, 2.6, 2.5, 2.5, 2.5, 2.4, 2.4, 2.3, 2.3, 2.2, 2.2, 2.2, 2.3, 2.3, 2.4, 2.5, 'Torben', '22']\n"
     ]
    }
   ],
   "source": [
    "gini_disp_se = swiid[\"gini_disp_se\"].tolist()\n",
    "\n",
    "\n",
    "new_list = gini_disp_se[:20]\n",
    "print(new_list)\n",
    "new_list.append(name)\n",
    "print(new_list)\n",
    "new_list.append(age)\n",
    "print(new_list)"
   ]
  },
  {
   "cell_type": "markdown",
   "id": "5e59cd0c",
   "metadata": {},
   "source": [
    "#### Aufgabe 2:"
   ]
  },
  {
   "cell_type": "code",
   "execution_count": 9,
   "id": "a81f37af",
   "metadata": {},
   "outputs": [
    {
     "name": "stdout",
     "output_type": "stream",
     "text": [
      "{'Afghanistan': [2007, 2.5], 'Albania': [2000, 2.4], 'Algeria': [1966, 1.9]}\n"
     ]
    }
   ],
   "source": [
    "list_countries = swiid.country.tolist()\n",
    "set_countries = set(list_countries)\n",
    "years = swiid.year.unique()\n",
    "gini = swiid[\"gini_disp_se\"].tolist()\n",
    "\n",
    "\n",
    "country_info = {list_countries[0] : [years[0], gini[0]]}\n",
    "country_info[list_countries[10]] = [years[10], gini[10]]\n",
    "country_info[list_countries[30]] = [years[30], gini[30]]\n",
    "print(country_info)"
   ]
  },
  {
   "cell_type": "markdown",
   "id": "fadaa033",
   "metadata": {},
   "source": [
    "## Teil 4"
   ]
  },
  {
   "cell_type": "markdown",
   "id": "8688eef5",
   "metadata": {},
   "source": [
    "#### Aufgabe 1:"
   ]
  },
  {
   "cell_type": "markdown",
   "id": "04cfe2ff",
   "metadata": {},
   "source": [
    "Hier gibt es mehrere Möglichkeiten, ich habe folgende Varianten genommen:"
   ]
  },
  {
   "cell_type": "code",
   "execution_count": 10,
   "id": "ce42b34b",
   "metadata": {},
   "outputs": [
    {
     "name": "stdout",
     "output_type": "stream",
     "text": [
      "True\n",
      "True\n",
      "True\n"
     ]
    }
   ],
   "source": [
    "print(53 < 78)\n",
    "print(14 == 14)\n",
    "print(53 <= 78)"
   ]
  },
  {
   "cell_type": "markdown",
   "id": "901f8b62",
   "metadata": {},
   "source": [
    "#### Aufgabe 2:"
   ]
  },
  {
   "cell_type": "code",
   "execution_count": 11,
   "id": "a93492ef",
   "metadata": {},
   "outputs": [
    {
     "name": "stdout",
     "output_type": "stream",
     "text": [
      "Hoch\n"
     ]
    }
   ],
   "source": [
    "from random import *\n",
    "x = randint(1, 100)  # Random number with variable name \"x\"\n",
    "\n",
    "\n",
    "if x < 20:\n",
    "    print(\"Sehr niedrig\")\n",
    "    \n",
    "elif 20 <= x < 40:\n",
    "    print(\"Niedrig\")\n",
    "    \n",
    "elif 40 <= x < 60:\n",
    "    print(\"Mittel\")\n",
    "    \n",
    "else:\n",
    "    print(\"Hoch\")"
   ]
  },
  {
   "cell_type": "markdown",
   "id": "fce60fd8",
   "metadata": {},
   "source": [
    "#### Aufgabe 3:"
   ]
  },
  {
   "cell_type": "code",
   "execution_count": 12,
   "id": "9b2b0164",
   "metadata": {},
   "outputs": [
    {
     "name": "stdout",
     "output_type": "stream",
     "text": [
      "0\n",
      "1\n",
      "2\n",
      "3\n",
      "4\n",
      "5\n",
      "6\n",
      "7\n",
      "8\n",
      "9\n",
      "10\n",
      "11\n",
      "12\n",
      "13\n",
      "14\n",
      "15\n"
     ]
    }
   ],
   "source": [
    "for i in range(16):\n",
    "    print(i)"
   ]
  },
  {
   "cell_type": "markdown",
   "id": "add53aba",
   "metadata": {},
   "source": [
    "#### Aufgabe 4:"
   ]
  },
  {
   "cell_type": "code",
   "execution_count": 13,
   "id": "d5e2140d",
   "metadata": {},
   "outputs": [
    {
     "name": "stdout",
     "output_type": "stream",
     "text": [
      "120\n"
     ]
    }
   ],
   "source": [
    "counter = 0\n",
    "summe = 0\n",
    "while counter < 16:\n",
    "    summe = summe + counter\n",
    "    counter += 1\n",
    "    \n",
    "print(summe)\n"
   ]
  },
  {
   "cell_type": "markdown",
   "id": "92afc644",
   "metadata": {},
   "source": [
    "## Teil 5"
   ]
  },
  {
   "cell_type": "markdown",
   "id": "ef685e7b",
   "metadata": {},
   "source": [
    "#### Aufgabe 1:\n"
   ]
  },
  {
   "cell_type": "code",
   "execution_count": 14,
   "id": "2f617e89",
   "metadata": {},
   "outputs": [],
   "source": [
    "def subtraction(input_1, input_2):\n",
    "    return (input_1 - input_2)"
   ]
  },
  {
   "cell_type": "markdown",
   "id": "3f0ea43c",
   "metadata": {},
   "source": [
    "#### Aufgabe 2:\n"
   ]
  },
  {
   "cell_type": "code",
   "execution_count": 15,
   "id": "f79dda08",
   "metadata": {},
   "outputs": [
    {
     "name": "stdout",
     "output_type": "stream",
     "text": [
      "Verloren\n"
     ]
    }
   ],
   "source": [
    "from random import *\n",
    "\n",
    "y = randint(1, 100)  # Random number with variable name \"y\"\n",
    "\n",
    "\n",
    "def price(random_var):\n",
    "    if random_var < 80:\n",
    "        print(\"Verloren\")  \n",
    "    elif 80 <= random_var < 95:\n",
    "        print(\"Kleiner Preis\")\n",
    "    else: \n",
    "        print(\"Hauptgewinn\")\n",
    "        \n",
    "price(y)"
   ]
  },
  {
   "cell_type": "markdown",
   "id": "408021c8",
   "metadata": {},
   "source": [
    "## Teil 6"
   ]
  },
  {
   "cell_type": "markdown",
   "id": "be1f598e",
   "metadata": {},
   "source": [
    "#### Aufgabe 1:"
   ]
  },
  {
   "cell_type": "code",
   "execution_count": 16,
   "id": "ba5ad822",
   "metadata": {},
   "outputs": [
    {
     "name": "stdout",
     "output_type": "stream",
     "text": [
      "38.06741916969592\n"
     ]
    }
   ],
   "source": [
    "from csv import reader\n",
    "opened_file = open(\"swiid7_1_summary.csv\")\n",
    "read_file = reader(opened_file)\n",
    "swiid_2 = list(read_file)  # The Dataset variable\n",
    "index_variable = 2    # The Index Variable\n",
    "# Dein Code\n",
    "\n",
    "gini_index = 2\n",
    "\n",
    "def total_mean(dataset, index_var):\n",
    "    \n",
    "    total_gini = 0\n",
    "    \n",
    "    for i in dataset[1:]:\n",
    "        temp_gini = float(i[index_var])\n",
    "        total_gini += temp_gini\n",
    "        \n",
    "    return total_gini / len(dataset)\n",
    "\n",
    "gini_mean = total_mean(swiid_2, index_variable)\n",
    "print(gini_mean)"
   ]
  }
 ],
 "metadata": {
  "kernelspec": {
   "display_name": "Python 3 (ipykernel)",
   "language": "python",
   "name": "python3"
  },
  "language_info": {
   "codemirror_mode": {
    "name": "ipython",
    "version": 3
   },
   "file_extension": ".py",
   "mimetype": "text/x-python",
   "name": "python",
   "nbconvert_exporter": "python",
   "pygments_lexer": "ipython3",
   "version": "3.8.8"
  }
 },
 "nbformat": 4,
 "nbformat_minor": 5
}
