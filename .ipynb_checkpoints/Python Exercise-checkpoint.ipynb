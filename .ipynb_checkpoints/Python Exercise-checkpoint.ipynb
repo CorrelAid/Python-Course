{
 "cells": [
  {
   "cell_type": "markdown",
   "id": "eedc5521",
   "metadata": {},
   "source": [
    "# Übungsaufgaben\n",
    "\n",
    "In diesem Notebook befinden sich die Übungsaufgaben zu den einzelnen Abschnitten. "
   ]
  },
  {
   "cell_type": "markdown",
   "id": "a71a20e6",
   "metadata": {},
   "source": [
    "Lasst den folgenden Codeblock einmal durchlaufen, wir laden damit den Datensatz, um manche der Aufgaben bearbeiten zu können. "
   ]
  },
  {
   "cell_type": "code",
   "execution_count": 23,
   "id": "4c600bf5",
   "metadata": {},
   "outputs": [
    {
     "name": "stdout",
     "output_type": "stream",
     "text": [
      "\u001b[33mDEPRECATION: Configuring installation scheme with distutils config files is deprecated and will no longer work in the near future. If you are using a Homebrew or Linuxbrew Python, please see discussion at https://github.com/Homebrew/homebrew-core/issues/76621\u001b[0m\u001b[33m\n",
      "\u001b[0mRequirement already satisfied: pandas in /opt/homebrew/lib/python3.9/site-packages (1.4.0)\n",
      "Requirement already satisfied: python-dateutil>=2.8.1 in /opt/homebrew/lib/python3.9/site-packages (from pandas) (2.8.2)\n",
      "Requirement already satisfied: pytz>=2020.1 in /opt/homebrew/lib/python3.9/site-packages (from pandas) (2021.3)\n",
      "Requirement already satisfied: numpy>=1.20.0 in /opt/homebrew/lib/python3.9/site-packages (from pandas) (1.22.1)\n",
      "Requirement already satisfied: six>=1.5 in /opt/homebrew/lib/python3.9/site-packages (from python-dateutil>=2.8.1->pandas) (1.16.0)\n",
      "\u001b[33mDEPRECATION: Configuring installation scheme with distutils config files is deprecated and will no longer work in the near future. If you are using a Homebrew or Linuxbrew Python, please see discussion at https://github.com/Homebrew/homebrew-core/issues/76621\u001b[0m\u001b[33m\n",
      "\u001b[0m\u001b[33mWARNING: You are using pip version 22.0.2; however, version 22.0.4 is available.\n",
      "You should consider upgrading via the '/opt/homebrew/opt/python@3.9/bin/python3.9 -m pip install --upgrade pip' command.\u001b[0m\u001b[33m\n",
      "\u001b[0m"
     ]
    }
   ],
   "source": [
    "# Install a pip package in the current Jupyter kernel\n",
    "import sys\n",
    "!{sys.executable} -m pip install pandas\n",
    "\n",
    "import pandas as pd\n",
    "\n",
    "# import Swiid-Datensatz\n",
    "swiid = pd.read_csv(\"swiid7_1_summary.csv\")\n",
    "swiid = swiid.astype({\"year\": int}, errors='raise') "
   ]
  },
  {
   "cell_type": "markdown",
   "id": "37174e06",
   "metadata": {},
   "source": [
    "### Teil 1 - Absolute Basics"
   ]
  },
  {
   "cell_type": "markdown",
   "id": "22e57880",
   "metadata": {},
   "source": [
    "#### Aufgabe 1:\n",
    "\n",
    "Initiere zwei Variablen mit angemessenen Namen, einmal für dein Alter und für deinen Namen.  \n",
    "Füge die entsprechenden Werte ein und lasse sie dir ausgeben in folgender Form: \n",
    "\n",
    "Ich heiße \"Name\" und bin \"Alter\" Jahre alt.\n",
    "\n",
    "(Tipp, Alter als String abspeichern)"
   ]
  },
  {
   "cell_type": "code",
   "execution_count": 10,
   "id": "6fe9599c",
   "metadata": {},
   "outputs": [],
   "source": [
    "# Dein Code"
   ]
  },
  {
   "cell_type": "markdown",
   "id": "17d71c60",
   "metadata": {},
   "source": [
    "#### Aufgabe 2: \n",
    "\n",
    "Erstelle 1 Variable mit dem Wert 35.   \n",
    "Addiere die Varibale num_1 hinzu und weise sie einer neuen Variable mit dem Namen \"sum\" zu.   \n",
    "Lasse dir die Variable \"sum\" ausgeben. \n"
   ]
  },
  {
   "cell_type": "code",
   "execution_count": 9,
   "id": "94f5dbec",
   "metadata": {},
   "outputs": [],
   "source": [
    "num_1 = 14\n",
    "# Dein Code"
   ]
  },
  {
   "cell_type": "markdown",
   "id": "8fce816c",
   "metadata": {},
   "source": [
    "#### Aufgabe 3:\n",
    "\n",
    "Kommentiere den folgenden Code: \n"
   ]
  },
  {
   "cell_type": "code",
   "execution_count": null,
   "id": "aadf9e05",
   "metadata": {},
   "outputs": [],
   "source": [
    "num_3 = 36\n",
    "num_4 = 12\n",
    "num_5 = num_3 * num_4\n",
    "\n",
    "num_5 = num_5 / 17\n",
    "\n",
    "print(num_5)"
   ]
  },
  {
   "cell_type": "markdown",
   "id": "06313afa",
   "metadata": {},
   "source": [
    "### Teil 2 - Datentypen"
   ]
  },
  {
   "cell_type": "markdown",
   "id": "cc4abc6f",
   "metadata": {},
   "source": [
    "#### Aufgabe 1: \n",
    "\n",
    "Finde heraus welchen Datentyp die Variablen num_3 und num_5 haben. \n",
    "(Versucht vorher einmal zu vermuten was es sein könnte)\n"
   ]
  },
  {
   "cell_type": "code",
   "execution_count": 8,
   "id": "9f799cad",
   "metadata": {},
   "outputs": [],
   "source": [
    "# Dein Code"
   ]
  },
  {
   "cell_type": "markdown",
   "id": "d5f32149",
   "metadata": {},
   "source": [
    "#### Aufgabe 2:\n",
    "\n",
    "Erstellt eine Variable (achtet wieder auf eine passende Namensgebung) in der Ihr die Jahresvariable des Datensatzes zuweist.   \n",
    "Schaut euch den Output an und bestimmt die niedrigste und höchste Jahreszahl.   \n",
    "Tipp: mit der Funktion variable_name.max() / variable_name.min() könnt ihr euch das niedrigste und höchste Jahr anzeigen lassen.    \n",
    "\n",
    "\n",
    "\n",
    "Weist die niedrigste Jahreszahl der Variable \"lowest_year\" und die höchste Jahreszahl der Variable \"highest_year\" zu.  "
   ]
  },
  {
   "cell_type": "code",
   "execution_count": null,
   "id": "59c4ef2d",
   "metadata": {},
   "outputs": [],
   "source": [
    "years = swiid.year.unique()\n",
    "print(years)\n",
    "\n",
    "# Dein Code"
   ]
  },
  {
   "cell_type": "markdown",
   "id": "af18918d",
   "metadata": {},
   "source": [
    "#### Aufgabe 3: \n",
    "\n",
    "Konvertiere die Variable num_6 auf 3 Nachkommastellen und weise das Ergebnis der Variable num_6_round zu.   \n",
    "Konvertiere die Variable num_7 in einen int und weise das Ergebnis der Variable num_7_round zu.  \n",
    "(Überlege dir vorher welchen Wert du bekommen wirst)   \n",
    "Lasse dir beide Zahlen einmal vor und einmal nach der Konvertierung ausgeben. "
   ]
  },
  {
   "cell_type": "code",
   "execution_count": 13,
   "id": "7039fe90",
   "metadata": {},
   "outputs": [],
   "source": [
    "num_6 = 17.523136583956732\n",
    "num_7 = 14.87947853\n",
    "# Dein Code"
   ]
  },
  {
   "cell_type": "markdown",
   "id": "a4ff0dca",
   "metadata": {},
   "source": [
    "### Teil 3 - Datencontainer"
   ]
  },
  {
   "cell_type": "markdown",
   "id": "790d864d",
   "metadata": {},
   "source": [
    "#### Aufgabe 1:\n",
    "\n",
    "Erstelle eine neue Variable mit den ersten 20 Einträgen der Liste.   \n",
    "Füge anschließend die Variable mit deinem Namen und die mit deinem Alter aus der ersten Aufgabe hinzu.   \n",
    "Lass dir die Liste nach jeder einzelnen Änderung ausgeben, um zu überprüfen ob alles geklappt hat.   \n"
   ]
  },
  {
   "cell_type": "code",
   "execution_count": 37,
   "id": "67ff599a",
   "metadata": {},
   "outputs": [],
   "source": [
    "gini_disp_se = swiid[\"gini_disp_se\"].tolist()\n",
    "# Dein Code"
   ]
  },
  {
   "cell_type": "markdown",
   "id": "dd9ea3e3",
   "metadata": {},
   "source": [
    "#### Aufgabe 2:\n",
    "\n",
    "Erstelle ein Dictionary mit dem Ländernamen als Key und dem Jahr und Gini als Values.   \n",
    "Nimm dafür die Einträge an der Stelle 0, 10 und 30. "
   ]
  },
  {
   "cell_type": "code",
   "execution_count": null,
   "id": "95c6af74",
   "metadata": {},
   "outputs": [],
   "source": [
    "list_countries = swiid.country.tolist()\n",
    "set_countries = set(list_countries)\n",
    "years = swiid.year.unique()\n",
    "gini = swiid[\"gini_disp_se\"].tolist()\n",
    "\n",
    "\n",
    "# Dein Code \n"
   ]
  },
  {
   "cell_type": "markdown",
   "id": "9db8efc6",
   "metadata": {},
   "source": [
    "### Teil 4: Conditional Statements und Loops:"
   ]
  },
  {
   "cell_type": "markdown",
   "id": "5d26b3f5",
   "metadata": {},
   "source": [
    "#### Aufgabe 1:\n",
    "Ersetze bei den Folgenden Vergleichen das * mit Vergleichsoperatoren so, dass überall True herauskommt\n"
   ]
  },
  {
   "cell_type": "code",
   "execution_count": null,
   "id": "9bfdcc1c",
   "metadata": {},
   "outputs": [],
   "source": [
    "print(53 * 78)\n",
    "print(14 * 14)\n",
    "print(53 * 78)"
   ]
  },
  {
   "cell_type": "markdown",
   "id": "da9c2880",
   "metadata": {},
   "source": [
    "#### Aufgabe 2:\n",
    "\n",
    "Gegeben sei eine zufällige Zahl zwischen 1 und 100.    \n",
    "Schreibe mithilfe der Befehle if, elif und else eine Reihe von Conditional Statements.    \n",
    "Ist die Zahl kleiner als 20 soll \"sehr niedrig\" ausgegeben werden.     \n",
    "Ist die Zahl größer oder gleich 20 und kleiner als 40, soll \"niedrig\" ausgegeben werden.    \n",
    "Ist die Zahl größer oder gleich 40 und kleiner als 60, soll \"mittel\" ausgegeben werden.     \n",
    "Ist die Zahl größer oder gleich 60, soll \"hoch\" ausgegeben werden. \n",
    "\n"
   ]
  },
  {
   "cell_type": "code",
   "execution_count": null,
   "id": "cb288b7f",
   "metadata": {},
   "outputs": [],
   "source": [
    "import random as rd\n",
    "\n",
    "x = rd.randint(1, 100)  # Random number with variable name \"x\"\n",
    "\n",
    "\n",
    "# Dein Code"
   ]
  },
  {
   "cell_type": "markdown",
   "id": "203986e5",
   "metadata": {},
   "source": [
    "#### Aufgabe 3:\n",
    "\n",
    "Schreibe eine For-Schleife, die die Zahlen von 1 bis 15 ausgibt. \n"
   ]
  },
  {
   "cell_type": "code",
   "execution_count": 50,
   "id": "2ca26baa",
   "metadata": {},
   "outputs": [],
   "source": [
    "# Dein Code"
   ]
  },
  {
   "cell_type": "markdown",
   "id": "deb562d0",
   "metadata": {},
   "source": [
    "#### Aufgabe 4:\n",
    "\n",
    "Schreibe eine While-Schleife, die die Zahlen von 1 bis 15 aufaddiert.\n"
   ]
  },
  {
   "cell_type": "code",
   "execution_count": 51,
   "id": "2286fd69",
   "metadata": {},
   "outputs": [],
   "source": [
    "# Dein Code"
   ]
  },
  {
   "cell_type": "markdown",
   "id": "80a3077c",
   "metadata": {},
   "source": [
    "### Teil 5: Funktionen"
   ]
  },
  {
   "cell_type": "markdown",
   "id": "77bfae26",
   "metadata": {},
   "source": [
    "#### Aufgabe 1:\n",
    "\n",
    "Schreibe eine Funktion, die zwei Input-Variablen nimmt und die zweite von der ersten subtrahiert und das Ergebnis zurückgibt"
   ]
  },
  {
   "cell_type": "code",
   "execution_count": 52,
   "id": "857aaeae",
   "metadata": {},
   "outputs": [],
   "source": [
    "# Dein Code"
   ]
  },
  {
   "cell_type": "markdown",
   "id": "84d46211",
   "metadata": {},
   "source": [
    "#### Aufgabe 2:\n",
    "\n",
    "Schreibe eine Funktion, die eine Inputvariable bekommt, welche irgendwo zwischen 1 und 100 liegt.     \n",
    "Ist die Inputzahl kleiner als 80, soll \"Verloren\" zurückgegeben werden.    \n",
    "Ist die Inputzahl größer oder gleich 80 und kleiner als 95, soll \"kleiner Preis\" zurückgegeben werden.    \n",
    "Ist die Inputzahl größer oder gleich 95 und kleiner als 100, soll \"Hauptgewinn\" zurückgegeben werden.    \n",
    "\n",
    "Im folgenden ist für die Zufallszahl bereits Code vorgegeben.    \n",
    "Lasse deine Funktion anschließend mehrmals mit der Zufallszahl durchlaufen und schau was passiert :) \n",
    "\n"
   ]
  },
  {
   "cell_type": "code",
   "execution_count": null,
   "id": "9f3c6ece",
   "metadata": {},
   "outputs": [],
   "source": [
    "import random as rd\n",
    "\n",
    "y = rd.randint(1, 100)  # Random number with variable name \"y\"\n",
    "\n",
    "\n",
    "# Dein Code"
   ]
  },
  {
   "cell_type": "markdown",
   "id": "5869f8cb",
   "metadata": {},
   "source": [
    "### Teil 6: Schwierige Aufgaben:\n"
   ]
  },
  {
   "cell_type": "markdown",
   "id": "f7676b2f",
   "metadata": {},
   "source": [
    "#### Aufgabe 1:\n",
    "\n",
    "Schreibe eine Funktion, die den Durchschnittswert von allen Ländern aus allen Jahren ausrechnet. Als Input soll sie den Datensatz, und eine Variable für den Index der Variable für den Gini-Index nehmen. Teste die Funktion anschließend einmal mit dem Datensatz. Der Code dafür ist vorangestellt. "
   ]
  },
  {
   "cell_type": "code",
   "execution_count": null,
   "id": "bf468acd",
   "metadata": {},
   "outputs": [],
   "source": [
    "from csv import reader\n",
    "opened_file = open(\"swiid7_1_summary.csv\")\n",
    "read_file = reader(opened_file)\n",
    "swiid_2 = list(read_file)  # The Dataset variable\n",
    "index_variable = 2    # The Index Variable\n",
    "\n",
    "\n",
    "# Dein Code"
   ]
  },
  {
   "cell_type": "code",
   "execution_count": null,
   "id": "f51aaa5e",
   "metadata": {},
   "outputs": [],
   "source": []
  }
 ],
 "metadata": {
  "kernelspec": {
   "display_name": "Python 3 (ipykernel)",
   "language": "python",
   "name": "python3"
  },
  "language_info": {
   "codemirror_mode": {
    "name": "ipython",
    "version": 3
   },
   "file_extension": ".py",
   "mimetype": "text/x-python",
   "name": "python",
   "nbconvert_exporter": "python",
   "pygments_lexer": "ipython3",
   "version": "3.8.8"
  }
 },
 "nbformat": 4,
 "nbformat_minor": 5
}
