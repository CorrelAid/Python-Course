{
 "cells": [
  {
   "cell_type": "code",
   "execution_count": 3,
   "id": "0eb89e4b-53a1-4465-9534-63b3afc85844",
   "metadata": {},
   "outputs": [],
   "source": [
    "import pandas as pd"
   ]
  },
  {
   "cell_type": "code",
   "execution_count": 8,
   "id": "098d9367-8add-4ec9-b851-91e0782d5923",
   "metadata": {},
   "outputs": [
    {
     "name": "stdout",
     "output_type": "stream",
     "text": [
      "Hello, World\n"
     ]
    }
   ],
   "source": [
    "print(\"Hello, World!\")"
   ]
  },
  {
   "cell_type": "markdown",
   "id": "6067883b-6f6f-4dad-9c1b-0f4ec44ec6b1",
   "metadata": {},
   "source": [
    "In Jupyter Notebooks wird der print()-Befehl nicht zwangsläufig benötigt - eine Ausgabe erfolgt auch, falls nur ein Wert ausgegeben wird und dieser in der letzten Zeile steht (wenn auch mitunter in leicht anderem Format)!"
   ]
  },
  {
   "cell_type": "code",
   "execution_count": 11,
   "id": "448edad8-e9b5-4d11-a32e-58f0f733bde8",
   "metadata": {},
   "outputs": [
    {
     "data": {
      "text/plain": [
       "'Hello, World!'"
      ]
     },
     "execution_count": 11,
     "metadata": {},
     "output_type": "execute_result"
    }
   ],
   "source": [
    "\"Hello, World!\""
   ]
  },
  {
   "cell_type": "markdown",
   "id": "0ffaea8f-b6af-46e2-a3eb-18bbce9dd803",
   "metadata": {},
   "source": [
    "Da wir nicht jedes Mal von Neuem Code schreiben wollen, kann man Code in Variablen speichern. Man kann jegliche in Python verfübaren Datentypen in einer Variable speichern. Dazu nutzt man den sogenannten Assignment Operator \"=\". Man schreibt den Namen der Variable auf die linke Seite des Gleichzeichens und den Code, der der Variable zugewiesen werden soll, auf die rechte Seite. Grundsätzlich sind Variablennamen klein zu schreiben. Leerzeichen werden durch Underscores _ ersetzt."
   ]
  },
  {
   "cell_type": "code",
   "execution_count": 12,
   "id": "28678ead-6d62-4b23-9fe5-8175ee0bceee",
   "metadata": {},
   "outputs": [],
   "source": [
    "tutor1 = \"Torben\"\n",
    "tutor2 = \"Jonas\"\n",
    "age_tutor1 = 22\n",
    "age_tutor2 = 23"
   ]
  },
  {
   "cell_type": "code",
   "execution_count": 15,
   "id": "b56d5f63-a3cc-4e0d-952d-f689c2147a2a",
   "metadata": {},
   "outputs": [
    {
     "name": "stdout",
     "output_type": "stream",
     "text": [
      "Torben 22\n",
      "Jonas ist 23 alt.\n"
     ]
    }
   ],
   "source": [
    "print(tutor1, age_tutor1)\n",
    "print(f\"{tutor2} ist {age_tutor2} alt.\")  # fortgeschrittenere Variante"
   ]
  },
  {
   "cell_type": "code",
   "execution_count": 7,
   "id": "b6cf9f10-3294-4555-9209-a33e2f365949",
   "metadata": {},
   "outputs": [
    {
     "data": {
      "text/html": [
       "<div>\n",
       "<style scoped>\n",
       "    .dataframe tbody tr th:only-of-type {\n",
       "        vertical-align: middle;\n",
       "    }\n",
       "\n",
       "    .dataframe tbody tr th {\n",
       "        vertical-align: top;\n",
       "    }\n",
       "\n",
       "    .dataframe thead th {\n",
       "        text-align: right;\n",
       "    }\n",
       "</style>\n",
       "<table border=\"1\" class=\"dataframe\">\n",
       "  <thead>\n",
       "    <tr style=\"text-align: right;\">\n",
       "      <th></th>\n",
       "      <th>country</th>\n",
       "      <th>year</th>\n",
       "      <th>gini_disp</th>\n",
       "      <th>gini_disp_se</th>\n",
       "      <th>gini_mkt</th>\n",
       "      <th>gini_mkt_se</th>\n",
       "      <th>abs_red</th>\n",
       "      <th>abs_red_se</th>\n",
       "      <th>rel_red</th>\n",
       "      <th>rel_red_se</th>\n",
       "    </tr>\n",
       "  </thead>\n",
       "  <tbody>\n",
       "    <tr>\n",
       "      <th>0</th>\n",
       "      <td>Afghanistan</td>\n",
       "      <td>2007</td>\n",
       "      <td>30.4</td>\n",
       "      <td>2.5</td>\n",
       "      <td>33.3</td>\n",
       "      <td>2.8</td>\n",
       "      <td>NaN</td>\n",
       "      <td>NaN</td>\n",
       "      <td>NaN</td>\n",
       "      <td>NaN</td>\n",
       "    </tr>\n",
       "    <tr>\n",
       "      <th>1</th>\n",
       "      <td>Afghanistan</td>\n",
       "      <td>2008</td>\n",
       "      <td>30.5</td>\n",
       "      <td>2.5</td>\n",
       "      <td>33.4</td>\n",
       "      <td>2.9</td>\n",
       "      <td>NaN</td>\n",
       "      <td>NaN</td>\n",
       "      <td>NaN</td>\n",
       "      <td>NaN</td>\n",
       "    </tr>\n",
       "    <tr>\n",
       "      <th>2</th>\n",
       "      <td>Afghanistan</td>\n",
       "      <td>2009</td>\n",
       "      <td>30.5</td>\n",
       "      <td>2.5</td>\n",
       "      <td>33.6</td>\n",
       "      <td>3.0</td>\n",
       "      <td>NaN</td>\n",
       "      <td>NaN</td>\n",
       "      <td>NaN</td>\n",
       "      <td>NaN</td>\n",
       "    </tr>\n",
       "    <tr>\n",
       "      <th>3</th>\n",
       "      <td>Afghanistan</td>\n",
       "      <td>2010</td>\n",
       "      <td>30.5</td>\n",
       "      <td>2.7</td>\n",
       "      <td>33.7</td>\n",
       "      <td>3.0</td>\n",
       "      <td>NaN</td>\n",
       "      <td>NaN</td>\n",
       "      <td>NaN</td>\n",
       "      <td>NaN</td>\n",
       "    </tr>\n",
       "    <tr>\n",
       "      <th>4</th>\n",
       "      <td>Afghanistan</td>\n",
       "      <td>2011</td>\n",
       "      <td>30.6</td>\n",
       "      <td>2.7</td>\n",
       "      <td>33.7</td>\n",
       "      <td>3.0</td>\n",
       "      <td>NaN</td>\n",
       "      <td>NaN</td>\n",
       "      <td>NaN</td>\n",
       "      <td>NaN</td>\n",
       "    </tr>\n",
       "  </tbody>\n",
       "</table>\n",
       "</div>"
      ],
      "text/plain": [
       "       country  year  gini_disp  gini_disp_se  gini_mkt  gini_mkt_se  abs_red  \\\n",
       "0  Afghanistan  2007       30.4           2.5      33.3          2.8      NaN   \n",
       "1  Afghanistan  2008       30.5           2.5      33.4          2.9      NaN   \n",
       "2  Afghanistan  2009       30.5           2.5      33.6          3.0      NaN   \n",
       "3  Afghanistan  2010       30.5           2.7      33.7          3.0      NaN   \n",
       "4  Afghanistan  2011       30.6           2.7      33.7          3.0      NaN   \n",
       "\n",
       "   abs_red_se  rel_red  rel_red_se  \n",
       "0         NaN      NaN         NaN  \n",
       "1         NaN      NaN         NaN  \n",
       "2         NaN      NaN         NaN  \n",
       "3         NaN      NaN         NaN  \n",
       "4         NaN      NaN         NaN  "
      ]
     },
     "execution_count": 7,
     "metadata": {},
     "output_type": "execute_result"
    }
   ],
   "source": [
    "# import Swiid dataset\n",
    "swiid = pd.read_csv(\"swiid7_1_summary.csv\")\n",
    "swiid = swiid.astype({\"year\": int}, errors='raise') \n",
    "swiid.head()"
   ]
  }
 ],
 "metadata": {
  "kernelspec": {
   "display_name": "Python 3 (ipykernel)",
   "language": "python",
   "name": "python3"
  },
  "language_info": {
   "codemirror_mode": {
    "name": "ipython",
    "version": 3
   },
   "file_extension": ".py",
   "mimetype": "text/x-python",
   "name": "python",
   "nbconvert_exporter": "python",
   "pygments_lexer": "ipython3",
   "version": "3.8.8"
  }
 },
 "nbformat": 4,
 "nbformat_minor": 5
}
