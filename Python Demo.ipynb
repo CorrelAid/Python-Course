{
 "cells": [
  {
   "cell_type": "markdown",
   "id": "7e02f510-160f-47f2-9f88-081dd7d3cb08",
   "metadata": {},
   "source": [
    "#### Python Workshop - Termin 1: Python Basics\n",
    "Torben Abts & Jonas Hummel (CorrelAid), 10.Mai 2022"
   ]
  },
  {
   "cell_type": "markdown",
   "id": "ae0fb3c5",
   "metadata": {},
   "source": [
    "#### Teil 1: Intro\n",
    "\n",
    "siehe Slides"
   ]
  },
  {
   "cell_type": "markdown",
   "id": "918bd82d",
   "metadata": {},
   "source": [
    "#### Teil 2: Absolute Basics\n",
    "\n",
    "Hello, World! Wir wollen heute eine möglichst kurze und kompakte Einführung in Python geben. Dieses Notebook dient dabei zur praktischen Veranschaulichung der heutigen Inhalte, soll aber auch als Lernmaterial zum späteren Nachlesen herhalten.\n",
    "Üblicherweise beginnt man in jeder Programmiersprache mit dem Ausdruck **\"Hello, World!\"**. Mit diesem Ausdruck können meist ein paar grundlegende Eigenschaften der jeweiligen Programmiersprache gezeigt werden."
   ]
  },
  {
   "cell_type": "code",
   "execution_count": null,
   "id": "098d9367-8add-4ec9-b851-91e0782d5923",
   "metadata": {},
   "outputs": [],
   "source": [
    "print(\"Hello, World!\")"
   ]
  },
  {
   "cell_type": "markdown",
   "id": "792c438e-3e74-4a65-a485-9a254c8758df",
   "metadata": {},
   "source": [
    "Der obige Ausdruck zeigt uns Folgendes:\n",
    "- Die oben benutzten **Klammern** sind eines der grundlegenden Features von Python, aber auch vielen anderen Programmiersprachen. Auf das, was innerhalb der Klammer steht, wird die außen beschriebene Funktion angewandt (in diesem Fall der print-Befehl).\n",
    "- Einer der wichtigsten Befehle in Python ist der **print()-Befehl**. Mit ihm kann man sich Ausdrücke in die Konsole ausgeben lassen.\n",
    "- **Schriftzeichen** werden im Allgemeinen in **Anführungszeichen** geschrieben (dabei ist unerheblich ob '' oder \"\" genutzt wird). Bei numerischen Ausdrücken ist dies übrigens nicht nötig."
   ]
  },
  {
   "cell_type": "markdown",
   "id": "6067883b-6f6f-4dad-9c1b-0f4ec44ec6b1",
   "metadata": {},
   "source": [
    "In **Jupyter Notebooks wird der print()-Befehl nicht zwangsläufig benötigt** - eine Ausgabe erfolgt auch, falls nur ein Wert ausgegeben wird und dieser in der letzten Zeile steht (wenn auch mitunter in leicht anderem Format)!"
   ]
  },
  {
   "cell_type": "code",
   "execution_count": null,
   "id": "448edad8-e9b5-4d11-a32e-58f0f733bde8",
   "metadata": {},
   "outputs": [],
   "source": [
    "\"Hello, World!\""
   ]
  },
  {
   "cell_type": "markdown",
   "id": "0ffaea8f-b6af-46e2-a3eb-18bbce9dd803",
   "metadata": {},
   "source": [
    "Da wir nicht jedes Mal von neuem Code schreiben wollen, kann man **Code in Variablen speichern**. Man kann jegliche in Python verfübaren Datentypen in einer Variable speichern. Dazu nutzt man den sogenannten **Assignment Operator \"=\"**. Man schreibt den Namen der Variable auf die linke Seite des Gleichzeichens und den Code, der der Variable zugewiesen werden soll, auf die rechte Seite. Grundsätzlich sind Variablennamen klein zu schreiben. Leerzeichen werden durch Underscores _ ersetzt."
   ]
  },
  {
   "cell_type": "code",
   "execution_count": null,
   "id": "28678ead-6d62-4b23-9fe5-8175ee0bceee",
   "metadata": {},
   "outputs": [],
   "source": [
    "tutor1 = \"Torben\"\n",
    "tutor2 = \"Jonas\"\n",
    "age_tutor1 = 22\n",
    "age_tutor2 = 23"
   ]
  },
  {
   "cell_type": "code",
   "execution_count": null,
   "id": "b56d5f63-a3cc-4e0d-952d-f689c2147a2a",
   "metadata": {},
   "outputs": [],
   "source": [
    "print(tutor1, age_tutor1)\n",
    "print(f\"{tutor2} ist {age_tutor2} alt.\")  # fortgeschrittenere Variante (f-strings)"
   ]
  },
  {
   "cell_type": "markdown",
   "id": "1500f143-78d0-4e1e-bc5d-db0e8fb28696",
   "metadata": {},
   "source": [
    "In Python lassen sich verschiedenste **mathematische und logische Operatoren** einsetzen. Diese Operatoren werden im Grunde genommmen wie auch sonst \"im richtigen Leben\" verwendet. Hier einige Beispiele:"
   ]
  },
  {
   "cell_type": "code",
   "execution_count": null,
   "id": "eb50b077-fb63-4d88-a4fd-b30f1c912b94",
   "metadata": {},
   "outputs": [],
   "source": [
    "# Mathematische Operatoren\n",
    "\n",
    "# Addition\n",
    "sum_numbers = 7 + 8 + 15\n",
    "print(\"sum_numbers:\", sum_numbers)\n",
    "\n",
    "# Subtraktion\n",
    "number1, number2, = 25, 17\n",
    "diff_numbers = number1 - number2 # kann man auch mit Variablen machen, sofern diese numerische Ausdrücke beschreiben\n",
    "print(\"diff_numbers:\", diff_numbers)\n",
    "\n",
    "# ... und jegliche andere Rechenoperationen (siehe Slides)"
   ]
  },
  {
   "cell_type": "code",
   "execution_count": null,
   "id": "2bdec1c3-5b1d-4120-8aec-18501c345182",
   "metadata": {},
   "outputs": [],
   "source": [
    "# Logische Operatoren --> ergeben stets Wahrheitsausdrücke (True oder False)\n",
    "\n",
    "print(True and False)\n",
    "print(True or False)\n",
    "print(not False and True)\n",
    "\n",
    "\n",
    "print(20 * \"-\") # Trennlinie\n",
    "\n",
    "# Auch diese Operatoren können wieder mit Variablen genutzt werden, denen die richtigen Ausdrücke zugewiesen sind\n",
    "# Beachte: eine 1 ist dasselbe wie True, eine 0 dasselbe wie False\n",
    "\n",
    "num0 = 0\n",
    "num1 = 1\n",
    "num2 = 2\n",
    "\n",
    "print(num0 and num1)\n",
    "print(num2 - num1 and num1)\n",
    "print(num0 or True)"
   ]
  },
  {
   "cell_type": "markdown",
   "id": "a8b9f5a0-e3c0-4b7e-a317-d870955b051b",
   "metadata": {},
   "source": [
    "Oben ist - wie gesagt - nur ein Ausschnitt aller möglichen Operatoren gezeigt. Eine Liste der verschiedenen mathematischen und logischen Operatoren findet ihr auch in den Slides. Des Weiteren gibt es noch die Bitwise Operatoren. Diese operieren auf der Bit-Ebene, arbeiten also mit den zu 1en und 0en konvertierten Zeichen. Auf diese näher einzugehen würde aber den Rahmen sprengen (für Interessierte: https://www.geeksforgeeks.org/python-bitwise-operators/)."
   ]
  },
  {
   "cell_type": "markdown",
   "id": "a6e924c0-f03e-4874-b739-48aae04fd8a2",
   "metadata": {},
   "source": [
    "Wie bereits mehrfach im obigen Code gezeigt, können auch **Kommentare** in eingefügt werden. Diese werden von der Maschine ignoriert, sollten aber unbedingt zur besseren Lesbarkeit des Codes eingefügt werden. Kommentare können nach dem # Symbol eingefügt werden."
   ]
  },
  {
   "cell_type": "code",
   "execution_count": null,
   "id": "ac19fdeb-7246-4be6-a2ad-582928d1ec6d",
   "metadata": {},
   "outputs": [],
   "source": [
    "\"Kein Kommentar - wird ausgegeben\""
   ]
  },
  {
   "cell_type": "code",
   "execution_count": null,
   "id": "e314cc62-a59f-4e3a-8b5b-cc9220ff26b6",
   "metadata": {},
   "outputs": [],
   "source": [
    "# Kommentar - keine Ausgabe"
   ]
  },
  {
   "cell_type": "markdown",
   "id": "2054af9d-d2dd-46d3-9eb4-b734365a142e",
   "metadata": {},
   "source": [
    "#### Teil 3: Datentypen\n",
    "\n",
    "Die restlichen Zusammenhänge wollen wir an einem praktischen Beispiel deutlich machen. Dafür importieren wir den SWIID-Datensatz (Solt, 2021). Dieser enthält verschiedenste Kenndaten zur wirtschaftlichen Ungleichheit in mehreren Ländern über viele Jahre hinweg (wer sich näher dafür interessiert, sollte vielleicht am 05.07. hier vorbeischauen: https://www.exc.uni-konstanz.de/ungleichheit/news-und-events/events/in-equality-colloquium-sommer-2022/)"
   ]
  },
  {
   "cell_type": "code",
   "execution_count": null,
   "id": "b6cf9f10-3294-4555-9209-a33e2f365949",
   "metadata": {},
   "outputs": [],
   "source": [
    "# Install a pip package in the current Jupyter kernel\n",
    "import sys\n",
    "!{sys.executable} -m pip install pandas\n",
    "\n",
    "import pandas as pd\n",
    "\n",
    "# import Swiid-Datensatz\n",
    "swiid = pd.read_csv(\"swiid7_1_summary.csv\")\n",
    "swiid = swiid.astype({\"year\": int}, errors='raise') \n",
    "swiid.head() # gibt die ersten 5 Zeilen des Datensatzes aus"
   ]
  },
  {
   "cell_type": "markdown",
   "id": "9759cf74-27e9-4c84-a369-28ff50c5fd5d",
   "metadata": {},
   "source": [
    "Zuerst wollen wir uns damit beschäftigen, welche Länder wir in unserem Datensatz haben. Dazu lassen wir uns ein Array (Sammelobjekt) aller Element in der Spalte country ausgeben und entfernen die Duplikate."
   ]
  },
  {
   "cell_type": "code",
   "execution_count": null,
   "id": "06c17cd6-71fd-43c0-a6bb-d8950472f6bf",
   "metadata": {},
   "outputs": [],
   "source": [
    "countries = swiid.country.unique()\n",
    "countries"
   ]
  },
  {
   "cell_type": "markdown",
   "id": "97b707e1-8c1d-43a6-b42d-9b287b2178bb",
   "metadata": {},
   "source": [
    "Wie wir sehen können, ist die Sammlung ziemlich lang. Wir greifen nun den ersten Wert heraus, um mit diesem arbeiten zu können. Beachte dabei, dass man in **Python beginnnt bei 0 zu zählen**."
   ]
  },
  {
   "cell_type": "code",
   "execution_count": null,
   "id": "1bc4e374-5ad7-4256-9809-f77e07f94209",
   "metadata": {},
   "outputs": [],
   "source": [
    "first_country = countries[0]\n",
    "first_country"
   ]
  },
  {
   "cell_type": "markdown",
   "id": "7a25cebc-3b39-47c9-b3d5-0a2b724565b9",
   "metadata": {},
   "source": [
    "Wie wir sehen können, wird uns der entsprechende Wert (wie auch in der Sammlung weiter oben) in **Anführungsstrichen** ausgegeben. Dies zeigt an, dass es sich um einen **String** handelt, was wir auch mit der **type()-Funktion** überprüfen können."
   ]
  },
  {
   "cell_type": "code",
   "execution_count": null,
   "id": "9b8da598-599e-4ed9-b3d8-d4b8fc4890d0",
   "metadata": {},
   "outputs": [],
   "source": [
    "type(first_country)"
   ]
  },
  {
   "cell_type": "markdown",
   "id": "a1e619d5-9eac-4af6-9b8d-7859b757fb33",
   "metadata": {},
   "source": [
    "Auch Zahlen können Strings sein, wenn sie in \"\" geschrieben werden. Hier muss man jedoch aufpassen, da diese dann ihre spezifischen Eigenschaften als numerische Werte verlieren (weshalb ein Fehler geworfen wird)."
   ]
  },
  {
   "cell_type": "code",
   "execution_count": null,
   "id": "0ef9c8c0-6d6e-45ab-a381-2f84e621b2a6",
   "metadata": {},
   "outputs": [],
   "source": [
    "2 + \"2\""
   ]
  },
  {
   "cell_type": "markdown",
   "id": "48488fa8-69f3-44b6-a68b-e937fa3041ef",
   "metadata": {},
   "source": [
    "Mit Strings kann man verschiedenste Sachen machen. Hierzu kann man unter anderem die in Python vorgefertigten Methoden benutzen: https://www.w3schools.com/python/python_ref_string.asp. Alle Methoden geben dabei neue Werte aus und verändern nicht den ursprünglichen String!"
   ]
  },
  {
   "cell_type": "markdown",
   "id": "4d31aa80-696d-484b-98b6-f0870b66d4fe",
   "metadata": {},
   "source": [
    "Als nächstes wollen wir uns einem weiteren Datentyp zuwenden, dem **int**. Dazu schauen wir auf die zweite Spalte der Tabelle, die Jahreszahlen. Hier lassen wir uns wieder alle Jahreszahlen ausgeben, diesmal mit Duplikaten."
   ]
  },
  {
   "cell_type": "code",
   "execution_count": null,
   "id": "5e719cfb-e193-4be7-8419-85f60712bc40",
   "metadata": {
    "collapsed": true,
    "jupyter": {
     "outputs_hidden": true
    },
    "tags": []
   },
   "outputs": [],
   "source": [
    "years = swiid[\"year\"].tolist()\n",
    "years"
   ]
  },
  {
   "cell_type": "markdown",
   "id": "c16277b3-3ed7-4d16-adc4-099c12c50228",
   "metadata": {},
   "source": [
    "Wie man sieht, bekommt man eine sehr lange Liste der Jahreszahlen. Wieder wollen wir uns zur Veranschaulichung die eine Zahl greifen, diesmal die hundertste."
   ]
  },
  {
   "cell_type": "code",
   "execution_count": null,
   "id": "711b478e-6c9d-4cd4-bbf0-8bcdb03ddc98",
   "metadata": {},
   "outputs": [],
   "source": [
    "years_100 = years[99]\n",
    "years_100"
   ]
  },
  {
   "cell_type": "markdown",
   "id": "f570db33-1e48-4a88-88eb-33d088d5c870",
   "metadata": {},
   "source": [
    "Wieder wollen wir nun den Typen bestimmen."
   ]
  },
  {
   "cell_type": "code",
   "execution_count": null,
   "id": "f557bbc7-2589-4665-b06b-ab6e108efd1a",
   "metadata": {},
   "outputs": [],
   "source": [
    "type(years_100)"
   ]
  },
  {
   "cell_type": "markdown",
   "id": "969e9b48-9b06-4218-be27-f84f5b5e2fe7",
   "metadata": {},
   "source": [
    "**Ints** sind grundsätzlich alle **ganzen Zahlen**. Diese können nun mit allen mathematischen und logischen Operatoren genutzt werden. Beispielsweise können wir gucken, ob die erste Zahl in der Tabelle größer ist als die letzte:"
   ]
  },
  {
   "cell_type": "code",
   "execution_count": null,
   "id": "ebf943d2-f8c1-4b8b-b6a7-b117d273a50c",
   "metadata": {},
   "outputs": [],
   "source": [
    "years[0] > years[-1] # von hinten gezählt"
   ]
  },
  {
   "cell_type": "markdown",
   "id": "734a1852",
   "metadata": {},
   "source": [
    "Ein weiterer Zahlentyp sind die **floats**. Dabei handelt es sich um **Kommazahlen**. Wieder nehmen wir zur Demonstration wieder eine Spalte aus unserem Datensatz, diesmal zum Gini Index (Verfügbares Einkommen)."
   ]
  },
  {
   "cell_type": "code",
   "execution_count": null,
   "id": "d97cfd51",
   "metadata": {},
   "outputs": [],
   "source": [
    "gini = swiid[\"gini_disp\"].tolist()\n",
    "gini"
   ]
  },
  {
   "cell_type": "markdown",
   "id": "1af9c0f2",
   "metadata": {},
   "source": [
    "Diesmal nehmen wir wieder den ersten Datenpunkt aus der Sammlung heraus."
   ]
  },
  {
   "cell_type": "code",
   "execution_count": null,
   "id": "833864ac",
   "metadata": {},
   "outputs": [],
   "source": [
    "first_gini = gini[0]\n",
    "first_gini"
   ]
  },
  {
   "cell_type": "markdown",
   "id": "231ed1f1",
   "metadata": {},
   "source": [
    "Mit floats kann man grundsätzlich dieselben Dinge anstellen wie mit ints. **Allerdings gilt es, folgendes zu beachten:**"
   ]
  },
  {
   "cell_type": "code",
   "execution_count": null,
   "id": "c43a92cc",
   "metadata": {},
   "outputs": [],
   "source": [
    "first_gini_minus_a_tenth = first_gini - 0.1\n",
    "first_gini_minus_a_tenth"
   ]
  },
  {
   "cell_type": "markdown",
   "id": "c7289e65",
   "metadata": {},
   "source": [
    "Dass Rechnungen mit floats mitunter nicht genau werden, liegt daran, dass nicht jede Kommazahl exakt in Binärschreibweise (\"2er-System\") dargestellt werden kann. Man sollte daher vor allem wenn man mit sehr kleinen Zahlen arbeitet oder es auf exakte Genauigkeit ankommt floats besser vermeiden oder runden. "
   ]
  },
  {
   "cell_type": "code",
   "execution_count": null,
   "id": "972bfd53",
   "metadata": {},
   "outputs": [],
   "source": [
    "print(round(first_gini_minus_a_tenth, 2))\n",
    "\n",
    "first_gini = int(first_gini) # konvertiert zu int immmer Richtung -unendlich\n",
    "print(first_gini) "
   ]
  },
  {
   "cell_type": "markdown",
   "id": "78d7dd77",
   "metadata": {},
   "source": [
    "Den letzten Datentyp, den wir uns ansehen wollen, haben wir weiter oben bei den logischen Operatoren schon kennengelernt. Bei **Booleans** handelt es sich um Wahrheitsausdrücke. Dabei können ausdrücke entweder **True (1)** oder **False (0)** sein"
   ]
  },
  {
   "cell_type": "code",
   "execution_count": null,
   "id": "86e41efc",
   "metadata": {},
   "outputs": [],
   "source": [
    "print(first_gini == 30.4)\n",
    "print(first_gini == 30)"
   ]
  },
  {
   "cell_type": "markdown",
   "id": "2d06cd83",
   "metadata": {},
   "source": [
    "#### Teil 4: Datencontainer\n",
    "\n",
    "Im vorherigen Teil haben wir es schon immer wieder angerissen - natürlich werden die meisten Daten nicht als einzelne Datenpunkte oder Variablen, sondern als **Sammlungen von Datenpunkten** gespeichert. An dieser Stelle sei bemerkt, dass die Unterscheidung von Datentypen und Datencontainern, die hier gemacht wird, konzeptionell nicht ganz korrekt ist - zum Verständnis ist sie aber allemal hilfreich.\n",
    "Alles, was mehr als einen Datenpunkt enthält, soll in diesem Kurs als Datencontainer bezeichnet werden. Wir werden uns im Folgenden mit den Standard-Datencontainern in Python beschäftigen."
   ]
  },
  {
   "cell_type": "markdown",
   "id": "a0a91e42",
   "metadata": {},
   "source": [
    "Zuerst sind da Listen, die in Python ziemlich beliebt und somit auch ziemlich wichtig sind. Da wir weiter oben schon Listen benutzt haben, wollen wir die Demonstration der Besonderheiten von Listen an einer dieser durchführen. Zur Erinnerung lassen wir uns erneut die Liste gini ausgeben, die die verschiedenen gini-Koeffizienten gespeichert hat."
   ]
  },
  {
   "cell_type": "code",
   "execution_count": null,
   "id": "93ae5dfd",
   "metadata": {},
   "outputs": [],
   "source": [
    "gini"
   ]
  },
  {
   "cell_type": "markdown",
   "id": "2cbe4376",
   "metadata": {},
   "source": [
    "Vergleicht man den Output hier mit dem Output derselben Variable weiter oben, fällt auf, dass dieser exakt identisch ist. Dies zeigt zwei der wichtigsten Eigenschaften von Listen auf: sie sind **geordnet/indiziert** (= jede Position hat eine Rangnummer) sowie **veränderlich**. Außerdem **erlauben Listen Duplikate** und **können verschiedene Datentypen** enthalten.\n",
    "Wir wollen uns zuerst zwei der wichtigsten Listen-Operationen anschauen: Das **Zuschneiden** von Listen sowie das **Hinzufügen eines Elements**. "
   ]
  },
  {
   "cell_type": "code",
   "execution_count": null,
   "id": "b63b4dd1",
   "metadata": {},
   "outputs": [],
   "source": [
    "# Hier sollen die Datenpunkte 50 - 58 herausgegeben werden (0-based!). \n",
    "# Dazu nutzt man den Slice-Operator [vordere Grenze: hintere Grenze:Schritte]. \n",
    "# Die hintere Grenze wird NICHT mit aufgenommen!\n",
    "\n",
    "gini_50_58 = gini[49:58]\n",
    "print(gini_50_58)\n",
    "\n",
    "# Mit dem Hinzufügen einer dritten Zahl lässt sich nur jeder zweite/dritte etc. Datenpunkt auswählen\n",
    "gini_50_58 = gini[49:58:2]\n",
    "print(gini_50_58)\n",
    "\n",
    "# Hinzufügen eines weiteren Datenpunktes mit .append()\n",
    "gini_50_58.append(\"Ungleichheit\") # andere Datentyp\n",
    "print(gini_50_58)"
   ]
  },
  {
   "cell_type": "code",
   "execution_count": null,
   "id": "b14d3e0a",
   "metadata": {},
   "outputs": [],
   "source": [
    "gini = [48.7, 48.7, 48.6, 48.6, 48.3, 47.9, 47.7, 47.6, 35.9]\n",
    "\n",
    "# Slicing\n",
    "gini_2_4 = gini[1:4]\n",
    "print(gini_2_4)\n",
    "gini_2_4 = gini[1:4:2]\n",
    "print(gini_2_4)\n",
    "\n",
    "# Hinzufügen eines weiteren Datenpunktes mit .append()\n",
    "gini_2_4.append(\"Ungleichheit\") # andere Datentyp\n",
    "print(gini_2_4)"
   ]
  },
  {
   "cell_type": "markdown",
   "id": "8c23d8d4",
   "metadata": {},
   "source": [
    "Auch dies hier war wieder nur ein kleiner Ausschnitt dessen, was man mit Listen machen kann. Weitere Listen-Methoden und ihre Funktionsweise findet ihr hier: https://www.w3schools.com/python/python_lists_methods.asp "
   ]
  },
  {
   "cell_type": "markdown",
   "id": "0ca477aa",
   "metadata": {},
   "source": [
    "Ein weiterer Datentyp sind die **Tuples**. Diese sehen auf den ersten Blick aus wie Listen, nur mit normalen statt mit eckigen Klammern. Wir nehmen wieder die gini-Liste und konvertieren sie zu einem Tuple, um die Unterschiede zu zeigen."
   ]
  },
  {
   "cell_type": "code",
   "execution_count": null,
   "id": "50c7822c",
   "metadata": {},
   "outputs": [],
   "source": [
    "tup_gini = tuple(gini)\n",
    "tup_gini"
   ]
  },
  {
   "cell_type": "markdown",
   "id": "deff1249",
   "metadata": {},
   "source": [
    "Wie gesagt, auf den ersten Blick hat sich nicht wahnsinnig viel verändert - daher probieren wir nun, dieselben Operationen wie zuvor (Slicing und Appending) anzuwenden."
   ]
  },
  {
   "cell_type": "code",
   "execution_count": null,
   "id": "7c69cb8d",
   "metadata": {},
   "outputs": [],
   "source": [
    "tup_gini_50_58 = tup_gini[49:58]\n",
    "print(tup_gini_50_58)"
   ]
  },
  {
   "cell_type": "code",
   "execution_count": null,
   "id": "72d70d2a",
   "metadata": {},
   "outputs": [],
   "source": [
    "tup_gini.append(\"Ungleichheit\")\n",
    "print(tup_gini)"
   ]
  },
  {
   "cell_type": "markdown",
   "id": "b32afff8",
   "metadata": {},
   "source": [
    "Zwar sind auch Tuples **geordnet/indiziert**, können also \"geschnitten\" werden, aber im Gegensatz zu Listen sind sie **unveränderlich** - daher können auch keine neuen Elemente mehr hinzugefügt werden. Folglich kann man mit Tuples deutlich weniger machen. Die einzigen beiden built-in methods (von Python vorgefertigten Methoden) sind index() und count() (für mehr Infos, siehe hier: https://www.w3schools.com/python/python_tuples_methods.asp). Dafür verbrauchen tuples aber weniger Speicherplatz, was gerade für Big Data-Anwendungen von Vorteil sein kann. Auch die Unveränderlichkeit kann durchaus gewünscht sein. Auch Tuples **akzeptieren Duplikate und verschiedene Datentypen**."
   ]
  },
  {
   "cell_type": "markdown",
   "id": "b4cc262a",
   "metadata": {},
   "source": [
    "Der dritte Typus ist das **Set**. Dieses wird deutlich seltener verwendet, daher wollen wir es nur kurz einführen. Der wesentliche Unterschied zu Tuples und Lists ist, dass ein Set **ungeordnet** ist und somit auch **nicht indiziert** werden kann. Es erlaubt **keine Duplikate**, aber **verschiedene Datentypen**. Das Eliminieren von Duplikaten wollen wir hier kurz anhand der Ländernamen demonstrieren:"
   ]
  },
  {
   "cell_type": "code",
   "execution_count": null,
   "id": "018aa9fa",
   "metadata": {},
   "outputs": [],
   "source": [
    "list_countries = swiid.country.tolist() # neue Liste der Ländernamen aus dem Datensatz oben\n",
    "print(list_countries)\n",
    "\n",
    "# Löschen der Duplikate mit set()\n",
    "set_countries = set(list_countries)\n",
    "print(set_countries)\n"
   ]
  },
  {
   "cell_type": "code",
   "execution_count": null,
   "id": "90d2a4d4",
   "metadata": {},
   "outputs": [],
   "source": [
    "print(f\"Anzahl der Einträge in Liste: {len(list_countries)}, Anzahl der Einträge in Set: {len(set_countries)}\")"
   ]
  },
  {
   "cell_type": "markdown",
   "id": "ccc9cc4f",
   "metadata": {},
   "source": [
    "Weitere Methoden für Sets sind hier zu finden: https://www.w3schools.com/python/python_sets_methods.asp "
   ]
  },
  {
   "cell_type": "markdown",
   "id": "5aaeae91",
   "metadata": {},
   "source": [
    "Der letzte Datencontainer, den wir einführen wollen, ist das **Dictionary**. Hierbei handelt es sich um einen speziellen Datencontainer, da dieses nicht einzelne Datenpunkte, sondern **key:value Paare** enthält. Wir wollen dies wieder am Beispiel des obigen Datensatzes zeigen. Dazu erstellen wir aus den Listen list_countries, years und gini ein Dictionary, das die 3 Informationen für die jeweilige Spalte in der Tabelle speichert"
   ]
  },
  {
   "cell_type": "code",
   "execution_count": null,
   "id": "f2f7bf1b",
   "metadata": {},
   "outputs": [],
   "source": [
    "# nur ein Infopunkt (gini)\n",
    "country_info = {list_countries[0] : gini[0]} # kann auch mit dict() initiiert werden\n",
    "print(country_info)\n",
    "\n",
    "# zwei Infopunkte (years und gini)\n",
    "country_info = {list_countries[0] : [years[0], gini[0]]}\n",
    "print(country_info)"
   ]
  },
  {
   "cell_type": "markdown",
   "id": "2aec3ed9",
   "metadata": {},
   "source": [
    "Wie das zweite Beispiel zeigt, kann der value auch aus mehreren Einzelelementen in einer Liste bestehen. Das ist beim key nicht möglich! Auch muss der **key in einem Dictionary einzigartig sein**. Wird ein key mit demselben Namen hinzugefügt, wird der ältere Eintrag überschrieben."
   ]
  },
  {
   "cell_type": "code",
   "execution_count": null,
   "id": "9e645acc",
   "metadata": {},
   "outputs": [],
   "source": [
    "# Einfügen eines neuen Eintrags\n",
    "\n",
    "country_info[list_countries[100]] = [years[100], gini[100]]\n",
    "print(country_info)\n",
    "\n",
    "# Überschreiben des ersten Eintrages\n",
    "\n",
    "country_info[list_countries[1]] = [years[1], gini[1]] # der  key hat wieder den Namen Afghanistan\n",
    "print(country_info)"
   ]
  },
  {
   "cell_type": "markdown",
   "id": "0febe0ad",
   "metadata": {},
   "source": [
    "Um dieses Problem bei größeren Datenmengen zu umgehen, könnte man z.B. den Namen des Landes und das Jahr zu einem Key zusammenlegen. Im Gegensatz zu Tuples und Listen können Dictionaries nicht geschnitten, jedoch indiziert werden - hier ist der Index allerdings der key und nicht die Zahl der Position. Dictionaries können alle Datentypen beinhalten. Weitere Methoden für Dictionaries finden sich hier: https://www.w3schools.com/python/python_dictionaries_methods.asp ."
   ]
  },
  {
   "cell_type": "markdown",
   "id": "dc85833c",
   "metadata": {},
   "source": [
    "#### Teil 5: Loops und Conditional Statements"
   ]
  },
  {
   "cell_type": "markdown",
   "id": "e28a6590",
   "metadata": {},
   "source": [
    "In diesem Abschnitt wird es um Conditional Statements und Loops gehen. Beide sind für sich genommen sehr wichtige Konzepte in Python. Aber gerade in Kombination können sie oftmals ihre wahre Stärke auspielen. Fangen wir mit den Conditional Statements an. "
   ]
  },
  {
   "cell_type": "markdown",
   "id": "9f8cd738",
   "metadata": {},
   "source": [
    "#### Conditional Statements"
   ]
  },
  {
   "cell_type": "code",
   "execution_count": null,
   "id": "90ed637e",
   "metadata": {},
   "outputs": [],
   "source": [
    "cond_1 = True\n",
    "if cond_1 == True: \n",
    "    print(\"Conditional 1 is True\")"
   ]
  },
  {
   "cell_type": "markdown",
   "id": "31e50b3a",
   "metadata": {},
   "source": [
    "Als erstes setze ich eine Variable mit einem bestimmten Wahrheitswert fest. Anschließend sage ich Python folgendes:    \n",
    "\n",
    "WENN (if) Variable X (in diesem Fall cond_1) gleich (==) True ist, DANN gib mir folgenden Output (\"Conditional 1 is True\")"
   ]
  },
  {
   "cell_type": "markdown",
   "id": "27f61d31",
   "metadata": {},
   "source": [
    "Wir legen also eine bestimmte Bedingung fest, und nur wenn diese erfüllt ist, wird der eingerückte Teil nach dem Doppelpunkt ausgeführt. Die Bedingung steht nach dem sehr intuitiven \"if\".    \n",
    "Wichtig zu bemerken ist hier das doppelte Gleichzeichen!    \n",
    "Während wir mit einem einfachen Gleichzeichen einer Variable einen Wert zuweisen, überprüfen wir mit einem doppelten Gleichzeichen, ob zwei Werte gleich sind. Das doppelte Gleichzeichen ist ein **Vergleichsoperator**."
   ]
  },
  {
   "cell_type": "code",
   "execution_count": null,
   "id": "fdb79b2d",
   "metadata": {},
   "outputs": [],
   "source": [
    "print(1 == 1)     # Print the boolean value of the comparsion: 1 is equal to 1\n",
    "\n",
    "cond_2 = False\n",
    "print(cond_1 == cond_2) # Print the boolean value of the comparsion: value of cond_1 is equal to value of cond_2"
   ]
  },
  {
   "cell_type": "markdown",
   "id": "a52839e7",
   "metadata": {},
   "source": [
    "Es gibt aber auch noch andere Vergleichsoperatoren, wie \"<\", \">\", \">=\" oder =<. Jeder dieser Operatoren kann zudem auch mit einem Ausrufezeichen verneint werden. Einige Beispiele: "
   ]
  },
  {
   "cell_type": "code",
   "execution_count": null,
   "id": "3777dbb1",
   "metadata": {},
   "outputs": [],
   "source": [
    "print(1 <= 1)   # Print the boolean value of the comparsion: 1 is less or equal to 1\n",
    "print(1 <= 2)   # Print the boolean value of the comparsion: 1 is less of equal to 2\n",
    "print(1 != 2)   # Print the boolean value of the comparsion: 1 is NOT equal to 2\n",
    "print(35 >= 56) # Print the boolean value of the comparsion: 35 is greater or equal to 56"
   ]
  },
  {
   "cell_type": "markdown",
   "id": "7a20d1c6",
   "metadata": {},
   "source": [
    "Wir wissen nun also wie wir eine Bedingung aufstellen können.    \n",
    "Als nächstes schauen wir uns die Verbindung zu den \"If-Statements\" an.     \n",
    "Wie oben bereits beim Beispiel gesehen, können wir Python sagen das er bestimmten Code ausführen soll, aber nur wenn eine bestimmte Bedingung erfüllt ist. Das Konzept geht aber noch weiter. Wieder zuerst ein Beispiel:"
   ]
  },
  {
   "cell_type": "code",
   "execution_count": null,
   "id": "3b992141",
   "metadata": {},
   "outputs": [],
   "source": [
    "cond_3 = False\n",
    "\n",
    "if cond_3 == True: \n",
    "    print(\"Conditional 3 is True\")\n",
    "else: \n",
    "    print(\"Conditional 3 is false\")"
   ]
  },
  {
   "cell_type": "markdown",
   "id": "bb9df887",
   "metadata": {},
   "source": [
    "Wir können also nicht nur eine \"Wenn-Bedingung\" setzen, sondern auch eine \"Sonst-Bedingung\". Diese wird immer dann ausgeführt, wenn die If-Bedingung nicht erfüllt ist. Wir können aber auch sogenannte \"Elif\" Bedingungen einfügen. Das ist eine Kombination aus \"else\" und \"if\". Dahinter müssen dann aber auch ausführen was für eine Bedingung gelten muss. Sonst weiß Python nicht in welches Statement er rein muss. "
   ]
  },
  {
   "cell_type": "code",
   "execution_count": null,
   "id": "b848e807",
   "metadata": {},
   "outputs": [],
   "source": [
    "example_1 = 5 \n",
    "\n",
    "if example_1 == 1: \n",
    "    print(\"Example 1 is 1\")   \n",
    "elif example_1 == 2:\n",
    "    print(\"Example 1 is 2\")  \n",
    "elif example_1 == 3:\n",
    "    print(\"Example 1 is 3\")  \n",
    "elif example_1 == 4:\n",
    "    print(\"Example 1 is 4\")    \n",
    "elif example_1 == 5:\n",
    "    print(\"Example 1 is 5\")   \n",
    "else: \n",
    "    print(\"Example is not in range of 1-5\")"
   ]
  },
  {
   "cell_type": "markdown",
   "id": "f5353dcc",
   "metadata": {},
   "source": [
    "So viel zu der Theorie von Vergleichsoperatoren und Conditional Statements.  "
   ]
  },
  {
   "cell_type": "markdown",
   "id": "c5d8d769",
   "metadata": {},
   "source": [
    "#### Loops"
   ]
  },
  {
   "cell_type": "markdown",
   "id": "b090737a",
   "metadata": {},
   "source": [
    "Nun zu den Loops oder auch Schleifen. Diese sind in der Lage, bestimmten Code zu loopen, also beliebig oft zu wiederholen. Es gibt zwei zentrale Formen von Schleifen, einmal die While-Schleifen und einmal die For-Schleifen. Diese kann man nachher noch mit Befehlen wie \"break\" oder \"continue\" abwandeln.    \n",
    "Für den Anfang werden uns aber die zwei normalen Formen völlig ausreichen.  "
   ]
  },
  {
   "cell_type": "markdown",
   "id": "849fe2e2",
   "metadata": {},
   "source": [
    "##### For-Schleife"
   ]
  },
  {
   "cell_type": "code",
   "execution_count": null,
   "id": "1bf30519",
   "metadata": {},
   "outputs": [],
   "source": [
    "for x in range(5): \n",
    "    print(x)"
   ]
  },
  {
   "cell_type": "markdown",
   "id": "23a2f0b8",
   "metadata": {},
   "source": [
    "Erklärung: Wir haben einmal den Schleifenkopf (for x in range(5): ) und einmal den Körper der Schleife ( print(x) ). Der Schleifenkopf besteht aus dem Befehl \"for\", der signalisiert das wir eine For-Schleife haben. Dazu kommt das x, das unsere Laufvariable ist. Diese startet bei dem Wert 0 und geht in diesem Fall bis 4. \"range\" zeigt an, wie weit wir mit der Schleife gehen. \n",
    "\n",
    "Im Schleifenkörper steht nun der Code, der wiederholt werden soll. \n",
    "\n",
    "Man kann eine For-Schleife allerdings nicht nur in einer bestimmten Range durchlaufen lassen, sondern auch beispielsweise über einen Array. Dazu später mehr."
   ]
  },
  {
   "cell_type": "markdown",
   "id": "be520215",
   "metadata": {},
   "source": [
    "##### While-Schleife"
   ]
  },
  {
   "cell_type": "code",
   "execution_count": null,
   "id": "872dc1b3",
   "metadata": {},
   "outputs": [],
   "source": [
    "count = 0\n",
    "while count < 5:\n",
    "    print(count)\n",
    "    count = count + 1"
   ]
  },
  {
   "cell_type": "markdown",
   "id": "3382494c",
   "metadata": {},
   "source": [
    "Erklärung: Auch hier haben wir wieder einen Schleifenkopf mit dem Befehl \"while\" der angibt welche Schleife wir benutzen, gefolgt von einem Conditional Statement. Solange dieses Statement True ist, wird die While-Schleife wiederholt. Im Schleifenkörper ist erneut der Code der wiederholt werden soll. "
   ]
  },
  {
   "cell_type": "markdown",
   "id": "827c4aef",
   "metadata": {},
   "source": [
    "Interessant wird es nun, wenn man anfängt die Condotional Statements mit den Schleifen zu wiederholen."
   ]
  },
  {
   "cell_type": "markdown",
   "id": "a39ec218",
   "metadata": {},
   "source": [
    "Als erstes werden wir dafür wieder unseren Datensatz öffnen. Diesmal allerdings als \"List of Lists\". Das bedeutet, wir haben einen zweidimensionalen Array. Jede Zeile ist ein Array. Der gesamte Datensatz, ist also ein Array, der Arrays enthält."
   ]
  },
  {
   "cell_type": "code",
   "execution_count": null,
   "id": "c2656770",
   "metadata": {},
   "outputs": [],
   "source": [
    "from csv import reader\n",
    "opened_file = open(\"swiid7_1_summary.csv\")\n",
    "read_file = reader(opened_file)\n",
    "swiid_2 = list(read_file)"
   ]
  },
  {
   "cell_type": "code",
   "execution_count": null,
   "id": "a4d316f1",
   "metadata": {},
   "outputs": [],
   "source": [
    "for i in swiid_2[:5]:\n",
    "    print(i)"
   ]
  },
  {
   "cell_type": "markdown",
   "id": "a429a3b8",
   "metadata": {},
   "source": [
    "Hier sehen wir, wie die ersten 5 Einträge des Datensatzes aussehen. Die For-Schleife haben wir in den eckigen Klammern so angepasst, dass sie vom Anfang (dargestellt durch den Doppelpunkt) bis zum 4. Eintrag durchläuft und nicht durch den gesamten Datensatz.     \n",
    "Wir sehen das abgesehen von der ersten Zeile, wo die Titel drin sind, jeder Eintrag dieselbe Struktur hat. Das machen wir uns im folgenden zu Nutze. An erster Stelle steht immer der Name des Landes, also filtern wir einfach einmal danach."
   ]
  },
  {
   "cell_type": "code",
   "execution_count": null,
   "id": "a1ec5f57",
   "metadata": {},
   "outputs": [],
   "source": [
    "for i in swiid_2:      # Loop through the whole dataset\n",
    "    country_2 = i[0]   # For every line, we safe the first entry, which is the country, into the variable country_2\n",
    "    if country_2 == \"Afghanistan\":     # If the country we safed, is equal to Afghanistan, we go in the conditional statement\n",
    "        print(i)      # Print the whole line"
   ]
  },
  {
   "cell_type": "markdown",
   "id": "22f5e6b2",
   "metadata": {},
   "source": [
    "Dasselbe funktioniert natürlich auch wenn wir nach den Jahren filtern. Nur müssen wir dann den zweiten Eintrag benutzen."
   ]
  },
  {
   "cell_type": "markdown",
   "id": "a2a1ad6f",
   "metadata": {},
   "source": [
    "for i in swiid_2:      # Loop through the whole dataset\n",
    "    year_2 = i[1]   # For every line, we safe the second entry, which is the year, into the variable year_2\n",
    "    if year_2 == \"2017\":     # If the year we safed, is equal to 2017, we go in the conditional statement\n",
    "        print(i)      # Print the whole line"
   ]
  },
  {
   "cell_type": "markdown",
   "id": "b967098a",
   "metadata": {},
   "source": [
    "#### Teil 6: Funktionen\n"
   ]
  },
  {
   "cell_type": "markdown",
   "id": "df2ea8f2",
   "metadata": {},
   "source": [
    "Funktionen sind ein sehr nützliches Hilfsmittel in Python. Es gibt eine Reihe von integrierten Funktionen in Python, zum Beispiel round()"
   ]
  },
  {
   "cell_type": "code",
   "execution_count": null,
   "id": "50cc5d06",
   "metadata": {},
   "outputs": [],
   "source": [
    "round(7.4354334233)"
   ]
  },
  {
   "cell_type": "markdown",
   "id": "d2a145f7",
   "metadata": {},
   "source": [
    "Wir können aber auch eigene Funktionen schreiben. Im folgenden zum Beispiel eine einfache Funktion, die zwei Werte als input nimmt und uns die Summe dessen zurückgibt:"
   ]
  },
  {
   "cell_type": "code",
   "execution_count": null,
   "id": "0ab2110b",
   "metadata": {},
   "outputs": [],
   "source": [
    "def addition(input_1, input_2):\n",
    "    summe = input_1 + input_2\n",
    "    return summe"
   ]
  },
  {
   "cell_type": "code",
   "execution_count": null,
   "id": "fd74d977",
   "metadata": {},
   "outputs": [],
   "source": [
    "print(addition(5, 6))"
   ]
  },
  {
   "cell_type": "markdown",
   "id": "2474f22c",
   "metadata": {},
   "source": [
    "Wir definieren unsere Funktion mit \"def\" und geben ihr danach einen Namen. Dahinter folgt in Klammern der Input den wir geben. Dieser kann aus einer oder auch mehreren Variablen und/oder Werten bestehen. In der Funktion können wir dann etwas machen. Wir können auch etwas zurückgeben (im Code oben zu sehen \"return\"), müssen wir aber nicht."
   ]
  },
  {
   "cell_type": "markdown",
   "id": "a3b5855c",
   "metadata": {},
   "source": [
    "Ein weiteres Beispiel wäre eine Quadrierungsfunktion:"
   ]
  },
  {
   "cell_type": "code",
   "execution_count": null,
   "id": "1ac61de6",
   "metadata": {},
   "outputs": [],
   "source": [
    "def quad(input_1):\n",
    "    return (input_1 * input_1)\n",
    "\n",
    "print(quad(5))"
   ]
  },
  {
   "cell_type": "markdown",
   "id": "d77659f9",
   "metadata": {},
   "source": [
    "Eine wichtige Anmerkung:\n",
    "Wenn wir einer Funktion mehr als eine Variable mitgeben, müssen wir aufpassen in welcher Reihenfolge wir den Input geben:"
   ]
  },
  {
   "cell_type": "code",
   "execution_count": null,
   "id": "d1925638",
   "metadata": {},
   "outputs": [],
   "source": [
    "def division(input_1, input_2):\n",
    "    return(input_1 / input_2)\n",
    "\n",
    "print(division(5,10))\n",
    "print(division(10,5))"
   ]
  },
  {
   "cell_type": "markdown",
   "id": "61a6d631",
   "metadata": {},
   "source": [
    "#### Kombinieren von Conditional Statements, Loops und Funktionen"
   ]
  },
  {
   "cell_type": "markdown",
   "id": "179d367a",
   "metadata": {},
   "source": [
    "Im folgenden schreiben wir eine Funktion, mit der wir unseren Datensatz nach etwas bestimmten Filtern können und die uns die entsprechenden Zeilen in eine neue Liste packt."
   ]
  },
  {
   "cell_type": "code",
   "execution_count": null,
   "id": "d1e78833",
   "metadata": {},
   "outputs": [],
   "source": [
    "filtered_list_1 = []\n",
    "\n",
    "def filter_list(dataset, filter_variable, filter_variable_index, output_list):\n",
    "    for i in dataset:    \n",
    "        country_3 = i[filter_variable_index]\n",
    "        if country_3 == filter_variable:     \n",
    "            output_list.append(i)"
   ]
  },
  {
   "cell_type": "markdown",
   "id": "530c6a5e",
   "metadata": {},
   "source": [
    "Beispiel 1:"
   ]
  },
  {
   "cell_type": "code",
   "execution_count": null,
   "id": "88ea6ef7",
   "metadata": {},
   "outputs": [],
   "source": [
    "print(filtered_list_1)\n",
    "filter_list(swiid_2, \"Afghanistan\", 0, filtered_list_1)\n",
    "print(filtered_list_1)"
   ]
  },
  {
   "cell_type": "markdown",
   "id": "bafbe680",
   "metadata": {},
   "source": [
    "Beispiel 2:"
   ]
  },
  {
   "cell_type": "code",
   "execution_count": null,
   "id": "6bbdc0e7",
   "metadata": {},
   "outputs": [],
   "source": [
    "filtered_list_2 = []\n",
    "filter_list(swiid_2, \"2017\", 1, filtered_list_2)\n",
    "print(filtered_list_2)"
   ]
  },
  {
   "cell_type": "markdown",
   "id": "036caeda",
   "metadata": {},
   "source": [
    "Angenommen wir bleiben bei den Beispiel 1. Wir haben nun in unserer Liste alle Einträge von Afghanistan aus den unterschiedlichen Jahren mit den entsprechenden Gini-Indexen. Wir wollen nun den Mittelwert davon berechnen. \n",
    "Wenn wir das mehr als einmal machen wollen, bietet sich hierfür wieder eine Funktion an:"
   ]
  },
  {
   "cell_type": "code",
   "execution_count": null,
   "id": "273d2254",
   "metadata": {},
   "outputs": [],
   "source": [
    "def mean_calc(filtered_list):\n",
    "    gini_count = 0\n",
    "    for i in filtered_list: \n",
    "        gini = float(i[2])\n",
    "        gini_count += gini\n",
    "        \n",
    "    gini_final = gini_count / len(filtered_list)\n",
    "    return gini_final"
   ]
  },
  {
   "cell_type": "code",
   "execution_count": null,
   "id": "0c5ee4a0",
   "metadata": {},
   "outputs": [],
   "source": [
    "afghanistan_mean = mean_calc(filtered_list_1)\n",
    "print(afghanistan_mean)"
   ]
  },
  {
   "cell_type": "markdown",
   "id": "2f0b09d5",
   "metadata": {},
   "source": [
    "Der Vorteil ist jetzt, das wir ohne großen weiteren Aufwand, uns für verschiedene Länder den durchschnittlichen Gini-Index berechnen können. Wir müssen lediglich das Land ändern und eine neue Liste erstellen. "
   ]
  },
  {
   "cell_type": "code",
   "execution_count": null,
   "id": "c4727ae1",
   "metadata": {},
   "outputs": [],
   "source": [
    "filtered_list_3 = []\n",
    "filter_list(swiid_2, \"Germany\", 0, filtered_list_3)\n",
    "germany_mean = mean_calc(filtered_list_3)\n",
    "print(germany_mean)"
   ]
  },
  {
   "cell_type": "markdown",
   "id": "3ed9d735",
   "metadata": {},
   "source": [
    "Wenn wir es uns allerdings noch einfacher machen wollen, schreiben wir uns eine Art \"Meta-Funktion\", der wir einfach nur den Ländernamen geben nachdem wir filtern wollen: "
   ]
  },
  {
   "cell_type": "code",
   "execution_count": null,
   "id": "4084e731",
   "metadata": {},
   "outputs": [],
   "source": [
    "def meta(country_name):\n",
    "    \n",
    "    temp_list = []\n",
    "    filter_list(swiid_2, country_name, 0, temp_list)\n",
    "    return mean_calc(temp_list)"
   ]
  },
  {
   "cell_type": "code",
   "execution_count": null,
   "id": "7b2b7170",
   "metadata": {},
   "outputs": [],
   "source": [
    "UK_mean = meta(\"United Kingdom\")\n",
    "print(UK_mean)"
   ]
  },
  {
   "cell_type": "code",
   "execution_count": null,
   "id": "6f68f446",
   "metadata": {},
   "outputs": [],
   "source": [
    "CR_mean = meta(\"Costa Rica\")\n",
    "print(CR_mean)"
   ]
  }
 ],
 "metadata": {
  "interpreter": {
   "hash": "de799f4e2b5198ee6e59a9575888d04bc44af4a6525ecb00ad9e6f6d9cd3d745"
  },
  "kernelspec": {
   "display_name": "Python 3.9.12 64-bit (windows store)",
   "language": "python",
   "name": "python3"
  },
  "language_info": {
   "codemirror_mode": {
    "name": "ipython",
    "version": 3
   },
   "file_extension": ".py",
   "mimetype": "text/x-python",
   "name": "python",
   "nbconvert_exporter": "python",
   "pygments_lexer": "ipython3",
   "version": "3.9.12"
  }
 },
 "nbformat": 4,
 "nbformat_minor": 5
}
