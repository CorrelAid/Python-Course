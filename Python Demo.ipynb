{
 "cells": [
  {
   "cell_type": "markdown",
   "id": "7e02f510-160f-47f2-9f88-081dd7d3cb08",
   "metadata": {},
   "source": [
    "#### Python Workshop - Termin 1: Python Basics\n",
    "Torben Abts & Jonas Hummel (CorrelAid), 10.Mai 2022"
   ]
  },
  {
   "cell_type": "markdown",
   "id": "ae0fb3c5",
   "metadata": {},
   "source": [
    "#### Teil 1: Intro\n",
    "\n",
    "siehe Slides"
   ]
  },
  {
   "cell_type": "markdown",
   "id": "918bd82d",
   "metadata": {},
   "source": [
    "#### Teil 2: Absolute Basics\n",
    "\n",
    "Hello, World! Wir wollen heute eine möglichst kurze und kompakte Einführung in Python geben. Dieses Notebook dient dabei zur praktischen Veranschaulichung der heutigen Inhalte, soll aber auch als Lernmaterial zum späteren Nachlesen herhalten.\n",
    "Üblicherweise beginnt man in jeder Programmiersprache mit dem Ausdruck **\"Hello, World!\"**. Mit diesem Ausdruck können meist ein paar grundlegende Eigenschaften der jeweiligen Programmiersprache gezeigt werden."
   ]
  },
  {
   "cell_type": "code",
   "execution_count": null,
   "id": "098d9367-8add-4ec9-b851-91e0782d5923",
   "metadata": {},
   "outputs": [],
   "source": [
    "print(\"Hello, World!\")"
   ]
  },
  {
   "cell_type": "markdown",
   "id": "792c438e-3e74-4a65-a485-9a254c8758df",
   "metadata": {},
   "source": [
    "Der obige Ausdruck zeigt uns Folgendes:\n",
    "- Die oben benutzten **Klammern** sind eines der grundlegenden Features von Python, aber auch vielen anderen Programmiersprachen. Auf das, was innerhalb der Klammer steht, wird die außen beschriebene Funktion angewandt (in diesem Fall der print-Befehl).\n",
    "- Einer der wichtigsten Befehle in Python ist der **print()-Befehl**. Mit ihm kann man sich Ausdrücke in die Konsole ausgeben lassen.\n",
    "- **Schriftzeichen** werden im Allgemeinen in **Anführungszeichen** geschrieben (dabei ist unerheblich ob '' oder \"\" genutzt wird). Bei numerischen Ausdrücken ist dies übrigens nicht nötig."
   ]
  },
  {
   "cell_type": "markdown",
   "id": "6067883b-6f6f-4dad-9c1b-0f4ec44ec6b1",
   "metadata": {},
   "source": [
    "In **Jupyter Notebooks wird der print()-Befehl nicht zwangsläufig benötigt** - eine Ausgabe erfolgt auch, falls nur ein Wert ausgegeben wird und dieser in der letzten Zeile steht (wenn auch mitunter in leicht anderem Format)!"
   ]
  },
  {
   "cell_type": "code",
   "execution_count": null,
   "id": "448edad8-e9b5-4d11-a32e-58f0f733bde8",
   "metadata": {},
   "outputs": [],
   "source": [
    "\"Hello, World!\""
   ]
  },
  {
   "cell_type": "markdown",
   "id": "0ffaea8f-b6af-46e2-a3eb-18bbce9dd803",
   "metadata": {},
   "source": [
    "Da wir nicht jedes Mal von neuem Code schreiben wollen, kann man **Code in Variablen speichern**. Man kann jegliche in Python verfübaren Datentypen in einer Variable speichern. Dazu nutzt man den sogenannten **Assignment Operator \"=\"**. Man schreibt den Namen der Variable auf die linke Seite des Gleichzeichens und den Code, der der Variable zugewiesen werden soll, auf die rechte Seite. Grundsätzlich sind Variablennamen klein zu schreiben. Leerzeichen werden durch Underscores _ ersetzt."
   ]
  },
  {
   "cell_type": "code",
   "execution_count": null,
   "id": "28678ead-6d62-4b23-9fe5-8175ee0bceee",
   "metadata": {},
   "outputs": [],
   "source": [
    "tutor1 = \"Torben\"\n",
    "tutor2 = \"Jonas\"\n",
    "age_tutor1 = 22\n",
    "age_tutor2 = 23"
   ]
  },
  {
   "cell_type": "code",
   "execution_count": null,
   "id": "b56d5f63-a3cc-4e0d-952d-f689c2147a2a",
   "metadata": {},
   "outputs": [],
   "source": [
    "print(tutor1, age_tutor1)\n",
    "print(f\"{tutor2} ist {age_tutor2} alt.\")  # fortgeschrittenere Variante (f-strings)"
   ]
  },
  {
   "cell_type": "markdown",
   "id": "1500f143-78d0-4e1e-bc5d-db0e8fb28696",
   "metadata": {},
   "source": [
    "In Python lassen sich verschiedenste **mathematische und logische Operatoren** einsetzen. Diese Operatoren werden im Grunde genommmen wie auch sonst \"im richtigen Leben\" verwendet. Hier einige Beispiele:"
   ]
  },
  {
   "cell_type": "code",
   "execution_count": null,
   "id": "eb50b077-fb63-4d88-a4fd-b30f1c912b94",
   "metadata": {},
   "outputs": [],
   "source": [
    "# Mathematische Operatoren\n",
    "\n",
    "# Addition\n",
    "sum_numbers = 7 + 8 + 15\n",
    "print(\"sum_numbers:\", sum_numbers)\n",
    "\n",
    "# Subtraktion\n",
    "number1, number2, = 25, 17\n",
    "diff_numbers = number1 - number2 # kann man auch mit Variablen machen, sofern diese numerische Ausdrücke beschreiben\n",
    "print(\"diff_numbers:\", diff_numbers)\n",
    "\n",
    "# ... und jegliche andere Rechenoperationen (siehe Slides)"
   ]
  },
  {
   "cell_type": "code",
   "execution_count": null,
   "id": "2bdec1c3-5b1d-4120-8aec-18501c345182",
   "metadata": {},
   "outputs": [],
   "source": [
    "# Logische Operatoren --> ergeben stets Wahrheitsausdrücke (True oder False)\n",
    "\n",
    "print(True and False)\n",
    "print(True or False)\n",
    "print(not False and True)\n",
    "\n",
    "\n",
    "print(20 * \"-\") # Trennlinie\n",
    "\n",
    "# Auch diese Operatoren können wieder mit Variablen genutzt werden, denen die richtigen Ausdrücke zugewiesen sind\n",
    "# Beachte: eine 1 ist dasselbe wie True, eine 0 dasselbe wie False\n",
    "\n",
    "num0 = 0\n",
    "num1 = 1\n",
    "num2 = 2\n",
    "\n",
    "print(num0 and num1)\n",
    "print(num2 - num1 and num1)\n",
    "print(num0 or True)"
   ]
  },
  {
   "cell_type": "markdown",
   "id": "a8b9f5a0-e3c0-4b7e-a317-d870955b051b",
   "metadata": {},
   "source": [
    "Oben ist - wie gesagt - nur ein Ausschnitt aller möglichen Operatoren gezeigt. Eine Liste der verschiedenen mathematischen und logischen Operatoren findet ihr auch in den Slides. Des Weiteren gibt es noch die Bitwise Operatoren. Diese operieren auf der Bit-Ebene, arbeiten also mit den zu 1en und 0en konvertierten Zeichen. Auf diese näher einzugehen würde aber den Rahmen sprengen (für Interessierte: https://www.geeksforgeeks.org/python-bitwise-operators/)."
   ]
  },
  {
   "cell_type": "markdown",
   "id": "a6e924c0-f03e-4874-b739-48aae04fd8a2",
   "metadata": {},
   "source": [
    "Wie bereits mehrfach im obigen Code gezeigt, können auch **Kommentare** in eingefügt werden. Diese werden von der Maschine ignoriert, sollten aber unbedingt zur besseren Lesbarkeit des Codes eingefügt werden. Kommentare können nach dem # Symbol eingefügt werden."
   ]
  },
  {
   "cell_type": "code",
   "execution_count": null,
   "id": "ac19fdeb-7246-4be6-a2ad-582928d1ec6d",
   "metadata": {},
   "outputs": [],
   "source": [
    "\"Kein Kommentar - wird ausgegeben\""
   ]
  },
  {
   "cell_type": "code",
   "execution_count": null,
   "id": "e314cc62-a59f-4e3a-8b5b-cc9220ff26b6",
   "metadata": {},
   "outputs": [],
   "source": [
    "# Kommentar - keine Ausgabe"
   ]
  },
  {
   "cell_type": "markdown",
   "id": "2054af9d-d2dd-46d3-9eb4-b734365a142e",
   "metadata": {},
   "source": [
    "#### Teil 3: Datentypen\n",
    "\n",
    "Die restlichen Zusammenhänge wollen wir an einem praktischen Beispiel deutlich machen. Dafür importieren wir den SWIID-Datensatz (Solt, 2021). Dieser enthält verschiedenste Kenndaten zur wirtschaftlichen Ungleichheit in mehreren Ländern über viele Jahre hinweg (wer sich näher dafür interessiert, sollte vielleicht am 05.07. hier vorbeischauen: https://www.exc.uni-konstanz.de/ungleichheit/news-und-events/events/in-equality-colloquium-sommer-2022/)"
   ]
  },
  {
   "cell_type": "code",
   "execution_count": null,
   "id": "b6cf9f10-3294-4555-9209-a33e2f365949",
   "metadata": {},
   "outputs": [],
   "source": [
    "# Install a pip package in the current Jupyter kernel\n",
    "import sys\n",
    "!{sys.executable} -m pip install pandas\n",
    "\n",
    "import pandas as pd\n",
    "\n",
    "# import Swiid-Datensatz\n",
    "swiid = pd.read_csv(\"swiid7_1_summary.csv\")\n",
    "swiid = swiid.astype({\"year\": int}, errors='raise') \n",
    "swiid.head() # gibt die ersten 5 Zeilen des Datensatzes aus"
   ]
  },
  {
   "cell_type": "markdown",
   "id": "9759cf74-27e9-4c84-a369-28ff50c5fd5d",
   "metadata": {},
   "source": [
    "Zuerst wollen wir uns damit beschäftigen, welche Länder wir in unserem Datensatz haben. Dazu lassen wir uns ein Array (Sammelobjekt) aller Element in der Spalte country ausgeben und entfernen die Duplikate."
   ]
  },
  {
   "cell_type": "code",
   "execution_count": null,
   "id": "06c17cd6-71fd-43c0-a6bb-d8950472f6bf",
   "metadata": {},
   "outputs": [],
   "source": [
    "countries = swiid.country.unique()\n",
    "countries"
   ]
  },
  {
   "cell_type": "markdown",
   "id": "97b707e1-8c1d-43a6-b42d-9b287b2178bb",
   "metadata": {},
   "source": [
    "Wie wir sehen können, ist die Sammlung ziemlich lang. Wir greifen nun den ersten Wert heraus, um mit diesem arbeiten zu können. Beachte dabei, dass man in **Python beginnnt bei 0 zu zählen**."
   ]
  },
  {
   "cell_type": "code",
   "execution_count": null,
   "id": "1bc4e374-5ad7-4256-9809-f77e07f94209",
   "metadata": {},
   "outputs": [],
   "source": [
    "first_country = countries[0]\n",
    "first_country"
   ]
  },
  {
   "cell_type": "markdown",
   "id": "7a25cebc-3b39-47c9-b3d5-0a2b724565b9",
   "metadata": {},
   "source": [
    "Wie wir sehen können, wird uns der entsprechende Wert (wie auch in der Sammlung weiter oben) in **Anführungsstrichen** ausgegeben. Dies zeigt an, dass es sich um einen **String** handelt, was wir auch mit der **type()-Funktion** überprüfen können."
   ]
  },
  {
   "cell_type": "code",
   "execution_count": null,
   "id": "9b8da598-599e-4ed9-b3d8-d4b8fc4890d0",
   "metadata": {},
   "outputs": [],
   "source": [
    "type(first_country)"
   ]
  },
  {
   "cell_type": "markdown",
   "id": "a1e619d5-9eac-4af6-9b8d-7859b757fb33",
   "metadata": {},
   "source": [
    "Auch Zahlen können Strings sein, wenn sie in \"\" geschrieben werden. Hier muss man jedoch aufpassen, da diese dann ihre spezifischen Eigenschaften als numerische Werte verlieren (weshalb ein Fehler geworfen wird)."
   ]
  },
  {
   "cell_type": "code",
   "execution_count": null,
   "id": "0ef9c8c0-6d6e-45ab-a381-2f84e621b2a6",
   "metadata": {},
   "outputs": [],
   "source": [
    "2 + \"2\""
   ]
  },
  {
   "cell_type": "markdown",
   "id": "48488fa8-69f3-44b6-a68b-e937fa3041ef",
   "metadata": {},
   "source": [
    "Mit Strings kann man verschiedenste Sachen machen. Hierzu kann man unter anderem die in Python vorgefertigten Methoden benutzen: https://www.w3schools.com/python/python_ref_string.asp. Alle Methoden geben dabei neue Werte aus und verändern nicht den ursprünglichen String!"
   ]
  },
  {
   "cell_type": "markdown",
   "id": "4d31aa80-696d-484b-98b6-f0870b66d4fe",
   "metadata": {},
   "source": [
    "Als nächstes wollen wir uns einem weiteren Datentyp zuwenden, dem **int**. Dazu schauen wir auf die zweite Spalte der Tabelle, die Jahreszahlen. Hier lassen wir uns wieder alle Jahreszahlen ausgeben, diesmal mit Duplikaten."
   ]
  },
  {
   "cell_type": "code",
   "execution_count": null,
   "id": "5e719cfb-e193-4be7-8419-85f60712bc40",
   "metadata": {
    "collapsed": true,
    "jupyter": {
     "outputs_hidden": true
    },
    "tags": []
   },
   "outputs": [],
   "source": [
    "years = swiid[\"year\"].tolist()\n",
    "years"
   ]
  },
  {
   "cell_type": "markdown",
   "id": "c16277b3-3ed7-4d16-adc4-099c12c50228",
   "metadata": {},
   "source": [
    "Wie man sieht, bekommt man eine sehr lange Liste der Jahreszahlen. Wieder wollen wir uns zur Veranschaulichung die eine Zahl greifen, diesmal die hundertste."
   ]
  },
  {
   "cell_type": "code",
   "execution_count": null,
   "id": "711b478e-6c9d-4cd4-bbf0-8bcdb03ddc98",
   "metadata": {},
   "outputs": [],
   "source": [
    "years_100 = years[99]\n",
    "years_100"
   ]
  },
  {
   "cell_type": "markdown",
   "id": "f570db33-1e48-4a88-88eb-33d088d5c870",
   "metadata": {},
   "source": [
    "Wieder wollen wir nun den Typen bestimmen."
   ]
  },
  {
   "cell_type": "code",
   "execution_count": null,
   "id": "f557bbc7-2589-4665-b06b-ab6e108efd1a",
   "metadata": {},
   "outputs": [],
   "source": [
    "type(years_100)"
   ]
  },
  {
   "cell_type": "markdown",
   "id": "969e9b48-9b06-4218-be27-f84f5b5e2fe7",
   "metadata": {},
   "source": [
    "**Ints** sind grundsätzlich alle **ganzen Zahlen**. Diese können nun mit allen mathematischen und logischen Operatoren genutzt werden. Beispielsweise können wir gucken, ob die erste Zahl in der Tabelle größer ist als die letzte:"
   ]
  },
  {
   "cell_type": "code",
   "execution_count": null,
   "id": "ebf943d2-f8c1-4b8b-b6a7-b117d273a50c",
   "metadata": {},
   "outputs": [],
   "source": [
    "years[0] > years[-1] # von hinten gezählt"
   ]
  },
  {
   "cell_type": "markdown",
   "id": "734a1852",
   "metadata": {},
   "source": [
    "Ein weiterer Zahlentyp sind die **floats**. Dabei handelt es sich um **Kommazahlen**. Wieder nehmen wir zur Demonstration wieder eine Spalte aus unserem Datensatz, diesmal zum Gini Index (Verfügbares Einkommen)."
   ]
  },
  {
   "cell_type": "code",
   "execution_count": null,
   "id": "d97cfd51",
   "metadata": {},
   "outputs": [],
   "source": [
    "gini = swiid[\"gini_disp\"].tolist()\n",
    "gini"
   ]
  },
  {
   "cell_type": "markdown",
   "id": "1af9c0f2",
   "metadata": {},
   "source": [
    "Diesmal nehmen wir wieder den ersten Datenpunkt aus der Sammlung heraus."
   ]
  },
  {
   "cell_type": "code",
   "execution_count": null,
   "id": "833864ac",
   "metadata": {},
   "outputs": [],
   "source": [
    "first_gini = gini[0]\n",
    "first_gini"
   ]
  },
  {
   "cell_type": "markdown",
   "id": "231ed1f1",
   "metadata": {},
   "source": [
    "Mit floats kann man grundsätzlich dieselben Dinge anstellen wie mit ints. **Allerdings gilt es, folgendes zu beachten:**"
   ]
  },
  {
   "cell_type": "code",
   "execution_count": null,
   "id": "c43a92cc",
   "metadata": {},
   "outputs": [],
   "source": [
    "first_gini_minus_a_tenth = first_gini - 0.1\n",
    "first_gini_minus_a_tenth"
   ]
  },
  {
   "cell_type": "markdown",
   "id": "c7289e65",
   "metadata": {},
   "source": [
    "Dass Rechnungen mit floats mitunter nicht genau werden, liegt daran, dass nicht jede Kommazahl exakt in Binärschreibweise (\"2er-System\") dargestellt werden kann. Man sollte daher vor allem wenn man mit sehr kleinen Zahlen arbeitet oder es auf exakte Genauigkeit ankommt floats besser vermeiden oder runden. "
   ]
  },
  {
   "cell_type": "code",
   "execution_count": null,
   "id": "972bfd53",
   "metadata": {},
   "outputs": [],
   "source": [
    "print(round(first_gini_minus_a_tenth, 2))\n",
    "\n",
    "first_gini = int(first_gini) # konvertiert zu int immmer Richtung -unendlich\n",
    "print(first_gini) "
   ]
  },
  {
   "cell_type": "markdown",
   "id": "78d7dd77",
   "metadata": {},
   "source": [
    "Den letzten Datentyp, den wir uns ansehen wollen, haben wir weiter oben bei den logischen Operatoren schon kennengelernt. Bei **Booleans** handelt es sich um Wahrheitsausdrücke. Dabei können ausdrücke entweder **True (1)** oder **False (0)** sein"
   ]
  },
  {
   "cell_type": "code",
   "execution_count": null,
   "id": "86e41efc",
   "metadata": {},
   "outputs": [],
   "source": [
    "print(first_gini == 30.4)\n",
    "print(first_gini == 30)"
   ]
  },
  {
   "cell_type": "markdown",
   "id": "2d06cd83",
   "metadata": {},
   "source": [
    "#### Teil 4: Datencontainer\n",
    "\n",
    "Im vorherigen Teil haben wir es schon immer wieder angerissen - natürlich werden die meisten Daten nicht als einzelne Datenpunkte oder Variablen, sondern als **Sammlungen von Datenpunkten** gespeichert. An dieser Stelle sei bemerkt, dass die Unterscheidung von Datentypen und Datencontainern, die hier gemacht wird, konzeptionell nicht ganz korrekt ist - zum Verständnis ist sie aber allemal hilfreich.\n",
    "Alles, was mehr als einen Datenpunkt enthält, soll in diesem Kurs als Datencontainer bezeichnet werden. Wir werden uns im Folgenden mit den Standard-Datencontainern in Python beschäftigen."
   ]
  },
  {
   "cell_type": "markdown",
   "id": "a0a91e42",
   "metadata": {},
   "source": [
    "Zuerst sind da Listen, die in Python ziemlich beliebt und somit auch ziemlich wichtig sind. Da wir weiter oben schon Listen benutzt haben, wollen wir die Demonstration der Besonderheiten von Listen an einer dieser durchführen. Zur Erinnerung lassen wir uns erneut die Liste gini ausgeben, die die verschiedenen gini-Koeffizienten gespeichert hat."
   ]
  },
  {
   "cell_type": "code",
   "execution_count": null,
   "id": "93ae5dfd",
   "metadata": {},
   "outputs": [],
   "source": [
    "gini"
   ]
  },
  {
   "cell_type": "markdown",
   "id": "2cbe4376",
   "metadata": {},
   "source": [
    "Vergleicht man den Output hier mit dem Output derselben Variable weiter oben, fällt auf, dass dieser exakt identisch ist. Dies zeigt zwei der wichtigsten Eigenschaften von Listen auf: sie sind **geordnet/indiziert** (= jede Position hat eine Rangnummer) sowie **veränderlich**. Außerdem **erlauben Listen Duplikate** und **können verschiedene Datentypen** enthalten.\n",
    "Wir wollen uns zuerst zwei der wichtigsten Listen-Operationen anschauen: Das **Zuschneiden** von Listen sowie das **Hinzufügen eines Elements**. "
   ]
  },
  {
   "cell_type": "code",
   "execution_count": null,
   "id": "b63b4dd1",
   "metadata": {},
   "outputs": [],
   "source": [
    "# Hier sollen die Datenpunkte 50 - 58 herausgegeben werden (0-based!). \n",
    "# Dazu nutzt man den Slice-Operator [vordere Grenze: hintere Grenze:Schritte]. \n",
    "# Die hintere Grenze wird NICHT mit aufgenommen!\n",
    "\n",
    "gini_50_58 = gini[49:58]\n",
    "print(gini_50_58)\n",
    "\n",
    "# Mit dem Hinzufügen einer dritten Zahl lässt sich nur jeder zweite/dritte etc. Datenpunkt auswählen\n",
    "gini_50_58 = gini[49:58:2]\n",
    "print(gini_50_58)\n",
    "\n",
    "# Hinzufügen eines weiteren Datenpunktes mit .append()\n",
    "gini_50_58.append(\"Ungleichheit\") # andere Datentyp\n",
    "print(gini_50_58)"
   ]
  },
  {
   "cell_type": "code",
   "execution_count": null,
   "id": "b14d3e0a",
   "metadata": {},
   "outputs": [],
   "source": [
    "gini = [48.7, 48.7, 48.6, 48.6, 48.3, 47.9, 47.7, 47.6, 35.9]\n",
    "\n",
    "# Slicing\n",
    "gini_2_4 = gini[1:4]\n",
    "print(gini_2_4)\n",
    "gini_2_4 = gini[1:4:2]\n",
    "print(gini_2_4)\n",
    "\n",
    "# Hinzufügen eines weiteren Datenpunktes mit .append()\n",
    "gini_2_4.append(\"Ungleichheit\") # andere Datentyp\n",
    "print(gini_2_4)"
   ]
  },
  {
   "cell_type": "markdown",
   "id": "8c23d8d4",
   "metadata": {},
   "source": [
    "Auch dies hier war wieder nur ein kleiner Ausschnitt dessen, was man mit Listen machen kann. Weitere Listen-Methoden und ihre Funktionsweise findet ihr hier: https://www.w3schools.com/python/python_lists_methods.asp "
   ]
  },
  {
   "cell_type": "markdown",
   "id": "0ca477aa",
   "metadata": {},
   "source": [
    "Ein weiterer Datentyp sind die **Tuples**. Diese sehen auf den ersten Blick aus wie Listen, nur mit normalen statt mit eckigen Klammern. Wir nehmen wieder die gini-Liste und konvertieren sie zu einem Tuple, um die Unterschiede zu zeigen."
   ]
  },
  {
   "cell_type": "code",
   "execution_count": null,
   "id": "50c7822c",
   "metadata": {},
   "outputs": [],
   "source": [
    "tup_gini = tuple(gini)\n",
    "tup_gini"
   ]
  },
  {
   "cell_type": "markdown",
   "id": "deff1249",
   "metadata": {},
   "source": [
    "Wie gesagt, auf den ersten Blick hat sich nicht wahnsinnig viel verändert - daher probieren wir nun, dieselben Operationen wie zuvor (Slicing und Appending) anzuwenden."
   ]
  },
  {
   "cell_type": "code",
   "execution_count": null,
   "metadata": {},
   "outputs": [],
   "source": [
    "tup_gini_50_58 = tup_gini[49:58]\n",
    "print(tup_gini_50_58)"
   ]
  },
  {
   "cell_type": "code",
   "execution_count": null,
   "id": "72d70d2a",
   "metadata": {},
   "outputs": [],
   "source": [
    "tup_gini.append(\"Ungleichheit\")\n",
    "print(tup_gini)"
   ]
  },
  {
   "cell_type": "markdown",
   "id": "b32afff8",
   "metadata": {},
   "source": [
    "Zwar sind auch Tuples **geordnet/indiziert**, können also \"geschnitten\" werden, aber im Gegensatz zu Listen sind sie **unveränderlich** - daher können auch keine neuen Elemente mehr hinzugefügt werden. Folglich kann man mit Tuples deutlich weniger machen. Die einzigen beiden built-in methods (von Python vorgefertigten Methoden) sind index() und count() (für mehr Infos, siehe hier: https://www.w3schools.com/python/python_tuples_methods.asp). Dafür verbrauchen tuples aber weniger Speicherplatz, was gerade für Big Data-Anwendungen von Vorteil sein kann. Auch die Unveränderlichkeit kann durchaus gewünscht sein. Auch Tuples **akzeptieren Duplikate und verschiedene Datentypen**."
   ]
  },
  {
   "cell_type": "markdown",
   "id": "b4cc262a",
   "metadata": {},
   "source": [
    "Der dritte Typus ist das **Set**. Dieses wird deutlich seltener verwendet, daher wollen wir es nur kurz einführen. Der wesentliche Unterschied zu Tuples und Lists ist, dass ein Set **ungeordnet** ist und somit auch **nicht indiziert** werden kann. Es erlaubt **keine Duplikate**, aber **verschiedene Datentypen**. Das Eliminieren von Duplikaten wollen wir hier kurz anhand der Ländernamen demonstrieren:"
   ]
  },
  {
   "cell_type": "code",
   "execution_count": null,
   "id": "018aa9fa",
   "metadata": {},
   "outputs": [],
   "source": [
    "list_countries = swiid.country.tolist() # neue Liste der Ländernamen aus dem Datensatz oben\n",
    "print(list_countries)\n",
    "\n",
    "# Löschen der Duplikate mit set()\n",
    "set_countries = set(list_countries)\n",
    "print(set_countries)\n"
   ]
  },
  {
   "cell_type": "code",
   "execution_count": null,
   "id": "90d2a4d4",
   "metadata": {},
   "outputs": [],
   "source": [
    "print(f\"Anzahl der Einträge in Liste: {len(list_countries)}, Anzahl der Einträge in Set: {len(set_countries)}\")"
   ]
  },
  {
   "cell_type": "markdown",
   "id": "ccc9cc4f",
   "metadata": {},
   "source": [
    "Weitere Methoden für Sets sind hier zu finden: https://www.w3schools.com/python/python_sets_methods.asp "
   ]
  },
  {
   "cell_type": "markdown",
   "id": "5aaeae91",
   "metadata": {},
   "source": [
    "Der letzte Datencontainer, den wir einführen wollen, ist das **Dictionary**. Hierbei handelt es sich um einen speziellen Datencontainer, da dieses nicht einzelne Datenpunkte, sondern **key:value Paare** enthält. Wir wollen dies wieder am Beispiel des obigen Datensatzes zeigen. Dazu erstellen wir aus den Listen list_countries, years und gini ein Dictionary, das die 3 Informationen für die jeweilige Spalte in der Tabelle speichert"
   ]
  },
  {
   "cell_type": "code",
   "execution_count": null,
   "id": "f2f7bf1b",
   "metadata": {},
   "outputs": [],
   "source": [
    "# nur ein Infopunkt (gini)\n",
    "country_info = {list_countries[0] : gini[0]} # kann auch mit dict() initiiert werden\n",
    "print(country_info)\n",
    "\n",
    "# zwei Infopunkte (years und gini)\n",
    "country_info = {list_countries[0] : [years[0], gini[0]]}\n",
    "print(country_info)"
   ]
  },
  {
   "cell_type": "markdown",
   "id": "2aec3ed9",
   "metadata": {},
   "source": [
    "Wie das zweite Beispiel zeigt, kann der value auch aus mehreren Einzelelementen in einer Liste bestehen. Das ist beim key nicht möglich! Auch muss der **key in einem Dictionary einzigartig sein**. Wird ein key mit demselben Namen hinzugefügt, wird der ältere Eintrag überschrieben."
   ]
  },
  {
   "cell_type": "code",
   "execution_count": null,
   "id": "9e645acc",
   "metadata": {},
   "outputs": [],
   "source": [
    "# Einfügen eines neuen Eintrags\n",
    "\n",
    "country_info[list_countries[100]] = [years[100], gini[100]]\n",
    "print(country_info)\n",
    "\n",
    "# Überschreiben des ersten Eintrages\n",
    "\n",
    "country_info[list_countries[1]] = [years[1], gini[1]] # der  key hat wieder den Namen Afghanistan\n",
    "print(country_info)"
   ]
  },
  {
   "cell_type": "markdown",
   "id": "0febe0ad",
   "metadata": {},
   "source": [
    "Um dieses Problem bei größeren Datenmengen zu umgehen, könnte man z.B. den Namen des Landes und das Jahr zu einem Key zusammenlegen. Im Gegensatz zu Tuples und Listen können Dictionaries nicht geschnitten, jedoch indiziert werden - hier ist der Index allerdings der key und nicht die Zahl der Position. Dictionaries können alle Datentypen beinhalten. Weitere Methoden für Dictionaries finden sich hier: https://www.w3schools.com/python/python_dictionaries_methods.asp ."
   ]
  },
  {
   "cell_type": "markdown",
   "id": "dc85833c",
   "metadata": {},
   "source": [
    "#### Teil 5: Loops und Conditional Statements"
   ]
  },
  {
   "cell_type": "markdown",
   "id": "b967098a",
   "metadata": {},
   "source": [
    "#### Teil 6: Funktionen\n"
   ]
  }
 ],
 "metadata": {
  "kernelspec": {
   "display_name": "Python 3 (ipykernel)",
   "language": "python",
   "name": "python3"
  },
  "language_info": {
   "codemirror_mode": {
    "name": "ipython",
    "version": 3
   },
   "file_extension": ".py",
   "mimetype": "text/x-python",
   "name": "python",
   "nbconvert_exporter": "python",
   "pygments_lexer": "ipython3",
   "version": "3.9.7"
  }
 },
 "nbformat": 4,
 "nbformat_minor": 5
}
