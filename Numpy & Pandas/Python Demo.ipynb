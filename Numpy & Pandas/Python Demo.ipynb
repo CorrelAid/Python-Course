{
 "cells": [
  {
   "cell_type": "markdown",
   "id": "cb310997",
   "metadata": {},
   "source": [
    "# Python Workshop \n",
    "\n",
    "## Termin 2: Datenanalyse mit Python - Numpy & Pandas\n",
    "#### Torben Abts & Jonas Hummel (CorrelAid), 21.Juni 2022"
   ]
  },
  {
   "cell_type": "code",
   "execution_count": 5,
   "id": "84372b20",
   "metadata": {},
   "outputs": [],
   "source": [
    "# Install Numpy and Pandas in the current Jupyter kernel\n",
    "#import sys\n",
    "#!{sys.executable} -m pip install numpy\n",
    "#!{sys.executable} -m pip install pandas\n",
    "\n",
    "# Import Numpy and Pandas\n",
    "import numpy as np\n",
    "import pandas as pd"
   ]
  },
  {
   "cell_type": "markdown",
   "id": "98897da0",
   "metadata": {},
   "source": [
    "## Numpy"
   ]
  },
  {
   "cell_type": "markdown",
   "id": "3cd754fb",
   "metadata": {},
   "source": [
    "### 1. Was ist Numpy?"
   ]
  },
  {
   "cell_type": "markdown",
   "id": "d191830e",
   "metadata": {},
   "source": [
    "- Basic Package für **wissenschaftliches Rechnen mit Python** und besonders nützlich für die **Datenanalyse**\n",
    "- Stellt **n-dimensionales Array-Objekt** bereit (n-dimensional = ein- und mehrdimensional)\n",
    "- Beinhaltet unter anderem mathematische und logische Operationen, Formenmanipulation, Sortieren, Auswählen, I/O (Input/Output), diskrete Fourier-Transformationen, grundlegende lineare Algebra, grundlegende statistische Operationen, Zufallssimulation und vieles mehr..."
   ]
  },
  {
   "cell_type": "markdown",
   "id": "7beadeb8",
   "metadata": {},
   "source": [
    "### 2. Numpy Array\n"
   ]
  },
  {
   "cell_type": "markdown",
   "id": "ebed91f7",
   "metadata": {},
   "source": [
    "#### Eigenschaften von Arrays"
   ]
  },
  {
   "cell_type": "markdown",
   "id": "3c2e2ed6",
   "metadata": {},
   "source": [
    "Numpy Array oder auch ndarray (n-dimensional array):\n",
    "- Multidimensional / n-dimensional\n",
    "- Homogen $\\rightarrow$ alle Items sind vom selben Datentyp und haben dieselbe Größe\n",
    "- Reihen (axis=0) und Spalten (axis=1) $\\rightarrow$ Shape (Reihen, Spalten)\n",
    "- Größe eines Arrays ist nach der Initialisierung festgesetzt - das erstellte Objekt kann also in seinem Shape nicht mehr verändert werden. Das ist ein erheblicher Unterschied zu z.B. Listen in Python.\n",
    "- Eindimensionale Arrays werden auch als Series, mehrdimensionale Arrays auch als Matrizen bezeichnet."
   ]
  },
  {
   "cell_type": "markdown",
   "id": "ac2dc712",
   "metadata": {},
   "source": [
    "#### Erstellen eines Arrays"
   ]
  },
  {
   "cell_type": "code",
   "execution_count": 6,
   "id": "3c2bae86",
   "metadata": {},
   "outputs": [
    {
     "data": {
      "text/plain": [
       "array([1., 2., 3.])"
      ]
     },
     "execution_count": 6,
     "metadata": {},
     "output_type": "execute_result"
    }
   ],
   "source": [
    "# Definition unseres ersten Arrays\n",
    "our_array = np.array([1, 2, 3], dtype=float) # dtype muss nicht spezifiziert werden, sondern wird automatisch zugewiesen\n",
    "our_array"
   ]
  },
  {
   "cell_type": "code",
   "execution_count": 7,
   "id": "18bc6567",
   "metadata": {},
   "outputs": [
    {
     "data": {
      "text/plain": [
       "numpy.ndarray"
      ]
     },
     "execution_count": 7,
     "metadata": {},
     "output_type": "execute_result"
    }
   ],
   "source": [
    "type(our_array)"
   ]
  },
  {
   "cell_type": "code",
   "execution_count": 10,
   "id": "7ee5f0a7",
   "metadata": {},
   "outputs": [
    {
     "data": {
      "text/plain": [
       "array([[1, 2, 3, 4],\n",
       "       [5, 6, 7, 8]])"
      ]
     },
     "execution_count": 10,
     "metadata": {},
     "output_type": "execute_result"
    }
   ],
   "source": [
    "# Definition unseres ersten mehrdimensionalen Arrays\n",
    "our_array_nd = np.array([[1, 2, 3, 4], [5, 6, 7, 8]])\n",
    "our_array_nd"
   ]
  },
  {
   "cell_type": "code",
   "execution_count": 12,
   "id": "4972e1f0",
   "metadata": {},
   "outputs": [
    {
     "data": {
      "text/plain": [
       "numpy.ndarray"
      ]
     },
     "execution_count": 12,
     "metadata": {},
     "output_type": "execute_result"
    }
   ],
   "source": [
    "type(our_array_nd)"
   ]
  },
  {
   "cell_type": "code",
   "execution_count": 18,
   "id": "1fff2e9c",
   "metadata": {},
   "outputs": [
    {
     "name": "stdout",
     "output_type": "stream",
     "text": [
      "Eigenschaften our_array\n",
      "ndim 1\n",
      "size 3\n",
      "shape (3,)\n",
      "--------------------\n",
      "Eigenschaften our_array_nd\n",
      "ndim 2\n",
      "size 8\n",
      "shape (2, 4)\n"
     ]
    }
   ],
   "source": [
    "# Eigenschaften der beiden Arrays\n",
    "\n",
    "print(\"Eigenschaften our_array\")\n",
    "print(f\"ndim {our_array.ndim}\")\n",
    "print(f\"size {our_array.size}\")\n",
    "print(f\"shape {our_array.shape}\")\n",
    "\n",
    "print('-' * 20)\n",
    "\n",
    "print(\"Eigenschaften our_array_nd\")\n",
    "print(f\"ndim {our_array_nd.ndim}\")\n",
    "print(f\"size {our_array_nd.size}\")\n",
    "print(f\"shape {our_array_nd.shape}\")"
   ]
  },
  {
   "cell_type": "markdown",
   "id": "f6b9df8f",
   "metadata": {},
   "source": [
    "Eigenschaften eines Arrays:\n",
    "- ndim = Anzahl der Dimensionen (1, 2, 3, 4, ...)\n",
    "- size = Reihen * Spalten\n",
    "- shape = (Reihen, Spalten)"
   ]
  },
  {
   "cell_type": "code",
   "execution_count": 19,
   "id": "57633cf1",
   "metadata": {},
   "outputs": [
    {
     "data": {
      "text/plain": [
       "array([[1, 2, 3, 4],\n",
       "       [5, 6, 7, 8]])"
      ]
     },
     "execution_count": 19,
     "metadata": {},
     "output_type": "execute_result"
    }
   ],
   "source": [
    "# Anstatt Listen kann man auch Tuples für die Initialisierung eines Arrays verwenden\n",
    "\n",
    "tuple_arr = np.array(((1, 2, 3, 4), (5, 6, 7, 8)))\n",
    "tuple_arr"
   ]
  },
  {
   "cell_type": "code",
   "execution_count": 16,
   "id": "51f16257",
   "metadata": {},
   "outputs": [
    {
     "name": "stderr",
     "output_type": "stream",
     "text": [
      "C:\\Users\\jonas\\AppData\\Local\\Temp\\ipykernel_17140\\3227575269.py:2: VisibleDeprecationWarning: Creating an ndarray from ragged nested sequences (which is a list-or-tuple of lists-or-tuples-or ndarrays with different lengths or shapes) is deprecated. If you meant to do this, you must specify 'dtype=object' when creating the ndarray.\n",
      "  wrong = np.array([[1, 2, 3, 4], [5, 6, 7]]) # eine Reihe mit 4 und eine Reihe mit 3 Einträgen --> wirft Fehler\n"
     ]
    }
   ],
   "source": [
    "# Was übrigens nicht geht...\n",
    "wrong = np.array([[1, 2, 3, 4], [5, 6, 7]]) # eine Reihe mit 4 und eine Reihe mit 3 Einträgen --> wirft Fehler"
   ]
  },
  {
   "cell_type": "markdown",
   "id": "74a40f15",
   "metadata": {},
   "source": [
    "#### \"Intrinsic Creation\" eines Arrays"
   ]
  },
  {
   "cell_type": "code",
   "execution_count": 21,
   "id": "32efa244",
   "metadata": {},
   "outputs": [
    {
     "name": "stdout",
     "output_type": "stream",
     "text": [
      "[[0. 0. 0.]\n",
      " [0. 0. 0.]\n",
      " [0. 0. 0.]\n",
      " [0. 0. 0.]]\n",
      "[[1. 1. 1. 1. 1. 1. 1. 1. 1.]]\n"
     ]
    }
   ],
   "source": [
    "# Man kann ein Array auch mit einem bestimmten vorgefertigen Inhalt initialisieren. Hier gibt es zwei Optionen:\n",
    "\n",
    "# Array aus 0en\n",
    "zeros = np.zeros((4, 3)) # numbers specify the shape (Reihen, Spalten)\n",
    "\n",
    "# Array aus 1en\n",
    "ones = np.ones((1, 9))\n",
    "\n",
    "# Dieses Feature wirkt trivial, ist aber sehr nützlich, da wir den Shape eines Arrays in Nachhinein nicht mehr \n",
    "# verändern können und 0en und 1er somit z.B. als Platzhalter dienen\n",
    "\n",
    "print(zeros)\n",
    "print(ones)"
   ]
  },
  {
   "cell_type": "code",
   "execution_count": 33,
   "id": "75c714bb",
   "metadata": {},
   "outputs": [
    {
     "name": "stdout",
     "output_type": "stream",
     "text": [
      "arange_1\n",
      "[ 0  1  2  3  4  5  6  7  8  9 10 11]\n",
      "arange_2\n",
      "[4 5 6 7 8 9]\n",
      "arange_3\n",
      "[0 2 4 6 8]\n",
      "arange_4\n",
      "[0.8 2.4 4.  5.6 7.2]\n",
      "arange_5\n",
      "[[ 0  1  2  3]\n",
      " [ 4  5  6  7]\n",
      " [ 8  9 10 11]]\n",
      "random_1\n",
      "[0.68463235 0.89878066 0.96507546]\n",
      "random_2\n",
      "[[0.60585846 0.60347056 0.81398062]\n",
      " [0.49391484 0.67762655 0.3584943 ]\n",
      " [0.72822115 0.03480306 0.23486266]]\n"
     ]
    },
    {
     "data": {
      "text/plain": [
       "(None, None)"
      ]
     },
     "execution_count": 33,
     "metadata": {},
     "output_type": "execute_result"
    }
   ],
   "source": [
    "# Außerdem gibt es noch die np.arange- und die np.random.random-Funktion\n",
    "\n",
    "arange_1 = np.arange(0, 12) # Achtung: hintere Grenze zählt NICHT mit \n",
    "arange_2 = np.arange(4, 10) # startet bei 4\n",
    "arange_3 = np.arange(0, 10, 2) # mit Schritt-Parameter\n",
    "arange_4 = np.arange(0.8, 7.4, 1.6) # geht auch mit floats\n",
    "arange_5 = arange_1.reshape(3, 4) # mit reshape(Reihen, Spalten) kann ein mehrdimensionales Array erstellt werden\n",
    "random_1 = np.random.random(3) # array with 3 random values between 0 and 1\n",
    "random_2 = np.random.random((3,3)) # array with 3x3 random values between 0 and 1\n",
    "\n",
    "print(\"arange_1\"), print(arange_1)\n",
    "print(\"arange_2\"), print(arange_2)\n",
    "print(\"arange_3\"), print(arange_3)\n",
    "print(\"arange_4\"), print(arange_4)\n",
    "print(\"arange_5\"), print(arange_5)\n",
    "print(\"random_1\"), print(random_1)\n",
    "print(\"random_2\"), print(random_2)"
   ]
  },
  {
   "cell_type": "markdown",
   "id": "379ce0c4",
   "metadata": {},
   "source": [
    "### 3. Einfache Operationen "
   ]
  },
  {
   "cell_type": "markdown",
   "id": "52e75cfb",
   "metadata": {},
   "source": [
    "#### Einfache arithmetische Operatoren"
   ]
  },
  {
   "cell_type": "code",
   "execution_count": null,
   "id": "5270fb69",
   "metadata": {},
   "outputs": [],
   "source": [
    "# Einzelnes Array\n",
    "\n",
    "a + 2 # Addition\n",
    "a - 2 # Subtraktion\n",
    "a * 2 # Multiplikation\n",
    "a / 2 # Division\n",
    "\n",
    "# --> ändert alle Werte im Array"
   ]
  },
  {
   "cell_type": "code",
   "execution_count": null,
   "id": "6f53800d",
   "metadata": {},
   "outputs": [],
   "source": [
    "# Zwei Arrays\n",
    "\n",
    "a + b # Addition\n",
    "a - b # Subtraktion\n",
    "a * b # Multiplikation\n",
    "a / b # Division\n",
    "\n",
    "# --> erstellt ein neues Array mit entsprechenden Werten"
   ]
  },
  {
   "cell_type": "markdown",
   "id": "3b270425",
   "metadata": {},
   "source": [
    "#### Komplexere arithmetische Operatoren"
   ]
  },
  {
   "cell_type": "code",
   "execution_count": 35,
   "id": "a1565791",
   "metadata": {},
   "outputs": [
    {
     "name": "stdout",
     "output_type": "stream",
     "text": [
      "1.0\n"
     ]
    }
   ],
   "source": [
    "a = 2\n",
    "np.sin(a)\n",
    "np.sqrt(a)\n",
    "np.log(a)\n",
    "np.log2(a) # apply specific log"
   ]
  },
  {
   "cell_type": "markdown",
   "id": "ac22ff05",
   "metadata": {},
   "source": [
    "#### Rechnen mit Matrizen"
   ]
  },
  {
   "cell_type": "code",
   "execution_count": null,
   "id": "21d6d74b",
   "metadata": {},
   "outputs": [],
   "source": [
    "A * B # Multiplikation jedes einzelnen Elements mit dem Element derselben Stelle --> KEIN Kreuzprodukt\n",
    "np.dot() # Kreuzprodukt(A, B), Achtung: Nicht kommutativ\n",
    "np.linalg.inv(a) # Invertieren\n",
    "np.T() # Transponieren oder auch np.transpose()"
   ]
  },
  {
   "cell_type": "markdown",
   "id": "eb7727e8",
   "metadata": {},
   "source": [
    "#### Aggregatfunktionen"
   ]
  },
  {
   "cell_type": "code",
   "execution_count": null,
   "id": "cb3d4523",
   "metadata": {},
   "outputs": [],
   "source": [
    "a.sum()\n",
    "a.min()\n",
    "a.max()\n",
    "a.mean()\n",
    "a.std()"
   ]
  },
  {
   "cell_type": "markdown",
   "id": "dc048c65",
   "metadata": {},
   "source": [
    "**Übung 1**: Bearbeitet die Aufgaben im Aufgabenblock 1 im separaten Notebook."
   ]
  },
  {
   "cell_type": "markdown",
   "id": "30fb293c",
   "metadata": {},
   "source": [
    "### 4. Indexing, Slicing, Iterating"
   ]
  },
  {
   "cell_type": "markdown",
   "id": "1107c901",
   "metadata": {},
   "source": [
    "#### Indexing"
   ]
  },
  {
   "cell_type": "code",
   "execution_count": null,
   "id": "55764ccd",
   "metadata": {},
   "outputs": [],
   "source": [
    "# Series\n",
    "\n",
    "a[4]\n",
    "a[-1]\n",
    "a[2, 4, 7] # multiple items at once\n",
    "\n",
    "# Matrix (Reihe, Spalte)\n",
    "\n",
    "a[1, 2] # Element aus 2. Reihe und 3. Spalte"
   ]
  },
  {
   "cell_type": "markdown",
   "id": "eb7c7dce",
   "metadata": {},
   "source": [
    "#### Slicing"
   ]
  },
  {
   "cell_type": "code",
   "execution_count": null,
   "id": "c21ab472",
   "metadata": {},
   "outputs": [],
   "source": [
    "# Series\n",
    "\n",
    "a[1, 5, 2]\n",
    "\n",
    "# Matrix\n",
    "a[0:2, 1:2] # separat definiert für Reihen und Spalten\n",
    "# mehr Beispiele (siehe Seite 66)"
   ]
  },
  {
   "cell_type": "markdown",
   "id": "e4545b9a",
   "metadata": {},
   "source": [
    "#### Iterating"
   ]
  },
  {
   "cell_type": "code",
   "execution_count": null,
   "id": "a610e4b1",
   "metadata": {},
   "outputs": [],
   "source": [
    "# Naiver Ansatz\n",
    "\n",
    "# Series\n",
    "\n",
    "for i in a:\n",
    "    print(i)\n",
    "\n",
    "# Matrix\n",
    "for row in A:\n",
    "    print(row)\n",
    "    \n",
    "for i in A.flat:\n",
    "    print(i)"
   ]
  },
  {
   "cell_type": "code",
   "execution_count": null,
   "id": "fab3ad55",
   "metadata": {},
   "outputs": [],
   "source": [
    "# Eleganterer Ansatz zum Implementieren von Funktionen\n",
    "\n",
    "np.apply_along_axis(func, axis=0, arr=A)\n",
    "\n",
    "# mit eigener Funktion"
   ]
  },
  {
   "cell_type": "markdown",
   "id": "93326c98",
   "metadata": {},
   "source": [
    "### 5. Shape- und Array-Manipulation"
   ]
  },
  {
   "cell_type": "markdown",
   "id": "59b6b5c2",
   "metadata": {},
   "source": [
    "### 6. Weitere Konzepte und Funktionen"
   ]
  },
  {
   "cell_type": "code",
   "execution_count": null,
   "id": "f2462446",
   "metadata": {},
   "outputs": [],
   "source": []
  },
  {
   "cell_type": "markdown",
   "id": "9e3cd3ec",
   "metadata": {},
   "source": [
    "**Übung 2**: Bearbeitet die Aufgaben im Aufgabenblock 2 im separaten Notebook."
   ]
  },
  {
   "cell_type": "markdown",
   "id": "7cf36049",
   "metadata": {},
   "source": [
    "## Pandas"
   ]
  },
  {
   "cell_type": "markdown",
   "id": "d640207a",
   "metadata": {},
   "source": [
    "### 1. Was ist Pandas? "
   ]
  },
  {
   "cell_type": "markdown",
   "id": "9af4a54b",
   "metadata": {},
   "source": [
    "- Vollständig entwickelt unter Verwendung der von Numpy eingeführten Konzepte"
   ]
  },
  {
   "cell_type": "code",
   "execution_count": null,
   "id": "62bea649",
   "metadata": {},
   "outputs": [],
   "source": []
  },
  {
   "cell_type": "code",
   "execution_count": null,
   "id": "df4a80a9",
   "metadata": {},
   "outputs": [],
   "source": []
  },
  {
   "cell_type": "code",
   "execution_count": null,
   "id": "c35d1091",
   "metadata": {},
   "outputs": [],
   "source": []
  },
  {
   "cell_type": "code",
   "execution_count": null,
   "id": "6e76af74",
   "metadata": {},
   "outputs": [],
   "source": []
  },
  {
   "cell_type": "code",
   "execution_count": null,
   "id": "1b03fdf8",
   "metadata": {},
   "outputs": [],
   "source": []
  },
  {
   "cell_type": "markdown",
   "id": "98524acc",
   "metadata": {},
   "source": [
    "## Numpy & Pandas"
   ]
  },
  {
   "cell_type": "markdown",
   "id": "61c757ae",
   "metadata": {},
   "source": [
    "## Weiterführende Materialien"
   ]
  },
  {
   "cell_type": "markdown",
   "id": "ecfdcba5",
   "metadata": {},
   "source": [
    "Dokumentationen:\n",
    "- [Numpy](https://numpy.org/doc/stable/user/absolute_beginners.html)\n",
    "- [Pandas](https://pandas.pydata.org/docs/getting_started/intro_tutorials/01_table_oriented.html)\n",
    "\n",
    "Lehrbuch:\n",
    "- [Python Data Analytics, Fabio Nelli](https://link.springer.com/book/10.1007/978-1-4842-3913-1) (Notebook orientiert sich an diesem Buch)"
   ]
  }
 ],
 "metadata": {
  "kernelspec": {
   "display_name": "Python 3 (ipykernel)",
   "language": "python",
   "name": "python3"
  },
  "language_info": {
   "codemirror_mode": {
    "name": "ipython",
    "version": 3
   },
   "file_extension": ".py",
   "mimetype": "text/x-python",
   "name": "python",
   "nbconvert_exporter": "python",
   "pygments_lexer": "ipython3",
   "version": "3.8.8"
  }
 },
 "nbformat": 4,
 "nbformat_minor": 5
}
