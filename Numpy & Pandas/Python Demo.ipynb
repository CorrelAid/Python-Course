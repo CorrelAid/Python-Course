{
 "cells": [
  {
   "cell_type": "markdown",
   "id": "cb310997",
   "metadata": {},
   "source": [
    "# Python Workshop \n",
    "\n",
    "## Termin 2: Datenanalyse mit Python - Numpy & Pandas\n",
    "#### Torben Abts & Jonas Hummel (CorrelAid), 21.Juni 2022"
   ]
  },
  {
   "cell_type": "code",
   "execution_count": 1,
   "id": "84372b20",
   "metadata": {},
   "outputs": [],
   "source": [
    "# Install Numpy and Pandas in the current Jupyter kernel\n",
    "#import sys\n",
    "#!{sys.executable} -m pip install numpy\n",
    "#!{sys.executable} -m pip install pandas\n",
    "\n",
    "# Import Numpy and Pandas\n",
    "import numpy as np\n",
    "import pandas as pd"
   ]
  },
  {
   "cell_type": "markdown",
   "id": "98897da0",
   "metadata": {},
   "source": [
    "## I. Numpy"
   ]
  },
  {
   "cell_type": "markdown",
   "id": "3cd754fb",
   "metadata": {},
   "source": [
    "### 1. Was ist Numpy?"
   ]
  },
  {
   "cell_type": "markdown",
   "id": "d191830e",
   "metadata": {},
   "source": [
    "- Basic Package für **wissenschaftliches Rechnen mit Python** und besonders nützlich für die **Datenanalyse**\n",
    "- Stellt **n-dimensionales Array-Objekt** bereit (n-dimensional = ein- und mehrdimensional)\n",
    "- Beinhaltet unter anderem mathematische und logische Operationen, Formenmanipulation, Sortieren, Auswählen, I/O (Input/Output), diskrete Fourier-Transformationen, grundlegende lineare Algebra, grundlegende statistische Operationen, Zufallssimulation und vieles mehr..."
   ]
  },
  {
   "cell_type": "markdown",
   "id": "7beadeb8",
   "metadata": {},
   "source": [
    "### 2. Numpy Array\n"
   ]
  },
  {
   "cell_type": "markdown",
   "id": "ebed91f7",
   "metadata": {},
   "source": [
    "#### Eigenschaften von Arrays"
   ]
  },
  {
   "cell_type": "markdown",
   "id": "3c2e2ed6",
   "metadata": {},
   "source": [
    "Numpy Array oder auch ndarray (n-dimensional array):\n",
    "- **Multidimensional** / n-dimensional\n",
    "- **Homogen** $\\rightarrow$ alle Items sind vom selben Datentyp und haben dieselbe Größe (Sonderfall: Structured Arrays)\n",
    "- Reihen (axis=0) und Spalten (axis=1) $\\rightarrow$ Shape (**Reihen, Spalten**)\n",
    "- **Größe** eines Arrays ist nach der Initialisierung **festgesetzt** - das erstellte Objekt kann also in seinem Shape nicht mehr verändert werden. Das ist ein erheblicher Unterschied zu z.B. Listen in Python."
   ]
  },
  {
   "cell_type": "markdown",
   "id": "ac2dc712",
   "metadata": {},
   "source": [
    "#### Erstellen eines Arrays"
   ]
  },
  {
   "cell_type": "code",
   "execution_count": 2,
   "id": "3c2bae86",
   "metadata": {},
   "outputs": [
    {
     "data": {
      "text/plain": [
       "array([1., 2., 3.])"
      ]
     },
     "execution_count": 2,
     "metadata": {},
     "output_type": "execute_result"
    }
   ],
   "source": [
    "# Definition unseres ersten Arrays\n",
    "our_array = np.array([1, 2, 3], dtype=float) # dtype muss nicht spezifiziert werden, sondern wird automatisch zugewiesen\n",
    "our_array"
   ]
  },
  {
   "cell_type": "code",
   "execution_count": 3,
   "id": "18bc6567",
   "metadata": {},
   "outputs": [
    {
     "data": {
      "text/plain": [
       "numpy.ndarray"
      ]
     },
     "execution_count": 3,
     "metadata": {},
     "output_type": "execute_result"
    }
   ],
   "source": [
    "type(our_array)"
   ]
  },
  {
   "cell_type": "code",
   "execution_count": 4,
   "id": "7ee5f0a7",
   "metadata": {},
   "outputs": [
    {
     "data": {
      "text/plain": [
       "array([[1, 2, 3, 4],\n",
       "       [5, 6, 7, 8]])"
      ]
     },
     "execution_count": 4,
     "metadata": {},
     "output_type": "execute_result"
    }
   ],
   "source": [
    "# Definition unseres ersten mehrdimensionalen Arrays\n",
    "our_array_nd = np.array([[1, 2, 3, 4], [5, 6, 7, 8]])\n",
    "our_array_nd"
   ]
  },
  {
   "cell_type": "code",
   "execution_count": 5,
   "id": "4972e1f0",
   "metadata": {},
   "outputs": [
    {
     "data": {
      "text/plain": [
       "numpy.ndarray"
      ]
     },
     "execution_count": 5,
     "metadata": {},
     "output_type": "execute_result"
    }
   ],
   "source": [
    "type(our_array_nd)"
   ]
  },
  {
   "cell_type": "code",
   "execution_count": 6,
   "id": "1fff2e9c",
   "metadata": {},
   "outputs": [
    {
     "name": "stdout",
     "output_type": "stream",
     "text": [
      "Eigenschaften our_array\n",
      "ndim 1\n",
      "size 3\n",
      "shape (3,)\n",
      "--------------------\n",
      "Eigenschaften our_array_nd\n",
      "ndim 2\n",
      "size 8\n",
      "shape (2, 4)\n"
     ]
    }
   ],
   "source": [
    "# Eigenschaften der beiden Arrays\n",
    "\n",
    "print(\"Eigenschaften our_array\")\n",
    "print(f\"ndim {our_array.ndim}\")\n",
    "print(f\"size {our_array.size}\")\n",
    "print(f\"shape {our_array.shape}\")\n",
    "\n",
    "print('-' * 20)\n",
    "\n",
    "print(\"Eigenschaften our_array_nd\")\n",
    "print(f\"ndim {our_array_nd.ndim}\")\n",
    "print(f\"size {our_array_nd.size}\")\n",
    "print(f\"shape {our_array_nd.shape}\")"
   ]
  },
  {
   "cell_type": "markdown",
   "id": "f6b9df8f",
   "metadata": {},
   "source": [
    "Eigenschaften eines Arrays:\n",
    "- ndim = Anzahl der Dimensionen (1, 2, 3, 4, ...)\n",
    "- size = Reihen * Spalten\n",
    "- shape = (Reihen, Spalten)"
   ]
  },
  {
   "cell_type": "code",
   "execution_count": 7,
   "id": "57633cf1",
   "metadata": {},
   "outputs": [
    {
     "data": {
      "text/plain": [
       "array([[1, 2, 3, 4],\n",
       "       [5, 6, 7, 8]])"
      ]
     },
     "execution_count": 7,
     "metadata": {},
     "output_type": "execute_result"
    }
   ],
   "source": [
    "# Anstatt Listen kann man auch Tuples für die Initialisierung eines Arrays verwenden\n",
    "\n",
    "tuple_arr = np.array(((1, 2, 3, 4), (5, 6, 7, 8)))\n",
    "tuple_arr"
   ]
  },
  {
   "cell_type": "code",
   "execution_count": 8,
   "id": "51f16257",
   "metadata": {},
   "outputs": [],
   "source": [
    "# Was übrigens nicht geht...\n",
    "wrong = np.array([[1, 2, 3, 4], [5, 6, 7]]) # eine Reihe mit 4 und eine Reihe mit 3 Einträgen --> wirft Fehler"
   ]
  },
  {
   "cell_type": "markdown",
   "id": "74a40f15",
   "metadata": {},
   "source": [
    "#### \"Intrinsic Creation\" eines Arrays"
   ]
  },
  {
   "cell_type": "code",
   "execution_count": 9,
   "id": "32efa244",
   "metadata": {},
   "outputs": [
    {
     "name": "stdout",
     "output_type": "stream",
     "text": [
      "[[0. 0. 0.]\n",
      " [0. 0. 0.]\n",
      " [0. 0. 0.]\n",
      " [0. 0. 0.]]\n",
      "[[1. 1. 1. 1. 1. 1. 1. 1. 1.]]\n"
     ]
    }
   ],
   "source": [
    "# Man kann ein Array auch mit einem bestimmten vorgefertigen Inhalt initialisieren. Hier gibt es zwei Optionen:\n",
    "\n",
    "# Array aus 0en\n",
    "zeros = np.zeros((4, 3)) # Zahlen geben den shape an (Reihen, Spalten)\n",
    "\n",
    "# Array aus 1en\n",
    "ones = np.ones((1, 9))\n",
    "\n",
    "# Dieses Feature wirkt trivial, ist aber sehr nützlich, da wir den Shape eines Arrays in Nachhinein nicht mehr \n",
    "# verändern können und 0en und 1er somit z.B. als Platzhalter dienen\n",
    "\n",
    "print(zeros)\n",
    "print(ones)"
   ]
  },
  {
   "cell_type": "code",
   "execution_count": 119,
   "id": "75c714bb",
   "metadata": {},
   "outputs": [
    {
     "name": "stdout",
     "output_type": "stream",
     "text": [
      "arange_1\n",
      "[ 0  1  2  3  4  5  6  7  8  9 10 11]\n",
      "arange_2\n",
      "[4 5 6 7 8 9]\n",
      "arange_3\n",
      "[0 2 4 6 8]\n",
      "arange_4\n",
      "[0.8 2.4 4.  5.6 7.2]\n",
      "arange_5\n",
      "[[ 0  1  2  3]\n",
      " [ 4  5  6  7]\n",
      " [ 8  9 10 11]]\n",
      "random_1\n",
      "[0.59780427 0.96884836 0.58887382]\n",
      "random_2\n",
      "[[0.67429844 0.6814961  0.13846034]\n",
      " [0.05541174 0.50738579 0.38613744]\n",
      " [0.20910979 0.42024129 0.54800716]]\n"
     ]
    },
    {
     "data": {
      "text/plain": [
       "(None, None)"
      ]
     },
     "execution_count": 119,
     "metadata": {},
     "output_type": "execute_result"
    }
   ],
   "source": [
    "# Außerdem gibt es noch die np.arange- und die np.random.random-Funktion\n",
    "\n",
    "arange_1 = np.arange(0, 12) # Achtung: hintere Grenze zählt NICHT mit \n",
    "arange_2 = np.arange(4, 10) # startet bei 4\n",
    "arange_3 = np.arange(0, 10, 2) # mit Schritt-Parameter\n",
    "arange_4 = np.arange(0.8, 7.4, 1.6) # geht auch mit floats\n",
    "arange_5 = arange_1.reshape(3, 4) # mit reshape(Reihen, Spalten) kann ein mehrdimensionales Array erstellt werden\n",
    "random_1 = np.random.random(3) # Array mit 3 zufälligen Werten zwischen 0 und 1\n",
    "random_2 = np.random.random((3,3)) # Array mit 3x3 zufälligen Werten zwischen 0 und 1\n",
    "\n",
    "print(\"arange_1\"), print(arange_1)\n",
    "print(\"arange_2\"), print(arange_2)\n",
    "print(\"arange_3\"), print(arange_3)\n",
    "print(\"arange_4\"), print(arange_4)\n",
    "print(\"arange_5\"), print(arange_5)\n",
    "print(\"random_1\"), print(random_1)\n",
    "print(\"random_2\"), print(random_2)"
   ]
  },
  {
   "cell_type": "markdown",
   "id": "379ce0c4",
   "metadata": {},
   "source": [
    "### 3. Einfache Operationen "
   ]
  },
  {
   "cell_type": "markdown",
   "id": "52e75cfb",
   "metadata": {},
   "source": [
    "#### Einfache arithmetische Operatoren"
   ]
  },
  {
   "cell_type": "code",
   "execution_count": 14,
   "id": "5270fb69",
   "metadata": {},
   "outputs": [
    {
     "name": "stdout",
     "output_type": "stream",
     "text": [
      "Addtion [3 4 5 6 7]\n",
      "Subtraktion [1 2 3 4 5]\n",
      "Multiplikation [ 2  4  6  8 10]\n",
      "Division [1. 2. 3. 4. 5.]\n",
      "Addtion Kurzschreibweise [4. 5. 6. 7. 8.]\n"
     ]
    }
   ],
   "source": [
    "# Einzelnes Array\n",
    "\n",
    "sample = np.array([1, 2, 3, 4, 5])\n",
    "\n",
    "sample = sample + 2 # Addition\n",
    "print(f\"Addtion {sample}\")\n",
    "sample = sample - 2 # Subtraktion\n",
    "print(f\"Subtraktion {sample}\")\n",
    "sample = sample * 2 # Multiplikation\n",
    "print(f\"Multiplikation {sample}\")\n",
    "sample = sample / 2 # Division\n",
    "print(f\"Division {sample}\")\n",
    "\n",
    "# --> ändert alle Werte im Array\n",
    "\n",
    "# Abkürzende Schreibweise\n",
    "sample += 3\n",
    "print(f\"Addtion Kurzschreibweise {sample}\")"
   ]
  },
  {
   "cell_type": "code",
   "execution_count": 17,
   "id": "6f53800d",
   "metadata": {},
   "outputs": [
    {
     "name": "stdout",
     "output_type": "stream",
     "text": [
      "[11 11 11 11 11]\n",
      "[9 7 5 3 1]\n",
      "[10 18 24 28 30]\n",
      "[10.          4.5         2.66666667  1.75        1.2       ]\n"
     ]
    }
   ],
   "source": [
    "# Zwei Arrays\n",
    "\n",
    "sample1 = np.array([10, 9, 8, 7, 6])\n",
    "sample2 = np.array([1, 2, 3, 4, 5])\n",
    "\n",
    "addition = sample1 + sample2 # Addition\n",
    "subtraktion = sample1 - sample2 # Subtraktion\n",
    "multiplikation = sample1 * sample2 # Multiplikation\n",
    "division = sample1 / sample2 # Division\n",
    "\n",
    "# --> erstellt ein neues Array mit entsprechenden Werten\n",
    "\n",
    "print(addition)\n",
    "print(subtraktion)\n",
    "print(multiplikation)\n",
    "print(division)"
   ]
  },
  {
   "cell_type": "markdown",
   "id": "3b270425",
   "metadata": {},
   "source": [
    "#### Komplexere arithmetische Operatoren"
   ]
  },
  {
   "cell_type": "code",
   "execution_count": 19,
   "id": "a1565791",
   "metadata": {},
   "outputs": [
    {
     "name": "stdout",
     "output_type": "stream",
     "text": [
      "[ 0.84147098  0.90929743  0.14112001 -0.7568025  -0.95892427]\n",
      "[1.         1.41421356 1.73205081 2.         2.23606798]\n",
      "[0.         0.69314718 1.09861229 1.38629436 1.60943791]\n",
      "[0.         1.         1.5849625  2.         2.32192809]\n"
     ]
    }
   ],
   "source": [
    "sample = np.array([1, 2, 3, 4, 5])\n",
    "\n",
    "sample_sin = np.sin(sample) # Sinus-Transformation\n",
    "sample_sqrt = np.sqrt(sample) # Wurzel\n",
    "sample_log = np.log(sample) # natürlicher log\n",
    "sample_log2 = np.log2(sample) # spezifischer log\n",
    "\n",
    "print(sample_sin)\n",
    "print(sample_sqrt)\n",
    "print(sample_log)\n",
    "print(sample_log2)"
   ]
  },
  {
   "cell_type": "markdown",
   "id": "ac22ff05",
   "metadata": {},
   "source": [
    "#### Rechnen mit Matrizen"
   ]
  },
  {
   "cell_type": "code",
   "execution_count": 64,
   "id": "21d6d74b",
   "metadata": {},
   "outputs": [
    {
     "name": "stdout",
     "output_type": "stream",
     "text": [
      "[[ 4.  4.  4.]\n",
      " [10. 10. 10.]\n",
      " [ 4.  4.  4.]]\n",
      "Multiplikation aller einzelnen Werte\n",
      "[[ 4.  4.  4.]\n",
      " [10. 10. 10.]\n",
      " [ 4.  4.  4.]]\n",
      "Kreuzprodukt\n",
      "[[18. 18. 18.]\n",
      " [18. 18. 18.]\n",
      " [18. 18. 18.]]\n",
      "Kreuzprodukt vertauscht --> anderes Ergebnis\n",
      "[[12. 12. 12.]\n",
      " [30. 30. 30.]\n",
      " [12. 12. 12.]]\n"
     ]
    }
   ],
   "source": [
    "sample_1 = np.ones((3, 3))\n",
    "sample_2 = np.ones((3, 3))\n",
    "sample_2 += 3 # erhöht jeden Wert in Sample_2 um 3\n",
    "sample_2[1:2] = 10 # ändert jeden Wert in der zweiten Reihe\n",
    "\n",
    "print(\"Multiplikation aller einzelnen Werte\")\n",
    "print(sample_1 * sample_2) # Multiplikation jedes einzelnen Elements mit dem Element derselben Stelle --> KEIN Kreuzprodukt\n",
    "print(\"Kreuzprodukt\")\n",
    "print(np.dot(sample_1, sample_2)) # Kreuzprodukt(A, B), Achtung: Nicht kommutativ\n",
    "print(\"Kreuzprodukt vertauscht --> anderes Ergebnis\")\n",
    "print(np.dot(sample_2, sample_1))"
   ]
  },
  {
   "cell_type": "markdown",
   "id": "eb7727e8",
   "metadata": {},
   "source": [
    "#### Aggregatfunktionen"
   ]
  },
  {
   "cell_type": "code",
   "execution_count": 22,
   "id": "cb3d4523",
   "metadata": {},
   "outputs": [
    {
     "name": "stdout",
     "output_type": "stream",
     "text": [
      "15\n",
      "1\n",
      "5\n",
      "3.0\n",
      "1.4142135623730951\n"
     ]
    }
   ],
   "source": [
    "sample = np.array([1, 2, 3, 4, 5])\n",
    "\n",
    "print(sample.sum()) # Summe aller Werte\n",
    "print(sample.min()) # Minimum im Array\n",
    "print(sample.max()) # Maximum im Array\n",
    "print(sample.mean()) # Durchschnitt aller Werte\n",
    "print(sample.std()) # Standardabweichung der Werte im Array"
   ]
  },
  {
   "cell_type": "markdown",
   "id": "dc048c65",
   "metadata": {},
   "source": [
    "**Übung 1**: Bearbeitet die Aufgaben im Aufgabenblock 1 im separaten Notebook."
   ]
  },
  {
   "cell_type": "markdown",
   "id": "30fb293c",
   "metadata": {},
   "source": [
    "### 4. Indexing, Slicing, Iterating"
   ]
  },
  {
   "cell_type": "markdown",
   "id": "1107c901",
   "metadata": {},
   "source": [
    "#### Indexing"
   ]
  },
  {
   "cell_type": "code",
   "execution_count": 65,
   "id": "55764ccd",
   "metadata": {},
   "outputs": [
    {
     "name": "stdout",
     "output_type": "stream",
     "text": [
      "5\n",
      "9\n",
      "[3 5 8]\n",
      "6\n"
     ]
    }
   ],
   "source": [
    "# Eindimensionale Arrays\n",
    "\n",
    "sample = np.arange(1, 10)\n",
    "\n",
    "print(sample[4])\n",
    "print(sample[-1])\n",
    "print(sample[[2, 4, 7]]) # mehrere Items auf einmal\n",
    "\n",
    "\n",
    "# Mehrdimensionale Arrays\n",
    "\n",
    "sample = sample.reshape((3, 3))\n",
    "\n",
    "print(sample[1, 2]) # Element aus 2. Reihe und 3. Spalte"
   ]
  },
  {
   "cell_type": "markdown",
   "id": "eb7c7dce",
   "metadata": {},
   "source": [
    "#### Slicing"
   ]
  },
  {
   "cell_type": "code",
   "execution_count": 120,
   "id": "c21ab472",
   "metadata": {},
   "outputs": [
    {
     "name": "stdout",
     "output_type": "stream",
     "text": [
      "[2 4 6]\n",
      "[[1 2]\n",
      " [4 5]]\n"
     ]
    }
   ],
   "source": [
    "# Eindimensionale Arrays\n",
    "\n",
    "sample = np.arange(1, 10)\n",
    "\n",
    "print(sample[1:7:2])\n",
    "\n",
    "\n",
    "# # Mehrdimensionale Arrays\n",
    "\n",
    "sample = sample.reshape((3, 3))\n",
    "\n",
    "print(sample[0:2, 0:2]) # separat definiert für Reihen und Spalten"
   ]
  },
  {
   "cell_type": "code",
   "execution_count": 70,
   "id": "abbfa5e2",
   "metadata": {},
   "outputs": [],
   "source": [
    "# Veranschaulichung Matrix Slicing\n",
    "\n",
    "# Erster Schritt: Auswahl der Reihen\n",
    "# xxx\n",
    "# xxx\n",
    "# ooo\n",
    "\n",
    "# Zweiter Schritt: Auswahl der Spalten\n",
    "# oxo\n",
    "# oxo\n",
    "# 000"
   ]
  },
  {
   "cell_type": "markdown",
   "id": "e4545b9a",
   "metadata": {},
   "source": [
    "#### Iterating"
   ]
  },
  {
   "cell_type": "code",
   "execution_count": 75,
   "id": "a610e4b1",
   "metadata": {},
   "outputs": [
    {
     "name": "stdout",
     "output_type": "stream",
     "text": [
      "1\n",
      "2\n",
      "3\n",
      "4\n",
      "--------------------\n",
      "[1 2]\n",
      "[3 4]\n",
      "--------------------\n",
      "1\n",
      "2\n",
      "3\n",
      "4\n"
     ]
    }
   ],
   "source": [
    "# Naiver Ansatz\n",
    "\n",
    "\n",
    "# Eindimensionale Arrays\n",
    "\n",
    "sample = np.arange(1, 5)\n",
    "\n",
    "for i in sample:\n",
    "    print(i)\n",
    "    \n",
    "print(\"-\" * 20)\n",
    "\n",
    "\n",
    "# Mehrdimensionale Arrays\n",
    "\n",
    "sample = sample.reshape((2, 2))\n",
    "\n",
    "for row in sample:\n",
    "    print(row)\n",
    "    \n",
    "print(\"-\" * 20)\n",
    "    \n",
    "for i in sample.flat:\n",
    "    print(i)"
   ]
  },
  {
   "cell_type": "code",
   "execution_count": 80,
   "id": "fab3ad55",
   "metadata": {},
   "outputs": [
    {
     "name": "stdout",
     "output_type": "stream",
     "text": [
      "[4. 5. 6.]\n",
      "[ 28  80 162]\n",
      "[  6 120 504]\n"
     ]
    }
   ],
   "source": [
    "# Eleganterer Ansatz zum Implementieren von Funktionen\n",
    "\n",
    "sample = np.arange(1, 10)\n",
    "sample = sample.reshape((3, 3))\n",
    "\n",
    "print(np.apply_along_axis(np.mean, axis=0, arr=sample))\n",
    "\n",
    "\n",
    "# mit eigener Funktion\n",
    "\n",
    "def product(x, counter=1):\n",
    "    for i in x:\n",
    "        counter *= i\n",
    "    return counter\n",
    "\n",
    "print(np.apply_along_axis(product, axis=0, arr=sample))\n",
    "print(np.apply_along_axis(product, axis=1, arr=sample))"
   ]
  },
  {
   "cell_type": "markdown",
   "id": "93326c98",
   "metadata": {},
   "source": [
    "### 5. Shape- und Array-Manipulation"
   ]
  },
  {
   "cell_type": "markdown",
   "id": "d170fdff",
   "metadata": {},
   "source": [
    "#### Shape Manipulation"
   ]
  },
  {
   "cell_type": "code",
   "execution_count": 82,
   "id": "ec1e9656",
   "metadata": {},
   "outputs": [
    {
     "name": "stdout",
     "output_type": "stream",
     "text": [
      "[[1 2 3]\n",
      " [4 5 6]\n",
      " [7 8 9]]\n",
      "[1 2 3 4 5 6 7 8 9]\n"
     ]
    }
   ],
   "source": [
    "# Veränderung der Dimensionalität\n",
    "\n",
    "sample = np.arange(1, 10)\n",
    "\n",
    "# Vom eindimensionalen zum mehrdimensionalen Array\n",
    "sample = sample.reshape((3, 3))\n",
    "print(sample)\n",
    "\n",
    "# Vom mehrdimensionalen zum eindimensionalen Array\n",
    "sample = sample.ravel()\n",
    "print(sample)"
   ]
  },
  {
   "cell_type": "code",
   "execution_count": 94,
   "id": "56257d6e",
   "metadata": {},
   "outputs": [
    {
     "name": "stdout",
     "output_type": "stream",
     "text": [
      "Random Matrix\n",
      "[[0.15135458 0.10834525 0.05392029]\n",
      " [0.4236659  0.06206897 0.21379869]\n",
      " [0.84415493 0.37059865 0.61438858]]\n",
      "Transponiert\n",
      "[[0.15135458 0.4236659  0.84415493]\n",
      " [0.10834525 0.06206897 0.37059865]\n",
      " [0.05392029 0.21379869 0.61438858]]\n",
      "Invertiert\n",
      "[[  4.45401465   5.04835871  -2.14765428]\n",
      " [  8.6499063   -5.14482584   1.03119031]\n",
      " [-11.33732335  -3.83296737   3.95644594]]\n"
     ]
    }
   ],
   "source": [
    "# Transformation von Matrizen\n",
    "\n",
    "sample = np.random.random((3, 3))\n",
    "\n",
    "print(\"Random Matrix\")\n",
    "print(sample)\n",
    "\n",
    "# Transponieren = Reihen und Spalten vertauschen\n",
    "print(\"Transponiert\")\n",
    "print(sample.T) # oder auch: .transpose()\n",
    "\n",
    "# Invertieren\n",
    "print(\"Invertiert\")\n",
    "print(np.linalg.inv(sample))"
   ]
  },
  {
   "cell_type": "markdown",
   "id": "daaea2c8",
   "metadata": {},
   "source": [
    "#### Array Joins"
   ]
  },
  {
   "cell_type": "code",
   "execution_count": 100,
   "id": "531008a7",
   "metadata": {},
   "outputs": [
    {
     "name": "stdout",
     "output_type": "stream",
     "text": [
      "Column Stack\n",
      "[[ 1 11]\n",
      " [ 2 12]\n",
      " [ 3 13]\n",
      " [ 4 14]]\n",
      "Row Stack\n",
      "[[ 1  2  3  4]\n",
      " [11 12 13 14]]\n"
     ]
    }
   ],
   "source": [
    "# Eindimensionale Arrays\n",
    "\n",
    "sample_1 = np.arange(1, 5)\n",
    "sample_2 = np.arange(11, 15)\n",
    "\n",
    "cstack = np.column_stack((sample_1, sample_2)) # Join über Spalten\n",
    "rstack = np.row_stack((sample_1, sample_2)) # Join über Reihen\n",
    "\n",
    "print(\"Column Stack\")\n",
    "print(cstack)\n",
    "print(\"Row Stack\")\n",
    "print(rstack)"
   ]
  },
  {
   "cell_type": "code",
   "execution_count": 117,
   "id": "e8aed814",
   "metadata": {},
   "outputs": [
    {
     "name": "stdout",
     "output_type": "stream",
     "text": [
      "Vertical Stack\n",
      "[[0. 0.]\n",
      " [0. 0.]\n",
      " [1. 1.]\n",
      " [1. 1.]]\n",
      "Horizontal Stack\n",
      "[[0. 0. 1. 1.]\n",
      " [0. 0. 1. 1.]]\n"
     ]
    }
   ],
   "source": [
    "# Mehrdimensionale Arrays\n",
    "\n",
    "sample_1 = np.zeros((2, 2))\n",
    "sample_2 = np.ones((2, 2))\n",
    "\n",
    "vstack = np.vstack((sample_1, sample_2)) # vertikaler Join\n",
    "hstack = np.hstack((sample_1, sample_2)) # horizontaler Join\n",
    "\n",
    "print(\"Vertical Stack\")\n",
    "print(vstack)\n",
    "print(\"Horizontal Stack\")\n",
    "print(hstack)"
   ]
  },
  {
   "cell_type": "markdown",
   "id": "40461480",
   "metadata": {},
   "source": [
    "#### Array Splits"
   ]
  },
  {
   "cell_type": "code",
   "execution_count": 106,
   "id": "9799a6b0",
   "metadata": {},
   "outputs": [
    {
     "name": "stdout",
     "output_type": "stream",
     "text": [
      "[[ 1  2]\n",
      " [ 5  6]\n",
      " [ 9 10]\n",
      " [13 14]]\n",
      "--------------------\n",
      "[[ 3  4]\n",
      " [ 7  8]\n",
      " [11 12]\n",
      " [15 16]]\n"
     ]
    }
   ],
   "source": [
    "# Horizontaler Split in gleiche Teile\n",
    "\n",
    "sample = np.arange(1, 17).reshape((4, 4))\n",
    "\n",
    "[a, b] = np.hsplit(sample, 2) # zweiter Parameter gibt Anzahl der Sub-Arrays an, in die gesplittet werden soll\n",
    "\n",
    "print(a)\n",
    "print(\"-\" * 20)\n",
    "print(b)"
   ]
  },
  {
   "cell_type": "code",
   "execution_count": 116,
   "id": "d5c1ccfe",
   "metadata": {},
   "outputs": [
    {
     "name": "stdout",
     "output_type": "stream",
     "text": [
      "[[1 2 3 4]]\n",
      "--------------------\n",
      "[[5 6 7 8]]\n",
      "--------------------\n",
      "[[ 9 10 11 12]]\n",
      "--------------------\n",
      "[[13 14 15 16]]\n"
     ]
    }
   ],
   "source": [
    "# Vertikaler Split in gleiche Teile\n",
    "\n",
    "sample = np.arange(1, 17).reshape((4, 4))\n",
    "\n",
    "[a, b, c, d] = np.vsplit(sample, 4) # zweiter Parameter gibt Anzahl der Sub-Arrays an, in die gesplittet werden soll\n",
    "\n",
    "print(a)\n",
    "print(\"-\" * 20)\n",
    "print(b)\n",
    "print(\"-\" * 20)\n",
    "print(c)\n",
    "print(\"-\" * 20)\n",
    "print(d)"
   ]
  },
  {
   "cell_type": "code",
   "execution_count": 125,
   "id": "054ab1a7",
   "metadata": {},
   "outputs": [
    {
     "name": "stdout",
     "output_type": "stream",
     "text": [
      "[[1 2 3 4]]\n",
      "--------------------\n",
      "[[5 6 7 8]]\n",
      "--------------------\n",
      "[[ 9 10 11 12]\n",
      " [13 14 15 16]]\n",
      "##################################################\n",
      "[[ 1]\n",
      " [ 5]\n",
      " [ 9]\n",
      " [13]]\n",
      "--------------------\n",
      "[[ 2  3  4]\n",
      " [ 6  7  8]\n",
      " [10 11 12]\n",
      " [14 15 16]]\n",
      "--------------------\n",
      "[]\n"
     ]
    }
   ],
   "source": [
    "# Split in verschieden große Teile\n",
    "\n",
    "sample = np.arange(1, 17).reshape((4, 4))\n",
    "[a, b , c] = np.split(sample, [1, 2], axis=0) # schneidet an zweiter und dritter Trennlinie, vertikaler Split\n",
    "print(a)\n",
    "print(\"-\" * 20)\n",
    "print(b)\n",
    "print(\"-\" * 20)\n",
    "print(c)\n",
    "\n",
    "print(\"#\" * 50)\n",
    "\n",
    "[a, b , c] = np.split(sample, [1, 4], axis=1) #schneidet an zweiter und fünfter Trennlinie, horizontaler Split\n",
    "print(a)\n",
    "print(\"-\" * 20)\n",
    "print(b)\n",
    "print(\"-\" * 20)\n",
    "print(c) # leer, da an äußerster Trennlinie abgeschnitten (quasi nur die Kante, aber keine Werte enthalten)"
   ]
  },
  {
   "cell_type": "markdown",
   "id": "9e3cd3ec",
   "metadata": {},
   "source": [
    "**Übung 2**: Bearbeitet die Aufgaben im Aufgabenblock 2 im separaten Notebook."
   ]
  },
  {
   "cell_type": "markdown",
   "id": "7cf36049",
   "metadata": {},
   "source": [
    "## II. Pandas"
   ]
  },
  {
   "cell_type": "markdown",
   "id": "d640207a",
   "metadata": {},
   "source": [
    "### 1. Was ist Pandas? "
   ]
  },
  {
   "cell_type": "markdown",
   "id": "9af4a54b",
   "metadata": {},
   "source": [
    "- Vollständig entwickelt unter Verwendung der von Numpy eingeführten Konzepte"
   ]
  },
  {
   "cell_type": "code",
   "execution_count": null,
   "id": "62bea649",
   "metadata": {},
   "outputs": [],
   "source": [
    "# Input/Output (I/O) mit Pandas"
   ]
  },
  {
   "cell_type": "code",
   "execution_count": null,
   "id": "df4a80a9",
   "metadata": {},
   "outputs": [],
   "source": []
  },
  {
   "cell_type": "code",
   "execution_count": null,
   "id": "c35d1091",
   "metadata": {},
   "outputs": [],
   "source": []
  },
  {
   "cell_type": "code",
   "execution_count": null,
   "id": "6e76af74",
   "metadata": {},
   "outputs": [],
   "source": []
  },
  {
   "cell_type": "markdown",
   "id": "1ec082f2",
   "metadata": {},
   "source": [
    "**Übung 3**: Bearbeitet die Aufgaben im Aufgabenblock 3 im separaten Notebook."
   ]
  },
  {
   "cell_type": "markdown",
   "id": "eeab407f",
   "metadata": {},
   "source": [
    "**Übung 4**: Bearbeitet die Aufgaben im Aufgabenblock 4 im separaten Notebook."
   ]
  },
  {
   "cell_type": "markdown",
   "id": "98524acc",
   "metadata": {},
   "source": [
    "## III. Numpy & Pandas zusammen nutzen"
   ]
  },
  {
   "cell_type": "code",
   "execution_count": null,
   "id": "88f7b116",
   "metadata": {},
   "outputs": [],
   "source": [
    "# Numpy zu Pandas\n",
    "# - aus vielen Arrays einen DataFrame\n",
    "# - eine Spalte hinzufügen\n",
    "\n",
    "# Pandas-Spalte zu Numpy-Vektor\n",
    "# Pandas df zu np.matrix"
   ]
  },
  {
   "cell_type": "markdown",
   "id": "f21b2f87",
   "metadata": {},
   "source": [
    "**Bonus-Übung**: Wer die hier dargestellten Konzepte näher vertiefen und lernen möchte, Numpy zusammen mit Pandas zu benutzen, der findet weitere Bonus-Übungen im separaten Übungs-Notebook."
   ]
  },
  {
   "cell_type": "markdown",
   "id": "61c757ae",
   "metadata": {},
   "source": [
    "## Evaluation"
   ]
  },
  {
   "cell_type": "markdown",
   "id": "cc548b0d",
   "metadata": {},
   "source": [
    "Da die Erstellung dieser Kurse viel Arbeit ist und wir die Kurse auch in den kommenden Semestern wieder anbieten wollen, möchten wir euch bitten, euch kurz Zeit für die anonyme Evaluation zu nehmen, die nicht mehr als 5 Minuten euer Zeit beanspruchen sollte.\n",
    "\n",
    "[Link fehlt noch](https://kicker.de)"
   ]
  },
  {
   "cell_type": "markdown",
   "id": "96092373",
   "metadata": {},
   "source": [
    "## Weiterführende Materialien"
   ]
  },
  {
   "cell_type": "markdown",
   "id": "ecfdcba5",
   "metadata": {},
   "source": [
    "Dokumentationen:\n",
    "- [Numpy](https://numpy.org/doc/stable/user/absolute_beginners.html)\n",
    "- [Pandas](https://pandas.pydata.org/docs/getting_started/intro_tutorials/01_table_oriented.html)\n",
    "\n",
    "Lehrbuch:\n",
    "- [Python Data Analytics, Fabio Nelli](https://link.springer.com/book/10.1007/978-1-4842-3913-1) (Notebook orientiert sich an diesem Buch)\n",
    "\n",
    "Übungen Numpy:\n",
    "- [w3resource](https://www.w3resource.com/python-exercises/numpy/index.php)\n",
    "- [20 NumPy Exercises for Beginners](\"https://favtutor.com/blogs/numpy-exercises-python\")\n",
    "- [Vektorielles Rechnen in Numpy](https://gkabbe.github.io/Python-Kurs-2017/uebungen/numpy/)\n",
    "\n",
    "Übungen Pandas:\n",
    "- [w3resource](https://www.w3resource.com/python-exercises/pandas/index.php)\n",
    "- [guipsamora (GitHub)](https://github.com/guipsamora/pandas_exercises)\n",
    "- [101 Pandas Exercises for Data Analysis](https://www.machinelearningplus.com/python/101-pandas-exercises-python/)"
   ]
  }
 ],
 "metadata": {
  "kernelspec": {
   "display_name": "Python 3 (ipykernel)",
   "language": "python",
   "name": "python3"
  },
  "language_info": {
   "codemirror_mode": {
    "name": "ipython",
    "version": 3
   },
   "file_extension": ".py",
   "mimetype": "text/x-python",
   "name": "python",
   "nbconvert_exporter": "python",
   "pygments_lexer": "ipython3",
   "version": "3.8.8"
  }
 },
 "nbformat": 4,
 "nbformat_minor": 5
}
