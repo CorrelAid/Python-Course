{
 "cells": [
  {
   "cell_type": "markdown",
   "id": "8b60d6e5",
   "metadata": {},
   "source": [
    "# Python Workshop - Exercises\n",
    "\n",
    "## Termin 2: Datenanalyse mit Python - Numpy & Pandas\n",
    "#### Torben Abts & Jonas Hummel (CorrelAid), 21.Juni 2022"
   ]
  },
  {
   "cell_type": "code",
   "execution_count": 1,
   "id": "8e64f8dd",
   "metadata": {},
   "outputs": [],
   "source": [
    "# Install Numpy and Pandas in the current Jupyter kernel\n",
    "#import sys\n",
    "#!{sys.executable} -m pip install numpy\n",
    "#!{sys.executable} -m pip install pandas\n",
    "\n",
    "# Import Numpy and Pandas\n",
    "import numpy as np\n",
    "import pandas as pd"
   ]
  },
  {
   "cell_type": "markdown",
   "id": "b38e9520",
   "metadata": {},
   "source": [
    "Die unten aufgelisteten Übungsaufgaben sollen euch dabei helfen, das soeben Gelernte besser zu verstehen und praktisch anwenden zu können. Um das Ganze etwas anschaulicher zu machen, wird die Aufgabe darin bestehen, die Mitarbeiter der Capitol-Versicherung \"zu erstellen\" und ihnen die passenden Attribute zuzuweisen (wem die Capitol nichts sagt, sollte vielleicht einmal Stromberg googlen ;) )."
   ]
  },
  {
   "cell_type": "markdown",
   "id": "24453e98",
   "metadata": {},
   "source": [
    "### Aufgabenblock 1"
   ]
  },
  {
   "cell_type": "markdown",
   "id": "aaae9982",
   "metadata": {},
   "source": [
    "#### Aufgabe 1.1:\n",
    "Entscheide, ob die folgenden Werte in ein Array passen würden:\n",
    "- 1) \"Stromberg\", 50000, \"m\", \"Leiter M-Z\"\n",
    "- 2) 12000, 14.5, 2009, 3700.8\n",
    "- 3) Reihe 1: \"Stromberg\", \"Steinke\", \"Schirmann\" ; Reihe 2: \"Bernd\", \"Tanja\""
   ]
  },
  {
   "cell_type": "markdown",
   "id": "07a57ab9",
   "metadata": {},
   "source": [
    "Antwort:\n",
    "- 1) Nein, da verschiedene Datentypen\n",
    "- 2) Ja, aber ints werden zu floats umgewandelt (passiert automatisch)\n",
    "- 3) Nein, da verschieden große Reihen"
   ]
  },
  {
   "cell_type": "markdown",
   "id": "193f007f",
   "metadata": {},
   "source": [
    "#### Aufgabe 1.2:\n",
    "Erstelle jeweils einen eindimensionales Array mit den Vornamen und eines mit den Nachnamen der folgenden Mitarbeiter:\n",
    "- Bernd Stromberg\n",
    "- Erni Heisterkamp\n",
    "- Ulf Steinke\n",
    "- Tanja Seifert\n",
    "- Jennifer Schirmann\n",
    "\n",
    "Achte darauf, die Reihenfolge nicht zu verändern. Benenne die Arrays mit *vornamen* und *nachnamen*. Lass dir anschließend beide Arrays ausgeben. Überprüfe, ob es sich auch wirklich um Arrays handelt."
   ]
  },
  {
   "cell_type": "code",
   "execution_count": 2,
   "id": "22b99d45",
   "metadata": {},
   "outputs": [
    {
     "name": "stdout",
     "output_type": "stream",
     "text": [
      "['Bernd' 'Erni' 'Ulf' 'Tanja' 'Jennifer']\n",
      "['Stromberg' 'Heisterkamp' 'Steinke' 'Seifert' 'Schirmann']\n",
      "<class 'numpy.ndarray'> <class 'numpy.ndarray'>\n"
     ]
    }
   ],
   "source": [
    "vornamen = np.array([\"Bernd\", \"Erni\", \"Ulf\", \"Tanja\", \"Jennifer\"])\n",
    "nachnamen = np.array([\"Stromberg\", \"Heisterkamp\", \"Steinke\", \"Seifert\", \"Schirmann\"])\n",
    "\n",
    "print(vornamen)\n",
    "print(nachnamen)\n",
    "\n",
    "print(type(vornamen), type(nachnamen))"
   ]
  },
  {
   "cell_type": "markdown",
   "id": "43a4a7ff",
   "metadata": {},
   "source": [
    "#### Aufgabe 1.3:\n",
    "Füge nun die beiden oben erstellten Arrays zu einer Matrix zusammen. Dabei soll jeder Vorname über dem Nachnamen der Person stehen. Speichere diese Matrix unter dem Namen *vn_namen*. \n",
    "\n",
    "Initialisiere außerdem zwei weitere Arrays. Diese sollten integer und keine floats (default) enthalten:\n",
    "- Einen Array mit dem Namen *gehalt*. Dabei soll der erste Mitarbeiter 50.000 Euro erhalten und jeder folgende Mitarbeiter 5.000 Euro weniger. Nutze hierzu eine möglichst effiziente Funktion.\n",
    "- Einen Array mit dem Namen *bonus*. Erstelle den Array so, dass für jeden Mitarbeiter 0 als Platzhalter zu sehen ist.\n",
    "\n",
    "Lass dir anschließend alle drei erstellten Array ausgeben."
   ]
  },
  {
   "cell_type": "code",
   "execution_count": 3,
   "id": "b8022391",
   "metadata": {},
   "outputs": [
    {
     "name": "stdout",
     "output_type": "stream",
     "text": [
      "[['Bernd' 'Erni' 'Ulf' 'Tanja' 'Jennifer']\n",
      " ['Stromberg' 'Heisterkamp' 'Steinke' 'Seifert' 'Schirmann']]\n",
      "[50000 45000 40000 35000 30000]\n",
      "[0 0 0 0 0]\n"
     ]
    }
   ],
   "source": [
    "vn_namen = np.array([vornamen, nachnamen])\n",
    "\n",
    "gehalt = np.arange(50000, 29999, -5000, dtype=int)\n",
    "bonus = np.zeros(5, dtype=int)\n",
    "\n",
    "print(vn_namen)\n",
    "print(gehalt)\n",
    "print(bonus)"
   ]
  },
  {
   "cell_type": "markdown",
   "id": "548ef4fa",
   "metadata": {},
   "source": [
    "#### Aufgabe 1.4:\n",
    "\n",
    "Das oben angegebene Gehalt ist in Euro angegeben. Erstelle nun ein neues Array mit dem Namen *gehalt_d*, das das Gehalt in Dollar umgerechnet angibt. Lass dir die Standardabweichung für das Gehalt in Euro und in Dollar ausgeben und vergleiche die beiden Werte (runde beide Werte auf zwei Nachkommastellen).\n",
    "\n",
    "Erhöhe außerdem den Bonus für jeden Angestellten auf 1000 Euro. Speichere die Erhöhung in derselben Variable *bonus*.\n",
    "Lass dir anschließend beide Arrays ausgeben."
   ]
  },
  {
   "cell_type": "code",
   "execution_count": 4,
   "id": "7b6e74d6",
   "metadata": {},
   "outputs": [
    {
     "name": "stdout",
     "output_type": "stream",
     "text": [
      "SD Gehalt in Euro 7071.07, SD Gehalt in USD 7566.04\n",
      "[53500. 48150. 42800. 37450. 32100.]\n",
      "[1000 1000 1000 1000 1000]\n"
     ]
    }
   ],
   "source": [
    "gehalt_d = gehalt * 1.07 # Wechselkurs zum Zeitpunkt der Notebook-Erstellung\n",
    "bonus = bonus + 1000\n",
    "\n",
    "print(f\"SD Gehalt in Euro {gehalt.std().round(2)}, SD Gehalt in USD {gehalt_d.std().round(2)}\")\n",
    "\n",
    "print(gehalt_d)\n",
    "print(bonus)"
   ]
  },
  {
   "cell_type": "markdown",
   "id": "c8e1960f",
   "metadata": {},
   "source": [
    "### Aufgabenblock 2"
   ]
  },
  {
   "cell_type": "markdown",
   "id": "f4240ce5",
   "metadata": {},
   "source": [
    "#### Aufgabe 2.1: \n",
    "\n",
    "Ändere den Namen \"Erni\" zu \"Berthold\". Tue dies der Vollständigkeit halber sowohl in *vornamen* als auch in *vn_namen*. \n",
    "\n",
    "Lasse dir zur Kontrolle beide Arrays ausgeben."
   ]
  },
  {
   "cell_type": "code",
   "execution_count": 5,
   "id": "5b2c7f74",
   "metadata": {},
   "outputs": [
    {
     "name": "stdout",
     "output_type": "stream",
     "text": [
      "['Bernd' 'Berthold' 'Ulf' 'Tanja' 'Jennifer']\n",
      "[['Bernd' 'Berthold' 'Ulf' 'Tanja' 'Jennifer']\n",
      " ['Stromberg' 'Heisterkamp' 'Steinke' 'Seifert' 'Schirmann']]\n"
     ]
    }
   ],
   "source": [
    "vornamen[1] = \"Berthold\"\n",
    "vn_namen[0, 1] = \"Berthold\"\n",
    "\n",
    "print(vornamen)\n",
    "print(vn_namen)"
   ]
  },
  {
   "cell_type": "markdown",
   "id": "ec9fa0b7",
   "metadata": {},
   "source": [
    "#### Aufgabe 2.2:\n",
    "\n",
    "Wie oben zu sehen ist, werden in *vn_namen* erst alle Vornamen, dann alle Nachnamen in je einer Reihe ausgegeben. Das ist zwar richtig, aber für unsere Zwecke schwer lesbar. Erstelle eine Variable *vn_namen_switch*, bei der eine Reihe mit Vornamen und anschließend eine Reihe mit Nachnamen abgebildet wird. Lass dir die Variable anschließend ausgeben."
   ]
  },
  {
   "cell_type": "code",
   "execution_count": 6,
   "id": "76d7450f",
   "metadata": {},
   "outputs": [
    {
     "name": "stdout",
     "output_type": "stream",
     "text": [
      "[['Bernd' 'Stromberg']\n",
      " ['Berthold' 'Heisterkamp']\n",
      " ['Ulf' 'Steinke']\n",
      " ['Tanja' 'Seifert']\n",
      " ['Jennifer' 'Schirmann']]\n"
     ]
    }
   ],
   "source": [
    "vn_namen_switch = vn_namen.T\n",
    "print(vn_namen_switch)"
   ]
  },
  {
   "cell_type": "markdown",
   "id": "9c300e14",
   "metadata": {},
   "source": [
    "##### Aufgabe 2.3: \n",
    "\n",
    "Füge die Arrays *gehalt* und *bonus* zu einer gemeinsamen Matrix *gehalt_bonus* zusammen. Erhöhe anschließend jeden der Werte in dieser Matrix mit Hilfe einer selbst geschriebenen Funktion *gehaltserhöhung* um 20%. Speichere das Ergebnis unter *gehalt_bonus_erhöht* und lasse dir die Variable ausgeben."
   ]
  },
  {
   "cell_type": "code",
   "execution_count": 7,
   "id": "869be800",
   "metadata": {},
   "outputs": [
    {
     "data": {
      "text/plain": [
       "array([[60000, 54000, 48000, 42000, 36000],\n",
       "       [ 1200,  1200,  1200,  1200,  1200]])"
      ]
     },
     "execution_count": 7,
     "metadata": {},
     "output_type": "execute_result"
    }
   ],
   "source": [
    "gehalt_bonus = np.row_stack((gehalt, bonus))\n",
    "\n",
    "def gehaltserhöhung(x):\n",
    "    for i in range(0, len(x)):\n",
    "        x[i] = x[i] * 1.2\n",
    "    return x\n",
    "\n",
    "gehalt_bonus_erhöht = np.apply_along_axis(gehaltserhöhung, axis= 0, arr=gehalt_bonus)\n",
    "gehalt_bonus_erhöht"
   ]
  },
  {
   "cell_type": "markdown",
   "id": "acdab88e",
   "metadata": {},
   "source": [
    "#### Aufgabe 2.4:\n",
    "\n",
    "Splitte nun die eben erstellten Arrays wieder zu ihren ursprünglichen eindimensionalen Array *gehalt* und *bonus* zurück und speichere sie unter den entsprechenden Variablennamen. Da beide Variablen vorher in einer Matrix vorhanden waren, haben beide nun noch eine doppelte Klammerstruktur. Entferne diese, sodass du am Ende wieder normale eindimensionale Arrays erhälst. Lass dir beide Variablen anschließend ausgeben."
   ]
  },
  {
   "cell_type": "code",
   "execution_count": 8,
   "id": "9c1f4296",
   "metadata": {},
   "outputs": [
    {
     "name": "stdout",
     "output_type": "stream",
     "text": [
      "[60000 54000 48000 42000 36000]\n",
      "[1200 1200 1200 1200 1200]\n"
     ]
    }
   ],
   "source": [
    "[gehalt, bonus] = np.vsplit(gehalt_bonus_erhöht, 2)\n",
    "\n",
    "gehalt = gehalt[0]\n",
    "bonus = bonus[0]\n",
    "\n",
    "print(gehalt)\n",
    "print(bonus)"
   ]
  },
  {
   "cell_type": "markdown",
   "id": "4395d46a",
   "metadata": {},
   "source": [
    "#### Aufgabe 2.5:\n",
    "\n",
    "**Für alle:** Führt bitte das nächste Feld aus um sicherzustellen, dass wir an diesem Punkt alle dieselben Werte in unseren Arrays haben (durch vielfaches oder fehlerhaftes Ausführen einer Funktion kann es zu verschiedenen Werten kommen).\n",
    "\n",
    "**Für Schnelle:** Probiert doch schon einmal, die vier hier abgebildeten Arrays zum DataFrame *mitarbeiter_df* zusammenzusetzen. Dabei sollen die Spalten die Namen \"Vorname\", \"Nachname\", \"Gehalt\" und \"Bonus\" haben. Die richtige Benennung der Spalten ist dabei wichtig für weitere Aufgaben. Lasst euch den DataFrame ausgeben (und probiert das am besten einmal mit und einmal ohne *print*-Befehl)."
   ]
  },
  {
   "cell_type": "code",
   "execution_count": 9,
   "id": "b6a682ed",
   "metadata": {},
   "outputs": [],
   "source": [
    "# !!! Bitte unbedingt ausführen !!!\n",
    "\n",
    "vornamen = np.array(['Bernd', 'Berthold', 'Ulf', 'Tanja', 'Jennifer'])\n",
    "nachnamen = np.array(['Stromberg', 'Heisterkamp', 'Steinke', 'Seifert', 'Schirmann'])\n",
    "gehalt = np.array([60000, 54000, 48000, 42000, 36000])\n",
    "bonus = np.array([1200, 1200, 1200, 1200, 1200])"
   ]
  },
  {
   "cell_type": "code",
   "execution_count": 10,
   "id": "1ad57d12",
   "metadata": {},
   "outputs": [
    {
     "data": {
      "text/html": [
       "<div>\n",
       "<style scoped>\n",
       "    .dataframe tbody tr th:only-of-type {\n",
       "        vertical-align: middle;\n",
       "    }\n",
       "\n",
       "    .dataframe tbody tr th {\n",
       "        vertical-align: top;\n",
       "    }\n",
       "\n",
       "    .dataframe thead th {\n",
       "        text-align: right;\n",
       "    }\n",
       "</style>\n",
       "<table border=\"1\" class=\"dataframe\">\n",
       "  <thead>\n",
       "    <tr style=\"text-align: right;\">\n",
       "      <th></th>\n",
       "      <th>Vorname</th>\n",
       "      <th>Nachname</th>\n",
       "      <th>Gehalt</th>\n",
       "      <th>Bonus</th>\n",
       "    </tr>\n",
       "  </thead>\n",
       "  <tbody>\n",
       "    <tr>\n",
       "      <th>0</th>\n",
       "      <td>Bernd</td>\n",
       "      <td>Stromberg</td>\n",
       "      <td>60000</td>\n",
       "      <td>1200</td>\n",
       "    </tr>\n",
       "    <tr>\n",
       "      <th>1</th>\n",
       "      <td>Berthold</td>\n",
       "      <td>Heisterkamp</td>\n",
       "      <td>54000</td>\n",
       "      <td>1200</td>\n",
       "    </tr>\n",
       "    <tr>\n",
       "      <th>2</th>\n",
       "      <td>Ulf</td>\n",
       "      <td>Steinke</td>\n",
       "      <td>48000</td>\n",
       "      <td>1200</td>\n",
       "    </tr>\n",
       "    <tr>\n",
       "      <th>3</th>\n",
       "      <td>Tanja</td>\n",
       "      <td>Seifert</td>\n",
       "      <td>42000</td>\n",
       "      <td>1200</td>\n",
       "    </tr>\n",
       "    <tr>\n",
       "      <th>4</th>\n",
       "      <td>Jennifer</td>\n",
       "      <td>Schirmann</td>\n",
       "      <td>36000</td>\n",
       "      <td>1200</td>\n",
       "    </tr>\n",
       "  </tbody>\n",
       "</table>\n",
       "</div>"
      ],
      "text/plain": [
       "    Vorname     Nachname Gehalt Bonus\n",
       "0     Bernd    Stromberg  60000  1200\n",
       "1  Berthold  Heisterkamp  54000  1200\n",
       "2       Ulf      Steinke  48000  1200\n",
       "3     Tanja      Seifert  42000  1200\n",
       "4  Jennifer    Schirmann  36000  1200"
      ]
     },
     "execution_count": 10,
     "metadata": {},
     "output_type": "execute_result"
    }
   ],
   "source": [
    "# Für Schnelle\n",
    "\n",
    "spalten_namen = [\"Vorname\", \"Nachname\", \"Gehalt\", \"Bonus\"]\n",
    "daten = np.array([vornamen, nachnamen, gehalt, bonus]).T\n",
    "\n",
    "mitarbeiter_df = pd.DataFrame(daten, columns=spalten_namen)\n",
    "mitarbeiter_df"
   ]
  },
  {
   "cell_type": "markdown",
   "id": "36f3444b",
   "metadata": {},
   "source": [
    "### Aufgabenblock 3"
   ]
  },
  {
   "cell_type": "markdown",
   "id": "4ec04d27",
   "metadata": {},
   "source": [
    "#### Aufgabe 3.1:\n",
    "\n",
    "Lest den Datensatz \"Weitere_Mitarbeiter_Capitol\" ein und speichert ihn unter dem namen *w_mitarbeiter_df*. Falls ihr bei bei Aufgabe 2.5 keinen (oder keinen funktionierenden) Datensatz für die bisher betrachteten Mitarbeiter der Capitol erstellt habt, lest außerdem den Datensatz \"Mitarbeiter_Capitol\" ein und speichert ihn unter dem Namen *mitarbeiter_df*. "
   ]
  },
  {
   "cell_type": "code",
   "execution_count": 11,
   "id": "cdde0f70",
   "metadata": {},
   "outputs": [
    {
     "data": {
      "text/html": [
       "<div>\n",
       "<style scoped>\n",
       "    .dataframe tbody tr th:only-of-type {\n",
       "        vertical-align: middle;\n",
       "    }\n",
       "\n",
       "    .dataframe tbody tr th {\n",
       "        vertical-align: top;\n",
       "    }\n",
       "\n",
       "    .dataframe thead th {\n",
       "        text-align: right;\n",
       "    }\n",
       "</style>\n",
       "<table border=\"1\" class=\"dataframe\">\n",
       "  <thead>\n",
       "    <tr style=\"text-align: right;\">\n",
       "      <th></th>\n",
       "      <th>Vorname</th>\n",
       "      <th>Nachname</th>\n",
       "      <th>Gehalt</th>\n",
       "      <th>Bonus</th>\n",
       "    </tr>\n",
       "  </thead>\n",
       "  <tbody>\n",
       "    <tr>\n",
       "      <th>0</th>\n",
       "      <td>Erika</td>\n",
       "      <td>Burstedt</td>\n",
       "      <td>35000</td>\n",
       "      <td>1200</td>\n",
       "    </tr>\n",
       "    <tr>\n",
       "      <th>1</th>\n",
       "      <td>Tatjana</td>\n",
       "      <td>Berkel</td>\n",
       "      <td>100000</td>\n",
       "      <td>5000</td>\n",
       "    </tr>\n",
       "    <tr>\n",
       "      <th>2</th>\n",
       "      <td>Timo</td>\n",
       "      <td>Becker</td>\n",
       "      <td>80000</td>\n",
       "      <td>2500</td>\n",
       "    </tr>\n",
       "    <tr>\n",
       "      <th>3</th>\n",
       "      <td>Hans-Jürgen</td>\n",
       "      <td>Wehmeyer</td>\n",
       "      <td>80000</td>\n",
       "      <td>4000</td>\n",
       "    </tr>\n",
       "    <tr>\n",
       "      <th>4</th>\n",
       "      <td>Sinan</td>\n",
       "      <td>Turculu</td>\n",
       "      <td>60000</td>\n",
       "      <td>4000</td>\n",
       "    </tr>\n",
       "    <tr>\n",
       "      <th>5</th>\n",
       "      <td>Sabine</td>\n",
       "      <td>Buhrer</td>\n",
       "      <td>40000</td>\n",
       "      <td>1500</td>\n",
       "    </tr>\n",
       "    <tr>\n",
       "      <th>6</th>\n",
       "      <td>Lars</td>\n",
       "      <td>Lehnhoff</td>\n",
       "      <td>35000</td>\n",
       "      <td>1200</td>\n",
       "    </tr>\n",
       "    <tr>\n",
       "      <th>7</th>\n",
       "      <td>Nicole</td>\n",
       "      <td>Rückert</td>\n",
       "      <td>33000</td>\n",
       "      <td>1200</td>\n",
       "    </tr>\n",
       "    <tr>\n",
       "      <th>8</th>\n",
       "      <td>Maja</td>\n",
       "      <td>Decker</td>\n",
       "      <td>25000</td>\n",
       "      <td>600</td>\n",
       "    </tr>\n",
       "    <tr>\n",
       "      <th>9</th>\n",
       "      <td>Jonas</td>\n",
       "      <td>Fischer</td>\n",
       "      <td>18000</td>\n",
       "      <td>300</td>\n",
       "    </tr>\n",
       "    <tr>\n",
       "      <th>10</th>\n",
       "      <td>Achim</td>\n",
       "      <td>Dörfler</td>\n",
       "      <td>25000</td>\n",
       "      <td>500</td>\n",
       "    </tr>\n",
       "    <tr>\n",
       "      <th>11</th>\n",
       "      <td>Magdalena</td>\n",
       "      <td>Prellwitz</td>\n",
       "      <td>20000</td>\n",
       "      <td>300</td>\n",
       "    </tr>\n",
       "  </tbody>\n",
       "</table>\n",
       "</div>"
      ],
      "text/plain": [
       "        Vorname   Nachname  Gehalt  Bonus\n",
       "0         Erika   Burstedt   35000   1200\n",
       "1       Tatjana     Berkel  100000   5000\n",
       "2          Timo     Becker   80000   2500\n",
       "3   Hans-Jürgen   Wehmeyer   80000   4000\n",
       "4         Sinan    Turculu   60000   4000\n",
       "5        Sabine     Buhrer   40000   1500\n",
       "6          Lars   Lehnhoff   35000   1200\n",
       "7        Nicole    Rückert   33000   1200\n",
       "8          Maja     Decker   25000    600\n",
       "9         Jonas    Fischer   18000    300\n",
       "10        Achim    Dörfler   25000    500\n",
       "11    Magdalena  Prellwitz   20000    300"
      ]
     },
     "execution_count": 11,
     "metadata": {},
     "output_type": "execute_result"
    }
   ],
   "source": [
    "w_mitarbeiter_df = pd.read_excel(\"Weitere_Mitarbeiter_Capitol.xlsx\")\n",
    "w_mitarbeiter_df"
   ]
  },
  {
   "cell_type": "code",
   "execution_count": 12,
   "id": "70355487",
   "metadata": {},
   "outputs": [
    {
     "data": {
      "text/html": [
       "<div>\n",
       "<style scoped>\n",
       "    .dataframe tbody tr th:only-of-type {\n",
       "        vertical-align: middle;\n",
       "    }\n",
       "\n",
       "    .dataframe tbody tr th {\n",
       "        vertical-align: top;\n",
       "    }\n",
       "\n",
       "    .dataframe thead th {\n",
       "        text-align: right;\n",
       "    }\n",
       "</style>\n",
       "<table border=\"1\" class=\"dataframe\">\n",
       "  <thead>\n",
       "    <tr style=\"text-align: right;\">\n",
       "      <th></th>\n",
       "      <th>Vorname</th>\n",
       "      <th>Nachname</th>\n",
       "      <th>Gehalt</th>\n",
       "      <th>Bonus</th>\n",
       "    </tr>\n",
       "  </thead>\n",
       "  <tbody>\n",
       "    <tr>\n",
       "      <th>0</th>\n",
       "      <td>Bernd</td>\n",
       "      <td>Stromberg</td>\n",
       "      <td>60000</td>\n",
       "      <td>1200</td>\n",
       "    </tr>\n",
       "    <tr>\n",
       "      <th>1</th>\n",
       "      <td>Berthold</td>\n",
       "      <td>Heisterkamp</td>\n",
       "      <td>54000</td>\n",
       "      <td>1200</td>\n",
       "    </tr>\n",
       "    <tr>\n",
       "      <th>2</th>\n",
       "      <td>Ulf</td>\n",
       "      <td>Steinke</td>\n",
       "      <td>48000</td>\n",
       "      <td>1200</td>\n",
       "    </tr>\n",
       "    <tr>\n",
       "      <th>3</th>\n",
       "      <td>Tanja</td>\n",
       "      <td>Seifert</td>\n",
       "      <td>42000</td>\n",
       "      <td>1200</td>\n",
       "    </tr>\n",
       "    <tr>\n",
       "      <th>4</th>\n",
       "      <td>Jennifer</td>\n",
       "      <td>Schirmann</td>\n",
       "      <td>36000</td>\n",
       "      <td>1200</td>\n",
       "    </tr>\n",
       "  </tbody>\n",
       "</table>\n",
       "</div>"
      ],
      "text/plain": [
       "    Vorname     Nachname  Gehalt  Bonus\n",
       "0     Bernd    Stromberg   60000   1200\n",
       "1  Berthold  Heisterkamp   54000   1200\n",
       "2       Ulf      Steinke   48000   1200\n",
       "3     Tanja      Seifert   42000   1200\n",
       "4  Jennifer    Schirmann   36000   1200"
      ]
     },
     "execution_count": 12,
     "metadata": {},
     "output_type": "execute_result"
    }
   ],
   "source": [
    "mitarbeiter_df = pd.read_excel(\"Mitarbeiter_Capitol.xlsx\")\n",
    "mitarbeiter_df"
   ]
  },
  {
   "cell_type": "markdown",
   "id": "39ee91e2",
   "metadata": {},
   "source": [
    "### Aufgabenblock 4"
   ]
  },
  {
   "cell_type": "code",
   "execution_count": null,
   "id": "2b6dc36e",
   "metadata": {},
   "outputs": [],
   "source": []
  },
  {
   "cell_type": "code",
   "execution_count": null,
   "id": "38f9212a",
   "metadata": {},
   "outputs": [],
   "source": []
  }
 ],
 "metadata": {
  "kernelspec": {
   "display_name": "Python 3 (ipykernel)",
   "language": "python",
   "name": "python3"
  },
  "language_info": {
   "codemirror_mode": {
    "name": "ipython",
    "version": 3
   },
   "file_extension": ".py",
   "mimetype": "text/x-python",
   "name": "python",
   "nbconvert_exporter": "python",
   "pygments_lexer": "ipython3",
   "version": "3.8.8"
  }
 },
 "nbformat": 4,
 "nbformat_minor": 5
}
