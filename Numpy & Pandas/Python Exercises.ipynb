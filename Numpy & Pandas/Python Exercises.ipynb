{
 "cells": [
  {
   "cell_type": "markdown",
   "id": "8b60d6e5",
   "metadata": {},
   "source": [
    "# Python Workshop - Exercises\n",
    "\n",
    "## Termin 2: Datenanalyse mit Python - Numpy & Pandas\n",
    "#### Torben Abts & Jonas Hummel (CorrelAid), 21.Juni 2022"
   ]
  },
  {
   "cell_type": "code",
   "execution_count": 1,
   "id": "8e64f8dd",
   "metadata": {},
   "outputs": [],
   "source": [
    "# Install Numpy and Pandas in the current Jupyter kernel\n",
    "#import sys\n",
    "#!{sys.executable} -m pip install numpy\n",
    "#!{sys.executable} -m pip install pandas\n",
    "\n",
    "# Import Numpy and Pandas\n",
    "import numpy as np\n",
    "import pandas as pd"
   ]
  },
  {
   "cell_type": "markdown",
   "id": "b38e9520",
   "metadata": {},
   "source": [
    "Die unten aufgelisteten Übungsaufgaben sollen euch dabei helfen, das soeben Gelernte besser zu verstehen und praktisch anwenden zu können. Um das Ganze etwas anschaulicher zu machen, wird die Aufgabe darin bestehen, die Mitarbeiter der Capitol-Versicherung \"zu erstellen\" und ihnen die passenden Attribute zuzuweisen (wem die Capitol nichts sagt, sollte vielleicht einmal Stromberg googlen ;) )."
   ]
  },
  {
   "cell_type": "markdown",
   "id": "24453e98",
   "metadata": {},
   "source": [
    "### Aufgabenblock 1"
   ]
  },
  {
   "cell_type": "markdown",
   "id": "aaae9982",
   "metadata": {},
   "source": [
    "#### Aufgabe 1.1:\n",
    "Entscheide, ob die folgenden Werte in ein Array passen würden:\n",
    "- 1) \"Stromberg\", 50000, \"m\", \"Leiter M-Z\"\n",
    "- 2) 12000, 14.5, 2009, 3700.8\n",
    "- 3) Reihe 1: \"Stromberg\", \"Steinke\", \"Schirmann\" ; Reihe 2: \"Bernd\", \"Tanja\""
   ]
  },
  {
   "cell_type": "markdown",
   "id": "07a57ab9",
   "metadata": {},
   "source": [
    "Antwort:\n",
    "- 1) Nein, da verschiedene Datentypen\n",
    "- 2) Ja, aber ints werden zu floats umgewandelt (passiert automatisch)\n",
    "- 3) Nein, da verschieden große Reihen"
   ]
  },
  {
   "cell_type": "markdown",
   "id": "193f007f",
   "metadata": {},
   "source": [
    "#### Aufgabe 1.2:\n",
    "Erstelle jeweils einen eindimensionalen Array mit den Vornamen und einen mit den Nachnamen der folgenden Mitarbeiter:\n",
    "- Bernd Stromberg\n",
    "- Erni Heisterkamp\n",
    "- Ulf Steinke\n",
    "- Tanja Seifert\n",
    "- Jennifer Schirmann\n",
    "\n",
    "Achte darauf, die Reihenfolge nicht zu verändern. Benenne die Arrays mit \"vornamen\" und \"nachnamen\". Lass dir anschließend beide Arrays ausgeben. Überprüfe, ob es sich auch wirklich um Arrays handelt."
   ]
  },
  {
   "cell_type": "code",
   "execution_count": 2,
   "id": "22b99d45",
   "metadata": {},
   "outputs": [
    {
     "name": "stdout",
     "output_type": "stream",
     "text": [
      "['Bernd' 'Erni' 'Ulf' 'Tanja' 'Jennifer']\n",
      "['Stromberg' 'Heisterkamp' 'Steinke' 'Seifert' 'Schirmann']\n",
      "<class 'numpy.ndarray'> <class 'numpy.ndarray'>\n"
     ]
    }
   ],
   "source": [
    "vornamen = np.array([\"Bernd\", \"Erni\", \"Ulf\", \"Tanja\", \"Jennifer\"])\n",
    "nachnamen = np.array([\"Stromberg\", \"Heisterkamp\", \"Steinke\", \"Seifert\", \"Schirmann\"])\n",
    "\n",
    "print(vornamen)\n",
    "print(nachnamen)\n",
    "\n",
    "print(type(vornamen), type(nachnamen))"
   ]
  },
  {
   "cell_type": "markdown",
   "id": "43a4a7ff",
   "metadata": {},
   "source": [
    "#### Aufgabe 1.3:\n",
    "Füge nun die beiden oben erstellten Arrays zu einer Matrix zusammen. Dabei soll jeder Vorname über dem Nachnamen der Person stehen. Speichere diese Matrix unter dem Namen \"vn_namen\".\n",
    "Initialisiere außerdem zwei weitere Arrays. Diese sollten integer und keine floats (default) enthalten:\n",
    "- Einen Array mit dem Namen \"gehalt\". Dabei soll der erste Mitarbeiter 50.000 Euro erhalten und jeder folgende Mitarbeiter 5.000 Euro weniger. Nutze hierzu eine möglichst effiziente Funktion.\n",
    "- Einen Array mit dem Namen \"bonus\". Erstelle den Array so, dass für jeden Mitarbeiter 0 als Platzhalter zu sehen ist.\n",
    "\n",
    "Lass dir anschließend alle drei erstellten Array ausgeben."
   ]
  },
  {
   "cell_type": "code",
   "execution_count": 3,
   "id": "b8022391",
   "metadata": {},
   "outputs": [
    {
     "name": "stdout",
     "output_type": "stream",
     "text": [
      "[['Bernd' 'Erni' 'Ulf' 'Tanja' 'Jennifer']\n",
      " ['Stromberg' 'Heisterkamp' 'Steinke' 'Seifert' 'Schirmann']]\n",
      "[50000 45000 40000 35000 30000]\n",
      "[0 0 0 0 0]\n"
     ]
    }
   ],
   "source": [
    "vn_namen = np.array([vornamen, nachnamen])\n",
    "\n",
    "gehalt = np.arange(50000, 29999, -5000, dtype=int)\n",
    "bonus = np.zeros(5, dtype=int)\n",
    "\n",
    "print(vn_namen)\n",
    "print(gehalt)\n",
    "print(bonus)"
   ]
  },
  {
   "cell_type": "markdown",
   "id": "548ef4fa",
   "metadata": {},
   "source": [
    "#### Aufgabe 1.4:\n",
    "\n",
    "Das oben angegebene Gehalt ist in Euro angegeben. Erstelle nun ein neues Array mit dem Namen \"gehalt_d\", das das Gehalt in Dollar umgerechnet angibt. Lass dir die Standardabweichung für das Gehalt in Euro und in Dollar ausgeben und vergleiche die beiden Werte (runde beide Werte auf zwei Nachkommastellen).\n",
    "\n",
    "Erhöhe außerdem den Bonus für jeden Angestellten auf 1000 Euro. Speichere die Erhöhung in derselben Variable \"bonus\".\n",
    "Lass dir anschließend beide Arrays ausgeben."
   ]
  },
  {
   "cell_type": "code",
   "execution_count": 4,
   "id": "7b6e74d6",
   "metadata": {},
   "outputs": [
    {
     "name": "stdout",
     "output_type": "stream",
     "text": [
      "SD Gehalt in Euro 7071.07, SD Gehalt in USD 7566.04\n",
      "[53500. 48150. 42800. 37450. 32100.]\n",
      "[1000 1000 1000 1000 1000]\n"
     ]
    }
   ],
   "source": [
    "gehalt_d = gehalt * 1.07 # Wechselkurs zum Zeitpunkt der Notebook-Erstellung\n",
    "bonus = bonus + 1000\n",
    "\n",
    "print(f\"SD Gehalt in Euro {gehalt.std().round(2)}, SD Gehalt in USD {gehalt_d.std().round(2)}\")\n",
    "\n",
    "print(gehalt_d)\n",
    "print(bonus)"
   ]
  },
  {
   "cell_type": "markdown",
   "id": "c8e1960f",
   "metadata": {},
   "source": [
    "### Aufgabenblock 2"
   ]
  },
  {
   "cell_type": "code",
   "execution_count": null,
   "id": "d672c4a5",
   "metadata": {},
   "outputs": [],
   "source": [
    "# Ändere den Namen \"Erni\" zu \"Berthold\". Tue dies der Vollständigkeit halber sowohl in \"vornamen\" als auch in \"vn_namen\"."
   ]
  },
  {
   "cell_type": "markdown",
   "id": "36f3444b",
   "metadata": {},
   "source": [
    "### Aufgabenblock 3"
   ]
  },
  {
   "cell_type": "code",
   "execution_count": null,
   "id": "80c49401",
   "metadata": {},
   "outputs": [],
   "source": []
  },
  {
   "cell_type": "markdown",
   "id": "39ee91e2",
   "metadata": {},
   "source": [
    "### Aufgabenblock 4"
   ]
  },
  {
   "cell_type": "code",
   "execution_count": null,
   "id": "2b6dc36e",
   "metadata": {},
   "outputs": [],
   "source": []
  },
  {
   "cell_type": "code",
   "execution_count": null,
   "id": "38f9212a",
   "metadata": {},
   "outputs": [],
   "source": []
  }
 ],
 "metadata": {
  "kernelspec": {
   "display_name": "Python 3 (ipykernel)",
   "language": "python",
   "name": "python3"
  },
  "language_info": {
   "codemirror_mode": {
    "name": "ipython",
    "version": 3
   },
   "file_extension": ".py",
   "mimetype": "text/x-python",
   "name": "python",
   "nbconvert_exporter": "python",
   "pygments_lexer": "ipython3",
   "version": "3.8.8"
  }
 },
 "nbformat": 4,
 "nbformat_minor": 5
}
